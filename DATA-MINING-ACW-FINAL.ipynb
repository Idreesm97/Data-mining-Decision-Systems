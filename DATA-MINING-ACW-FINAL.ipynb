{
 "cells": [
  {
   "cell_type": "code",
   "execution_count": 1,
   "metadata": {},
   "outputs": [],
   "source": [
    "import pandas as pd\n",
    "import seaborn as sns\n",
    "import matplotlib.pyplot as plt\n",
    "%matplotlib inline\n",
    "import numpy as np\n",
    "from apyori import apriori\n",
    "import random\n",
    "import matplotlib.pyplot as plt"
   ]
  },
  {
   "cell_type": "markdown",
   "metadata": {},
   "source": [
    "This next block contains various issues/imputes found within the original data which will have to be cleaned in order for any accurate modelling can be done to effectivly predict weather a given patient will be at risk or not based on the given attributes."
   ]
  },
  {
   "cell_type": "markdown",
   "metadata": {},
   "source": [
    "Indication catagory contains five outputs which is incorrect as one of the outputs was a spelling error of another output, meaning the is now rightfully 4 outputs for indication. Indication also contains missing data\n",
    "\n",
    "Random contains duplicate inputs which is invalid as random is the only unique way to identify each row uniquely.\n",
    "\n",
    "Id doesnt contains any duplicates meaning that no patients ever visit back to the hopital. A time frame isn't specified meaning the reason Id isn't repeated is that it's the data from a single day only\n",
    "\n",
    "Diabetes contains missing data\n",
    "\n",
    "Contra is considered an object type but should be a float type. Contra also contains a missing value\n",
    "\n",
    "IPSI contains missing data \n",
    "\n",
    "Label contains 3 different types whereas it should either be risk or not risk and it also contains missing data\n",
    "\n",
    "Hypertension also contains some missing values"
   ]
  },
  {
   "cell_type": "markdown",
   "metadata": {},
   "source": [
    "# Cleaning Method 1.0"
   ]
  },
  {
   "cell_type": "markdown",
   "metadata": {},
   "source": [
    "Cleaning method 1.0 will use the most basic of cleaning approaches by simply dropping any rows within the dataframe if they contain any nulls/inaccuracies."
   ]
  },
  {
   "cell_type": "markdown",
   "metadata": {},
   "source": [
    "### Fixing Random"
   ]
  },
  {
   "cell_type": "markdown",
   "metadata": {},
   "source": [
    "The random column itself is found to not abide by the data description as it contains duplicated information in different rows."
   ]
  },
  {
   "cell_type": "code",
   "execution_count": 2,
   "metadata": {},
   "outputs": [],
   "source": [
    "data = pd.read_csv(\"600092_data.csv\")\n",
    "Simple_Cleaning_df = data.copy()"
   ]
  },
  {
   "cell_type": "code",
   "execution_count": 3,
   "metadata": {},
   "outputs": [
    {
     "data": {
      "text/html": [
       "<div>\n",
       "<style scoped>\n",
       "    .dataframe tbody tr th:only-of-type {\n",
       "        vertical-align: middle;\n",
       "    }\n",
       "\n",
       "    .dataframe tbody tr th {\n",
       "        vertical-align: top;\n",
       "    }\n",
       "\n",
       "    .dataframe thead th {\n",
       "        text-align: right;\n",
       "    }\n",
       "</style>\n",
       "<table border=\"1\" class=\"dataframe\">\n",
       "  <thead>\n",
       "    <tr style=\"text-align: right;\">\n",
       "      <th></th>\n",
       "      <th>Random</th>\n",
       "      <th>Id</th>\n",
       "      <th>Indication</th>\n",
       "      <th>Diabetes</th>\n",
       "      <th>IHD</th>\n",
       "      <th>Hypertension</th>\n",
       "      <th>Arrhythmia</th>\n",
       "      <th>History</th>\n",
       "      <th>IPSI</th>\n",
       "      <th>Contra</th>\n",
       "      <th>label</th>\n",
       "    </tr>\n",
       "  </thead>\n",
       "  <tbody>\n",
       "    <tr>\n",
       "      <td>0</td>\n",
       "      <td>0.602437</td>\n",
       "      <td>218242</td>\n",
       "      <td>A-F</td>\n",
       "      <td>no</td>\n",
       "      <td>no</td>\n",
       "      <td>yes</td>\n",
       "      <td>no</td>\n",
       "      <td>no</td>\n",
       "      <td>78.0</td>\n",
       "      <td>20</td>\n",
       "      <td>NoRisk</td>\n",
       "    </tr>\n",
       "    <tr>\n",
       "      <td>1</td>\n",
       "      <td>0.602437</td>\n",
       "      <td>159284</td>\n",
       "      <td>TIA</td>\n",
       "      <td>no</td>\n",
       "      <td>no</td>\n",
       "      <td>no</td>\n",
       "      <td>no</td>\n",
       "      <td>no</td>\n",
       "      <td>70.0</td>\n",
       "      <td>60</td>\n",
       "      <td>NoRisk</td>\n",
       "    </tr>\n",
       "    <tr>\n",
       "      <td>2</td>\n",
       "      <td>0.602437</td>\n",
       "      <td>106066</td>\n",
       "      <td>A-F</td>\n",
       "      <td>no</td>\n",
       "      <td>yes</td>\n",
       "      <td>yes</td>\n",
       "      <td>no</td>\n",
       "      <td>no</td>\n",
       "      <td>95.0</td>\n",
       "      <td>40</td>\n",
       "      <td>Risk</td>\n",
       "    </tr>\n",
       "    <tr>\n",
       "      <td>3</td>\n",
       "      <td>0.128157</td>\n",
       "      <td>229592</td>\n",
       "      <td>TIA</td>\n",
       "      <td>no</td>\n",
       "      <td>no</td>\n",
       "      <td>yes</td>\n",
       "      <td>no</td>\n",
       "      <td>no</td>\n",
       "      <td>90.0</td>\n",
       "      <td>85</td>\n",
       "      <td>Risk</td>\n",
       "    </tr>\n",
       "    <tr>\n",
       "      <td>4</td>\n",
       "      <td>0.676862</td>\n",
       "      <td>245829</td>\n",
       "      <td>CVA</td>\n",
       "      <td>no</td>\n",
       "      <td>no</td>\n",
       "      <td>no</td>\n",
       "      <td>no</td>\n",
       "      <td>no</td>\n",
       "      <td>70.0</td>\n",
       "      <td>20</td>\n",
       "      <td>NoRisk</td>\n",
       "    </tr>\n",
       "    <tr>\n",
       "      <td>...</td>\n",
       "      <td>...</td>\n",
       "      <td>...</td>\n",
       "      <td>...</td>\n",
       "      <td>...</td>\n",
       "      <td>...</td>\n",
       "      <td>...</td>\n",
       "      <td>...</td>\n",
       "      <td>...</td>\n",
       "      <td>...</td>\n",
       "      <td>...</td>\n",
       "      <td>...</td>\n",
       "    </tr>\n",
       "    <tr>\n",
       "      <td>1515</td>\n",
       "      <td>0.391440</td>\n",
       "      <td>93406</td>\n",
       "      <td>A-F</td>\n",
       "      <td>no</td>\n",
       "      <td>yes</td>\n",
       "      <td>no</td>\n",
       "      <td>no</td>\n",
       "      <td>no</td>\n",
       "      <td>76.0</td>\n",
       "      <td>60</td>\n",
       "      <td>NoRisk</td>\n",
       "    </tr>\n",
       "    <tr>\n",
       "      <td>1516</td>\n",
       "      <td>0.253504</td>\n",
       "      <td>121814</td>\n",
       "      <td>A-F</td>\n",
       "      <td>no</td>\n",
       "      <td>no</td>\n",
       "      <td>yes</td>\n",
       "      <td>yes</td>\n",
       "      <td>no</td>\n",
       "      <td>90.0</td>\n",
       "      <td>75</td>\n",
       "      <td>Risk</td>\n",
       "    </tr>\n",
       "    <tr>\n",
       "      <td>1517</td>\n",
       "      <td>0.620373</td>\n",
       "      <td>101754</td>\n",
       "      <td>TIA</td>\n",
       "      <td>no</td>\n",
       "      <td>no</td>\n",
       "      <td>yes</td>\n",
       "      <td>no</td>\n",
       "      <td>no</td>\n",
       "      <td>75.0</td>\n",
       "      <td>20</td>\n",
       "      <td>NoRisk</td>\n",
       "    </tr>\n",
       "    <tr>\n",
       "      <td>1518</td>\n",
       "      <td>0.639342</td>\n",
       "      <td>263836</td>\n",
       "      <td>A-F</td>\n",
       "      <td>no</td>\n",
       "      <td>yes</td>\n",
       "      <td>no</td>\n",
       "      <td>no</td>\n",
       "      <td>no</td>\n",
       "      <td>70.0</td>\n",
       "      <td>45</td>\n",
       "      <td>NoRisk</td>\n",
       "    </tr>\n",
       "    <tr>\n",
       "      <td>1519</td>\n",
       "      <td>0.634922</td>\n",
       "      <td>254941</td>\n",
       "      <td>CVA</td>\n",
       "      <td>no</td>\n",
       "      <td>no</td>\n",
       "      <td>no</td>\n",
       "      <td>no</td>\n",
       "      <td>no</td>\n",
       "      <td>60.0</td>\n",
       "      <td>20</td>\n",
       "      <td>NoRisk</td>\n",
       "    </tr>\n",
       "  </tbody>\n",
       "</table>\n",
       "<p>1520 rows × 11 columns</p>\n",
       "</div>"
      ],
      "text/plain": [
       "        Random      Id Indication Diabetes  IHD Hypertension Arrhythmia  \\\n",
       "0     0.602437  218242        A-F       no   no          yes         no   \n",
       "1     0.602437  159284        TIA       no   no           no         no   \n",
       "2     0.602437  106066        A-F       no  yes          yes         no   \n",
       "3     0.128157  229592        TIA       no   no          yes         no   \n",
       "4     0.676862  245829        CVA       no   no           no         no   \n",
       "...        ...     ...        ...      ...  ...          ...        ...   \n",
       "1515  0.391440   93406        A-F       no  yes           no         no   \n",
       "1516  0.253504  121814        A-F       no   no          yes        yes   \n",
       "1517  0.620373  101754        TIA       no   no          yes         no   \n",
       "1518  0.639342  263836        A-F       no  yes           no         no   \n",
       "1519  0.634922  254941        CVA       no   no           no         no   \n",
       "\n",
       "     History  IPSI Contra   label  \n",
       "0         no  78.0    20   NoRisk  \n",
       "1         no  70.0    60   NoRisk  \n",
       "2         no  95.0     40    Risk  \n",
       "3         no  90.0     85    Risk  \n",
       "4         no  70.0    20   NoRisk  \n",
       "...      ...   ...    ...     ...  \n",
       "1515      no  76.0    60   NoRisk  \n",
       "1516      no  90.0     75    Risk  \n",
       "1517      no  75.0    20   NoRisk  \n",
       "1518      no  70.0    45   NoRisk  \n",
       "1519      no  60.0    20   NoRisk  \n",
       "\n",
       "[1520 rows x 11 columns]"
      ]
     },
     "execution_count": 3,
     "metadata": {},
     "output_type": "execute_result"
    }
   ],
   "source": [
    "Simple_Cleaning_df "
   ]
  },
  {
   "cell_type": "code",
   "execution_count": 4,
   "metadata": {},
   "outputs": [],
   "source": [
    "Random_Duplicated_List = Simple_Cleaning_df.duplicated(subset = 'Random', keep='first')"
   ]
  },
  {
   "cell_type": "code",
   "execution_count": 5,
   "metadata": {},
   "outputs": [
    {
     "data": {
      "text/plain": [
       "0       False\n",
       "1        True\n",
       "2        True\n",
       "3       False\n",
       "4       False\n",
       "        ...  \n",
       "1515     True\n",
       "1516    False\n",
       "1517    False\n",
       "1518    False\n",
       "1519    False\n",
       "Length: 1520, dtype: bool"
      ]
     },
     "execution_count": 5,
     "metadata": {},
     "output_type": "execute_result"
    }
   ],
   "source": [
    "Random_Duplicated_List"
   ]
  },
  {
   "cell_type": "code",
   "execution_count": 6,
   "metadata": {},
   "outputs": [
    {
     "name": "stderr",
     "output_type": "stream",
     "text": [
      "C:\\ProgramData\\Anaconda3\\lib\\site-packages\\ipykernel_launcher.py:15: SettingWithCopyWarning: \n",
      "A value is trying to be set on a copy of a slice from a DataFrame\n",
      "\n",
      "See the caveats in the documentation: http://pandas.pydata.org/pandas-docs/stable/user_guide/indexing.html#returning-a-view-versus-a-copy\n",
      "  from ipykernel import kernelapp as app\n",
      "C:\\ProgramData\\Anaconda3\\lib\\site-packages\\ipykernel_launcher.py:11: SettingWithCopyWarning: \n",
      "A value is trying to be set on a copy of a slice from a DataFrame\n",
      "\n",
      "See the caveats in the documentation: http://pandas.pydata.org/pandas-docs/stable/user_guide/indexing.html#returning-a-view-versus-a-copy\n",
      "  # This is added back by InteractiveShellApp.init_path()\n"
     ]
    }
   ],
   "source": [
    "counter = -1\n",
    "RandomListCounter = []\n",
    "for item in Random_Duplicated_List:\n",
    "    counter = counter + 1\n",
    "    if item == True:\n",
    "        RandomListCounter.append(counter)\n",
    "\n",
    "for index, row in Simple_Cleaning_df.iterrows():\n",
    "    if index in RandomListCounter:\n",
    "        z = Simple_Cleaning_df.loc[index, :]\n",
    "        z['Random'] = 'Duplicated'\n",
    "        Simple_Cleaning_df.loc[index, :] = z\n",
    "    elif index not in RandomListCounter:\n",
    "        z = Simple_Cleaning_df.loc[index, :]\n",
    "        z['Random'] = 'Not Duplicated'\n",
    "        Simple_Cleaning_df.loc[index, :] = z"
   ]
  },
  {
   "cell_type": "code",
   "execution_count": 7,
   "metadata": {},
   "outputs": [
    {
     "data": {
      "text/html": [
       "<div>\n",
       "<style scoped>\n",
       "    .dataframe tbody tr th:only-of-type {\n",
       "        vertical-align: middle;\n",
       "    }\n",
       "\n",
       "    .dataframe tbody tr th {\n",
       "        vertical-align: top;\n",
       "    }\n",
       "\n",
       "    .dataframe thead th {\n",
       "        text-align: right;\n",
       "    }\n",
       "</style>\n",
       "<table border=\"1\" class=\"dataframe\">\n",
       "  <thead>\n",
       "    <tr style=\"text-align: right;\">\n",
       "      <th></th>\n",
       "      <th>Random</th>\n",
       "      <th>Id</th>\n",
       "      <th>Indication</th>\n",
       "      <th>Diabetes</th>\n",
       "      <th>IHD</th>\n",
       "      <th>Hypertension</th>\n",
       "      <th>Arrhythmia</th>\n",
       "      <th>History</th>\n",
       "      <th>IPSI</th>\n",
       "      <th>Contra</th>\n",
       "      <th>label</th>\n",
       "    </tr>\n",
       "  </thead>\n",
       "  <tbody>\n",
       "    <tr>\n",
       "      <td>0</td>\n",
       "      <td>Not Duplicated</td>\n",
       "      <td>218242</td>\n",
       "      <td>A-F</td>\n",
       "      <td>no</td>\n",
       "      <td>no</td>\n",
       "      <td>yes</td>\n",
       "      <td>no</td>\n",
       "      <td>no</td>\n",
       "      <td>78.0</td>\n",
       "      <td>20</td>\n",
       "      <td>NoRisk</td>\n",
       "    </tr>\n",
       "    <tr>\n",
       "      <td>1</td>\n",
       "      <td>Duplicated</td>\n",
       "      <td>159284</td>\n",
       "      <td>TIA</td>\n",
       "      <td>no</td>\n",
       "      <td>no</td>\n",
       "      <td>no</td>\n",
       "      <td>no</td>\n",
       "      <td>no</td>\n",
       "      <td>70.0</td>\n",
       "      <td>60</td>\n",
       "      <td>NoRisk</td>\n",
       "    </tr>\n",
       "    <tr>\n",
       "      <td>2</td>\n",
       "      <td>Duplicated</td>\n",
       "      <td>106066</td>\n",
       "      <td>A-F</td>\n",
       "      <td>no</td>\n",
       "      <td>yes</td>\n",
       "      <td>yes</td>\n",
       "      <td>no</td>\n",
       "      <td>no</td>\n",
       "      <td>95.0</td>\n",
       "      <td>40</td>\n",
       "      <td>Risk</td>\n",
       "    </tr>\n",
       "    <tr>\n",
       "      <td>3</td>\n",
       "      <td>Not Duplicated</td>\n",
       "      <td>229592</td>\n",
       "      <td>TIA</td>\n",
       "      <td>no</td>\n",
       "      <td>no</td>\n",
       "      <td>yes</td>\n",
       "      <td>no</td>\n",
       "      <td>no</td>\n",
       "      <td>90.0</td>\n",
       "      <td>85</td>\n",
       "      <td>Risk</td>\n",
       "    </tr>\n",
       "    <tr>\n",
       "      <td>4</td>\n",
       "      <td>Not Duplicated</td>\n",
       "      <td>245829</td>\n",
       "      <td>CVA</td>\n",
       "      <td>no</td>\n",
       "      <td>no</td>\n",
       "      <td>no</td>\n",
       "      <td>no</td>\n",
       "      <td>no</td>\n",
       "      <td>70.0</td>\n",
       "      <td>20</td>\n",
       "      <td>NoRisk</td>\n",
       "    </tr>\n",
       "    <tr>\n",
       "      <td>...</td>\n",
       "      <td>...</td>\n",
       "      <td>...</td>\n",
       "      <td>...</td>\n",
       "      <td>...</td>\n",
       "      <td>...</td>\n",
       "      <td>...</td>\n",
       "      <td>...</td>\n",
       "      <td>...</td>\n",
       "      <td>...</td>\n",
       "      <td>...</td>\n",
       "      <td>...</td>\n",
       "    </tr>\n",
       "    <tr>\n",
       "      <td>1515</td>\n",
       "      <td>Duplicated</td>\n",
       "      <td>93406</td>\n",
       "      <td>A-F</td>\n",
       "      <td>no</td>\n",
       "      <td>yes</td>\n",
       "      <td>no</td>\n",
       "      <td>no</td>\n",
       "      <td>no</td>\n",
       "      <td>76.0</td>\n",
       "      <td>60</td>\n",
       "      <td>NoRisk</td>\n",
       "    </tr>\n",
       "    <tr>\n",
       "      <td>1516</td>\n",
       "      <td>Not Duplicated</td>\n",
       "      <td>121814</td>\n",
       "      <td>A-F</td>\n",
       "      <td>no</td>\n",
       "      <td>no</td>\n",
       "      <td>yes</td>\n",
       "      <td>yes</td>\n",
       "      <td>no</td>\n",
       "      <td>90.0</td>\n",
       "      <td>75</td>\n",
       "      <td>Risk</td>\n",
       "    </tr>\n",
       "    <tr>\n",
       "      <td>1517</td>\n",
       "      <td>Not Duplicated</td>\n",
       "      <td>101754</td>\n",
       "      <td>TIA</td>\n",
       "      <td>no</td>\n",
       "      <td>no</td>\n",
       "      <td>yes</td>\n",
       "      <td>no</td>\n",
       "      <td>no</td>\n",
       "      <td>75.0</td>\n",
       "      <td>20</td>\n",
       "      <td>NoRisk</td>\n",
       "    </tr>\n",
       "    <tr>\n",
       "      <td>1518</td>\n",
       "      <td>Not Duplicated</td>\n",
       "      <td>263836</td>\n",
       "      <td>A-F</td>\n",
       "      <td>no</td>\n",
       "      <td>yes</td>\n",
       "      <td>no</td>\n",
       "      <td>no</td>\n",
       "      <td>no</td>\n",
       "      <td>70.0</td>\n",
       "      <td>45</td>\n",
       "      <td>NoRisk</td>\n",
       "    </tr>\n",
       "    <tr>\n",
       "      <td>1519</td>\n",
       "      <td>Not Duplicated</td>\n",
       "      <td>254941</td>\n",
       "      <td>CVA</td>\n",
       "      <td>no</td>\n",
       "      <td>no</td>\n",
       "      <td>no</td>\n",
       "      <td>no</td>\n",
       "      <td>no</td>\n",
       "      <td>60.0</td>\n",
       "      <td>20</td>\n",
       "      <td>NoRisk</td>\n",
       "    </tr>\n",
       "  </tbody>\n",
       "</table>\n",
       "<p>1520 rows × 11 columns</p>\n",
       "</div>"
      ],
      "text/plain": [
       "              Random      Id Indication Diabetes  IHD Hypertension Arrhythmia  \\\n",
       "0     Not Duplicated  218242        A-F       no   no          yes         no   \n",
       "1         Duplicated  159284        TIA       no   no           no         no   \n",
       "2         Duplicated  106066        A-F       no  yes          yes         no   \n",
       "3     Not Duplicated  229592        TIA       no   no          yes         no   \n",
       "4     Not Duplicated  245829        CVA       no   no           no         no   \n",
       "...              ...     ...        ...      ...  ...          ...        ...   \n",
       "1515      Duplicated   93406        A-F       no  yes           no         no   \n",
       "1516  Not Duplicated  121814        A-F       no   no          yes        yes   \n",
       "1517  Not Duplicated  101754        TIA       no   no          yes         no   \n",
       "1518  Not Duplicated  263836        A-F       no  yes           no         no   \n",
       "1519  Not Duplicated  254941        CVA       no   no           no         no   \n",
       "\n",
       "     History  IPSI Contra   label  \n",
       "0         no  78.0    20   NoRisk  \n",
       "1         no  70.0    60   NoRisk  \n",
       "2         no  95.0     40    Risk  \n",
       "3         no  90.0     85    Risk  \n",
       "4         no  70.0    20   NoRisk  \n",
       "...      ...   ...    ...     ...  \n",
       "1515      no  76.0    60   NoRisk  \n",
       "1516      no  90.0     75    Risk  \n",
       "1517      no  75.0    20   NoRisk  \n",
       "1518      no  70.0    45   NoRisk  \n",
       "1519      no  60.0    20   NoRisk  \n",
       "\n",
       "[1520 rows x 11 columns]"
      ]
     },
     "execution_count": 7,
     "metadata": {},
     "output_type": "execute_result"
    }
   ],
   "source": [
    "Simple_Cleaning_df"
   ]
  },
  {
   "cell_type": "code",
   "execution_count": 8,
   "metadata": {},
   "outputs": [
    {
     "data": {
      "image/png": "[encoded data removed]",
      "text/plain": [
       "<Figure size 432x288 with 1 Axes>"
      ]
     },
     "metadata": {
      "needs_background": "light"
     },
     "output_type": "display_data"
    }
   ],
   "source": [
    "ax = sns.countplot(x=\"Random\", data=Simple_Cleaning_df)"
   ]
  },
  {
   "cell_type": "code",
   "execution_count": 9,
   "metadata": {},
   "outputs": [],
   "source": [
    "Simple_Cleaning_df = Simple_Cleaning_df.drop(['Random'], axis=1)"
   ]
  },
  {
   "cell_type": "code",
   "execution_count": 10,
   "metadata": {},
   "outputs": [
    {
     "data": {
      "text/html": [
       "<div>\n",
       "<style scoped>\n",
       "    .dataframe tbody tr th:only-of-type {\n",
       "        vertical-align: middle;\n",
       "    }\n",
       "\n",
       "    .dataframe tbody tr th {\n",
       "        vertical-align: top;\n",
       "    }\n",
       "\n",
       "    .dataframe thead th {\n",
       "        text-align: right;\n",
       "    }\n",
       "</style>\n",
       "<table border=\"1\" class=\"dataframe\">\n",
       "  <thead>\n",
       "    <tr style=\"text-align: right;\">\n",
       "      <th></th>\n",
       "      <th>Id</th>\n",
       "      <th>Indication</th>\n",
       "      <th>Diabetes</th>\n",
       "      <th>IHD</th>\n",
       "      <th>Hypertension</th>\n",
       "      <th>Arrhythmia</th>\n",
       "      <th>History</th>\n",
       "      <th>IPSI</th>\n",
       "      <th>Contra</th>\n",
       "      <th>label</th>\n",
       "    </tr>\n",
       "  </thead>\n",
       "  <tbody>\n",
       "    <tr>\n",
       "      <td>0</td>\n",
       "      <td>218242</td>\n",
       "      <td>A-F</td>\n",
       "      <td>no</td>\n",
       "      <td>no</td>\n",
       "      <td>yes</td>\n",
       "      <td>no</td>\n",
       "      <td>no</td>\n",
       "      <td>78.0</td>\n",
       "      <td>20</td>\n",
       "      <td>NoRisk</td>\n",
       "    </tr>\n",
       "    <tr>\n",
       "      <td>1</td>\n",
       "      <td>159284</td>\n",
       "      <td>TIA</td>\n",
       "      <td>no</td>\n",
       "      <td>no</td>\n",
       "      <td>no</td>\n",
       "      <td>no</td>\n",
       "      <td>no</td>\n",
       "      <td>70.0</td>\n",
       "      <td>60</td>\n",
       "      <td>NoRisk</td>\n",
       "    </tr>\n",
       "    <tr>\n",
       "      <td>2</td>\n",
       "      <td>106066</td>\n",
       "      <td>A-F</td>\n",
       "      <td>no</td>\n",
       "      <td>yes</td>\n",
       "      <td>yes</td>\n",
       "      <td>no</td>\n",
       "      <td>no</td>\n",
       "      <td>95.0</td>\n",
       "      <td>40</td>\n",
       "      <td>Risk</td>\n",
       "    </tr>\n",
       "    <tr>\n",
       "      <td>3</td>\n",
       "      <td>229592</td>\n",
       "      <td>TIA</td>\n",
       "      <td>no</td>\n",
       "      <td>no</td>\n",
       "      <td>yes</td>\n",
       "      <td>no</td>\n",
       "      <td>no</td>\n",
       "      <td>90.0</td>\n",
       "      <td>85</td>\n",
       "      <td>Risk</td>\n",
       "    </tr>\n",
       "    <tr>\n",
       "      <td>4</td>\n",
       "      <td>245829</td>\n",
       "      <td>CVA</td>\n",
       "      <td>no</td>\n",
       "      <td>no</td>\n",
       "      <td>no</td>\n",
       "      <td>no</td>\n",
       "      <td>no</td>\n",
       "      <td>70.0</td>\n",
       "      <td>20</td>\n",
       "      <td>NoRisk</td>\n",
       "    </tr>\n",
       "    <tr>\n",
       "      <td>...</td>\n",
       "      <td>...</td>\n",
       "      <td>...</td>\n",
       "      <td>...</td>\n",
       "      <td>...</td>\n",
       "      <td>...</td>\n",
       "      <td>...</td>\n",
       "      <td>...</td>\n",
       "      <td>...</td>\n",
       "      <td>...</td>\n",
       "      <td>...</td>\n",
       "    </tr>\n",
       "    <tr>\n",
       "      <td>1515</td>\n",
       "      <td>93406</td>\n",
       "      <td>A-F</td>\n",
       "      <td>no</td>\n",
       "      <td>yes</td>\n",
       "      <td>no</td>\n",
       "      <td>no</td>\n",
       "      <td>no</td>\n",
       "      <td>76.0</td>\n",
       "      <td>60</td>\n",
       "      <td>NoRisk</td>\n",
       "    </tr>\n",
       "    <tr>\n",
       "      <td>1516</td>\n",
       "      <td>121814</td>\n",
       "      <td>A-F</td>\n",
       "      <td>no</td>\n",
       "      <td>no</td>\n",
       "      <td>yes</td>\n",
       "      <td>yes</td>\n",
       "      <td>no</td>\n",
       "      <td>90.0</td>\n",
       "      <td>75</td>\n",
       "      <td>Risk</td>\n",
       "    </tr>\n",
       "    <tr>\n",
       "      <td>1517</td>\n",
       "      <td>101754</td>\n",
       "      <td>TIA</td>\n",
       "      <td>no</td>\n",
       "      <td>no</td>\n",
       "      <td>yes</td>\n",
       "      <td>no</td>\n",
       "      <td>no</td>\n",
       "      <td>75.0</td>\n",
       "      <td>20</td>\n",
       "      <td>NoRisk</td>\n",
       "    </tr>\n",
       "    <tr>\n",
       "      <td>1518</td>\n",
       "      <td>263836</td>\n",
       "      <td>A-F</td>\n",
       "      <td>no</td>\n",
       "      <td>yes</td>\n",
       "      <td>no</td>\n",
       "      <td>no</td>\n",
       "      <td>no</td>\n",
       "      <td>70.0</td>\n",
       "      <td>45</td>\n",
       "      <td>NoRisk</td>\n",
       "    </tr>\n",
       "    <tr>\n",
       "      <td>1519</td>\n",
       "      <td>254941</td>\n",
       "      <td>CVA</td>\n",
       "      <td>no</td>\n",
       "      <td>no</td>\n",
       "      <td>no</td>\n",
       "      <td>no</td>\n",
       "      <td>no</td>\n",
       "      <td>60.0</td>\n",
       "      <td>20</td>\n",
       "      <td>NoRisk</td>\n",
       "    </tr>\n",
       "  </tbody>\n",
       "</table>\n",
       "<p>1520 rows × 10 columns</p>\n",
       "</div>"
      ],
      "text/plain": [
       "          Id Indication Diabetes  IHD Hypertension Arrhythmia History  IPSI  \\\n",
       "0     218242        A-F       no   no          yes         no      no  78.0   \n",
       "1     159284        TIA       no   no           no         no      no  70.0   \n",
       "2     106066        A-F       no  yes          yes         no      no  95.0   \n",
       "3     229592        TIA       no   no          yes         no      no  90.0   \n",
       "4     245829        CVA       no   no           no         no      no  70.0   \n",
       "...      ...        ...      ...  ...          ...        ...     ...   ...   \n",
       "1515   93406        A-F       no  yes           no         no      no  76.0   \n",
       "1516  121814        A-F       no   no          yes        yes      no  90.0   \n",
       "1517  101754        TIA       no   no          yes         no      no  75.0   \n",
       "1518  263836        A-F       no  yes           no         no      no  70.0   \n",
       "1519  254941        CVA       no   no           no         no      no  60.0   \n",
       "\n",
       "     Contra   label  \n",
       "0       20   NoRisk  \n",
       "1       60   NoRisk  \n",
       "2        40    Risk  \n",
       "3        85    Risk  \n",
       "4       20   NoRisk  \n",
       "...     ...     ...  \n",
       "1515    60   NoRisk  \n",
       "1516     75    Risk  \n",
       "1517    20   NoRisk  \n",
       "1518    45   NoRisk  \n",
       "1519    20   NoRisk  \n",
       "\n",
       "[1520 rows x 10 columns]"
      ]
     },
     "execution_count": 10,
     "metadata": {},
     "output_type": "execute_result"
    }
   ],
   "source": [
    "Simple_Cleaning_df"
   ]
  },
  {
   "cell_type": "markdown",
   "metadata": {},
   "source": [
    "### Fixing ID"
   ]
  },
  {
   "cell_type": "markdown",
   "metadata": {},
   "source": [
    "The ID column doesn't match the as it doesn't contain any repeating patient numbers meaning no patient returns after their initial appointment. This could be valid as the recorded information about the patient could be due to the fact that the patient information was recorded over a single day making sense for a patient to not return. ID column will be dropped due to the fact that it contains no relevant information towards any of the medical columns and it increases the search space for modelling with no correlation towards any of the other columns in the dataframe."
   ]
  },
  {
   "cell_type": "code",
   "execution_count": 11,
   "metadata": {},
   "outputs": [],
   "source": [
    "Simple_Cleaning_df = Simple_Cleaning_df.drop(['Id'], axis=1)"
   ]
  },
  {
   "cell_type": "markdown",
   "metadata": {},
   "source": [
    "### Fixing Indication"
   ]
  },
  {
   "cell_type": "markdown",
   "metadata": {},
   "source": [
    "Indication contains 5 different types whereas in the data dictionary it's specified to only contain 4. This error is due to a spelling mistake which is fixed as ASx is spelt as Asx causing it to add an extra catagory of indication to the column."
   ]
  },
  {
   "cell_type": "code",
   "execution_count": 12,
   "metadata": {},
   "outputs": [
    {
     "data": {
      "text/plain": [
       "<seaborn.axisgrid.FacetGrid at 0x1f85b522d48>"
      ]
     },
     "execution_count": 12,
     "metadata": {},
     "output_type": "execute_result"
    },
    {
     "data": {
      "image/png": "[encoded data removed]",
      "text/plain": [
       "<Figure size 360x360 with 1 Axes>"
      ]
     },
     "metadata": {
      "needs_background": "light"
     },
     "output_type": "display_data"
    }
   ],
   "source": [
    "sns.catplot('Indication', data=Simple_Cleaning_df, kind=\"count\")"
   ]
  },
  {
   "cell_type": "code",
   "execution_count": 13,
   "metadata": {},
   "outputs": [
    {
     "name": "stdout",
     "output_type": "stream",
     "text": [
      "68 Indication       Asx\n",
      "Diabetes         yes\n",
      "IHD              yes\n",
      "Hypertension     yes\n",
      "Arrhythmia        no\n",
      "History           no\n",
      "IPSI              75\n",
      "Contra           100\n",
      "label           Risk\n",
      "Name: 68, dtype: object\n",
      "111 Indication       Asx\n",
      "Diabetes         yes\n",
      "IHD              yes\n",
      "Hypertension     yes\n",
      "Arrhythmia       yes\n",
      "History           no\n",
      "IPSI              99\n",
      "Contra            75\n",
      "label           Risk\n",
      "Name: 111, dtype: object\n",
      "131 Indication       Asx\n",
      "Diabetes          no\n",
      "IHD              yes\n",
      "Hypertension     yes\n",
      "Arrhythmia       yes\n",
      "History           no\n",
      "IPSI              75\n",
      "Contra           100\n",
      "label           Risk\n",
      "Name: 131, dtype: object\n",
      "172 Indication       Asx\n",
      "Diabetes         yes\n",
      "IHD              yes\n",
      "Hypertension     yes\n",
      "Arrhythmia        no\n",
      "History           no\n",
      "IPSI              90\n",
      "Contra            95\n",
      "label           Risk\n",
      "Name: 172, dtype: object\n",
      "177 Indication       Asx\n",
      "Diabetes          no\n",
      "IHD              yes\n",
      "Hypertension     yes\n",
      "Arrhythmia       yes\n",
      "History           no\n",
      "IPSI              80\n",
      "Contra            53\n",
      "label           Risk\n",
      "Name: 177, dtype: object\n",
      "187 Indication       Asx\n",
      "Diabetes          no\n",
      "IHD              yes\n",
      "Hypertension     yes\n",
      "Arrhythmia       yes\n",
      "History           no\n",
      "IPSI              80\n",
      "Contra            50\n",
      "label           Risk\n",
      "Name: 187, dtype: object\n",
      "354 Indication       Asx\n",
      "Diabetes          no\n",
      "IHD              yes\n",
      "Hypertension     yes\n",
      "Arrhythmia       yes\n",
      "History           no\n",
      "IPSI              80\n",
      "Contra            53\n",
      "label           Risk\n",
      "Name: 354, dtype: object\n",
      "395 Indication       Asx\n",
      "Diabetes         yes\n",
      "IHD              yes\n",
      "Hypertension     yes\n",
      "Arrhythmia        no\n",
      "History           no\n",
      "IPSI              99\n",
      "Contra            75\n",
      "label           Risk\n",
      "Name: 395, dtype: object\n",
      "466 Indication       Asx\n",
      "Diabetes         yes\n",
      "IHD              yes\n",
      "Hypertension     yes\n",
      "Arrhythmia        no\n",
      "History           no\n",
      "IPSI              75\n",
      "Contra           100\n",
      "label           Risk\n",
      "Name: 466, dtype: object\n",
      "735 Indication       Asx\n",
      "Diabetes          no\n",
      "IHD              yes\n",
      "Hypertension     yes\n",
      "Arrhythmia       yes\n",
      "History           no\n",
      "IPSI              80\n",
      "Contra            50\n",
      "label           Risk\n",
      "Name: 735, dtype: object\n",
      "753 Indication       Asx\n",
      "Diabetes          no\n",
      "IHD              yes\n",
      "Hypertension     yes\n",
      "Arrhythmia       yes\n",
      "History           no\n",
      "IPSI              75\n",
      "Contra           100\n",
      "label           Risk\n",
      "Name: 753, dtype: object\n",
      "793 Indication       Asx\n",
      "Diabetes          no\n",
      "IHD              yes\n",
      "Hypertension     yes\n",
      "Arrhythmia       yes\n",
      "History           no\n",
      "IPSI              80\n",
      "Contra            53\n",
      "label           Risk\n",
      "Name: 793, dtype: object\n",
      "844 Indication       Asx\n",
      "Diabetes         yes\n",
      "IHD              yes\n",
      "Hypertension     yes\n",
      "Arrhythmia        no\n",
      "History           no\n",
      "IPSI              75\n",
      "Contra           100\n",
      "label           Risk\n",
      "Name: 844, dtype: object\n",
      "906 Indication       Asx\n",
      "Diabetes         yes\n",
      "IHD              yes\n",
      "Hypertension     yes\n",
      "Arrhythmia        no\n",
      "History           no\n",
      "IPSI              75\n",
      "Contra           100\n",
      "label           Risk\n",
      "Name: 906, dtype: object\n",
      "910 Indication       Asx\n",
      "Diabetes          no\n",
      "IHD              yes\n",
      "Hypertension     yes\n",
      "Arrhythmia       yes\n",
      "History           no\n",
      "IPSI              80\n",
      "Contra            53\n",
      "label           Risk\n",
      "Name: 910, dtype: object\n",
      "911 Indication       Asx\n",
      "Diabetes         yes\n",
      "IHD              yes\n",
      "Hypertension     yes\n",
      "Arrhythmia        no\n",
      "History           no\n",
      "IPSI              75\n",
      "Contra           100\n",
      "label           Risk\n",
      "Name: 911, dtype: object\n",
      "938 Indication       Asx\n",
      "Diabetes          no\n",
      "IHD              yes\n",
      "Hypertension     yes\n",
      "Arrhythmia       yes\n",
      "History           no\n",
      "IPSI              80\n",
      "Contra            53\n",
      "label           Risk\n",
      "Name: 938, dtype: object\n",
      "1086 Indication       Asx\n",
      "Diabetes          no\n",
      "IHD              yes\n",
      "Hypertension     yes\n",
      "Arrhythmia       yes\n",
      "History           no\n",
      "IPSI              80\n",
      "Contra            53\n",
      "label           Risk\n",
      "Name: 1086, dtype: object\n",
      "1106 Indication       Asx\n",
      "Diabetes          no\n",
      "IHD              yes\n",
      "Hypertension     yes\n",
      "Arrhythmia       yes\n",
      "History           no\n",
      "IPSI              75\n",
      "Contra           100\n",
      "label           Risk\n",
      "Name: 1106, dtype: object\n",
      "1115 Indication       Asx\n",
      "Diabetes         yes\n",
      "IHD              yes\n",
      "Hypertension     yes\n",
      "Arrhythmia        no\n",
      "History           no\n",
      "IPSI              80\n",
      "Contra            80\n",
      "label           Risk\n",
      "Name: 1115, dtype: object\n",
      "1118 Indication       Asx\n",
      "Diabetes          no\n",
      "IHD              yes\n",
      "Hypertension     yes\n",
      "Arrhythmia       yes\n",
      "History           no\n",
      "IPSI              75\n",
      "Contra           100\n",
      "label           Risk\n",
      "Name: 1118, dtype: object\n",
      "1274 Indication       Asx\n",
      "Diabetes         yes\n",
      "IHD              yes\n",
      "Hypertension     yes\n",
      "Arrhythmia        no\n",
      "History           no\n",
      "IPSI              99\n",
      "Contra            75\n",
      "label           Risk\n",
      "Name: 1274, dtype: object\n",
      "1295 Indication       Asx\n",
      "Diabetes          no\n",
      "IHD              yes\n",
      "Hypertension     yes\n",
      "Arrhythmia       yes\n",
      "History           no\n",
      "IPSI              80\n",
      "Contra            53\n",
      "label           Risk\n",
      "Name: 1295, dtype: object\n",
      "1321 Indication       Asx\n",
      "Diabetes          no\n",
      "IHD              yes\n",
      "Hypertension     yes\n",
      "Arrhythmia       yes\n",
      "History           no\n",
      "IPSI              80\n",
      "Contra            53\n",
      "label           Risk\n",
      "Name: 1321, dtype: object\n",
      "1322 Indication       Asx\n",
      "Diabetes          no\n",
      "IHD              yes\n",
      "Hypertension     yes\n",
      "Arrhythmia       yes\n",
      "History           no\n",
      "IPSI              75\n",
      "Contra           100\n",
      "label           Risk\n",
      "Name: 1322, dtype: object\n",
      "1364 Indication       Asx\n",
      "Diabetes         yes\n",
      "IHD              yes\n",
      "Hypertension      no\n",
      "Arrhythmia       yes\n",
      "History           no\n",
      "IPSI              95\n",
      "Contra           100\n",
      "label           Risk\n",
      "Name: 1364, dtype: object\n",
      "1427 Indication       Asx\n",
      "Diabetes         yes\n",
      "IHD              yes\n",
      "Hypertension     yes\n",
      "Arrhythmia        no\n",
      "History           no\n",
      "IPSI              80\n",
      "Contra            80\n",
      "label           Risk\n",
      "Name: 1427, dtype: object\n",
      "1443 Indication       Asx\n",
      "Diabetes          no\n",
      "IHD              yes\n",
      "Hypertension     yes\n",
      "Arrhythmia       yes\n",
      "History           no\n",
      "IPSI              80\n",
      "Contra            50\n",
      "label           Risk\n",
      "Name: 1443, dtype: object\n",
      "1453 Indication       Asx\n",
      "Diabetes          no\n",
      "IHD              yes\n",
      "Hypertension     yes\n",
      "Arrhythmia       yes\n",
      "History           no\n",
      "IPSI              75\n",
      "Contra           100\n",
      "label           Risk\n",
      "Name: 1453, dtype: object\n",
      "1470 Indication       Asx\n",
      "Diabetes          no\n",
      "IHD              yes\n",
      "Hypertension     yes\n",
      "Arrhythmia       yes\n",
      "History           no\n",
      "IPSI              80\n",
      "Contra            50\n",
      "label           Risk\n",
      "Name: 1470, dtype: object\n",
      "1497 Indication       Asx\n",
      "Diabetes          no\n",
      "IHD              yes\n",
      "Hypertension     yes\n",
      "Arrhythmia       yes\n",
      "History           no\n",
      "IPSI              75\n",
      "Contra           100\n",
      "label           Risk\n",
      "Name: 1497, dtype: object\n",
      "1509 Indication       Asx\n",
      "Diabetes          no\n",
      "IHD              yes\n",
      "Hypertension     yes\n",
      "Arrhythmia       yes\n",
      "History           no\n",
      "IPSI              80\n",
      "Contra            53\n",
      "label           Risk\n",
      "Name: 1509, dtype: object\n"
     ]
    }
   ],
   "source": [
    "list_indication_Asx = []\n",
    "for index, row in Simple_Cleaning_df.iterrows():\n",
    "    if row['Indication'] == 'Asx':\n",
    "        print(index, row)\n",
    "        list_indication_Asx.append(index)"
   ]
  },
  {
   "cell_type": "code",
   "execution_count": 14,
   "metadata": {},
   "outputs": [],
   "source": [
    "for index, row in Simple_Cleaning_df.iterrows():\n",
    "    if index in list_indication_Asx:\n",
    "        Simple_Cleaning_df.drop(index, inplace = True)"
   ]
  },
  {
   "cell_type": "code",
   "execution_count": 15,
   "metadata": {},
   "outputs": [],
   "source": [
    "Simple_Cleaning_df = Simple_Cleaning_df.reset_index()"
   ]
  },
  {
   "cell_type": "code",
   "execution_count": 16,
   "metadata": {},
   "outputs": [
    {
     "data": {
      "text/plain": [
       "<seaborn.axisgrid.FacetGrid at 0x1f85b5c1508>"
      ]
     },
     "execution_count": 16,
     "metadata": {},
     "output_type": "execute_result"
    },
    {
     "data": {
      "image/png": "[encoded data removed]",
      "text/plain": [
       "<Figure size 360x360 with 1 Axes>"
      ]
     },
     "metadata": {
      "needs_background": "light"
     },
     "output_type": "display_data"
    }
   ],
   "source": [
    "sns.catplot('Indication', data=Simple_Cleaning_df, kind=\"count\")"
   ]
  },
  {
   "cell_type": "markdown",
   "metadata": {},
   "source": [
    "### Fixing Diabetes"
   ]
  },
  {
   "cell_type": "markdown",
   "metadata": {},
   "source": [
    "The diabetes column contains 2 rows which do not contain any value for diabetes. As these rows are considered null they will be dropped."
   ]
  },
  {
   "cell_type": "code",
   "execution_count": 17,
   "metadata": {},
   "outputs": [
    {
     "data": {
      "text/plain": [
       "<seaborn.axisgrid.FacetGrid at 0x1f85b602b08>"
      ]
     },
     "execution_count": 17,
     "metadata": {},
     "output_type": "execute_result"
    },
    {
     "data": {
      "image/png": "[encoded data removed]",
      "text/plain": [
       "<Figure size 360x360 with 1 Axes>"
      ]
     },
     "metadata": {
      "needs_background": "light"
     },
     "output_type": "display_data"
    }
   ],
   "source": [
    "sns.catplot('Diabetes', data=Simple_Cleaning_df, kind=\"count\")"
   ]
  },
  {
   "cell_type": "code",
   "execution_count": 18,
   "metadata": {},
   "outputs": [],
   "source": [
    "diabetes_Null = Simple_Cleaning_df['Diabetes'].isnull"
   ]
  },
  {
   "cell_type": "code",
   "execution_count": 19,
   "metadata": {},
   "outputs": [
    {
     "name": "stdout",
     "output_type": "stream",
     "text": [
      "439\n",
      "505\n"
     ]
    }
   ],
   "source": [
    "counter = -1\n",
    "diabetes_null_counter = []\n",
    "for item in diabetes_Null():\n",
    "    counter = counter + 1\n",
    "    if item == True:\n",
    "        print(counter)\n",
    "        diabetes_null_counter.append(counter)"
   ]
  },
  {
   "cell_type": "code",
   "execution_count": 20,
   "metadata": {},
   "outputs": [
    {
     "data": {
      "text/html": [
       "<div>\n",
       "<style scoped>\n",
       "    .dataframe tbody tr th:only-of-type {\n",
       "        vertical-align: middle;\n",
       "    }\n",
       "\n",
       "    .dataframe tbody tr th {\n",
       "        vertical-align: top;\n",
       "    }\n",
       "\n",
       "    .dataframe thead th {\n",
       "        text-align: right;\n",
       "    }\n",
       "</style>\n",
       "<table border=\"1\" class=\"dataframe\">\n",
       "  <thead>\n",
       "    <tr style=\"text-align: right;\">\n",
       "      <th></th>\n",
       "      <th>index</th>\n",
       "      <th>Indication</th>\n",
       "      <th>Diabetes</th>\n",
       "      <th>IHD</th>\n",
       "      <th>Hypertension</th>\n",
       "      <th>Arrhythmia</th>\n",
       "      <th>History</th>\n",
       "      <th>IPSI</th>\n",
       "      <th>Contra</th>\n",
       "      <th>label</th>\n",
       "    </tr>\n",
       "  </thead>\n",
       "  <tbody>\n",
       "    <tr>\n",
       "      <td>439</td>\n",
       "      <td>447</td>\n",
       "      <td>CVA</td>\n",
       "      <td>NaN</td>\n",
       "      <td>yes</td>\n",
       "      <td>yes</td>\n",
       "      <td>yes</td>\n",
       "      <td>no</td>\n",
       "      <td>90.0</td>\n",
       "      <td>100</td>\n",
       "      <td>Risk</td>\n",
       "    </tr>\n",
       "  </tbody>\n",
       "</table>\n",
       "</div>"
      ],
      "text/plain": [
       "     index Indication Diabetes  IHD Hypertension Arrhythmia History  IPSI  \\\n",
       "439    447        CVA      NaN  yes          yes        yes      no  90.0   \n",
       "\n",
       "    Contra label  \n",
       "439    100  Risk  "
      ]
     },
     "execution_count": 20,
     "metadata": {},
     "output_type": "execute_result"
    }
   ],
   "source": [
    "Simple_Cleaning_df[439:440]"
   ]
  },
  {
   "cell_type": "code",
   "execution_count": 21,
   "metadata": {},
   "outputs": [
    {
     "data": {
      "text/html": [
       "<div>\n",
       "<style scoped>\n",
       "    .dataframe tbody tr th:only-of-type {\n",
       "        vertical-align: middle;\n",
       "    }\n",
       "\n",
       "    .dataframe tbody tr th {\n",
       "        vertical-align: top;\n",
       "    }\n",
       "\n",
       "    .dataframe thead th {\n",
       "        text-align: right;\n",
       "    }\n",
       "</style>\n",
       "<table border=\"1\" class=\"dataframe\">\n",
       "  <thead>\n",
       "    <tr style=\"text-align: right;\">\n",
       "      <th></th>\n",
       "      <th>index</th>\n",
       "      <th>Indication</th>\n",
       "      <th>Diabetes</th>\n",
       "      <th>IHD</th>\n",
       "      <th>Hypertension</th>\n",
       "      <th>Arrhythmia</th>\n",
       "      <th>History</th>\n",
       "      <th>IPSI</th>\n",
       "      <th>Contra</th>\n",
       "      <th>label</th>\n",
       "    </tr>\n",
       "  </thead>\n",
       "  <tbody>\n",
       "    <tr>\n",
       "      <td>505</td>\n",
       "      <td>514</td>\n",
       "      <td>A-F</td>\n",
       "      <td>NaN</td>\n",
       "      <td>no</td>\n",
       "      <td>yes</td>\n",
       "      <td>no</td>\n",
       "      <td>no</td>\n",
       "      <td>80.0</td>\n",
       "      <td>40</td>\n",
       "      <td>NoRisk</td>\n",
       "    </tr>\n",
       "  </tbody>\n",
       "</table>\n",
       "</div>"
      ],
      "text/plain": [
       "     index Indication Diabetes IHD Hypertension Arrhythmia History  IPSI  \\\n",
       "505    514        A-F      NaN  no          yes         no      no  80.0   \n",
       "\n",
       "    Contra   label  \n",
       "505     40  NoRisk  "
      ]
     },
     "execution_count": 21,
     "metadata": {},
     "output_type": "execute_result"
    }
   ],
   "source": [
    "Simple_Cleaning_df[505:506]"
   ]
  },
  {
   "cell_type": "code",
   "execution_count": 22,
   "metadata": {},
   "outputs": [],
   "source": [
    "for index, row in Simple_Cleaning_df.iterrows():\n",
    "    if index in diabetes_null_counter:\n",
    "        Simple_Cleaning_df.drop(index, inplace = True)"
   ]
  },
  {
   "cell_type": "markdown",
   "metadata": {},
   "source": [
    "### Fixing IHD"
   ]
  },
  {
   "cell_type": "code",
   "execution_count": 23,
   "metadata": {},
   "outputs": [
    {
     "name": "stdout",
     "output_type": "stream",
     "text": [
      "686 800\n"
     ]
    }
   ],
   "source": [
    "counterIHDyes = 0\n",
    "counterIHDno = 0\n",
    "\n",
    "for index, row in Simple_Cleaning_df.iterrows():\n",
    "    if row['IHD'] == 'yes':\n",
    "        counterIHDyes = counterIHDyes + 1\n",
    "    elif row['IHD'] == 'no':\n",
    "        counterIHDno = counterIHDno + 1\n",
    "print(counterIHDyes, counterIHDno)"
   ]
  },
  {
   "cell_type": "code",
   "execution_count": 24,
   "metadata": {},
   "outputs": [
    {
     "data": {
      "image/png": "[encoded data removed]",
      "text/plain": [
       "<Figure size 432x288 with 1 Axes>"
      ]
     },
     "metadata": {},
     "output_type": "display_data"
    }
   ],
   "source": [
    "labels = 'IHD Yes', 'IHD No'\n",
    "sizes = [counterIHDyes, counterIHDno]\n",
    "colors = ['gold', 'lightskyblue']\n",
    "explode = (0, 0)\n",
    "\n",
    "\n",
    "plt.pie(sizes, explode=explode, labels=labels, colors=colors,\n",
    "autopct='%1.1f%%', shadow=True, startangle=140)\n",
    "\n",
    "plt.axis('equal')\n",
    "plt.show()"
   ]
  },
  {
   "cell_type": "code",
   "execution_count": 25,
   "metadata": {},
   "outputs": [],
   "source": [
    "IHD_null = Simple_Cleaning_df['IHD'].isnull()"
   ]
  },
  {
   "cell_type": "code",
   "execution_count": 26,
   "metadata": {},
   "outputs": [],
   "source": [
    "counter = -1\n",
    "for item in IHD_null:\n",
    "    counter = counter + 1\n",
    "    if item == True:\n",
    "        print(counter)"
   ]
  },
  {
   "cell_type": "code",
   "execution_count": 27,
   "metadata": {},
   "outputs": [
    {
     "data": {
      "text/plain": [
       "count     1486\n",
       "unique       2\n",
       "top         no\n",
       "freq       800\n",
       "Name: IHD, dtype: object"
      ]
     },
     "execution_count": 27,
     "metadata": {},
     "output_type": "execute_result"
    }
   ],
   "source": [
    "Simple_Cleaning_df['IHD'].describe()"
   ]
  },
  {
   "cell_type": "markdown",
   "metadata": {},
   "source": [
    "The IHD column is found to not contain any missing data and is also of the correct D-Type."
   ]
  },
  {
   "cell_type": "markdown",
   "metadata": {},
   "source": [
    "### Fixing Hypertension"
   ]
  },
  {
   "cell_type": "code",
   "execution_count": 28,
   "metadata": {},
   "outputs": [],
   "source": [
    "hypertension_null = Simple_Cleaning_df['Hypertension'].isnull()"
   ]
  },
  {
   "cell_type": "code",
   "execution_count": 29,
   "metadata": {},
   "outputs": [],
   "source": [
    "counter = -1\n",
    "hypertension_null_list = []\n",
    "for item in hypertension_null:\n",
    "    counter = counter + 1\n",
    "    if item == True:\n",
    "        hypertension_null_list.append(counter)"
   ]
  },
  {
   "cell_type": "code",
   "execution_count": 30,
   "metadata": {},
   "outputs": [
    {
     "data": {
      "text/plain": [
       "[195, 579, 964]"
      ]
     },
     "execution_count": 30,
     "metadata": {},
     "output_type": "execute_result"
    }
   ],
   "source": [
    "hypertension_null_list"
   ]
  },
  {
   "cell_type": "code",
   "execution_count": 31,
   "metadata": {},
   "outputs": [],
   "source": [
    "Simple_Cleaning_df.reset_index(inplace = True) "
   ]
  },
  {
   "cell_type": "code",
   "execution_count": 32,
   "metadata": {},
   "outputs": [],
   "source": [
    "for index, row in Simple_Cleaning_df.iterrows():\n",
    "    if index in hypertension_null_list:\n",
    "        Simple_Cleaning_df.drop(index, inplace = True)"
   ]
  },
  {
   "cell_type": "markdown",
   "metadata": {},
   "source": [
    "### Fixing Arrhythmia"
   ]
  },
  {
   "cell_type": "code",
   "execution_count": 33,
   "metadata": {},
   "outputs": [
    {
     "data": {
      "text/plain": [
       "<seaborn.axisgrid.FacetGrid at 0x1f85b7017c8>"
      ]
     },
     "execution_count": 33,
     "metadata": {},
     "output_type": "execute_result"
    },
    {
     "data": {
      "image/png": "[encoded data removed]",
      "text/plain": [
       "<Figure size 360x360 with 1 Axes>"
      ]
     },
     "metadata": {
      "needs_background": "light"
     },
     "output_type": "display_data"
    }
   ],
   "source": [
    "sns.catplot('Arrhythmia', data=Simple_Cleaning_df, kind=\"count\")"
   ]
  },
  {
   "cell_type": "code",
   "execution_count": 34,
   "metadata": {},
   "outputs": [],
   "source": [
    "arrhythmia_null = Simple_Cleaning_df['Arrhythmia'].isnull()"
   ]
  },
  {
   "cell_type": "code",
   "execution_count": 35,
   "metadata": {},
   "outputs": [],
   "source": [
    "counter = -1\n",
    "for item in arrhythmia_null:\n",
    "    counter = counter + 1\n",
    "    if item == True:\n",
    "        print(counter)"
   ]
  },
  {
   "cell_type": "code",
   "execution_count": 36,
   "metadata": {},
   "outputs": [],
   "source": [
    "for index, row in Simple_Cleaning_df.iterrows():\n",
    "    if (row['Arrhythmia'] != 'yes') and (row['Arrhythmia'] != 'no'):\n",
    "        print(row)"
   ]
  },
  {
   "cell_type": "markdown",
   "metadata": {},
   "source": [
    "The Arrhythmia column doesn't contain any inaccuracies as it doesn't contain any missing data and is of the correct D-Type and doesn't contain any irregular values."
   ]
  },
  {
   "cell_type": "markdown",
   "metadata": {},
   "source": [
    "### Fixing History"
   ]
  },
  {
   "cell_type": "code",
   "execution_count": 37,
   "metadata": {},
   "outputs": [
    {
     "name": "stdout",
     "output_type": "stream",
     "text": [
      "24 1457\n"
     ]
    }
   ],
   "source": [
    "counterHISTORYyes = 0\n",
    "counterHISTORYno = 0\n",
    "\n",
    "for index, row in Simple_Cleaning_df.iterrows():\n",
    "    if row['History'] == 'yes':\n",
    "        counterHISTORYyes = counterHISTORYyes + 1\n",
    "    elif row['History'] == 'no':\n",
    "        counterHISTORYno = counterHISTORYno + 1\n",
    "print(counterHISTORYyes, counterHISTORYno)    "
   ]
  },
  {
   "cell_type": "code",
   "execution_count": 38,
   "metadata": {},
   "outputs": [
    {
     "data": {
      "image/png": "[encoded data removed]",
      "text/plain": [
       "<Figure size 432x288 with 1 Axes>"
      ]
     },
     "metadata": {},
     "output_type": "display_data"
    }
   ],
   "source": [
    "labels = 'IHD Yes', 'IHD No'\n",
    "sizes = [counterHISTORYyes, counterHISTORYno]\n",
    "colors = ['gold', 'lightskyblue']\n",
    "explode = (0, 0)\n",
    "\n",
    "\n",
    "plt.pie(sizes, explode=explode, labels=labels, colors=colors,\n",
    "autopct='%1.1f%%', shadow=True, startangle=140)\n",
    "\n",
    "plt.axis('equal')\n",
    "plt.show()"
   ]
  },
  {
   "cell_type": "code",
   "execution_count": 39,
   "metadata": {},
   "outputs": [
    {
     "name": "stdout",
     "output_type": "stream",
     "text": [
      "331 level_0            331\n",
      "index              337\n",
      "Indication         CVA\n",
      "Diabetes            no\n",
      "IHD                yes\n",
      "Hypertension        no\n",
      "Arrhythmia          no\n",
      "History            NaN\n",
      "IPSI                85\n",
      "Contra              50\n",
      "label           NoRisk\n",
      "Name: 331, dtype: object\n",
      "771 level_0          773\n",
      "index            784\n",
      "Indication       CVA\n",
      "Diabetes          no\n",
      "IHD               no\n",
      "Hypertension     yes\n",
      "Arrhythmia       yes\n",
      "History          NaN\n",
      "IPSI              95\n",
      "Contra           100\n",
      "label           Risk\n",
      "Name: 771, dtype: object\n"
     ]
    }
   ],
   "source": [
    "history_nan = []\n",
    "for index, row in Simple_Cleaning_df.iterrows():\n",
    "    if (row['History'] != 'yes') and (row['History'] != 'no'):\n",
    "        print(index, row)\n",
    "        history_nan.append(index)"
   ]
  },
  {
   "cell_type": "code",
   "execution_count": 40,
   "metadata": {},
   "outputs": [
    {
     "data": {
      "text/plain": [
       "[331, 771]"
      ]
     },
     "execution_count": 40,
     "metadata": {},
     "output_type": "execute_result"
    }
   ],
   "source": [
    "history_nan"
   ]
  },
  {
   "cell_type": "code",
   "execution_count": 41,
   "metadata": {},
   "outputs": [
    {
     "name": "stdout",
     "output_type": "stream",
     "text": [
      "level_0            331\n",
      "index              337\n",
      "Indication         CVA\n",
      "Diabetes            no\n",
      "IHD                yes\n",
      "Hypertension        no\n",
      "Arrhythmia          no\n",
      "History            NaN\n",
      "IPSI                85\n",
      "Contra              50\n",
      "label           NoRisk\n",
      "Name: 331, dtype: object\n",
      "level_0          773\n",
      "index            784\n",
      "Indication       CVA\n",
      "Diabetes          no\n",
      "IHD               no\n",
      "Hypertension     yes\n",
      "Arrhythmia       yes\n",
      "History          NaN\n",
      "IPSI              95\n",
      "Contra           100\n",
      "label           Risk\n",
      "Name: 771, dtype: object\n"
     ]
    }
   ],
   "source": [
    "for index, row in Simple_Cleaning_df.iterrows():\n",
    "    if index in history_nan:\n",
    "        print(row)\n",
    "        Simple_Cleaning_df.drop(index, inplace = True)"
   ]
  },
  {
   "cell_type": "markdown",
   "metadata": {},
   "source": [
    "The history column contains 2 rows which are considered null and therefore are dropped as those null rows are considered inaccurate."
   ]
  },
  {
   "cell_type": "markdown",
   "metadata": {},
   "source": [
    "### Removing Uneccessary Columns"
   ]
  },
  {
   "cell_type": "code",
   "execution_count": 42,
   "metadata": {},
   "outputs": [],
   "source": [
    "Simple_Cleaning_df = Simple_Cleaning_df.drop(['level_0'], axis = 1)"
   ]
  },
  {
   "cell_type": "code",
   "execution_count": 43,
   "metadata": {},
   "outputs": [],
   "source": [
    "Simple_Cleaning_df = Simple_Cleaning_df.reset_index()\n",
    "Simple_Cleaning_df = Simple_Cleaning_df.drop(['index'], axis = 1)\n",
    "Simple_Cleaning_df = Simple_Cleaning_df.drop(['level_0'], axis = 1)"
   ]
  },
  {
   "cell_type": "code",
   "execution_count": 44,
   "metadata": {},
   "outputs": [
    {
     "data": {
      "text/html": [
       "<div>\n",
       "<style scoped>\n",
       "    .dataframe tbody tr th:only-of-type {\n",
       "        vertical-align: middle;\n",
       "    }\n",
       "\n",
       "    .dataframe tbody tr th {\n",
       "        vertical-align: top;\n",
       "    }\n",
       "\n",
       "    .dataframe thead th {\n",
       "        text-align: right;\n",
       "    }\n",
       "</style>\n",
       "<table border=\"1\" class=\"dataframe\">\n",
       "  <thead>\n",
       "    <tr style=\"text-align: right;\">\n",
       "      <th></th>\n",
       "      <th>Indication</th>\n",
       "      <th>Diabetes</th>\n",
       "      <th>IHD</th>\n",
       "      <th>Hypertension</th>\n",
       "      <th>Arrhythmia</th>\n",
       "      <th>History</th>\n",
       "      <th>IPSI</th>\n",
       "      <th>Contra</th>\n",
       "      <th>label</th>\n",
       "    </tr>\n",
       "  </thead>\n",
       "  <tbody>\n",
       "    <tr>\n",
       "      <td>0</td>\n",
       "      <td>A-F</td>\n",
       "      <td>no</td>\n",
       "      <td>no</td>\n",
       "      <td>yes</td>\n",
       "      <td>no</td>\n",
       "      <td>no</td>\n",
       "      <td>78.0</td>\n",
       "      <td>20</td>\n",
       "      <td>NoRisk</td>\n",
       "    </tr>\n",
       "    <tr>\n",
       "      <td>1</td>\n",
       "      <td>TIA</td>\n",
       "      <td>no</td>\n",
       "      <td>no</td>\n",
       "      <td>no</td>\n",
       "      <td>no</td>\n",
       "      <td>no</td>\n",
       "      <td>70.0</td>\n",
       "      <td>60</td>\n",
       "      <td>NoRisk</td>\n",
       "    </tr>\n",
       "    <tr>\n",
       "      <td>2</td>\n",
       "      <td>A-F</td>\n",
       "      <td>no</td>\n",
       "      <td>yes</td>\n",
       "      <td>yes</td>\n",
       "      <td>no</td>\n",
       "      <td>no</td>\n",
       "      <td>95.0</td>\n",
       "      <td>40</td>\n",
       "      <td>Risk</td>\n",
       "    </tr>\n",
       "    <tr>\n",
       "      <td>3</td>\n",
       "      <td>TIA</td>\n",
       "      <td>no</td>\n",
       "      <td>no</td>\n",
       "      <td>yes</td>\n",
       "      <td>no</td>\n",
       "      <td>no</td>\n",
       "      <td>90.0</td>\n",
       "      <td>85</td>\n",
       "      <td>Risk</td>\n",
       "    </tr>\n",
       "    <tr>\n",
       "      <td>4</td>\n",
       "      <td>CVA</td>\n",
       "      <td>no</td>\n",
       "      <td>no</td>\n",
       "      <td>no</td>\n",
       "      <td>no</td>\n",
       "      <td>no</td>\n",
       "      <td>70.0</td>\n",
       "      <td>20</td>\n",
       "      <td>NoRisk</td>\n",
       "    </tr>\n",
       "    <tr>\n",
       "      <td>...</td>\n",
       "      <td>...</td>\n",
       "      <td>...</td>\n",
       "      <td>...</td>\n",
       "      <td>...</td>\n",
       "      <td>...</td>\n",
       "      <td>...</td>\n",
       "      <td>...</td>\n",
       "      <td>...</td>\n",
       "      <td>...</td>\n",
       "    </tr>\n",
       "    <tr>\n",
       "      <td>1476</td>\n",
       "      <td>A-F</td>\n",
       "      <td>no</td>\n",
       "      <td>yes</td>\n",
       "      <td>no</td>\n",
       "      <td>no</td>\n",
       "      <td>no</td>\n",
       "      <td>76.0</td>\n",
       "      <td>60</td>\n",
       "      <td>NoRisk</td>\n",
       "    </tr>\n",
       "    <tr>\n",
       "      <td>1477</td>\n",
       "      <td>A-F</td>\n",
       "      <td>no</td>\n",
       "      <td>no</td>\n",
       "      <td>yes</td>\n",
       "      <td>yes</td>\n",
       "      <td>no</td>\n",
       "      <td>90.0</td>\n",
       "      <td>75</td>\n",
       "      <td>Risk</td>\n",
       "    </tr>\n",
       "    <tr>\n",
       "      <td>1478</td>\n",
       "      <td>TIA</td>\n",
       "      <td>no</td>\n",
       "      <td>no</td>\n",
       "      <td>yes</td>\n",
       "      <td>no</td>\n",
       "      <td>no</td>\n",
       "      <td>75.0</td>\n",
       "      <td>20</td>\n",
       "      <td>NoRisk</td>\n",
       "    </tr>\n",
       "    <tr>\n",
       "      <td>1479</td>\n",
       "      <td>A-F</td>\n",
       "      <td>no</td>\n",
       "      <td>yes</td>\n",
       "      <td>no</td>\n",
       "      <td>no</td>\n",
       "      <td>no</td>\n",
       "      <td>70.0</td>\n",
       "      <td>45</td>\n",
       "      <td>NoRisk</td>\n",
       "    </tr>\n",
       "    <tr>\n",
       "      <td>1480</td>\n",
       "      <td>CVA</td>\n",
       "      <td>no</td>\n",
       "      <td>no</td>\n",
       "      <td>no</td>\n",
       "      <td>no</td>\n",
       "      <td>no</td>\n",
       "      <td>60.0</td>\n",
       "      <td>20</td>\n",
       "      <td>NoRisk</td>\n",
       "    </tr>\n",
       "  </tbody>\n",
       "</table>\n",
       "<p>1481 rows × 9 columns</p>\n",
       "</div>"
      ],
      "text/plain": [
       "     Indication Diabetes  IHD Hypertension Arrhythmia History  IPSI Contra  \\\n",
       "0           A-F       no   no          yes         no      no  78.0    20    \n",
       "1           TIA       no   no           no         no      no  70.0    60    \n",
       "2           A-F       no  yes          yes         no      no  95.0     40   \n",
       "3           TIA       no   no          yes         no      no  90.0     85   \n",
       "4           CVA       no   no           no         no      no  70.0    20    \n",
       "...         ...      ...  ...          ...        ...     ...   ...    ...   \n",
       "1476        A-F       no  yes           no         no      no  76.0    60    \n",
       "1477        A-F       no   no          yes        yes      no  90.0     75   \n",
       "1478        TIA       no   no          yes         no      no  75.0    20    \n",
       "1479        A-F       no  yes           no         no      no  70.0    45    \n",
       "1480        CVA       no   no           no         no      no  60.0    20    \n",
       "\n",
       "       label  \n",
       "0     NoRisk  \n",
       "1     NoRisk  \n",
       "2       Risk  \n",
       "3       Risk  \n",
       "4     NoRisk  \n",
       "...      ...  \n",
       "1476  NoRisk  \n",
       "1477    Risk  \n",
       "1478  NoRisk  \n",
       "1479  NoRisk  \n",
       "1480  NoRisk  \n",
       "\n",
       "[1481 rows x 9 columns]"
      ]
     },
     "execution_count": 44,
     "metadata": {},
     "output_type": "execute_result"
    }
   ],
   "source": [
    "Simple_Cleaning_df"
   ]
  },
  {
   "cell_type": "markdown",
   "metadata": {},
   "source": [
    "The index and level_0 columns are dropped as they do not show the true number of rows in the dataframe and are consirdered not as useful and are therefore removed. "
   ]
  },
  {
   "cell_type": "markdown",
   "metadata": {},
   "source": [
    "### Fixing IPSI"
   ]
  },
  {
   "cell_type": "code",
   "execution_count": 45,
   "metadata": {},
   "outputs": [],
   "source": [
    "IPSI_null = Simple_Cleaning_df['IPSI'].isnull()"
   ]
  },
  {
   "cell_type": "code",
   "execution_count": 46,
   "metadata": {},
   "outputs": [],
   "source": [
    "counter = -1\n",
    "IPSI_null_list = []\n",
    "for item in IPSI_null:\n",
    "    counter = counter + 1\n",
    "    if item == True:\n",
    "        IPSI_null_list.append(counter)"
   ]
  },
  {
   "cell_type": "code",
   "execution_count": 47,
   "metadata": {},
   "outputs": [
    {
     "data": {
      "text/plain": [
       "[606, 737, 826, 894]"
      ]
     },
     "execution_count": 47,
     "metadata": {},
     "output_type": "execute_result"
    }
   ],
   "source": [
    "IPSI_null_list"
   ]
  },
  {
   "cell_type": "code",
   "execution_count": 48,
   "metadata": {},
   "outputs": [
    {
     "data": {
      "text/html": [
       "<div>\n",
       "<style scoped>\n",
       "    .dataframe tbody tr th:only-of-type {\n",
       "        vertical-align: middle;\n",
       "    }\n",
       "\n",
       "    .dataframe tbody tr th {\n",
       "        vertical-align: top;\n",
       "    }\n",
       "\n",
       "    .dataframe thead th {\n",
       "        text-align: right;\n",
       "    }\n",
       "</style>\n",
       "<table border=\"1\" class=\"dataframe\">\n",
       "  <thead>\n",
       "    <tr style=\"text-align: right;\">\n",
       "      <th></th>\n",
       "      <th>Indication</th>\n",
       "      <th>Diabetes</th>\n",
       "      <th>IHD</th>\n",
       "      <th>Hypertension</th>\n",
       "      <th>Arrhythmia</th>\n",
       "      <th>History</th>\n",
       "      <th>IPSI</th>\n",
       "      <th>Contra</th>\n",
       "      <th>label</th>\n",
       "    </tr>\n",
       "  </thead>\n",
       "  <tbody>\n",
       "    <tr>\n",
       "      <td>606</td>\n",
       "      <td>A-F</td>\n",
       "      <td>no</td>\n",
       "      <td>no</td>\n",
       "      <td>no</td>\n",
       "      <td>no</td>\n",
       "      <td>no</td>\n",
       "      <td>NaN</td>\n",
       "      <td>100</td>\n",
       "      <td>Risk</td>\n",
       "    </tr>\n",
       "  </tbody>\n",
       "</table>\n",
       "</div>"
      ],
      "text/plain": [
       "    Indication Diabetes IHD Hypertension Arrhythmia History  IPSI Contra label\n",
       "606        A-F       no  no           no         no      no   NaN    100  Risk"
      ]
     },
     "execution_count": 48,
     "metadata": {},
     "output_type": "execute_result"
    }
   ],
   "source": [
    "Simple_Cleaning_df[606:607]"
   ]
  },
  {
   "cell_type": "code",
   "execution_count": 49,
   "metadata": {},
   "outputs": [
    {
     "name": "stdout",
     "output_type": "stream",
     "text": [
      "Indication       A-F\n",
      "Diabetes          no\n",
      "IHD               no\n",
      "Hypertension      no\n",
      "Arrhythmia        no\n",
      "History           no\n",
      "IPSI             NaN\n",
      "Contra           100\n",
      "label           Risk\n",
      "Name: 606, dtype: object\n",
      "Indication       CVA\n",
      "Diabetes          no\n",
      "IHD              yes\n",
      "Hypertension     yes\n",
      "Arrhythmia       yes\n",
      "History           no\n",
      "IPSI             NaN\n",
      "Contra           100\n",
      "label           Risk\n",
      "Name: 737, dtype: object\n",
      "Indication         CVA\n",
      "Diabetes            no\n",
      "IHD                 no\n",
      "Hypertension        no\n",
      "Arrhythmia          no\n",
      "History             no\n",
      "IPSI               NaN\n",
      "Contra              20\n",
      "label           NoRisk\n",
      "Name: 826, dtype: object\n",
      "Indication         A-F\n",
      "Diabetes            no\n",
      "IHD                 no\n",
      "Hypertension        no\n",
      "Arrhythmia          no\n",
      "History             no\n",
      "IPSI               NaN\n",
      "Contra              50\n",
      "label           NoRisk\n",
      "Name: 894, dtype: object\n"
     ]
    }
   ],
   "source": [
    "for index, row in Simple_Cleaning_df.iterrows():\n",
    "    if index in IPSI_null_list:\n",
    "        print(row)\n",
    "        Simple_Cleaning_df.drop(index, inplace = True)"
   ]
  },
  {
   "cell_type": "markdown",
   "metadata": {},
   "source": [
    "The IPSI column contained 4 null rows and are therefore removed from the dataframe."
   ]
  },
  {
   "cell_type": "markdown",
   "metadata": {},
   "source": [
    "### Fixing Contra"
   ]
  },
  {
   "cell_type": "code",
   "execution_count": 50,
   "metadata": {},
   "outputs": [],
   "source": [
    "Contra_null = Simple_Cleaning_df['Contra'].isnull()"
   ]
  },
  {
   "cell_type": "code",
   "execution_count": 51,
   "metadata": {},
   "outputs": [
    {
     "data": {
      "text/plain": [
       "0       False\n",
       "1       False\n",
       "2       False\n",
       "3       False\n",
       "4       False\n",
       "        ...  \n",
       "1476    False\n",
       "1477    False\n",
       "1478    False\n",
       "1479    False\n",
       "1480    False\n",
       "Name: Contra, Length: 1477, dtype: bool"
      ]
     },
     "execution_count": 51,
     "metadata": {},
     "output_type": "execute_result"
    }
   ],
   "source": [
    "Contra_null"
   ]
  },
  {
   "cell_type": "code",
   "execution_count": 52,
   "metadata": {},
   "outputs": [],
   "source": [
    "counter = -1\n",
    "for item in Contra_null:\n",
    "    counter = counter + 1\n",
    "    if item == True:\n",
    "        print(counter)"
   ]
  },
  {
   "cell_type": "code",
   "execution_count": 53,
   "metadata": {},
   "outputs": [
    {
     "name": "stdout",
     "output_type": "stream",
     "text": [
      "442 Indication         ASx\n",
      "Diabetes            no\n",
      "IHD                 no\n",
      "Hypertension       yes\n",
      "Arrhythmia          no\n",
      "History             no\n",
      "IPSI                70\n",
      "Contra                \n",
      "label           NoRisk\n",
      "Name: 442, dtype: object\n"
     ]
    }
   ],
   "source": [
    "for index, row in Simple_Cleaning_df.iterrows():\n",
    "    if row['Contra'].isspace():\n",
    "        print(index, row)\n",
    "        Simple_Cleaning_df.drop(index, inplace = True)"
   ]
  },
  {
   "cell_type": "code",
   "execution_count": 54,
   "metadata": {},
   "outputs": [
    {
     "data": {
      "text/plain": [
       "count     1476\n",
       "unique      38\n",
       "top        100\n",
       "freq       227\n",
       "Name: Contra, dtype: object"
      ]
     },
     "execution_count": 54,
     "metadata": {},
     "output_type": "execute_result"
    }
   ],
   "source": [
    "Simple_Cleaning_df['Contra'].describe()"
   ]
  },
  {
   "cell_type": "code",
   "execution_count": 55,
   "metadata": {},
   "outputs": [],
   "source": [
    "Simple_Cleaning_df['Contra'] = pd.to_numeric(Simple_Cleaning_df['Contra'])"
   ]
  },
  {
   "cell_type": "markdown",
   "metadata": {},
   "source": [
    "The contra column does not technically contain any null rows as the D-Type of the row is a object therefore the isnull() method call wouldn't work with the Contra column. Instead in order to find if a row within the Contra column is null you would have to call the isspace() method which returns a single row which doesn't contain any value for Contra.\n",
    "\n",
    "Also the contra row is converted from the object datatype to a int32 datatype as it should based on the spec of the dataframe."
   ]
  },
  {
   "cell_type": "markdown",
   "metadata": {},
   "source": [
    "### Reseting The Index"
   ]
  },
  {
   "cell_type": "code",
   "execution_count": 56,
   "metadata": {},
   "outputs": [],
   "source": [
    "Simple_Cleaning_df.reset_index(drop=True, inplace=True)"
   ]
  },
  {
   "cell_type": "code",
   "execution_count": 57,
   "metadata": {},
   "outputs": [
    {
     "data": {
      "text/html": [
       "<div>\n",
       "<style scoped>\n",
       "    .dataframe tbody tr th:only-of-type {\n",
       "        vertical-align: middle;\n",
       "    }\n",
       "\n",
       "    .dataframe tbody tr th {\n",
       "        vertical-align: top;\n",
       "    }\n",
       "\n",
       "    .dataframe thead th {\n",
       "        text-align: right;\n",
       "    }\n",
       "</style>\n",
       "<table border=\"1\" class=\"dataframe\">\n",
       "  <thead>\n",
       "    <tr style=\"text-align: right;\">\n",
       "      <th></th>\n",
       "      <th>Indication</th>\n",
       "      <th>Diabetes</th>\n",
       "      <th>IHD</th>\n",
       "      <th>Hypertension</th>\n",
       "      <th>Arrhythmia</th>\n",
       "      <th>History</th>\n",
       "      <th>IPSI</th>\n",
       "      <th>Contra</th>\n",
       "      <th>label</th>\n",
       "    </tr>\n",
       "  </thead>\n",
       "  <tbody>\n",
       "    <tr>\n",
       "      <td>0</td>\n",
       "      <td>A-F</td>\n",
       "      <td>no</td>\n",
       "      <td>no</td>\n",
       "      <td>yes</td>\n",
       "      <td>no</td>\n",
       "      <td>no</td>\n",
       "      <td>78.0</td>\n",
       "      <td>20</td>\n",
       "      <td>NoRisk</td>\n",
       "    </tr>\n",
       "    <tr>\n",
       "      <td>1</td>\n",
       "      <td>TIA</td>\n",
       "      <td>no</td>\n",
       "      <td>no</td>\n",
       "      <td>no</td>\n",
       "      <td>no</td>\n",
       "      <td>no</td>\n",
       "      <td>70.0</td>\n",
       "      <td>60</td>\n",
       "      <td>NoRisk</td>\n",
       "    </tr>\n",
       "    <tr>\n",
       "      <td>2</td>\n",
       "      <td>A-F</td>\n",
       "      <td>no</td>\n",
       "      <td>yes</td>\n",
       "      <td>yes</td>\n",
       "      <td>no</td>\n",
       "      <td>no</td>\n",
       "      <td>95.0</td>\n",
       "      <td>40</td>\n",
       "      <td>Risk</td>\n",
       "    </tr>\n",
       "    <tr>\n",
       "      <td>3</td>\n",
       "      <td>TIA</td>\n",
       "      <td>no</td>\n",
       "      <td>no</td>\n",
       "      <td>yes</td>\n",
       "      <td>no</td>\n",
       "      <td>no</td>\n",
       "      <td>90.0</td>\n",
       "      <td>85</td>\n",
       "      <td>Risk</td>\n",
       "    </tr>\n",
       "    <tr>\n",
       "      <td>4</td>\n",
       "      <td>CVA</td>\n",
       "      <td>no</td>\n",
       "      <td>no</td>\n",
       "      <td>no</td>\n",
       "      <td>no</td>\n",
       "      <td>no</td>\n",
       "      <td>70.0</td>\n",
       "      <td>20</td>\n",
       "      <td>NoRisk</td>\n",
       "    </tr>\n",
       "    <tr>\n",
       "      <td>...</td>\n",
       "      <td>...</td>\n",
       "      <td>...</td>\n",
       "      <td>...</td>\n",
       "      <td>...</td>\n",
       "      <td>...</td>\n",
       "      <td>...</td>\n",
       "      <td>...</td>\n",
       "      <td>...</td>\n",
       "      <td>...</td>\n",
       "    </tr>\n",
       "    <tr>\n",
       "      <td>1471</td>\n",
       "      <td>A-F</td>\n",
       "      <td>no</td>\n",
       "      <td>yes</td>\n",
       "      <td>no</td>\n",
       "      <td>no</td>\n",
       "      <td>no</td>\n",
       "      <td>76.0</td>\n",
       "      <td>60</td>\n",
       "      <td>NoRisk</td>\n",
       "    </tr>\n",
       "    <tr>\n",
       "      <td>1472</td>\n",
       "      <td>A-F</td>\n",
       "      <td>no</td>\n",
       "      <td>no</td>\n",
       "      <td>yes</td>\n",
       "      <td>yes</td>\n",
       "      <td>no</td>\n",
       "      <td>90.0</td>\n",
       "      <td>75</td>\n",
       "      <td>Risk</td>\n",
       "    </tr>\n",
       "    <tr>\n",
       "      <td>1473</td>\n",
       "      <td>TIA</td>\n",
       "      <td>no</td>\n",
       "      <td>no</td>\n",
       "      <td>yes</td>\n",
       "      <td>no</td>\n",
       "      <td>no</td>\n",
       "      <td>75.0</td>\n",
       "      <td>20</td>\n",
       "      <td>NoRisk</td>\n",
       "    </tr>\n",
       "    <tr>\n",
       "      <td>1474</td>\n",
       "      <td>A-F</td>\n",
       "      <td>no</td>\n",
       "      <td>yes</td>\n",
       "      <td>no</td>\n",
       "      <td>no</td>\n",
       "      <td>no</td>\n",
       "      <td>70.0</td>\n",
       "      <td>45</td>\n",
       "      <td>NoRisk</td>\n",
       "    </tr>\n",
       "    <tr>\n",
       "      <td>1475</td>\n",
       "      <td>CVA</td>\n",
       "      <td>no</td>\n",
       "      <td>no</td>\n",
       "      <td>no</td>\n",
       "      <td>no</td>\n",
       "      <td>no</td>\n",
       "      <td>60.0</td>\n",
       "      <td>20</td>\n",
       "      <td>NoRisk</td>\n",
       "    </tr>\n",
       "  </tbody>\n",
       "</table>\n",
       "<p>1476 rows × 9 columns</p>\n",
       "</div>"
      ],
      "text/plain": [
       "     Indication Diabetes  IHD Hypertension Arrhythmia History  IPSI  Contra  \\\n",
       "0           A-F       no   no          yes         no      no  78.0      20   \n",
       "1           TIA       no   no           no         no      no  70.0      60   \n",
       "2           A-F       no  yes          yes         no      no  95.0      40   \n",
       "3           TIA       no   no          yes         no      no  90.0      85   \n",
       "4           CVA       no   no           no         no      no  70.0      20   \n",
       "...         ...      ...  ...          ...        ...     ...   ...     ...   \n",
       "1471        A-F       no  yes           no         no      no  76.0      60   \n",
       "1472        A-F       no   no          yes        yes      no  90.0      75   \n",
       "1473        TIA       no   no          yes         no      no  75.0      20   \n",
       "1474        A-F       no  yes           no         no      no  70.0      45   \n",
       "1475        CVA       no   no           no         no      no  60.0      20   \n",
       "\n",
       "       label  \n",
       "0     NoRisk  \n",
       "1     NoRisk  \n",
       "2       Risk  \n",
       "3       Risk  \n",
       "4     NoRisk  \n",
       "...      ...  \n",
       "1471  NoRisk  \n",
       "1472    Risk  \n",
       "1473  NoRisk  \n",
       "1474  NoRisk  \n",
       "1475  NoRisk  \n",
       "\n",
       "[1476 rows x 9 columns]"
      ]
     },
     "execution_count": 57,
     "metadata": {},
     "output_type": "execute_result"
    }
   ],
   "source": [
    "Simple_Cleaning_df"
   ]
  },
  {
   "cell_type": "markdown",
   "metadata": {},
   "source": [
    "### Fixing Label"
   ]
  },
  {
   "cell_type": "code",
   "execution_count": 58,
   "metadata": {},
   "outputs": [],
   "source": [
    "label_null = Simple_Cleaning_df['label'].isnull()"
   ]
  },
  {
   "cell_type": "code",
   "execution_count": 59,
   "metadata": {},
   "outputs": [],
   "source": [
    "counter = -1\n",
    "label_null_list = []\n",
    "for item in label_null:\n",
    "    counter = counter + 1\n",
    "    if item == True:\n",
    "        label_null_list.append(counter)"
   ]
  },
  {
   "cell_type": "code",
   "execution_count": 60,
   "metadata": {},
   "outputs": [
    {
     "data": {
      "text/plain": [
       "[791, 946, 1380]"
      ]
     },
     "execution_count": 60,
     "metadata": {},
     "output_type": "execute_result"
    }
   ],
   "source": [
    "label_null_list"
   ]
  },
  {
   "cell_type": "code",
   "execution_count": 61,
   "metadata": {},
   "outputs": [
    {
     "name": "stdout",
     "output_type": "stream",
     "text": [
      "791 Indication      CVA\n",
      "Diabetes         no\n",
      "IHD             yes\n",
      "Hypertension    yes\n",
      "Arrhythmia       no\n",
      "History          no\n",
      "IPSI             76\n",
      "Contra           50\n",
      "label           NaN\n",
      "Name: 791, dtype: object\n",
      "946 Indication      CVA\n",
      "Diabetes         no\n",
      "IHD             yes\n",
      "Hypertension    yes\n",
      "Arrhythmia      yes\n",
      "History          no\n",
      "IPSI             80\n",
      "Contra           70\n",
      "label           NaN\n",
      "Name: 946, dtype: object\n",
      "1380 Indication      TIA\n",
      "Diabetes        yes\n",
      "IHD              no\n",
      "Hypertension     no\n",
      "Arrhythmia       no\n",
      "History         yes\n",
      "IPSI             90\n",
      "Contra           50\n",
      "label           NaN\n",
      "Name: 1380, dtype: object\n"
     ]
    }
   ],
   "source": [
    "for index, row in Simple_Cleaning_df.iterrows():\n",
    "    if index in label_null_list:\n",
    "        print(index, row)\n",
    "        Simple_Cleaning_df.drop(index, inplace = True)"
   ]
  },
  {
   "cell_type": "code",
   "execution_count": 62,
   "metadata": {},
   "outputs": [
    {
     "name": "stdout",
     "output_type": "stream",
     "text": [
      "462 Indication          ASx\n",
      "Diabetes             no\n",
      "IHD                 yes\n",
      "Hypertension        yes\n",
      "Arrhythmia           no\n",
      "History              no\n",
      "IPSI                 70\n",
      "Contra               55\n",
      "label           Unknown\n",
      "Name: 462, dtype: object\n",
      "509 Indication          CVA\n",
      "Diabetes             no\n",
      "IHD                  no\n",
      "Hypertension        yes\n",
      "Arrhythmia          yes\n",
      "History              no\n",
      "IPSI                 95\n",
      "Contra              100\n",
      "label           Unknown\n",
      "Name: 509, dtype: object\n"
     ]
    }
   ],
   "source": [
    "for index, row in Simple_Cleaning_df.iterrows():\n",
    "    if (row['label'] != 'NoRisk') and (row['label'] != 'Risk'):\n",
    "        print(index, row)\n",
    "        Simple_Cleaning_df.drop(index, inplace = True)"
   ]
  },
  {
   "cell_type": "code",
   "execution_count": 63,
   "metadata": {},
   "outputs": [
    {
     "data": {
      "text/html": [
       "<div>\n",
       "<style scoped>\n",
       "    .dataframe tbody tr th:only-of-type {\n",
       "        vertical-align: middle;\n",
       "    }\n",
       "\n",
       "    .dataframe tbody tr th {\n",
       "        vertical-align: top;\n",
       "    }\n",
       "\n",
       "    .dataframe thead th {\n",
       "        text-align: right;\n",
       "    }\n",
       "</style>\n",
       "<table border=\"1\" class=\"dataframe\">\n",
       "  <thead>\n",
       "    <tr style=\"text-align: right;\">\n",
       "      <th></th>\n",
       "      <th>Indication</th>\n",
       "      <th>Diabetes</th>\n",
       "      <th>IHD</th>\n",
       "      <th>Hypertension</th>\n",
       "      <th>Arrhythmia</th>\n",
       "      <th>History</th>\n",
       "      <th>IPSI</th>\n",
       "      <th>Contra</th>\n",
       "      <th>label</th>\n",
       "    </tr>\n",
       "  </thead>\n",
       "  <tbody>\n",
       "    <tr>\n",
       "      <td>0</td>\n",
       "      <td>A-F</td>\n",
       "      <td>no</td>\n",
       "      <td>no</td>\n",
       "      <td>yes</td>\n",
       "      <td>no</td>\n",
       "      <td>no</td>\n",
       "      <td>78.0</td>\n",
       "      <td>20</td>\n",
       "      <td>NoRisk</td>\n",
       "    </tr>\n",
       "    <tr>\n",
       "      <td>1</td>\n",
       "      <td>TIA</td>\n",
       "      <td>no</td>\n",
       "      <td>no</td>\n",
       "      <td>no</td>\n",
       "      <td>no</td>\n",
       "      <td>no</td>\n",
       "      <td>70.0</td>\n",
       "      <td>60</td>\n",
       "      <td>NoRisk</td>\n",
       "    </tr>\n",
       "    <tr>\n",
       "      <td>2</td>\n",
       "      <td>A-F</td>\n",
       "      <td>no</td>\n",
       "      <td>yes</td>\n",
       "      <td>yes</td>\n",
       "      <td>no</td>\n",
       "      <td>no</td>\n",
       "      <td>95.0</td>\n",
       "      <td>40</td>\n",
       "      <td>Risk</td>\n",
       "    </tr>\n",
       "    <tr>\n",
       "      <td>3</td>\n",
       "      <td>TIA</td>\n",
       "      <td>no</td>\n",
       "      <td>no</td>\n",
       "      <td>yes</td>\n",
       "      <td>no</td>\n",
       "      <td>no</td>\n",
       "      <td>90.0</td>\n",
       "      <td>85</td>\n",
       "      <td>Risk</td>\n",
       "    </tr>\n",
       "    <tr>\n",
       "      <td>4</td>\n",
       "      <td>CVA</td>\n",
       "      <td>no</td>\n",
       "      <td>no</td>\n",
       "      <td>no</td>\n",
       "      <td>no</td>\n",
       "      <td>no</td>\n",
       "      <td>70.0</td>\n",
       "      <td>20</td>\n",
       "      <td>NoRisk</td>\n",
       "    </tr>\n",
       "    <tr>\n",
       "      <td>...</td>\n",
       "      <td>...</td>\n",
       "      <td>...</td>\n",
       "      <td>...</td>\n",
       "      <td>...</td>\n",
       "      <td>...</td>\n",
       "      <td>...</td>\n",
       "      <td>...</td>\n",
       "      <td>...</td>\n",
       "      <td>...</td>\n",
       "    </tr>\n",
       "    <tr>\n",
       "      <td>1471</td>\n",
       "      <td>A-F</td>\n",
       "      <td>no</td>\n",
       "      <td>yes</td>\n",
       "      <td>no</td>\n",
       "      <td>no</td>\n",
       "      <td>no</td>\n",
       "      <td>76.0</td>\n",
       "      <td>60</td>\n",
       "      <td>NoRisk</td>\n",
       "    </tr>\n",
       "    <tr>\n",
       "      <td>1472</td>\n",
       "      <td>A-F</td>\n",
       "      <td>no</td>\n",
       "      <td>no</td>\n",
       "      <td>yes</td>\n",
       "      <td>yes</td>\n",
       "      <td>no</td>\n",
       "      <td>90.0</td>\n",
       "      <td>75</td>\n",
       "      <td>Risk</td>\n",
       "    </tr>\n",
       "    <tr>\n",
       "      <td>1473</td>\n",
       "      <td>TIA</td>\n",
       "      <td>no</td>\n",
       "      <td>no</td>\n",
       "      <td>yes</td>\n",
       "      <td>no</td>\n",
       "      <td>no</td>\n",
       "      <td>75.0</td>\n",
       "      <td>20</td>\n",
       "      <td>NoRisk</td>\n",
       "    </tr>\n",
       "    <tr>\n",
       "      <td>1474</td>\n",
       "      <td>A-F</td>\n",
       "      <td>no</td>\n",
       "      <td>yes</td>\n",
       "      <td>no</td>\n",
       "      <td>no</td>\n",
       "      <td>no</td>\n",
       "      <td>70.0</td>\n",
       "      <td>45</td>\n",
       "      <td>NoRisk</td>\n",
       "    </tr>\n",
       "    <tr>\n",
       "      <td>1475</td>\n",
       "      <td>CVA</td>\n",
       "      <td>no</td>\n",
       "      <td>no</td>\n",
       "      <td>no</td>\n",
       "      <td>no</td>\n",
       "      <td>no</td>\n",
       "      <td>60.0</td>\n",
       "      <td>20</td>\n",
       "      <td>NoRisk</td>\n",
       "    </tr>\n",
       "  </tbody>\n",
       "</table>\n",
       "<p>1471 rows × 9 columns</p>\n",
       "</div>"
      ],
      "text/plain": [
       "     Indication Diabetes  IHD Hypertension Arrhythmia History  IPSI  Contra  \\\n",
       "0           A-F       no   no          yes         no      no  78.0      20   \n",
       "1           TIA       no   no           no         no      no  70.0      60   \n",
       "2           A-F       no  yes          yes         no      no  95.0      40   \n",
       "3           TIA       no   no          yes         no      no  90.0      85   \n",
       "4           CVA       no   no           no         no      no  70.0      20   \n",
       "...         ...      ...  ...          ...        ...     ...   ...     ...   \n",
       "1471        A-F       no  yes           no         no      no  76.0      60   \n",
       "1472        A-F       no   no          yes        yes      no  90.0      75   \n",
       "1473        TIA       no   no          yes         no      no  75.0      20   \n",
       "1474        A-F       no  yes           no         no      no  70.0      45   \n",
       "1475        CVA       no   no           no         no      no  60.0      20   \n",
       "\n",
       "       label  \n",
       "0     NoRisk  \n",
       "1     NoRisk  \n",
       "2       Risk  \n",
       "3       Risk  \n",
       "4     NoRisk  \n",
       "...      ...  \n",
       "1471  NoRisk  \n",
       "1472    Risk  \n",
       "1473  NoRisk  \n",
       "1474  NoRisk  \n",
       "1475  NoRisk  \n",
       "\n",
       "[1471 rows x 9 columns]"
      ]
     },
     "execution_count": 63,
     "metadata": {},
     "output_type": "execute_result"
    }
   ],
   "source": [
    "Simple_Cleaning_df"
   ]
  },
  {
   "cell_type": "code",
   "execution_count": 64,
   "metadata": {},
   "outputs": [],
   "source": [
    "Simple_Cleaning_df.reset_index(drop=True, inplace=True)"
   ]
  },
  {
   "cell_type": "code",
   "execution_count": 65,
   "metadata": {},
   "outputs": [
    {
     "data": {
      "text/html": [
       "<div>\n",
       "<style scoped>\n",
       "    .dataframe tbody tr th:only-of-type {\n",
       "        vertical-align: middle;\n",
       "    }\n",
       "\n",
       "    .dataframe tbody tr th {\n",
       "        vertical-align: top;\n",
       "    }\n",
       "\n",
       "    .dataframe thead th {\n",
       "        text-align: right;\n",
       "    }\n",
       "</style>\n",
       "<table border=\"1\" class=\"dataframe\">\n",
       "  <thead>\n",
       "    <tr style=\"text-align: right;\">\n",
       "      <th></th>\n",
       "      <th>Indication</th>\n",
       "      <th>Diabetes</th>\n",
       "      <th>IHD</th>\n",
       "      <th>Hypertension</th>\n",
       "      <th>Arrhythmia</th>\n",
       "      <th>History</th>\n",
       "      <th>IPSI</th>\n",
       "      <th>Contra</th>\n",
       "      <th>label</th>\n",
       "    </tr>\n",
       "  </thead>\n",
       "  <tbody>\n",
       "    <tr>\n",
       "      <td>0</td>\n",
       "      <td>A-F</td>\n",
       "      <td>no</td>\n",
       "      <td>no</td>\n",
       "      <td>yes</td>\n",
       "      <td>no</td>\n",
       "      <td>no</td>\n",
       "      <td>78.0</td>\n",
       "      <td>20</td>\n",
       "      <td>NoRisk</td>\n",
       "    </tr>\n",
       "    <tr>\n",
       "      <td>1</td>\n",
       "      <td>TIA</td>\n",
       "      <td>no</td>\n",
       "      <td>no</td>\n",
       "      <td>no</td>\n",
       "      <td>no</td>\n",
       "      <td>no</td>\n",
       "      <td>70.0</td>\n",
       "      <td>60</td>\n",
       "      <td>NoRisk</td>\n",
       "    </tr>\n",
       "    <tr>\n",
       "      <td>2</td>\n",
       "      <td>A-F</td>\n",
       "      <td>no</td>\n",
       "      <td>yes</td>\n",
       "      <td>yes</td>\n",
       "      <td>no</td>\n",
       "      <td>no</td>\n",
       "      <td>95.0</td>\n",
       "      <td>40</td>\n",
       "      <td>Risk</td>\n",
       "    </tr>\n",
       "    <tr>\n",
       "      <td>3</td>\n",
       "      <td>TIA</td>\n",
       "      <td>no</td>\n",
       "      <td>no</td>\n",
       "      <td>yes</td>\n",
       "      <td>no</td>\n",
       "      <td>no</td>\n",
       "      <td>90.0</td>\n",
       "      <td>85</td>\n",
       "      <td>Risk</td>\n",
       "    </tr>\n",
       "    <tr>\n",
       "      <td>4</td>\n",
       "      <td>CVA</td>\n",
       "      <td>no</td>\n",
       "      <td>no</td>\n",
       "      <td>no</td>\n",
       "      <td>no</td>\n",
       "      <td>no</td>\n",
       "      <td>70.0</td>\n",
       "      <td>20</td>\n",
       "      <td>NoRisk</td>\n",
       "    </tr>\n",
       "    <tr>\n",
       "      <td>...</td>\n",
       "      <td>...</td>\n",
       "      <td>...</td>\n",
       "      <td>...</td>\n",
       "      <td>...</td>\n",
       "      <td>...</td>\n",
       "      <td>...</td>\n",
       "      <td>...</td>\n",
       "      <td>...</td>\n",
       "      <td>...</td>\n",
       "    </tr>\n",
       "    <tr>\n",
       "      <td>1466</td>\n",
       "      <td>A-F</td>\n",
       "      <td>no</td>\n",
       "      <td>yes</td>\n",
       "      <td>no</td>\n",
       "      <td>no</td>\n",
       "      <td>no</td>\n",
       "      <td>76.0</td>\n",
       "      <td>60</td>\n",
       "      <td>NoRisk</td>\n",
       "    </tr>\n",
       "    <tr>\n",
       "      <td>1467</td>\n",
       "      <td>A-F</td>\n",
       "      <td>no</td>\n",
       "      <td>no</td>\n",
       "      <td>yes</td>\n",
       "      <td>yes</td>\n",
       "      <td>no</td>\n",
       "      <td>90.0</td>\n",
       "      <td>75</td>\n",
       "      <td>Risk</td>\n",
       "    </tr>\n",
       "    <tr>\n",
       "      <td>1468</td>\n",
       "      <td>TIA</td>\n",
       "      <td>no</td>\n",
       "      <td>no</td>\n",
       "      <td>yes</td>\n",
       "      <td>no</td>\n",
       "      <td>no</td>\n",
       "      <td>75.0</td>\n",
       "      <td>20</td>\n",
       "      <td>NoRisk</td>\n",
       "    </tr>\n",
       "    <tr>\n",
       "      <td>1469</td>\n",
       "      <td>A-F</td>\n",
       "      <td>no</td>\n",
       "      <td>yes</td>\n",
       "      <td>no</td>\n",
       "      <td>no</td>\n",
       "      <td>no</td>\n",
       "      <td>70.0</td>\n",
       "      <td>45</td>\n",
       "      <td>NoRisk</td>\n",
       "    </tr>\n",
       "    <tr>\n",
       "      <td>1470</td>\n",
       "      <td>CVA</td>\n",
       "      <td>no</td>\n",
       "      <td>no</td>\n",
       "      <td>no</td>\n",
       "      <td>no</td>\n",
       "      <td>no</td>\n",
       "      <td>60.0</td>\n",
       "      <td>20</td>\n",
       "      <td>NoRisk</td>\n",
       "    </tr>\n",
       "  </tbody>\n",
       "</table>\n",
       "<p>1471 rows × 9 columns</p>\n",
       "</div>"
      ],
      "text/plain": [
       "     Indication Diabetes  IHD Hypertension Arrhythmia History  IPSI  Contra  \\\n",
       "0           A-F       no   no          yes         no      no  78.0      20   \n",
       "1           TIA       no   no           no         no      no  70.0      60   \n",
       "2           A-F       no  yes          yes         no      no  95.0      40   \n",
       "3           TIA       no   no          yes         no      no  90.0      85   \n",
       "4           CVA       no   no           no         no      no  70.0      20   \n",
       "...         ...      ...  ...          ...        ...     ...   ...     ...   \n",
       "1466        A-F       no  yes           no         no      no  76.0      60   \n",
       "1467        A-F       no   no          yes        yes      no  90.0      75   \n",
       "1468        TIA       no   no          yes         no      no  75.0      20   \n",
       "1469        A-F       no  yes           no         no      no  70.0      45   \n",
       "1470        CVA       no   no           no         no      no  60.0      20   \n",
       "\n",
       "       label  \n",
       "0     NoRisk  \n",
       "1     NoRisk  \n",
       "2       Risk  \n",
       "3       Risk  \n",
       "4     NoRisk  \n",
       "...      ...  \n",
       "1466  NoRisk  \n",
       "1467    Risk  \n",
       "1468  NoRisk  \n",
       "1469  NoRisk  \n",
       "1470  NoRisk  \n",
       "\n",
       "[1471 rows x 9 columns]"
      ]
     },
     "execution_count": 65,
     "metadata": {},
     "output_type": "execute_result"
    }
   ],
   "source": [
    "Simple_Cleaning_df"
   ]
  },
  {
   "cell_type": "markdown",
   "metadata": {},
   "source": [
    "The first type of cleaning has now been complete where Simple_Cleaning_df doesn't contain any unexpected values in any of the rows within any column as all imputes have been dropped from the given dataframe."
   ]
  },
  {
   "cell_type": "markdown",
   "metadata": {},
   "source": [
    "# Cleaning Method 2.0"
   ]
  },
  {
   "cell_type": "markdown",
   "metadata": {},
   "source": [
    "Cleaning method 2.0 will be more advanced than cleaning method 1.0 as instead of dropping any null values/unexpected values, various different method will be employed in order to determine a more accurate value for the imputes. As dropping any impute reduces the dataset which leads to less available data for modelling."
   ]
  },
  {
   "cell_type": "code",
   "execution_count": 66,
   "metadata": {},
   "outputs": [],
   "source": [
    "dataset_second_cleaning = data.copy()"
   ]
  },
  {
   "cell_type": "code",
   "execution_count": 67,
   "metadata": {},
   "outputs": [
    {
     "data": {
      "text/html": [
       "<div>\n",
       "<style scoped>\n",
       "    .dataframe tbody tr th:only-of-type {\n",
       "        vertical-align: middle;\n",
       "    }\n",
       "\n",
       "    .dataframe tbody tr th {\n",
       "        vertical-align: top;\n",
       "    }\n",
       "\n",
       "    .dataframe thead th {\n",
       "        text-align: right;\n",
       "    }\n",
       "</style>\n",
       "<table border=\"1\" class=\"dataframe\">\n",
       "  <thead>\n",
       "    <tr style=\"text-align: right;\">\n",
       "      <th></th>\n",
       "      <th>Random</th>\n",
       "      <th>Id</th>\n",
       "      <th>Indication</th>\n",
       "      <th>Diabetes</th>\n",
       "      <th>IHD</th>\n",
       "      <th>Hypertension</th>\n",
       "      <th>Arrhythmia</th>\n",
       "      <th>History</th>\n",
       "      <th>IPSI</th>\n",
       "      <th>Contra</th>\n",
       "      <th>label</th>\n",
       "    </tr>\n",
       "  </thead>\n",
       "  <tbody>\n",
       "    <tr>\n",
       "      <td>0</td>\n",
       "      <td>0.602437</td>\n",
       "      <td>218242</td>\n",
       "      <td>A-F</td>\n",
       "      <td>no</td>\n",
       "      <td>no</td>\n",
       "      <td>yes</td>\n",
       "      <td>no</td>\n",
       "      <td>no</td>\n",
       "      <td>78.0</td>\n",
       "      <td>20</td>\n",
       "      <td>NoRisk</td>\n",
       "    </tr>\n",
       "    <tr>\n",
       "      <td>1</td>\n",
       "      <td>0.602437</td>\n",
       "      <td>159284</td>\n",
       "      <td>TIA</td>\n",
       "      <td>no</td>\n",
       "      <td>no</td>\n",
       "      <td>no</td>\n",
       "      <td>no</td>\n",
       "      <td>no</td>\n",
       "      <td>70.0</td>\n",
       "      <td>60</td>\n",
       "      <td>NoRisk</td>\n",
       "    </tr>\n",
       "    <tr>\n",
       "      <td>2</td>\n",
       "      <td>0.602437</td>\n",
       "      <td>106066</td>\n",
       "      <td>A-F</td>\n",
       "      <td>no</td>\n",
       "      <td>yes</td>\n",
       "      <td>yes</td>\n",
       "      <td>no</td>\n",
       "      <td>no</td>\n",
       "      <td>95.0</td>\n",
       "      <td>40</td>\n",
       "      <td>Risk</td>\n",
       "    </tr>\n",
       "    <tr>\n",
       "      <td>3</td>\n",
       "      <td>0.128157</td>\n",
       "      <td>229592</td>\n",
       "      <td>TIA</td>\n",
       "      <td>no</td>\n",
       "      <td>no</td>\n",
       "      <td>yes</td>\n",
       "      <td>no</td>\n",
       "      <td>no</td>\n",
       "      <td>90.0</td>\n",
       "      <td>85</td>\n",
       "      <td>Risk</td>\n",
       "    </tr>\n",
       "    <tr>\n",
       "      <td>4</td>\n",
       "      <td>0.676862</td>\n",
       "      <td>245829</td>\n",
       "      <td>CVA</td>\n",
       "      <td>no</td>\n",
       "      <td>no</td>\n",
       "      <td>no</td>\n",
       "      <td>no</td>\n",
       "      <td>no</td>\n",
       "      <td>70.0</td>\n",
       "      <td>20</td>\n",
       "      <td>NoRisk</td>\n",
       "    </tr>\n",
       "    <tr>\n",
       "      <td>...</td>\n",
       "      <td>...</td>\n",
       "      <td>...</td>\n",
       "      <td>...</td>\n",
       "      <td>...</td>\n",
       "      <td>...</td>\n",
       "      <td>...</td>\n",
       "      <td>...</td>\n",
       "      <td>...</td>\n",
       "      <td>...</td>\n",
       "      <td>...</td>\n",
       "      <td>...</td>\n",
       "    </tr>\n",
       "    <tr>\n",
       "      <td>1515</td>\n",
       "      <td>0.391440</td>\n",
       "      <td>93406</td>\n",
       "      <td>A-F</td>\n",
       "      <td>no</td>\n",
       "      <td>yes</td>\n",
       "      <td>no</td>\n",
       "      <td>no</td>\n",
       "      <td>no</td>\n",
       "      <td>76.0</td>\n",
       "      <td>60</td>\n",
       "      <td>NoRisk</td>\n",
       "    </tr>\n",
       "    <tr>\n",
       "      <td>1516</td>\n",
       "      <td>0.253504</td>\n",
       "      <td>121814</td>\n",
       "      <td>A-F</td>\n",
       "      <td>no</td>\n",
       "      <td>no</td>\n",
       "      <td>yes</td>\n",
       "      <td>yes</td>\n",
       "      <td>no</td>\n",
       "      <td>90.0</td>\n",
       "      <td>75</td>\n",
       "      <td>Risk</td>\n",
       "    </tr>\n",
       "    <tr>\n",
       "      <td>1517</td>\n",
       "      <td>0.620373</td>\n",
       "      <td>101754</td>\n",
       "      <td>TIA</td>\n",
       "      <td>no</td>\n",
       "      <td>no</td>\n",
       "      <td>yes</td>\n",
       "      <td>no</td>\n",
       "      <td>no</td>\n",
       "      <td>75.0</td>\n",
       "      <td>20</td>\n",
       "      <td>NoRisk</td>\n",
       "    </tr>\n",
       "    <tr>\n",
       "      <td>1518</td>\n",
       "      <td>0.639342</td>\n",
       "      <td>263836</td>\n",
       "      <td>A-F</td>\n",
       "      <td>no</td>\n",
       "      <td>yes</td>\n",
       "      <td>no</td>\n",
       "      <td>no</td>\n",
       "      <td>no</td>\n",
       "      <td>70.0</td>\n",
       "      <td>45</td>\n",
       "      <td>NoRisk</td>\n",
       "    </tr>\n",
       "    <tr>\n",
       "      <td>1519</td>\n",
       "      <td>0.634922</td>\n",
       "      <td>254941</td>\n",
       "      <td>CVA</td>\n",
       "      <td>no</td>\n",
       "      <td>no</td>\n",
       "      <td>no</td>\n",
       "      <td>no</td>\n",
       "      <td>no</td>\n",
       "      <td>60.0</td>\n",
       "      <td>20</td>\n",
       "      <td>NoRisk</td>\n",
       "    </tr>\n",
       "  </tbody>\n",
       "</table>\n",
       "<p>1520 rows × 11 columns</p>\n",
       "</div>"
      ],
      "text/plain": [
       "        Random      Id Indication Diabetes  IHD Hypertension Arrhythmia  \\\n",
       "0     0.602437  218242        A-F       no   no          yes         no   \n",
       "1     0.602437  159284        TIA       no   no           no         no   \n",
       "2     0.602437  106066        A-F       no  yes          yes         no   \n",
       "3     0.128157  229592        TIA       no   no          yes         no   \n",
       "4     0.676862  245829        CVA       no   no           no         no   \n",
       "...        ...     ...        ...      ...  ...          ...        ...   \n",
       "1515  0.391440   93406        A-F       no  yes           no         no   \n",
       "1516  0.253504  121814        A-F       no   no          yes        yes   \n",
       "1517  0.620373  101754        TIA       no   no          yes         no   \n",
       "1518  0.639342  263836        A-F       no  yes           no         no   \n",
       "1519  0.634922  254941        CVA       no   no           no         no   \n",
       "\n",
       "     History  IPSI Contra   label  \n",
       "0         no  78.0    20   NoRisk  \n",
       "1         no  70.0    60   NoRisk  \n",
       "2         no  95.0     40    Risk  \n",
       "3         no  90.0     85    Risk  \n",
       "4         no  70.0    20   NoRisk  \n",
       "...      ...   ...    ...     ...  \n",
       "1515      no  76.0    60   NoRisk  \n",
       "1516      no  90.0     75    Risk  \n",
       "1517      no  75.0    20   NoRisk  \n",
       "1518      no  70.0    45   NoRisk  \n",
       "1519      no  60.0    20   NoRisk  \n",
       "\n",
       "[1520 rows x 11 columns]"
      ]
     },
     "execution_count": 67,
     "metadata": {},
     "output_type": "execute_result"
    }
   ],
   "source": [
    "dataset_second_cleaning"
   ]
  },
  {
   "cell_type": "markdown",
   "metadata": {},
   "source": [
    "### Fixing Random Cleaning 2.0"
   ]
  },
  {
   "cell_type": "markdown",
   "metadata": {},
   "source": [
    "In order to fix the Random column as it contains duplicates I will remove all duplicates by assigning each duplicated random number with a new values which isn't repeated in the dataframe. Therefore fixing the random column."
   ]
  },
  {
   "cell_type": "code",
   "execution_count": 68,
   "metadata": {},
   "outputs": [],
   "source": [
    "Random_duplicate = dataset_second_cleaning.duplicated(subset = 'Random', keep=False)"
   ]
  },
  {
   "cell_type": "code",
   "execution_count": 69,
   "metadata": {},
   "outputs": [],
   "source": [
    "Random_List = []\n",
    "counter = -1\n",
    "for item in Random_duplicate:\n",
    "    counter = counter + 1\n",
    "    if item == True:\n",
    "        Random_List.append(counter)"
   ]
  },
  {
   "cell_type": "code",
   "execution_count": 70,
   "metadata": {},
   "outputs": [],
   "source": [
    "Random_List2 = []\n",
    "for index, row in dataset_second_cleaning.iterrows():\n",
    "    if index in Random_List:\n",
    "        Random_List2.append(row)"
   ]
  },
  {
   "cell_type": "code",
   "execution_count": 71,
   "metadata": {},
   "outputs": [],
   "source": [
    "for item in Random_List2:\n",
    "    randomNumber = random.uniform(0, 1)\n",
    "    if randomNumber != dataset_second_cleaning['Random'].count():\n",
    "        item['Random'] = randomNumber"
   ]
  },
  {
   "cell_type": "code",
   "execution_count": 72,
   "metadata": {},
   "outputs": [],
   "source": [
    "Random_List3 = []\n",
    "for item in Random_List2:\n",
    "    Random_List3.append(item['Random'])"
   ]
  },
  {
   "cell_type": "code",
   "execution_count": 73,
   "metadata": {},
   "outputs": [],
   "source": [
    "counter = -1\n",
    "for index, row in dataset_second_cleaning.iterrows():\n",
    "    if index in Random_List:\n",
    "        counter = counter + 1\n",
    "        z = dataset_second_cleaning.loc[index, 'Random']\n",
    "        z = Random_List3[counter]\n",
    "        dataset_second_cleaning.loc[index,'Random'] = z"
   ]
  },
  {
   "cell_type": "markdown",
   "metadata": {},
   "source": [
    "Random and Id do each-others functions as random is duplicated and Id is unique implying that both the random and ID column could be swapped in order to find another way to solve this problem\n",
    "\n",
    "The approach above used to fix the random issue was to locate every duplicate row, once located add those given rows to a list which would then have the random number swapped for another number which would be created by a random function, by doing this the random duplicate numbers would no longer contain any duplicate information. Once each duplicate row has been changed in the random column the row is then added back the dataframe ensuring each row contains a unique column"
   ]
  },
  {
   "cell_type": "markdown",
   "metadata": {},
   "source": [
    "### Fixing Indication Cleaning 2.0"
   ]
  },
  {
   "cell_type": "code",
   "execution_count": 74,
   "metadata": {},
   "outputs": [
    {
     "data": {
      "text/plain": [
       "<seaborn.axisgrid.FacetGrid at 0x1f85b8b2088>"
      ]
     },
     "execution_count": 74,
     "metadata": {},
     "output_type": "execute_result"
    },
    {
     "data": {
      "image/png": "[encoded data removed]",
      "text/plain": [
       "<Figure size 360x360 with 1 Axes>"
      ]
     },
     "metadata": {
      "needs_background": "light"
     },
     "output_type": "display_data"
    }
   ],
   "source": [
    "sns.catplot('Indication', data=dataset_second_cleaning, kind=\"count\")"
   ]
  },
  {
   "cell_type": "code",
   "execution_count": 75,
   "metadata": {},
   "outputs": [],
   "source": [
    "dataset_second_cleaning = dataset_second_cleaning.replace(to_replace = 'Asx', value = \"ASx\")"
   ]
  },
  {
   "cell_type": "code",
   "execution_count": 76,
   "metadata": {},
   "outputs": [
    {
     "data": {
      "text/plain": [
       "<seaborn.axisgrid.FacetGrid at 0x1f85b947988>"
      ]
     },
     "execution_count": 76,
     "metadata": {},
     "output_type": "execute_result"
    },
    {
     "data": {
      "image/png": "[encoded data removed]",
      "text/plain": [
       "<Figure size 360x360 with 1 Axes>"
      ]
     },
     "metadata": {
      "needs_background": "light"
     },
     "output_type": "display_data"
    }
   ],
   "source": [
    "sns.catplot('Indication', data=dataset_second_cleaning, kind=\"count\")"
   ]
  },
  {
   "cell_type": "code",
   "execution_count": 77,
   "metadata": {},
   "outputs": [],
   "source": [
    "indication_null = dataset_second_cleaning['Indication'].isnull()"
   ]
  },
  {
   "cell_type": "code",
   "execution_count": 78,
   "metadata": {},
   "outputs": [],
   "source": [
    "counter = -1\n",
    "indication_null_list = []\n",
    "\n",
    "for item in indication_null:\n",
    "    counter = counter + 1\n",
    "    if item == True:\n",
    "        indication_null_list.append(counter)"
   ]
  },
  {
   "cell_type": "code",
   "execution_count": 79,
   "metadata": {},
   "outputs": [
    {
     "data": {
      "text/plain": [
       "[442, 822, 1007]"
      ]
     },
     "execution_count": 79,
     "metadata": {},
     "output_type": "execute_result"
    }
   ],
   "source": [
    "indication_null_list"
   ]
  },
  {
   "cell_type": "code",
   "execution_count": 80,
   "metadata": {},
   "outputs": [],
   "source": [
    "indication_null_row = []\n",
    "\n",
    "for index, row in dataset_second_cleaning.iterrows():\n",
    "    if index in indication_null_list:\n",
    "        indication_null_row.append(row)"
   ]
  },
  {
   "cell_type": "code",
   "execution_count": 81,
   "metadata": {},
   "outputs": [
    {
     "data": {
      "text/plain": [
       "[Random          0.648122\n",
       " Id                261060\n",
       " Indication           NaN\n",
       " Diabetes              no\n",
       " IHD                  yes\n",
       " Hypertension         yes\n",
       " Arrhythmia            no\n",
       " History               no\n",
       " IPSI                  70\n",
       " Contra                40\n",
       " label             NoRisk\n",
       " Name: 442, dtype: object, Random          0.355452\n",
       " Id                205845\n",
       " Indication           NaN\n",
       " Diabetes              no\n",
       " IHD                  yes\n",
       " Hypertension          no\n",
       " Arrhythmia            no\n",
       " History               no\n",
       " IPSI                  80\n",
       " Contra               100\n",
       " label               Risk\n",
       " Name: 822, dtype: object, Random          0.761219\n",
       " Id                256076\n",
       " Indication           NaN\n",
       " Diabetes              no\n",
       " IHD                   no\n",
       " Hypertension          no\n",
       " Arrhythmia           yes\n",
       " History              yes\n",
       " IPSI                  99\n",
       " Contra               100\n",
       " label               Risk\n",
       " Name: 1007, dtype: object]"
      ]
     },
     "execution_count": 81,
     "metadata": {},
     "output_type": "execute_result"
    }
   ],
   "source": [
    "indication_null_row"
   ]
  },
  {
   "cell_type": "code",
   "execution_count": 82,
   "metadata": {},
   "outputs": [
    {
     "name": "stdout",
     "output_type": "stream",
     "text": [
      "31 38 48 8\n"
     ]
    }
   ],
   "source": [
    "counter1 = 0\n",
    "counter2 = 0\n",
    "counter3 = 0\n",
    "counter4 = 0\n",
    "for index, row in dataset_second_cleaning.iterrows():\n",
    "    if row['Diabetes'] == 'no' and row['IHD'] == 'yes' and row['Hypertension'] == 'yes' and row['Arrhythmia'] == 'no' and row['History'] == 'no' and row['label'] == 'NoRisk':\n",
    "        if row['Indication'] == 'A-F':\n",
    "            counter1 = counter1 + 1\n",
    "        if row['Indication'] == 'CVA':\n",
    "            counter2 = counter2 + 1\n",
    "        if row['Indication'] == 'TIA':\n",
    "            counter3 = counter3 + 1\n",
    "        if row['Indication'] == 'ASx':\n",
    "            counter4 = counter4 + 1\n",
    "print(counter1, counter2, counter3, counter4)"
   ]
  },
  {
   "cell_type": "code",
   "execution_count": 83,
   "metadata": {},
   "outputs": [
    {
     "name": "stdout",
     "output_type": "stream",
     "text": [
      "11 0 7 0\n"
     ]
    }
   ],
   "source": [
    "counter1 = 0\n",
    "counter2 = 0\n",
    "counter3 = 0\n",
    "counter4 = 0\n",
    "for index, row in dataset_second_cleaning.iterrows():\n",
    "    if row['Diabetes'] == 'no' and row['IHD'] == 'yes' and row['Hypertension'] == 'no' and row['Arrhythmia'] == 'no' and row['History'] == 'no' and row['label'] == 'Risk':\n",
    "        if row['Indication'] == 'A-F':\n",
    "            counter1 = counter1 + 1\n",
    "        if row['Indication'] == 'CVA':\n",
    "            counter2 = counter2 + 1\n",
    "        if row['Indication'] == 'TIA':\n",
    "            counter3 = counter3 + 1\n",
    "        if row['Indication'] == 'ASx':\n",
    "            counter4 = counter4 + 1\n",
    "print(counter1, counter2, counter3, counter4)"
   ]
  },
  {
   "cell_type": "code",
   "execution_count": 84,
   "metadata": {},
   "outputs": [
    {
     "name": "stdout",
     "output_type": "stream",
     "text": [
      "0 4 0 0\n"
     ]
    }
   ],
   "source": [
    "counter1 = 0\n",
    "counter2 = 0\n",
    "counter3 = 0\n",
    "counter4 = 0\n",
    "for index, row in dataset_second_cleaning.iterrows():\n",
    "    if row['Diabetes'] == 'no' and row['IHD'] == 'no' and row['Hypertension'] == 'no' and row['Arrhythmia'] == 'yes' and row['History'] == 'yes' and row['label'] == 'Risk':\n",
    "        if row['Indication'] == 'A-F':\n",
    "            counter1 = counter1 + 1\n",
    "        if row['Indication'] == 'CVA':\n",
    "            counter2 = counter2 + 1\n",
    "        if row['Indication'] == 'TIA':\n",
    "            counter3 = counter3 + 1\n",
    "        if row['Indication'] == 'ASx':\n",
    "            counter4 = counter4 + 1\n",
    "print(counter1, counter2, counter3, counter4)"
   ]
  },
  {
   "cell_type": "code",
   "execution_count": 85,
   "metadata": {},
   "outputs": [
    {
     "name": "stderr",
     "output_type": "stream",
     "text": [
      "C:\\ProgramData\\Anaconda3\\lib\\site-packages\\ipykernel_launcher.py:6: SettingWithCopyWarning: \n",
      "A value is trying to be set on a copy of a slice from a DataFrame\n",
      "\n",
      "See the caveats in the documentation: http://pandas.pydata.org/pandas-docs/stable/user_guide/indexing.html#returning-a-view-versus-a-copy\n",
      "  \n"
     ]
    }
   ],
   "source": [
    "counter = -1\n",
    "for index, row in dataset_second_cleaning.iterrows():\n",
    "    counter = counter + 1\n",
    "    if row['Id'] == 261060:\n",
    "        z = dataset_second_cleaning.loc[counter, :]\n",
    "        z['Indication'] = 'TIA'\n",
    "        dataset_second_cleaning.loc[counter, :] = z"
   ]
  },
  {
   "cell_type": "code",
   "execution_count": 86,
   "metadata": {},
   "outputs": [
    {
     "name": "stderr",
     "output_type": "stream",
     "text": [
      "C:\\ProgramData\\Anaconda3\\lib\\site-packages\\ipykernel_launcher.py:6: SettingWithCopyWarning: \n",
      "A value is trying to be set on a copy of a slice from a DataFrame\n",
      "\n",
      "See the caveats in the documentation: http://pandas.pydata.org/pandas-docs/stable/user_guide/indexing.html#returning-a-view-versus-a-copy\n",
      "  \n"
     ]
    }
   ],
   "source": [
    "counter = -1\n",
    "for index, row in dataset_second_cleaning.iterrows():\n",
    "    counter = counter + 1\n",
    "    if row['Id'] ==  205845:\n",
    "        z = dataset_second_cleaning.loc[counter, :]\n",
    "        z['Indication'] = 'A-F'\n",
    "        dataset_second_cleaning.loc[counter, :] = z"
   ]
  },
  {
   "cell_type": "code",
   "execution_count": 87,
   "metadata": {},
   "outputs": [
    {
     "name": "stderr",
     "output_type": "stream",
     "text": [
      "C:\\ProgramData\\Anaconda3\\lib\\site-packages\\ipykernel_launcher.py:6: SettingWithCopyWarning: \n",
      "A value is trying to be set on a copy of a slice from a DataFrame\n",
      "\n",
      "See the caveats in the documentation: http://pandas.pydata.org/pandas-docs/stable/user_guide/indexing.html#returning-a-view-versus-a-copy\n",
      "  \n"
     ]
    }
   ],
   "source": [
    "counter = -1\n",
    "for index, row in dataset_second_cleaning.iterrows():\n",
    "    counter = counter + 1\n",
    "    if row['Id'] ==  256076:\n",
    "        z = dataset_second_cleaning.loc[counter, :]\n",
    "        z['Indication'] = 'CVA'\n",
    "        dataset_second_cleaning.loc[counter, :] = z"
   ]
  },
  {
   "cell_type": "code",
   "execution_count": 88,
   "metadata": {},
   "outputs": [
    {
     "data": {
      "text/plain": [
       "count     1520\n",
       "unique       4\n",
       "top        A-F\n",
       "freq       494\n",
       "Name: Indication, dtype: object"
      ]
     },
     "execution_count": 88,
     "metadata": {},
     "output_type": "execute_result"
    }
   ],
   "source": [
    "dataset_second_cleaning['Indication'].describe()"
   ]
  },
  {
   "cell_type": "markdown",
   "metadata": {},
   "source": [
    "### Fixing Diabetes Cleaning 2.0 "
   ]
  },
  {
   "cell_type": "code",
   "execution_count": 89,
   "metadata": {},
   "outputs": [
    {
     "name": "stdout",
     "output_type": "stream",
     "text": [
      "24 1457 2\n"
     ]
    }
   ],
   "source": [
    "counterdiabetesyes = 0\n",
    "counterdiabetesno = 0\n",
    "counterdiabetesnull = 0\n",
    "\n",
    "for index, row in dataset_second_cleaning.iterrows():\n",
    "    if row['Diabetes'] == 'yes':\n",
    "        counterdiabetesyes = counterdiabetesyes + 1\n",
    "    elif row['Diabetes'] == 'no':\n",
    "        counterdiabetesno = counterdiabetesno + 1\n",
    "    else:\n",
    "        counterdiabetesnull = counterdiabetesnull + 1\n",
    "print(counterHISTORYyes, counterHISTORYno, counterdiabetesnull)   "
   ]
  },
  {
   "cell_type": "code",
   "execution_count": 90,
   "metadata": {},
   "outputs": [
    {
     "data": {
      "image/png": "[encoded data removed]",
      "text/plain": [
       "<Figure size 432x288 with 1 Axes>"
      ]
     },
     "metadata": {},
     "output_type": "display_data"
    }
   ],
   "source": [
    "labels = 'Diabetes Yes', 'Diabetes No', 'Diabetes Null' \n",
    "sizes = [counterHISTORYyes, counterHISTORYno, counterdiabetesnull]\n",
    "colors = ['gold', 'lightskyblue', 'green']\n",
    "explode = (0, 0, 0)\n",
    "\n",
    "\n",
    "plt.pie(sizes, explode=explode, labels=labels, colors=colors,\n",
    "autopct='%1.1f%%', shadow=False, startangle=140)\n",
    "\n",
    "plt.axis('equal')\n",
    "plt.show()"
   ]
  },
  {
   "cell_type": "code",
   "execution_count": 91,
   "metadata": {},
   "outputs": [
    {
     "data": {
      "text/plain": [
       "count     1518\n",
       "unique       2\n",
       "top         no\n",
       "freq      1441\n",
       "Name: Diabetes, dtype: object"
      ]
     },
     "execution_count": 91,
     "metadata": {},
     "output_type": "execute_result"
    }
   ],
   "source": [
    "dataset_second_cleaning['Diabetes'].describe()"
   ]
  },
  {
   "cell_type": "code",
   "execution_count": 92,
   "metadata": {},
   "outputs": [],
   "source": [
    "Null_Diabetes = dataset_second_cleaning['Diabetes'].isnull()"
   ]
  },
  {
   "cell_type": "code",
   "execution_count": 93,
   "metadata": {},
   "outputs": [
    {
     "data": {
      "text/plain": [
       "[447, 514]"
      ]
     },
     "execution_count": 93,
     "metadata": {},
     "output_type": "execute_result"
    }
   ],
   "source": [
    "count = -1\n",
    "Null_Diabetes_Index = []\n",
    "for item in Null_Diabetes:\n",
    "    count = count + 1\n",
    "    if item == True:\n",
    "        Null_Diabetes_Index.append(count)\n",
    "Null_Diabetes_Index"
   ]
  },
  {
   "cell_type": "code",
   "execution_count": 94,
   "metadata": {},
   "outputs": [
    {
     "data": {
      "text/plain": [
       "[Random          0.513766\n",
       " Id                224257\n",
       " Indication           CVA\n",
       " Diabetes             NaN\n",
       " IHD                  yes\n",
       " Hypertension         yes\n",
       " Arrhythmia           yes\n",
       " History               no\n",
       " IPSI                  90\n",
       " Contra               100\n",
       " label               Risk\n",
       " Name: 447, dtype: object, Random          0.39213\n",
       " Id               210861\n",
       " Indication          A-F\n",
       " Diabetes            NaN\n",
       " IHD                  no\n",
       " Hypertension        yes\n",
       " Arrhythmia           no\n",
       " History              no\n",
       " IPSI                 80\n",
       " Contra               40\n",
       " label            NoRisk\n",
       " Name: 514, dtype: object]"
      ]
     },
     "execution_count": 94,
     "metadata": {},
     "output_type": "execute_result"
    }
   ],
   "source": [
    "Null_Diabetes_row = []\n",
    "for index, row in dataset_second_cleaning.iterrows():\n",
    "    if index in Null_Diabetes_Index:\n",
    "        Null_Diabetes_row.append(row)\n",
    "Null_Diabetes_row"
   ]
  },
  {
   "cell_type": "code",
   "execution_count": 95,
   "metadata": {},
   "outputs": [
    {
     "name": "stdout",
     "output_type": "stream",
     "text": [
      "67 2\n"
     ]
    }
   ],
   "source": [
    "count_no = 0\n",
    "count_yes = 0\n",
    "for index, row in dataset_second_cleaning.iterrows():\n",
    "    if row['Indication'] == 'CVA' and  row['IHD'] == 'yes' and row['Hypertension'] =='yes' and row['Arrhythmia'] == 'yes' and row['History'] == 'no' and row['label'] == 'Risk':\n",
    "        if row['Diabetes'] == 'no':\n",
    "            count_no = count_no + 1\n",
    "        if row['Diabetes'] == 'yes':\n",
    "            count_yes = count_yes + 1\n",
    "print(count_no, count_yes)"
   ]
  },
  {
   "cell_type": "code",
   "execution_count": 96,
   "metadata": {},
   "outputs": [
    {
     "name": "stdout",
     "output_type": "stream",
     "text": [
      "50 0\n"
     ]
    }
   ],
   "source": [
    "count_no = 0\n",
    "count_yes = 0\n",
    "for index, row in dataset_second_cleaning.iterrows():\n",
    "    if row['Indication'] == 'A-F' and  row['IHD'] == 'no' and row['Hypertension'] =='yes' and row['Arrhythmia'] == 'no' and row['History'] == 'no' and row['label'] == 'NoRisk':\n",
    "        if row['Diabetes'] == 'no':\n",
    "            count_no = count_no + 1\n",
    "        if row['Diabetes'] == 'yes':\n",
    "            count_yes = count_yes + 1\n",
    "print(count_no, count_yes)"
   ]
  },
  {
   "cell_type": "code",
   "execution_count": 97,
   "metadata": {},
   "outputs": [
    {
     "name": "stdout",
     "output_type": "stream",
     "text": [
      "Random          0.513766\n",
      "Id                224257\n",
      "Indication           CVA\n",
      "Diabetes              no\n",
      "IHD                  yes\n",
      "Hypertension         yes\n",
      "Arrhythmia           yes\n",
      "History               no\n",
      "IPSI                  90\n",
      "Contra               100\n",
      "label               Risk\n",
      "Name: 447, dtype: object\n"
     ]
    },
    {
     "name": "stderr",
     "output_type": "stream",
     "text": [
      "C:\\ProgramData\\Anaconda3\\lib\\site-packages\\ipykernel_launcher.py:6: SettingWithCopyWarning: \n",
      "A value is trying to be set on a copy of a slice from a DataFrame\n",
      "\n",
      "See the caveats in the documentation: http://pandas.pydata.org/pandas-docs/stable/user_guide/indexing.html#returning-a-view-versus-a-copy\n",
      "  \n"
     ]
    }
   ],
   "source": [
    "counter = -1\n",
    "for index, row in dataset_second_cleaning.iterrows():\n",
    "    counter = counter + 1\n",
    "    if row['Id'] == 224257:\n",
    "        z = dataset_second_cleaning.loc[counter, :]\n",
    "        z['Diabetes'] = 'no'\n",
    "        print(z)\n",
    "        dataset_second_cleaning.loc[counter, :] = z"
   ]
  },
  {
   "cell_type": "code",
   "execution_count": 98,
   "metadata": {},
   "outputs": [
    {
     "name": "stdout",
     "output_type": "stream",
     "text": [
      "Random          0.39213\n",
      "Id               210861\n",
      "Indication          A-F\n",
      "Diabetes             no\n",
      "IHD                  no\n",
      "Hypertension        yes\n",
      "Arrhythmia           no\n",
      "History              no\n",
      "IPSI                 80\n",
      "Contra               40\n",
      "label            NoRisk\n",
      "Name: 514, dtype: object\n"
     ]
    },
    {
     "name": "stderr",
     "output_type": "stream",
     "text": [
      "C:\\ProgramData\\Anaconda3\\lib\\site-packages\\ipykernel_launcher.py:6: SettingWithCopyWarning: \n",
      "A value is trying to be set on a copy of a slice from a DataFrame\n",
      "\n",
      "See the caveats in the documentation: http://pandas.pydata.org/pandas-docs/stable/user_guide/indexing.html#returning-a-view-versus-a-copy\n",
      "  \n"
     ]
    }
   ],
   "source": [
    "counter = -1\n",
    "for index, row in dataset_second_cleaning.iterrows():\n",
    "    counter = counter + 1\n",
    "    if row['Id'] == 210861:\n",
    "        z = dataset_second_cleaning.loc[counter, :]\n",
    "        z['Diabetes'] = 'no'\n",
    "        print(z)\n",
    "        dataset_second_cleaning.loc[counter, :] = z"
   ]
  },
  {
   "cell_type": "code",
   "execution_count": 99,
   "metadata": {},
   "outputs": [
    {
     "name": "stdout",
     "output_type": "stream",
     "text": [
      "24 1457 0\n"
     ]
    }
   ],
   "source": [
    "counterdiabetesyes = 0\n",
    "counterdiabetesno = 0\n",
    "counterdiabetesnull = 0\n",
    "\n",
    "for index, row in dataset_second_cleaning.iterrows():\n",
    "    if row['Diabetes'] == 'yes':\n",
    "        counterdiabetesyes = counterdiabetesyes + 1\n",
    "    elif row['Diabetes'] == 'no':\n",
    "        counterdiabetesno = counterdiabetesno + 1\n",
    "    else:\n",
    "        counterdiabetesnull = counterdiabetesnull + 1\n",
    "print(counterHISTORYyes, counterHISTORYno, counterdiabetesnull)"
   ]
  },
  {
   "cell_type": "code",
   "execution_count": 100,
   "metadata": {},
   "outputs": [
    {
     "data": {
      "image/png": "[encoded data removed]",
      "text/plain": [
       "<Figure size 432x288 with 1 Axes>"
      ]
     },
     "metadata": {},
     "output_type": "display_data"
    }
   ],
   "source": [
    "labels = 'Diabetes Yes', 'Diabetes No', 'Diabetes Null' \n",
    "sizes = [counterHISTORYyes, counterHISTORYno, counterdiabetesnull]\n",
    "colors = ['gold', 'lightskyblue', 'green']\n",
    "explode = (0, 0, 0)\n",
    "\n",
    "\n",
    "plt.pie(sizes, explode=explode, labels=labels, colors=colors,\n",
    "autopct='%1.1f%%', shadow=False, startangle=140)\n",
    "\n",
    "plt.axis('equal')\n",
    "plt.show()"
   ]
  },
  {
   "cell_type": "markdown",
   "metadata": {},
   "source": [
    "### Fixing IHD Cleaning 2.0"
   ]
  },
  {
   "cell_type": "code",
   "execution_count": 101,
   "metadata": {},
   "outputs": [
    {
     "data": {
      "text/plain": [
       "count     1520\n",
       "unique       2\n",
       "top         no\n",
       "freq      1443\n",
       "Name: Diabetes, dtype: object"
      ]
     },
     "execution_count": 101,
     "metadata": {},
     "output_type": "execute_result"
    }
   ],
   "source": [
    "dataset_second_cleaning['Diabetes'].describe()"
   ]
  },
  {
   "cell_type": "code",
   "execution_count": 102,
   "metadata": {},
   "outputs": [
    {
     "data": {
      "text/plain": [
       "<seaborn.axisgrid.FacetGrid at 0x1f85c9cc548>"
      ]
     },
     "execution_count": 102,
     "metadata": {},
     "output_type": "execute_result"
    },
    {
     "data": {
      "image/png": "[encoded data removed]",
      "text/plain": [
       "<Figure size 360x360 with 1 Axes>"
      ]
     },
     "metadata": {
      "needs_background": "light"
     },
     "output_type": "display_data"
    }
   ],
   "source": [
    "sns.catplot('IHD', data=dataset_second_cleaning, kind=\"count\")"
   ]
  },
  {
   "cell_type": "markdown",
   "metadata": {},
   "source": [
    "There are no found imputes within the IHD column"
   ]
  },
  {
   "cell_type": "markdown",
   "metadata": {},
   "source": [
    "### Fixing Hypertension Cleaning 2.0"
   ]
  },
  {
   "cell_type": "code",
   "execution_count": 103,
   "metadata": {},
   "outputs": [],
   "source": [
    "dataHypertensionNull = dataset_second_cleaning['Hypertension'].isnull()"
   ]
  },
  {
   "cell_type": "code",
   "execution_count": 104,
   "metadata": {},
   "outputs": [
    {
     "data": {
      "text/plain": [
       "0       False\n",
       "1       False\n",
       "2       False\n",
       "3       False\n",
       "4       False\n",
       "        ...  \n",
       "1515    False\n",
       "1516    False\n",
       "1517    False\n",
       "1518    False\n",
       "1519    False\n",
       "Name: Hypertension, Length: 1520, dtype: bool"
      ]
     },
     "execution_count": 104,
     "metadata": {},
     "output_type": "execute_result"
    }
   ],
   "source": [
    "dataHypertensionNull"
   ]
  },
  {
   "cell_type": "code",
   "execution_count": 105,
   "metadata": {},
   "outputs": [],
   "source": [
    "ListHypertension = []\n",
    "counter = -1\n",
    "for item in dataHypertensionNull:\n",
    "    counter = counter + 1\n",
    "    if item == True:\n",
    "        ListHypertension.append(counter)"
   ]
  },
  {
   "cell_type": "code",
   "execution_count": 106,
   "metadata": {},
   "outputs": [
    {
     "name": "stdout",
     "output_type": "stream",
     "text": [
      "201 Random          0.38879\n",
      "Id               240232\n",
      "Indication          CVA\n",
      "Diabetes            yes\n",
      "IHD                  no\n",
      "Hypertension        NaN\n",
      "Arrhythmia          yes\n",
      "History              no\n",
      "IPSI                 95\n",
      "Contra               90\n",
      "label              Risk\n",
      "Name: 201, dtype: object\n",
      "590 Random          0.70795\n",
      "Id               289096\n",
      "Indication          A-F\n",
      "Diabetes             no\n",
      "IHD                  no\n",
      "Hypertension        NaN\n",
      "Arrhythmia           no\n",
      "History              no\n",
      "IPSI                 78\n",
      "Contra               30\n",
      "label            NoRisk\n",
      "Name: 590, dtype: object\n",
      "983 Random          0.319215\n",
      "Id                158024\n",
      "Indication           TIA\n",
      "Diabetes              no\n",
      "IHD                   no\n",
      "Hypertension         NaN\n",
      "Arrhythmia            no\n",
      "History               no\n",
      "IPSI                  75\n",
      "Contra                75\n",
      "label             NoRisk\n",
      "Name: 983, dtype: object\n"
     ]
    }
   ],
   "source": [
    "List_Hypertension_Row = []\n",
    "for index, row in dataset_second_cleaning.iterrows():\n",
    "    if index in ListHypertension:\n",
    "        print(index, row)"
   ]
  },
  {
   "cell_type": "code",
   "execution_count": 107,
   "metadata": {},
   "outputs": [
    {
     "name": "stdout",
     "output_type": "stream",
     "text": [
      "33 Random          0.711928\n",
      "Id                112060\n",
      "Indication           CVA\n",
      "Diabetes             yes\n",
      "IHD                   no\n",
      "Hypertension         yes\n",
      "Arrhythmia           yes\n",
      "History               no\n",
      "IPSI                  95\n",
      "Contra                75\n",
      "label               Risk\n",
      "Name: 33, dtype: object\n",
      "138 Random          0.811536\n",
      "Id                121453\n",
      "Indication           CVA\n",
      "Diabetes             yes\n",
      "IHD                   no\n",
      "Hypertension         yes\n",
      "Arrhythmia           yes\n",
      "History               no\n",
      "IPSI                  95\n",
      "Contra                90\n",
      "label               Risk\n",
      "Name: 138, dtype: object\n",
      "201 Random          0.38879\n",
      "Id               240232\n",
      "Indication          CVA\n",
      "Diabetes            yes\n",
      "IHD                  no\n",
      "Hypertension        NaN\n",
      "Arrhythmia          yes\n",
      "History              no\n",
      "IPSI                 95\n",
      "Contra               90\n",
      "label              Risk\n",
      "Name: 201, dtype: object\n",
      "401 Random          0.292205\n",
      "Id                104263\n",
      "Indication           CVA\n",
      "Diabetes             yes\n",
      "IHD                   no\n",
      "Hypertension         yes\n",
      "Arrhythmia           yes\n",
      "History               no\n",
      "IPSI                  95\n",
      "Contra                75\n",
      "label               Risk\n",
      "Name: 401, dtype: object\n",
      "509 Random          0.027813\n",
      "Id                159906\n",
      "Indication           CVA\n",
      "Diabetes             yes\n",
      "IHD                   no\n",
      "Hypertension         yes\n",
      "Arrhythmia           yes\n",
      "History               no\n",
      "IPSI                  95\n",
      "Contra                75\n",
      "label               Risk\n",
      "Name: 509, dtype: object\n"
     ]
    }
   ],
   "source": [
    "for index, row in dataset_second_cleaning.iterrows():\n",
    "    if row['Indication'] == 'CVA' and row['Diabetes'] == 'yes' and row['IHD'] == 'no' and row['Arrhythmia'] == 'yes' and row['History'] == 'no' and row['label'] == 'Risk':\n",
    "        print(index, row)"
   ]
  },
  {
   "cell_type": "code",
   "execution_count": 108,
   "metadata": {},
   "outputs": [
    {
     "name": "stderr",
     "output_type": "stream",
     "text": [
      "C:\\ProgramData\\Anaconda3\\lib\\site-packages\\ipykernel_launcher.py:6: SettingWithCopyWarning: \n",
      "A value is trying to be set on a copy of a slice from a DataFrame\n",
      "\n",
      "See the caveats in the documentation: http://pandas.pydata.org/pandas-docs/stable/user_guide/indexing.html#returning-a-view-versus-a-copy\n",
      "  \n"
     ]
    }
   ],
   "source": [
    "counter = -1\n",
    "for index, row in dataset_second_cleaning.iterrows():\n",
    "    counter = counter + 1\n",
    "    if counter == 201:\n",
    "        z = dataset_second_cleaning.loc[counter, :]\n",
    "        z['Hypertension'] = 'yes'\n",
    "        dataset_second_cleaning.loc[counter, :] = z"
   ]
  },
  {
   "cell_type": "code",
   "execution_count": 109,
   "metadata": {},
   "outputs": [
    {
     "name": "stdout",
     "output_type": "stream",
     "text": [
      "0 Random          0.262646\n",
      "Id                218242\n",
      "Indication           A-F\n",
      "Diabetes              no\n",
      "IHD                   no\n",
      "Hypertension         yes\n",
      "Arrhythmia            no\n",
      "History               no\n",
      "IPSI                  78\n",
      "Contra               20 \n",
      "label             NoRisk\n",
      "Name: 0, dtype: object\n",
      "20 Random          0.299987\n",
      "Id                250562\n",
      "Indication           A-F\n",
      "Diabetes              no\n",
      "IHD                   no\n",
      "Hypertension         yes\n",
      "Arrhythmia            no\n",
      "History               no\n",
      "IPSI                  75\n",
      "Contra               25 \n",
      "label             NoRisk\n",
      "Name: 20, dtype: object\n",
      "27 Random          0.147857\n",
      "Id                295155\n",
      "Indication           A-F\n",
      "Diabetes              no\n",
      "IHD                   no\n",
      "Hypertension         yes\n",
      "Arrhythmia            no\n",
      "History               no\n",
      "IPSI                  75\n",
      "Contra               15 \n",
      "label             NoRisk\n",
      "Name: 27, dtype: object\n",
      "29 Random          0.806727\n",
      "Id                104062\n",
      "Indication           A-F\n",
      "Diabetes              no\n",
      "IHD                   no\n",
      "Hypertension          no\n",
      "Arrhythmia            no\n",
      "History               no\n",
      "IPSI                  78\n",
      "Contra               30 \n",
      "label             NoRisk\n",
      "Name: 29, dtype: object\n",
      "40 Random          0.728137\n",
      "Id                 91068\n",
      "Indication           A-F\n",
      "Diabetes              no\n",
      "IHD                   no\n",
      "Hypertension          no\n",
      "Arrhythmia            no\n",
      "History               no\n",
      "IPSI                  70\n",
      "Contra               20 \n",
      "label             NoRisk\n",
      "Name: 40, dtype: object\n",
      "46 Random          0.30758\n",
      "Id               263601\n",
      "Indication          A-F\n",
      "Diabetes             no\n",
      "IHD                  no\n",
      "Hypertension        yes\n",
      "Arrhythmia           no\n",
      "History              no\n",
      "IPSI                 71\n",
      "Contra              30 \n",
      "label            NoRisk\n",
      "Name: 46, dtype: object\n",
      "47 Random          0.486382\n",
      "Id                190335\n",
      "Indication           A-F\n",
      "Diabetes              no\n",
      "IHD                   no\n",
      "Hypertension         yes\n",
      "Arrhythmia            no\n",
      "History               no\n",
      "IPSI                  70\n",
      "Contra               20 \n",
      "label             NoRisk\n",
      "Name: 47, dtype: object\n",
      "54 Random          0.339047\n",
      "Id                247629\n",
      "Indication           A-F\n",
      "Diabetes              no\n",
      "IHD                   no\n",
      "Hypertension         yes\n",
      "Arrhythmia            no\n",
      "History               no\n",
      "IPSI                  76\n",
      "Contra               50 \n",
      "label             NoRisk\n",
      "Name: 54, dtype: object\n",
      "62 Random          0.89818\n",
      "Id               101697\n",
      "Indication          A-F\n",
      "Diabetes             no\n",
      "IHD                  no\n",
      "Hypertension        yes\n",
      "Arrhythmia           no\n",
      "History              no\n",
      "IPSI                 75\n",
      "Contra              25 \n",
      "label            NoRisk\n",
      "Name: 62, dtype: object\n",
      "63 Random          0.53363\n",
      "Id               210968\n",
      "Indication          A-F\n",
      "Diabetes             no\n",
      "IHD                  no\n",
      "Hypertension         no\n",
      "Arrhythmia           no\n",
      "History              no\n",
      "IPSI                 75\n",
      "Contra              30 \n",
      "label            NoRisk\n",
      "Name: 63, dtype: object\n",
      "64 Random          0.639829\n",
      "Id                 90643\n",
      "Indication           A-F\n",
      "Diabetes              no\n",
      "IHD                   no\n",
      "Hypertension         yes\n",
      "Arrhythmia            no\n",
      "History               no\n",
      "IPSI                  76\n",
      "Contra               30 \n",
      "label             NoRisk\n",
      "Name: 64, dtype: object\n",
      "66 Random          0.658205\n",
      "Id                154412\n",
      "Indication           A-F\n",
      "Diabetes              no\n",
      "IHD                   no\n",
      "Hypertension          no\n",
      "Arrhythmia            no\n",
      "History               no\n",
      "IPSI                  70\n",
      "Contra               20 \n",
      "label             NoRisk\n",
      "Name: 66, dtype: object\n",
      "73 Random          0.0301216\n",
      "Id                 162168\n",
      "Indication            A-F\n",
      "Diabetes               no\n",
      "IHD                    no\n",
      "Hypertension          yes\n",
      "Arrhythmia             no\n",
      "History                no\n",
      "IPSI                   76\n",
      "Contra                50 \n",
      "label              NoRisk\n",
      "Name: 73, dtype: object\n",
      "77 Random          0.570818\n",
      "Id                277279\n",
      "Indication           A-F\n",
      "Diabetes              no\n",
      "IHD                   no\n",
      "Hypertension          no\n",
      "Arrhythmia            no\n",
      "History               no\n",
      "IPSI                  74\n",
      "Contra               50 \n",
      "label             NoRisk\n",
      "Name: 77, dtype: object\n",
      "78 Random          0.423646\n",
      "Id                 87786\n",
      "Indication           A-F\n",
      "Diabetes              no\n",
      "IHD                   no\n",
      "Hypertension          no\n",
      "Arrhythmia            no\n",
      "History               no\n",
      "IPSI                  78\n",
      "Contra               30 \n",
      "label             NoRisk\n",
      "Name: 78, dtype: object\n",
      "88 Random          0.442518\n",
      "Id                 84553\n",
      "Indication           A-F\n",
      "Diabetes              no\n",
      "IHD                   no\n",
      "Hypertension         yes\n",
      "Arrhythmia            no\n",
      "History               no\n",
      "IPSI                  75\n",
      "Contra               15 \n",
      "label             NoRisk\n",
      "Name: 88, dtype: object\n",
      "89 Random          0.899945\n",
      "Id                260312\n",
      "Indication           A-F\n",
      "Diabetes              no\n",
      "IHD                   no\n",
      "Hypertension          no\n",
      "Arrhythmia            no\n",
      "History               no\n",
      "IPSI                  95\n",
      "Contra               20 \n",
      "label             NoRisk\n",
      "Name: 89, dtype: object\n",
      "95 Random          0.407899\n",
      "Id                229062\n",
      "Indication           A-F\n",
      "Diabetes              no\n",
      "IHD                   no\n",
      "Hypertension          no\n",
      "Arrhythmia            no\n",
      "History               no\n",
      "IPSI                  70\n",
      "Contra               50 \n",
      "label             NoRisk\n",
      "Name: 95, dtype: object\n",
      "99 Random          0.897747\n",
      "Id                255097\n",
      "Indication           A-F\n",
      "Diabetes              no\n",
      "IHD                   no\n",
      "Hypertension         yes\n",
      "Arrhythmia            no\n",
      "History               no\n",
      "IPSI                  50\n",
      "Contra               30 \n",
      "label             NoRisk\n",
      "Name: 99, dtype: object\n",
      "115 Random          0.509331\n",
      "Id                151316\n",
      "Indication           A-F\n",
      "Diabetes              no\n",
      "IHD                   no\n",
      "Hypertension          no\n",
      "Arrhythmia            no\n",
      "History               no\n",
      "IPSI                  80\n",
      "Contra               50 \n",
      "label             NoRisk\n",
      "Name: 115, dtype: object\n",
      "116 Random          0.577457\n",
      "Id                 80931\n",
      "Indication           A-F\n",
      "Diabetes              no\n",
      "IHD                   no\n",
      "Hypertension          no\n",
      "Arrhythmia            no\n",
      "History               no\n",
      "IPSI                  78\n",
      "Contra               30 \n",
      "label             NoRisk\n",
      "Name: 116, dtype: object\n",
      "123 Random          0.421574\n",
      "Id                275436\n",
      "Indication           A-F\n",
      "Diabetes              no\n",
      "IHD                   no\n",
      "Hypertension          no\n",
      "Arrhythmia            no\n",
      "History               no\n",
      "IPSI                  75\n",
      "Contra               55 \n",
      "label             NoRisk\n",
      "Name: 123, dtype: object\n",
      "137 Random          0.800132\n",
      "Id                291452\n",
      "Indication           A-F\n",
      "Diabetes              no\n",
      "IHD                   no\n",
      "Hypertension         yes\n",
      "Arrhythmia            no\n",
      "History               no\n",
      "IPSI                  90\n",
      "Contra               20 \n",
      "label             NoRisk\n",
      "Name: 137, dtype: object\n",
      "139 Random          0.480683\n",
      "Id                191281\n",
      "Indication           A-F\n",
      "Diabetes              no\n",
      "IHD                   no\n",
      "Hypertension          no\n",
      "Arrhythmia            no\n",
      "History               no\n",
      "IPSI                  80\n",
      "Contra               25 \n",
      "label             NoRisk\n",
      "Name: 139, dtype: object\n",
      "148 Random          0.910347\n",
      "Id                 83950\n",
      "Indication           A-F\n",
      "Diabetes              no\n",
      "IHD                   no\n",
      "Hypertension          no\n",
      "Arrhythmia            no\n",
      "History               no\n",
      "IPSI                  90\n",
      "Contra               50 \n",
      "label             NoRisk\n",
      "Name: 148, dtype: object\n",
      "165 Random          0.762792\n",
      "Id                261388\n",
      "Indication           A-F\n",
      "Diabetes              no\n",
      "IHD                   no\n",
      "Hypertension          no\n",
      "Arrhythmia            no\n",
      "History               no\n",
      "IPSI                  67\n",
      "Contra               50 \n",
      "label             NoRisk\n",
      "Name: 165, dtype: object\n",
      "168 Random          0.518376\n",
      "Id                103404\n",
      "Indication           A-F\n",
      "Diabetes              no\n",
      "IHD                   no\n",
      "Hypertension          no\n",
      "Arrhythmia            no\n",
      "History               no\n",
      "IPSI                  70\n",
      "Contra               20 \n",
      "label             NoRisk\n",
      "Name: 168, dtype: object\n",
      "174 Random          0.294242\n",
      "Id                285399\n",
      "Indication           A-F\n",
      "Diabetes              no\n",
      "IHD                   no\n",
      "Hypertension          no\n",
      "Arrhythmia            no\n",
      "History               no\n",
      "IPSI                  95\n",
      "Contra               20 \n",
      "label             NoRisk\n",
      "Name: 174, dtype: object\n",
      "183 Random          0.0788062\n",
      "Id                 159112\n",
      "Indication            A-F\n",
      "Diabetes               no\n",
      "IHD                    no\n",
      "Hypertension           no\n",
      "Arrhythmia             no\n",
      "History                no\n",
      "IPSI                   75\n",
      "Contra                55 \n",
      "label              NoRisk\n",
      "Name: 183, dtype: object\n",
      "189 Random          0.46672\n",
      "Id               220654\n",
      "Indication          A-F\n",
      "Diabetes             no\n",
      "IHD                  no\n",
      "Hypertension         no\n",
      "Arrhythmia           no\n",
      "History              no\n",
      "IPSI                 70\n",
      "Contra              20 \n",
      "label            NoRisk\n",
      "Name: 189, dtype: object\n",
      "195 Random          0.999448\n",
      "Id                252619\n",
      "Indication           A-F\n",
      "Diabetes              no\n",
      "IHD                   no\n",
      "Hypertension         yes\n",
      "Arrhythmia            no\n",
      "History               no\n",
      "IPSI                  75\n",
      "Contra               15 \n",
      "label             NoRisk\n",
      "Name: 195, dtype: object\n",
      "204 Random          0.494045\n",
      "Id                 82389\n",
      "Indication           A-F\n",
      "Diabetes              no\n",
      "IHD                   no\n",
      "Hypertension          no\n",
      "Arrhythmia            no\n",
      "History               no\n",
      "IPSI                  75\n",
      "Contra               30 \n",
      "label             NoRisk\n",
      "Name: 204, dtype: object\n",
      "210 Random          0.865075\n",
      "Id                289693\n",
      "Indication           A-F\n",
      "Diabetes              no\n",
      "IHD                   no\n",
      "Hypertension          no\n",
      "Arrhythmia            no\n",
      "History               no\n",
      "IPSI                  80\n",
      "Contra               20 \n",
      "label             NoRisk\n",
      "Name: 210, dtype: object\n",
      "248 Random          0.137124\n",
      "Id                 94602\n",
      "Indication           A-F\n",
      "Diabetes              no\n",
      "IHD                   no\n",
      "Hypertension          no\n",
      "Arrhythmia            no\n",
      "History               no\n",
      "IPSI                  82\n",
      "Contra               30 \n",
      "label             NoRisk\n",
      "Name: 248, dtype: object\n",
      "251 Random          0.488465\n",
      "Id                160234\n",
      "Indication           A-F\n",
      "Diabetes              no\n",
      "IHD                   no\n",
      "Hypertension         yes\n",
      "Arrhythmia            no\n",
      "History               no\n",
      "IPSI                  70\n",
      "Contra               50 \n",
      "label             NoRisk\n",
      "Name: 251, dtype: object\n",
      "255 Random          0.232893\n",
      "Id                177278\n",
      "Indication           A-F\n",
      "Diabetes              no\n",
      "IHD                   no\n",
      "Hypertension          no\n",
      "Arrhythmia            no\n",
      "History               no\n",
      "IPSI                  74\n",
      "Contra               50 \n",
      "label             NoRisk\n",
      "Name: 255, dtype: object\n",
      "256 Random          0.08949\n",
      "Id               196788\n",
      "Indication          A-F\n",
      "Diabetes             no\n",
      "IHD                  no\n",
      "Hypertension         no\n",
      "Arrhythmia           no\n",
      "History              no\n",
      "IPSI                 70\n",
      "Contra              20 \n",
      "label            NoRisk\n",
      "Name: 256, dtype: object\n",
      "258 Random          0.773133\n",
      "Id                290877\n",
      "Indication           A-F\n",
      "Diabetes              no\n",
      "IHD                   no\n",
      "Hypertension         yes\n",
      "Arrhythmia            no\n",
      "History               no\n",
      "IPSI                  75\n",
      "Contra               15 \n",
      "label             NoRisk\n",
      "Name: 258, dtype: object\n",
      "265 Random          0.413304\n",
      "Id                293485\n",
      "Indication           A-F\n",
      "Diabetes              no\n",
      "IHD                   no\n",
      "Hypertension         yes\n",
      "Arrhythmia            no\n",
      "History               no\n",
      "IPSI                  90\n",
      "Contra               20 \n",
      "label             NoRisk\n",
      "Name: 265, dtype: object\n",
      "288 Random          0.992049\n",
      "Id                270620\n",
      "Indication           A-F\n",
      "Diabetes              no\n",
      "IHD                   no\n",
      "Hypertension          no\n",
      "Arrhythmia            no\n",
      "History               no\n",
      "IPSI                  75\n",
      "Contra               75 \n",
      "label             NoRisk\n",
      "Name: 288, dtype: object\n",
      "289 Random          0.353361\n",
      "Id                256225\n",
      "Indication           A-F\n",
      "Diabetes              no\n",
      "IHD                   no\n",
      "Hypertension         yes\n",
      "Arrhythmia            no\n",
      "History               no\n",
      "IPSI                  70\n",
      "Contra               20 \n",
      "label             NoRisk\n",
      "Name: 289, dtype: object\n",
      "290 Random          0.041789\n",
      "Id                284648\n",
      "Indication           A-F\n",
      "Diabetes              no\n",
      "IHD                   no\n",
      "Hypertension          no\n",
      "Arrhythmia            no\n",
      "History               no\n",
      "IPSI                  75\n",
      "Contra               75 \n",
      "label             NoRisk\n",
      "Name: 290, dtype: object\n",
      "298 Random          0.718998\n",
      "Id                269089\n",
      "Indication           A-F\n",
      "Diabetes              no\n",
      "IHD                   no\n",
      "Hypertension          no\n",
      "Arrhythmia            no\n",
      "History               no\n",
      "IPSI                  67\n",
      "Contra               50 \n",
      "label             NoRisk\n",
      "Name: 298, dtype: object\n",
      "346 Random          0.786103\n",
      "Id                214933\n",
      "Indication           A-F\n",
      "Diabetes              no\n",
      "IHD                   no\n",
      "Hypertension          no\n",
      "Arrhythmia            no\n",
      "History               no\n",
      "IPSI                  70\n",
      "Contra               20 \n",
      "label             NoRisk\n",
      "Name: 346, dtype: object\n",
      "359 Random          0.670643\n",
      "Id                269478\n",
      "Indication           A-F\n",
      "Diabetes              no\n",
      "IHD                   no\n",
      "Hypertension         yes\n",
      "Arrhythmia            no\n",
      "History               no\n",
      "IPSI                  76\n",
      "Contra               50 \n",
      "label             NoRisk\n",
      "Name: 359, dtype: object\n",
      "360 Random          0.40438\n",
      "Id               260070\n",
      "Indication          A-F\n",
      "Diabetes             no\n",
      "IHD                  no\n",
      "Hypertension         no\n",
      "Arrhythmia           no\n",
      "History              no\n",
      "IPSI                 80\n",
      "Contra              25 \n",
      "label            NoRisk\n",
      "Name: 360, dtype: object\n",
      "377 Random          0.541352\n",
      "Id                157090\n",
      "Indication           A-F\n",
      "Diabetes              no\n",
      "IHD                   no\n",
      "Hypertension         yes\n",
      "Arrhythmia            no\n",
      "History               no\n",
      "IPSI                  75\n",
      "Contra               40 \n",
      "label             NoRisk\n",
      "Name: 377, dtype: object\n",
      "380 Random          0.435305\n",
      "Id                206386\n",
      "Indication           A-F\n",
      "Diabetes              no\n",
      "IHD                   no\n",
      "Hypertension          no\n",
      "Arrhythmia            no\n",
      "History               no\n",
      "IPSI                  75\n",
      "Contra               55 \n",
      "label             NoRisk\n",
      "Name: 380, dtype: object\n",
      "391 Random          0.789513\n",
      "Id                109981\n",
      "Indication           A-F\n",
      "Diabetes              no\n",
      "IHD                   no\n",
      "Hypertension          no\n",
      "Arrhythmia            no\n",
      "History               no\n",
      "IPSI                  70\n",
      "Contra               30 \n",
      "label             NoRisk\n",
      "Name: 391, dtype: object\n",
      "393 Random          0.908471\n",
      "Id                174139\n",
      "Indication           A-F\n",
      "Diabetes              no\n",
      "IHD                   no\n",
      "Hypertension         yes\n",
      "Arrhythmia            no\n",
      "History               no\n",
      "IPSI                  70\n",
      "Contra               20 \n",
      "label             NoRisk\n",
      "Name: 393, dtype: object\n",
      "398 Random          0.948053\n",
      "Id                176161\n",
      "Indication           A-F\n",
      "Diabetes              no\n",
      "IHD                   no\n",
      "Hypertension          no\n",
      "Arrhythmia            no\n",
      "History               no\n",
      "IPSI                  70\n",
      "Contra               10 \n",
      "label             NoRisk\n",
      "Name: 398, dtype: object\n",
      "409 Random          0.289104\n",
      "Id                286731\n",
      "Indication           A-F\n",
      "Diabetes              no\n",
      "IHD                   no\n",
      "Hypertension         yes\n",
      "Arrhythmia            no\n",
      "History               no\n",
      "IPSI                  70\n",
      "Contra               20 \n",
      "label             NoRisk\n",
      "Name: 409, dtype: object\n",
      "421 Random          0.393409\n",
      "Id                279706\n",
      "Indication           A-F\n",
      "Diabetes              no\n",
      "IHD                   no\n",
      "Hypertension          no\n",
      "Arrhythmia            no\n",
      "History               no\n",
      "IPSI                  75\n",
      "Contra               75 \n",
      "label             NoRisk\n",
      "Name: 421, dtype: object\n",
      "437 Random          0.425631\n",
      "Id                115959\n",
      "Indication           A-F\n",
      "Diabetes              no\n",
      "IHD                   no\n",
      "Hypertension          no\n",
      "Arrhythmia            no\n",
      "History               no\n",
      "IPSI                  80\n",
      "Contra               80 \n",
      "label             NoRisk\n",
      "Name: 437, dtype: object\n",
      "451 Random          0.0279059\n",
      "Id                 194348\n",
      "Indication            A-F\n",
      "Diabetes               no\n",
      "IHD                    no\n",
      "Hypertension           no\n",
      "Arrhythmia             no\n",
      "History                no\n",
      "IPSI                   90\n",
      "Contra                50 \n",
      "label              NoRisk\n",
      "Name: 451, dtype: object\n",
      "458 Random          0.986505\n",
      "Id                179583\n",
      "Indication           A-F\n",
      "Diabetes              no\n",
      "IHD                   no\n",
      "Hypertension          no\n",
      "Arrhythmia            no\n",
      "History               no\n",
      "IPSI                  95\n",
      "Contra               20 \n",
      "label             NoRisk\n",
      "Name: 458, dtype: object\n",
      "471 Random          0.154671\n",
      "Id                193531\n",
      "Indication           A-F\n",
      "Diabetes              no\n",
      "IHD                   no\n",
      "Hypertension         yes\n",
      "Arrhythmia            no\n",
      "History               no\n",
      "IPSI                  80\n",
      "Contra               40 \n",
      "label             NoRisk\n",
      "Name: 471, dtype: object\n",
      "476 Random          0.949212\n",
      "Id                293228\n",
      "Indication           A-F\n",
      "Diabetes              no\n",
      "IHD                   no\n",
      "Hypertension         yes\n",
      "Arrhythmia            no\n",
      "History               no\n",
      "IPSI                  75\n",
      "Contra               25 \n",
      "label             NoRisk\n",
      "Name: 476, dtype: object\n",
      "491 Random          0.781917\n",
      "Id                231753\n",
      "Indication           A-F\n",
      "Diabetes              no\n",
      "IHD                   no\n",
      "Hypertension          no\n",
      "Arrhythmia            no\n",
      "History               no\n",
      "IPSI                  80\n",
      "Contra               25 \n",
      "label             NoRisk\n",
      "Name: 491, dtype: object\n",
      "496 Random          0.123558\n",
      "Id                113364\n",
      "Indication           A-F\n",
      "Diabetes              no\n",
      "IHD                   no\n",
      "Hypertension          no\n",
      "Arrhythmia            no\n",
      "History               no\n",
      "IPSI                  70\n",
      "Contra               10 \n",
      "label             NoRisk\n",
      "Name: 496, dtype: object\n",
      "502 Random          0.922128\n",
      "Id                283381\n",
      "Indication           A-F\n",
      "Diabetes              no\n",
      "IHD                   no\n",
      "Hypertension          no\n",
      "Arrhythmia            no\n",
      "History               no\n",
      "IPSI                  95\n",
      "Contra               20 \n",
      "label             NoRisk\n",
      "Name: 502, dtype: object\n",
      "514 Random          0.39213\n",
      "Id               210861\n",
      "Indication          A-F\n",
      "Diabetes             no\n",
      "IHD                  no\n",
      "Hypertension        yes\n",
      "Arrhythmia           no\n",
      "History              no\n",
      "IPSI                 80\n",
      "Contra               40\n",
      "label            NoRisk\n",
      "Name: 514, dtype: object\n",
      "518 Random          0.899854\n",
      "Id                200443\n",
      "Indication           A-F\n",
      "Diabetes              no\n",
      "IHD                   no\n",
      "Hypertension          no\n",
      "Arrhythmia            no\n",
      "History               no\n",
      "IPSI                  80\n",
      "Contra               25 \n",
      "label             NoRisk\n",
      "Name: 518, dtype: object\n",
      "519 Random          0.466429\n",
      "Id                139960\n",
      "Indication           A-F\n",
      "Diabetes              no\n",
      "IHD                   no\n",
      "Hypertension          no\n",
      "Arrhythmia            no\n",
      "History               no\n",
      "IPSI                  82\n",
      "Contra               30 \n",
      "label             NoRisk\n",
      "Name: 519, dtype: object\n",
      "522 Random          0.233506\n",
      "Id                206914\n",
      "Indication           A-F\n",
      "Diabetes              no\n",
      "IHD                   no\n",
      "Hypertension          no\n",
      "Arrhythmia            no\n",
      "History               no\n",
      "IPSI                  75\n",
      "Contra               55 \n",
      "label             NoRisk\n",
      "Name: 522, dtype: object\n",
      "531 Random          0.193085\n",
      "Id                 83445\n",
      "Indication           A-F\n",
      "Diabetes              no\n",
      "IHD                   no\n",
      "Hypertension          no\n",
      "Arrhythmia            no\n",
      "History               no\n",
      "IPSI                  90\n",
      "Contra               30 \n",
      "label             NoRisk\n",
      "Name: 531, dtype: object\n",
      "535 Random          0.749269\n",
      "Id                151797\n",
      "Indication           A-F\n",
      "Diabetes              no\n",
      "IHD                   no\n",
      "Hypertension         yes\n",
      "Arrhythmia            no\n",
      "History               no\n",
      "IPSI                  78\n",
      "Contra               20 \n",
      "label             NoRisk\n",
      "Name: 535, dtype: object\n",
      "556 Random          0.443778\n",
      "Id                291302\n",
      "Indication           A-F\n",
      "Diabetes              no\n",
      "IHD                   no\n",
      "Hypertension          no\n",
      "Arrhythmia            no\n",
      "History               no\n",
      "IPSI                  75\n",
      "Contra               30 \n",
      "label             NoRisk\n",
      "Name: 556, dtype: object\n",
      "557 Random          0.467964\n",
      "Id                177938\n",
      "Indication           A-F\n",
      "Diabetes              no\n",
      "IHD                   no\n",
      "Hypertension          no\n",
      "Arrhythmia            no\n",
      "History               no\n",
      "IPSI                  75\n",
      "Contra               75 \n",
      "label             NoRisk\n",
      "Name: 557, dtype: object\n",
      "578 Random          0.32558\n",
      "Id               206570\n",
      "Indication          A-F\n",
      "Diabetes             no\n",
      "IHD                  no\n",
      "Hypertension        yes\n",
      "Arrhythmia           no\n",
      "History              no\n",
      "IPSI                 78\n",
      "Contra              20 \n",
      "label            NoRisk\n",
      "Name: 578, dtype: object\n",
      "583 Random          0.963443\n",
      "Id                170269\n",
      "Indication           A-F\n",
      "Diabetes              no\n",
      "IHD                   no\n",
      "Hypertension          no\n",
      "Arrhythmia            no\n",
      "History               no\n",
      "IPSI                  70\n",
      "Contra               20 \n",
      "label             NoRisk\n",
      "Name: 583, dtype: object\n",
      "587 Random          0.635806\n",
      "Id                150466\n",
      "Indication           A-F\n",
      "Diabetes              no\n",
      "IHD                   no\n",
      "Hypertension          no\n",
      "Arrhythmia            no\n",
      "History               no\n",
      "IPSI                  78\n",
      "Contra               30 \n",
      "label             NoRisk\n",
      "Name: 587, dtype: object\n",
      "588 Random          0.535685\n",
      "Id                291883\n",
      "Indication           A-F\n",
      "Diabetes              no\n",
      "IHD                   no\n",
      "Hypertension          no\n",
      "Arrhythmia            no\n",
      "History               no\n",
      "IPSI                  95\n",
      "Contra               20 \n",
      "label             NoRisk\n",
      "Name: 588, dtype: object\n",
      "590 Random          0.70795\n",
      "Id               289096\n",
      "Indication          A-F\n",
      "Diabetes             no\n",
      "IHD                  no\n",
      "Hypertension        NaN\n",
      "Arrhythmia           no\n",
      "History              no\n",
      "IPSI                 78\n",
      "Contra               30\n",
      "label            NoRisk\n",
      "Name: 590, dtype: object\n",
      "616 Random          0.699413\n",
      "Id                179887\n",
      "Indication           A-F\n",
      "Diabetes              no\n",
      "IHD                   no\n",
      "Hypertension         yes\n",
      "Arrhythmia            no\n",
      "History               no\n",
      "IPSI                  75\n",
      "Contra               15 \n",
      "label             NoRisk\n",
      "Name: 616, dtype: object\n",
      "622 Random          0.887001\n",
      "Id                277750\n",
      "Indication           A-F\n",
      "Diabetes              no\n",
      "IHD                   no\n",
      "Hypertension          no\n",
      "Arrhythmia            no\n",
      "History               no\n",
      "IPSI                  82\n",
      "Contra               30 \n",
      "label             NoRisk\n",
      "Name: 622, dtype: object\n",
      "623 Random          0.739061\n",
      "Id                257646\n",
      "Indication           A-F\n",
      "Diabetes              no\n",
      "IHD                   no\n",
      "Hypertension          no\n",
      "Arrhythmia            no\n",
      "History               no\n",
      "IPSI                  95\n",
      "Contra               20 \n",
      "label             NoRisk\n",
      "Name: 623, dtype: object\n",
      "624 Random          0.675896\n",
      "Id                277476\n",
      "Indication           A-F\n",
      "Diabetes              no\n",
      "IHD                   no\n",
      "Hypertension         yes\n",
      "Arrhythmia            no\n",
      "History               no\n",
      "IPSI                  78\n",
      "Contra               20 \n",
      "label             NoRisk\n",
      "Name: 624, dtype: object\n",
      "631 Random          0.200015\n",
      "Id                173608\n",
      "Indication           A-F\n",
      "Diabetes              no\n",
      "IHD                   no\n",
      "Hypertension          no\n",
      "Arrhythmia            no\n",
      "History               no\n",
      "IPSI                  90\n",
      "Contra               65 \n",
      "label             NoRisk\n",
      "Name: 631, dtype: object\n",
      "636 Random          0.959368\n",
      "Id                213420\n",
      "Indication           A-F\n",
      "Diabetes              no\n",
      "IHD                   no\n",
      "Hypertension          no\n",
      "Arrhythmia            no\n",
      "History               no\n",
      "IPSI                  90\n",
      "Contra               50 \n",
      "label             NoRisk\n",
      "Name: 636, dtype: object\n",
      "651 Random          0.607569\n",
      "Id                207888\n",
      "Indication           A-F\n",
      "Diabetes              no\n",
      "IHD                   no\n",
      "Hypertension         yes\n",
      "Arrhythmia            no\n",
      "History               no\n",
      "IPSI                  78\n",
      "Contra               20 \n",
      "label             NoRisk\n",
      "Name: 651, dtype: object\n",
      "674 Random          0.213181\n",
      "Id                115776\n",
      "Indication           A-F\n",
      "Diabetes              no\n",
      "IHD                   no\n",
      "Hypertension         yes\n",
      "Arrhythmia            no\n",
      "History               no\n",
      "IPSI                  76\n",
      "Contra               50 \n",
      "label             NoRisk\n",
      "Name: 674, dtype: object\n",
      "691 Random          0.783547\n",
      "Id                171351\n",
      "Indication           A-F\n",
      "Diabetes              no\n",
      "IHD                   no\n",
      "Hypertension          no\n",
      "Arrhythmia            no\n",
      "History               no\n",
      "IPSI                  70\n",
      "Contra               30 \n",
      "label             NoRisk\n",
      "Name: 691, dtype: object\n",
      "695 Random          0.282672\n",
      "Id                116716\n",
      "Indication           A-F\n",
      "Diabetes              no\n",
      "IHD                   no\n",
      "Hypertension          no\n",
      "Arrhythmia            no\n",
      "History               no\n",
      "IPSI                  75\n",
      "Contra               40 \n",
      "label             NoRisk\n",
      "Name: 695, dtype: object\n",
      "698 Random          0.774117\n",
      "Id                175354\n",
      "Indication           A-F\n",
      "Diabetes              no\n",
      "IHD                   no\n",
      "Hypertension          no\n",
      "Arrhythmia            no\n",
      "History               no\n",
      "IPSI                  80\n",
      "Contra               20 \n",
      "label             NoRisk\n",
      "Name: 698, dtype: object\n",
      "701 Random          0.70672\n",
      "Id               164126\n",
      "Indication          A-F\n",
      "Diabetes             no\n",
      "IHD                  no\n",
      "Hypertension         no\n",
      "Arrhythmia           no\n",
      "History              no\n",
      "IPSI                 74\n",
      "Contra              50 \n",
      "label            NoRisk\n",
      "Name: 701, dtype: object\n",
      "719 Random          0.363975\n",
      "Id                184114\n",
      "Indication           A-F\n",
      "Diabetes              no\n",
      "IHD                   no\n",
      "Hypertension          no\n",
      "Arrhythmia            no\n",
      "History               no\n",
      "IPSI                  70\n",
      "Contra               20 \n",
      "label             NoRisk\n",
      "Name: 719, dtype: object\n",
      "726 Random          0.138694\n",
      "Id                 94472\n",
      "Indication           A-F\n",
      "Diabetes              no\n",
      "IHD                   no\n",
      "Hypertension          no\n",
      "Arrhythmia            no\n",
      "History               no\n",
      "IPSI                  78\n",
      "Contra               30 \n",
      "label             NoRisk\n",
      "Name: 726, dtype: object\n",
      "775 Random          0.880938\n",
      "Id                289651\n",
      "Indication           A-F\n",
      "Diabetes              no\n",
      "IHD                   no\n",
      "Hypertension         yes\n",
      "Arrhythmia            no\n",
      "History               no\n",
      "IPSI                  75\n",
      "Contra               25 \n",
      "label             NoRisk\n",
      "Name: 775, dtype: object\n",
      "776 Random          0.111199\n",
      "Id                274798\n",
      "Indication           A-F\n",
      "Diabetes              no\n",
      "IHD                   no\n",
      "Hypertension          no\n",
      "Arrhythmia            no\n",
      "History               no\n",
      "IPSI                  90\n",
      "Contra               30 \n",
      "label             NoRisk\n",
      "Name: 776, dtype: object\n",
      "779 Random          0.576546\n",
      "Id                164132\n",
      "Indication           A-F\n",
      "Diabetes              no\n",
      "IHD                   no\n",
      "Hypertension          no\n",
      "Arrhythmia            no\n",
      "History               no\n",
      "IPSI                  75\n",
      "Contra               40 \n",
      "label             NoRisk\n",
      "Name: 779, dtype: object\n",
      "798 Random          0.834708\n",
      "Id                160394\n",
      "Indication           A-F\n",
      "Diabetes              no\n",
      "IHD                   no\n",
      "Hypertension          no\n",
      "Arrhythmia            no\n",
      "History               no\n",
      "IPSI                  70\n",
      "Contra               20 \n",
      "label             NoRisk\n",
      "Name: 798, dtype: object\n",
      "801 Random          0.857529\n",
      "Id                261144\n",
      "Indication           A-F\n",
      "Diabetes              no\n",
      "IHD                   no\n",
      "Hypertension          no\n",
      "Arrhythmia            no\n",
      "History               no\n",
      "IPSI                  80\n",
      "Contra               25 \n",
      "label             NoRisk\n",
      "Name: 801, dtype: object\n",
      "813 Random          0.718791\n",
      "Id                174240\n",
      "Indication           A-F\n",
      "Diabetes              no\n",
      "IHD                   no\n",
      "Hypertension          no\n",
      "Arrhythmia            no\n",
      "History               no\n",
      "IPSI                  90\n",
      "Contra               50 \n",
      "label             NoRisk\n",
      "Name: 813, dtype: object\n",
      "827 Random          0.0186236\n",
      "Id                 204686\n",
      "Indication            A-F\n",
      "Diabetes               no\n",
      "IHD                    no\n",
      "Hypertension           no\n",
      "Arrhythmia             no\n",
      "History                no\n",
      "IPSI                   80\n",
      "Contra                80 \n",
      "label              NoRisk\n",
      "Name: 827, dtype: object\n",
      "838 Random          0.805671\n",
      "Id                294645\n",
      "Indication           A-F\n",
      "Diabetes              no\n",
      "IHD                   no\n",
      "Hypertension          no\n",
      "Arrhythmia            no\n",
      "History               no\n",
      "IPSI                  95\n",
      "Contra               20 \n",
      "label             NoRisk\n",
      "Name: 838, dtype: object\n",
      "858 Random          0.326783\n",
      "Id                250770\n",
      "Indication           A-F\n",
      "Diabetes              no\n",
      "IHD                   no\n",
      "Hypertension          no\n",
      "Arrhythmia            no\n",
      "History               no\n",
      "IPSI                  75\n",
      "Contra               40 \n",
      "label             NoRisk\n",
      "Name: 858, dtype: object\n",
      "860 Random          0.107019\n",
      "Id                186774\n",
      "Indication           A-F\n",
      "Diabetes              no\n",
      "IHD                   no\n",
      "Hypertension          no\n",
      "Arrhythmia            no\n",
      "History               no\n",
      "IPSI                  80\n",
      "Contra               80 \n",
      "label             NoRisk\n",
      "Name: 860, dtype: object\n",
      "886 Random          0.19978\n",
      "Id               186030\n",
      "Indication          A-F\n",
      "Diabetes             no\n",
      "IHD                  no\n",
      "Hypertension        yes\n",
      "Arrhythmia           no\n",
      "History              no\n",
      "IPSI                 80\n",
      "Contra              40 \n",
      "label            NoRisk\n",
      "Name: 886, dtype: object\n",
      "898 Random          0.645483\n",
      "Id                152809\n",
      "Indication           A-F\n",
      "Diabetes              no\n",
      "IHD                   no\n",
      "Hypertension          no\n",
      "Arrhythmia            no\n",
      "History               no\n",
      "IPSI                  70\n",
      "Contra               20 \n",
      "label             NoRisk\n",
      "Name: 898, dtype: object\n",
      "914 Random          0.797723\n",
      "Id                223035\n",
      "Indication           A-F\n",
      "Diabetes              no\n",
      "IHD                   no\n",
      "Hypertension          no\n",
      "Arrhythmia            no\n",
      "History               no\n",
      "IPSI                  80\n",
      "Contra               25 \n",
      "label             NoRisk\n",
      "Name: 914, dtype: object\n",
      "916 Random          0.272243\n",
      "Id                281679\n",
      "Indication           A-F\n",
      "Diabetes              no\n",
      "IHD                   no\n",
      "Hypertension          no\n",
      "Arrhythmia            no\n",
      "History               no\n",
      "IPSI                 NaN\n",
      "Contra                50\n",
      "label             NoRisk\n",
      "Name: 916, dtype: object\n",
      "918 Random          0.692482\n",
      "Id                247226\n",
      "Indication           A-F\n",
      "Diabetes              no\n",
      "IHD                   no\n",
      "Hypertension         yes\n",
      "Arrhythmia            no\n",
      "History               no\n",
      "IPSI                  80\n",
      "Contra               40 \n",
      "label             NoRisk\n",
      "Name: 918, dtype: object\n",
      "933 Random          0.26529\n",
      "Id               189924\n",
      "Indication          A-F\n",
      "Diabetes             no\n",
      "IHD                  no\n",
      "Hypertension         no\n",
      "Arrhythmia           no\n",
      "History              no\n",
      "IPSI                 90\n",
      "Contra              30 \n",
      "label            NoRisk\n",
      "Name: 933, dtype: object\n",
      "937 Random          0.601496\n",
      "Id                290767\n",
      "Indication           A-F\n",
      "Diabetes              no\n",
      "IHD                   no\n",
      "Hypertension         yes\n",
      "Arrhythmia            no\n",
      "History               no\n",
      "IPSI                  75\n",
      "Contra               75 \n",
      "label             NoRisk\n",
      "Name: 937, dtype: object\n",
      "939 Random          0.981013\n",
      "Id                210302\n",
      "Indication           A-F\n",
      "Diabetes              no\n",
      "IHD                   no\n",
      "Hypertension          no\n",
      "Arrhythmia            no\n",
      "History               no\n",
      "IPSI                  70\n",
      "Contra               50 \n",
      "label             NoRisk\n",
      "Name: 939, dtype: object\n",
      "949 Random          0.391715\n",
      "Id                 79960\n",
      "Indication           A-F\n",
      "Diabetes              no\n",
      "IHD                   no\n",
      "Hypertension         yes\n",
      "Arrhythmia            no\n",
      "History               no\n",
      "IPSI                  50\n",
      "Contra               30 \n",
      "label             NoRisk\n",
      "Name: 949, dtype: object\n",
      "951 Random          0.862076\n",
      "Id                207843\n",
      "Indication           A-F\n",
      "Diabetes              no\n",
      "IHD                   no\n",
      "Hypertension          no\n",
      "Arrhythmia            no\n",
      "History               no\n",
      "IPSI                  95\n",
      "Contra               20 \n",
      "label             NoRisk\n",
      "Name: 951, dtype: object\n",
      "953 Random          0.790948\n",
      "Id                172813\n",
      "Indication           A-F\n",
      "Diabetes              no\n",
      "IHD                   no\n",
      "Hypertension          no\n",
      "Arrhythmia            no\n",
      "History               no\n",
      "IPSI                  85\n",
      "Contra               75 \n",
      "label             NoRisk\n",
      "Name: 953, dtype: object\n",
      "978 Random          0.945818\n",
      "Id                166983\n",
      "Indication           A-F\n",
      "Diabetes              no\n",
      "IHD                   no\n",
      "Hypertension          no\n",
      "Arrhythmia            no\n",
      "History               no\n",
      "IPSI                  85\n",
      "Contra               75 \n",
      "label             NoRisk\n",
      "Name: 978, dtype: object\n",
      "998 Random          0.143849\n",
      "Id                280836\n",
      "Indication           A-F\n",
      "Diabetes              no\n",
      "IHD                   no\n",
      "Hypertension          no\n",
      "Arrhythmia            no\n",
      "History               no\n",
      "IPSI                  90\n",
      "Contra               50 \n",
      "label             NoRisk\n",
      "Name: 998, dtype: object\n",
      "1008 Random          0.0622615\n",
      "Id                 161709\n",
      "Indication            A-F\n",
      "Diabetes               no\n",
      "IHD                    no\n",
      "Hypertension          yes\n",
      "Arrhythmia             no\n",
      "History                no\n",
      "IPSI                   75\n",
      "Contra                15 \n",
      "label              NoRisk\n",
      "Name: 1008, dtype: object\n",
      "1015 Random          0.885583\n",
      "Id                150332\n",
      "Indication           A-F\n",
      "Diabetes              no\n",
      "IHD                   no\n",
      "Hypertension          no\n",
      "Arrhythmia            no\n",
      "History               no\n",
      "IPSI                  90\n",
      "Contra               50 \n",
      "label             NoRisk\n",
      "Name: 1015, dtype: object\n",
      "1022 Random          0.635389\n",
      "Id                196353\n",
      "Indication           A-F\n",
      "Diabetes              no\n",
      "IHD                   no\n",
      "Hypertension          no\n",
      "Arrhythmia            no\n",
      "History               no\n",
      "IPSI                  75\n",
      "Contra               75 \n",
      "label             NoRisk\n",
      "Name: 1022, dtype: object\n",
      "1026 Random          0.193237\n",
      "Id                172990\n",
      "Indication           A-F\n",
      "Diabetes              no\n",
      "IHD                   no\n",
      "Hypertension          no\n",
      "Arrhythmia            no\n",
      "History               no\n",
      "IPSI                  70\n",
      "Contra               50 \n",
      "label             NoRisk\n",
      "Name: 1026, dtype: object\n",
      "1030 Random          0.187577\n",
      "Id                286940\n",
      "Indication           A-F\n",
      "Diabetes              no\n",
      "IHD                   no\n",
      "Hypertension          no\n",
      "Arrhythmia            no\n",
      "History               no\n",
      "IPSI                  90\n",
      "Contra               85 \n",
      "label             NoRisk\n",
      "Name: 1030, dtype: object\n",
      "1033 Random          0.46252\n",
      "Id               104433\n",
      "Indication          A-F\n",
      "Diabetes             no\n",
      "IHD                  no\n",
      "Hypertension         no\n",
      "Arrhythmia           no\n",
      "History              no\n",
      "IPSI                 75\n",
      "Contra              55 \n",
      "label            NoRisk\n",
      "Name: 1033, dtype: object\n",
      "1038 Random          0.718759\n",
      "Id                141608\n",
      "Indication           A-F\n",
      "Diabetes              no\n",
      "IHD                   no\n",
      "Hypertension          no\n",
      "Arrhythmia            no\n",
      "History               no\n",
      "IPSI                  80\n",
      "Contra               80 \n",
      "label             NoRisk\n",
      "Name: 1038, dtype: object\n",
      "1041 Random          0.890516\n",
      "Id                 83931\n",
      "Indication           A-F\n",
      "Diabetes              no\n",
      "IHD                   no\n",
      "Hypertension         yes\n",
      "Arrhythmia            no\n",
      "History               no\n",
      "IPSI                  75\n",
      "Contra               75 \n",
      "label             NoRisk\n",
      "Name: 1041, dtype: object\n",
      "1042 Random          0.0508901\n",
      "Id                 217719\n",
      "Indication            A-F\n",
      "Diabetes               no\n",
      "IHD                    no\n",
      "Hypertension           no\n",
      "Arrhythmia             no\n",
      "History                no\n",
      "IPSI                   78\n",
      "Contra                30 \n",
      "label              NoRisk\n",
      "Name: 1042, dtype: object\n",
      "1053 Random          0.514908\n",
      "Id                260857\n",
      "Indication           A-F\n",
      "Diabetes              no\n",
      "IHD                   no\n",
      "Hypertension         yes\n",
      "Arrhythmia            no\n",
      "History               no\n",
      "IPSI                  50\n",
      "Contra               30 \n",
      "label             NoRisk\n",
      "Name: 1053, dtype: object\n",
      "1069 Random          0.869164\n",
      "Id                288792\n",
      "Indication           A-F\n",
      "Diabetes              no\n",
      "IHD                   no\n",
      "Hypertension         yes\n",
      "Arrhythmia            no\n",
      "History               no\n",
      "IPSI                  80\n",
      "Contra               40 \n",
      "label             NoRisk\n",
      "Name: 1069, dtype: object\n",
      "1095 Random          0.473078\n",
      "Id                289968\n",
      "Indication           A-F\n",
      "Diabetes              no\n",
      "IHD                   no\n",
      "Hypertension          no\n",
      "Arrhythmia            no\n",
      "History               no\n",
      "IPSI                  78\n",
      "Contra               30 \n",
      "label             NoRisk\n",
      "Name: 1095, dtype: object\n",
      "1142 Random          0.956457\n",
      "Id                222512\n",
      "Indication           A-F\n",
      "Diabetes              no\n",
      "IHD                   no\n",
      "Hypertension          no\n",
      "Arrhythmia            no\n",
      "History               no\n",
      "IPSI                  75\n",
      "Contra               30 \n",
      "label             NoRisk\n",
      "Name: 1142, dtype: object\n",
      "1144 Random          0.78859\n",
      "Id               252842\n",
      "Indication          A-F\n",
      "Diabetes             no\n",
      "IHD                  no\n",
      "Hypertension         no\n",
      "Arrhythmia           no\n",
      "History              no\n",
      "IPSI                 81\n",
      "Contra              40 \n",
      "label            NoRisk\n",
      "Name: 1144, dtype: object\n",
      "1147 Random          0.813813\n",
      "Id                255808\n",
      "Indication           A-F\n",
      "Diabetes              no\n",
      "IHD                   no\n",
      "Hypertension          no\n",
      "Arrhythmia            no\n",
      "History               no\n",
      "IPSI                  70\n",
      "Contra               50 \n",
      "label             NoRisk\n",
      "Name: 1147, dtype: object\n",
      "1152 Random          0.356881\n",
      "Id                284721\n",
      "Indication           A-F\n",
      "Diabetes              no\n",
      "IHD                   no\n",
      "Hypertension         yes\n",
      "Arrhythmia            no\n",
      "History               no\n",
      "IPSI                  80\n",
      "Contra               40 \n",
      "label             NoRisk\n",
      "Name: 1152, dtype: object\n",
      "1164 Random          0.931235\n",
      "Id                280423\n",
      "Indication           A-F\n",
      "Diabetes              no\n",
      "IHD                   no\n",
      "Hypertension          no\n",
      "Arrhythmia            no\n",
      "History               no\n",
      "IPSI                  74\n",
      "Contra               50 \n",
      "label             NoRisk\n",
      "Name: 1164, dtype: object\n",
      "1169 Random          0.919235\n",
      "Id                170584\n",
      "Indication           A-F\n",
      "Diabetes              no\n",
      "IHD                   no\n",
      "Hypertension          no\n",
      "Arrhythmia            no\n",
      "History               no\n",
      "IPSI                  70\n",
      "Contra               20 \n",
      "label             NoRisk\n",
      "Name: 1169, dtype: object\n",
      "1171 Random          0.876887\n",
      "Id                186832\n",
      "Indication           A-F\n",
      "Diabetes              no\n",
      "IHD                   no\n",
      "Hypertension          no\n",
      "Arrhythmia            no\n",
      "History               no\n",
      "IPSI                  75\n",
      "Contra               40 \n",
      "label             NoRisk\n",
      "Name: 1171, dtype: object\n",
      "1186 Random          0.124276\n",
      "Id                 81500\n",
      "Indication           A-F\n",
      "Diabetes              no\n",
      "IHD                   no\n",
      "Hypertension          no\n",
      "Arrhythmia            no\n",
      "History               no\n",
      "IPSI                  78\n",
      "Contra               30 \n",
      "label             NoRisk\n",
      "Name: 1186, dtype: object\n",
      "1187 Random          0.35783\n",
      "Id                87483\n",
      "Indication          A-F\n",
      "Diabetes             no\n",
      "IHD                  no\n",
      "Hypertension         no\n",
      "Arrhythmia           no\n",
      "History              no\n",
      "IPSI                 70\n",
      "Contra              20 \n",
      "label            NoRisk\n",
      "Name: 1187, dtype: object\n",
      "1192 Random          0.61389\n",
      "Id               195271\n",
      "Indication          A-F\n",
      "Diabetes             no\n",
      "IHD                  no\n",
      "Hypertension         no\n",
      "Arrhythmia           no\n",
      "History              no\n",
      "IPSI                 82\n",
      "Contra              30 \n",
      "label            NoRisk\n",
      "Name: 1192, dtype: object\n",
      "1210 Random          0.854089\n",
      "Id                 86886\n",
      "Indication           A-F\n",
      "Diabetes              no\n",
      "IHD                   no\n",
      "Hypertension          no\n",
      "Arrhythmia            no\n",
      "History               no\n",
      "IPSI                  80\n",
      "Contra               80 \n",
      "label             NoRisk\n",
      "Name: 1210, dtype: object\n",
      "1229 Random          0.116021\n",
      "Id                271634\n",
      "Indication           A-F\n",
      "Diabetes              no\n",
      "IHD                   no\n",
      "Hypertension         yes\n",
      "Arrhythmia            no\n",
      "History               no\n",
      "IPSI                  78\n",
      "Contra               20 \n",
      "label             NoRisk\n",
      "Name: 1229, dtype: object\n",
      "1237 Random          0.50113\n",
      "Id               238543\n",
      "Indication          A-F\n",
      "Diabetes             no\n",
      "IHD                  no\n",
      "Hypertension         no\n",
      "Arrhythmia           no\n",
      "History              no\n",
      "IPSI                 70\n",
      "Contra              20 \n",
      "label            NoRisk\n",
      "Name: 1237, dtype: object\n",
      "1238 Random          0.0525239\n",
      "Id                 115621\n",
      "Indication            A-F\n",
      "Diabetes               no\n",
      "IHD                    no\n",
      "Hypertension           no\n",
      "Arrhythmia             no\n",
      "History                no\n",
      "IPSI                   95\n",
      "Contra                20 \n",
      "label              NoRisk\n",
      "Name: 1238, dtype: object\n",
      "1242 Random          0.0837793\n",
      "Id                 163611\n",
      "Indication            A-F\n",
      "Diabetes               no\n",
      "IHD                    no\n",
      "Hypertension           no\n",
      "Arrhythmia             no\n",
      "History                no\n",
      "IPSI                   95\n",
      "Contra                20 \n",
      "label              NoRisk\n",
      "Name: 1242, dtype: object\n",
      "1253 Random          0.20656\n",
      "Id               275880\n",
      "Indication          A-F\n",
      "Diabetes             no\n",
      "IHD                  no\n",
      "Hypertension         no\n",
      "Arrhythmia           no\n",
      "History              no\n",
      "IPSI                 80\n",
      "Contra              80 \n",
      "label            NoRisk\n",
      "Name: 1253, dtype: object\n",
      "1260 Random          0.914295\n",
      "Id                260096\n",
      "Indication           A-F\n",
      "Diabetes              no\n",
      "IHD                   no\n",
      "Hypertension          no\n",
      "Arrhythmia            no\n",
      "History               no\n",
      "IPSI                  70\n",
      "Contra               20 \n",
      "label             NoRisk\n",
      "Name: 1260, dtype: object\n",
      "1273 Random          0.471192\n",
      "Id                140248\n",
      "Indication           A-F\n",
      "Diabetes              no\n",
      "IHD                   no\n",
      "Hypertension          no\n",
      "Arrhythmia            no\n",
      "History               no\n",
      "IPSI                  75\n",
      "Contra               55 \n",
      "label             NoRisk\n",
      "Name: 1273, dtype: object\n",
      "1286 Random          0.0704014\n",
      "Id                 280444\n",
      "Indication            A-F\n",
      "Diabetes               no\n",
      "IHD                    no\n",
      "Hypertension          yes\n",
      "Arrhythmia             no\n",
      "History                no\n",
      "IPSI                   50\n",
      "Contra                30 \n",
      "label              NoRisk\n",
      "Name: 1286, dtype: object\n",
      "1293 Random          0.611028\n",
      "Id                204370\n",
      "Indication           A-F\n",
      "Diabetes              no\n",
      "IHD                   no\n",
      "Hypertension         yes\n",
      "Arrhythmia            no\n",
      "History               no\n",
      "IPSI                  71\n",
      "Contra               30 \n",
      "label             NoRisk\n",
      "Name: 1293, dtype: object\n",
      "1302 Random          0.428731\n",
      "Id                173164\n",
      "Indication           A-F\n",
      "Diabetes              no\n",
      "IHD                   no\n",
      "Hypertension          no\n",
      "Arrhythmia            no\n",
      "History               no\n",
      "IPSI                  90\n",
      "Contra               30 \n",
      "label             NoRisk\n",
      "Name: 1302, dtype: object\n",
      "1307 Random          0.40642\n",
      "Id               171213\n",
      "Indication          A-F\n",
      "Diabetes             no\n",
      "IHD                  no\n",
      "Hypertension        yes\n",
      "Arrhythmia           no\n",
      "History              no\n",
      "IPSI                 76\n",
      "Contra              50 \n",
      "label            NoRisk\n",
      "Name: 1307, dtype: object\n",
      "1313 Random          0.529634\n",
      "Id                189782\n",
      "Indication           A-F\n",
      "Diabetes              no\n",
      "IHD                   no\n",
      "Hypertension          no\n",
      "Arrhythmia            no\n",
      "History               no\n",
      "IPSI                  78\n",
      "Contra               30 \n",
      "label             NoRisk\n",
      "Name: 1313, dtype: object\n",
      "1319 Random          0.35808\n",
      "Id                92612\n",
      "Indication          A-F\n",
      "Diabetes             no\n",
      "IHD                  no\n",
      "Hypertension         no\n",
      "Arrhythmia           no\n",
      "History              no\n",
      "IPSI                 70\n",
      "Contra              10 \n",
      "label            NoRisk\n",
      "Name: 1319, dtype: object\n",
      "1324 Random          0.0330482\n",
      "Id                  87598\n",
      "Indication            A-F\n",
      "Diabetes               no\n",
      "IHD                    no\n",
      "Hypertension           no\n",
      "Arrhythmia             no\n",
      "History                no\n",
      "IPSI                   70\n",
      "Contra                20 \n",
      "label              NoRisk\n",
      "Name: 1324, dtype: object\n",
      "1325 Random          0.00714475\n",
      "Id                  259072\n",
      "Indication             A-F\n",
      "Diabetes                no\n",
      "IHD                     no\n",
      "Hypertension            no\n",
      "Arrhythmia              no\n",
      "History                 no\n",
      "IPSI                    78\n",
      "Contra                 30 \n",
      "label               NoRisk\n",
      "Name: 1325, dtype: object\n",
      "1326 Random          0.469175\n",
      "Id                170948\n",
      "Indication           A-F\n",
      "Diabetes              no\n",
      "IHD                   no\n",
      "Hypertension         yes\n",
      "Arrhythmia            no\n",
      "History               no\n",
      "IPSI                  78\n",
      "Contra               20 \n",
      "label             NoRisk\n",
      "Name: 1326, dtype: object\n",
      "1327 Random          0.0261269\n",
      "Id                 244296\n",
      "Indication            A-F\n",
      "Diabetes               no\n",
      "IHD                    no\n",
      "Hypertension           no\n",
      "Arrhythmia             no\n",
      "History                no\n",
      "IPSI                   90\n",
      "Contra                30 \n",
      "label              NoRisk\n",
      "Name: 1327, dtype: object\n",
      "1361 Random          0.36203\n",
      "Id               202611\n",
      "Indication          A-F\n",
      "Diabetes             no\n",
      "IHD                  no\n",
      "Hypertension         no\n",
      "Arrhythmia           no\n",
      "History              no\n",
      "IPSI                 75\n",
      "Contra              75 \n",
      "label            NoRisk\n",
      "Name: 1361, dtype: object\n",
      "1374 Random          0.219026\n",
      "Id                286303\n",
      "Indication           A-F\n",
      "Diabetes              no\n",
      "IHD                   no\n",
      "Hypertension          no\n",
      "Arrhythmia            no\n",
      "History               no\n",
      "IPSI                  80\n",
      "Contra               25 \n",
      "label             NoRisk\n",
      "Name: 1374, dtype: object\n",
      "1375 Random          0.374456\n",
      "Id                164340\n",
      "Indication           A-F\n",
      "Diabetes              no\n",
      "IHD                   no\n",
      "Hypertension         yes\n",
      "Arrhythmia            no\n",
      "History               no\n",
      "IPSI                  75\n",
      "Contra               25 \n",
      "label             NoRisk\n",
      "Name: 1375, dtype: object\n",
      "1381 Random          0.627549\n",
      "Id                249991\n",
      "Indication           A-F\n",
      "Diabetes              no\n",
      "IHD                   no\n",
      "Hypertension          no\n",
      "Arrhythmia            no\n",
      "History               no\n",
      "IPSI                  95\n",
      "Contra               20 \n",
      "label             NoRisk\n",
      "Name: 1381, dtype: object\n",
      "1384 Random          0.541892\n",
      "Id                220320\n",
      "Indication           A-F\n",
      "Diabetes              no\n",
      "IHD                   no\n",
      "Hypertension          no\n",
      "Arrhythmia            no\n",
      "History               no\n",
      "IPSI                  81\n",
      "Contra               40 \n",
      "label             NoRisk\n",
      "Name: 1384, dtype: object\n",
      "1392 Random          0.951961\n",
      "Id                 89691\n",
      "Indication           A-F\n",
      "Diabetes              no\n",
      "IHD                   no\n",
      "Hypertension          no\n",
      "Arrhythmia            no\n",
      "History               no\n",
      "IPSI                  78\n",
      "Contra               30 \n",
      "label             NoRisk\n",
      "Name: 1392, dtype: object\n",
      "1400 Random          0.856078\n",
      "Id                109615\n",
      "Indication           A-F\n",
      "Diabetes              no\n",
      "IHD                   no\n",
      "Hypertension         yes\n",
      "Arrhythmia            no\n",
      "History               no\n",
      "IPSI                  76\n",
      "Contra               50 \n",
      "label             NoRisk\n",
      "Name: 1400, dtype: object\n",
      "1411 Random          0.704834\n",
      "Id                248784\n",
      "Indication           A-F\n",
      "Diabetes              no\n",
      "IHD                   no\n",
      "Hypertension          no\n",
      "Arrhythmia            no\n",
      "History               no\n",
      "IPSI                  75\n",
      "Contra               30 \n",
      "label             NoRisk\n",
      "Name: 1411, dtype: object\n",
      "1424 Random          0.856582\n",
      "Id                293534\n",
      "Indication           A-F\n",
      "Diabetes              no\n",
      "IHD                   no\n",
      "Hypertension         yes\n",
      "Arrhythmia            no\n",
      "History               no\n",
      "IPSI                  75\n",
      "Contra               15 \n",
      "label             NoRisk\n",
      "Name: 1424, dtype: object\n",
      "1440 Random          0.697405\n",
      "Id                213550\n",
      "Indication           A-F\n",
      "Diabetes              no\n",
      "IHD                   no\n",
      "Hypertension          no\n",
      "Arrhythmia            no\n",
      "History               no\n",
      "IPSI                  90\n",
      "Contra               65 \n",
      "label             NoRisk\n",
      "Name: 1440, dtype: object\n",
      "1449 Random          0.517545\n",
      "Id                172519\n",
      "Indication           A-F\n",
      "Diabetes              no\n",
      "IHD                   no\n",
      "Hypertension          no\n",
      "Arrhythmia            no\n",
      "History               no\n",
      "IPSI                  82\n",
      "Contra               30 \n",
      "label             NoRisk\n",
      "Name: 1449, dtype: object\n",
      "1456 Random          0.561838\n",
      "Id                186066\n",
      "Indication           A-F\n",
      "Diabetes              no\n",
      "IHD                   no\n",
      "Hypertension         yes\n",
      "Arrhythmia            no\n",
      "History               no\n",
      "IPSI                  78\n",
      "Contra               20 \n",
      "label             NoRisk\n",
      "Name: 1456, dtype: object\n",
      "1461 Random          0.768681\n",
      "Id                167350\n",
      "Indication           A-F\n",
      "Diabetes              no\n",
      "IHD                   no\n",
      "Hypertension          no\n",
      "Arrhythmia            no\n",
      "History               no\n",
      "IPSI                  95\n",
      "Contra               20 \n",
      "label             NoRisk\n",
      "Name: 1461, dtype: object\n",
      "1464 Random          0.380711\n",
      "Id                150464\n",
      "Indication           A-F\n",
      "Diabetes              no\n",
      "IHD                   no\n",
      "Hypertension         yes\n",
      "Arrhythmia            no\n",
      "History               no\n",
      "IPSI                  71\n",
      "Contra               30 \n",
      "label             NoRisk\n",
      "Name: 1464, dtype: object\n",
      "1471 Random          0.3363\n",
      "Id               94033\n",
      "Indication         A-F\n",
      "Diabetes            no\n",
      "IHD                 no\n",
      "Hypertension       yes\n",
      "Arrhythmia          no\n",
      "History             no\n",
      "IPSI                50\n",
      "Contra             30 \n",
      "label           NoRisk\n",
      "Name: 1471, dtype: object\n",
      "1483 Random          0.972796\n",
      "Id                 83632\n",
      "Indication           A-F\n",
      "Diabetes              no\n",
      "IHD                   no\n",
      "Hypertension          no\n",
      "Arrhythmia            no\n",
      "History               no\n",
      "IPSI                  75\n",
      "Contra               55 \n",
      "label             NoRisk\n",
      "Name: 1483, dtype: object\n",
      "1486 Random          0.313941\n",
      "Id                 95434\n",
      "Indication           A-F\n",
      "Diabetes              no\n",
      "IHD                   no\n",
      "Hypertension          no\n",
      "Arrhythmia            no\n",
      "History               no\n",
      "IPSI                  90\n",
      "Contra               50 \n",
      "label             NoRisk\n",
      "Name: 1486, dtype: object\n",
      "1502 Random          0.636996\n",
      "Id                176877\n",
      "Indication           A-F\n",
      "Diabetes              no\n",
      "IHD                   no\n",
      "Hypertension          no\n",
      "Arrhythmia            no\n",
      "History               no\n",
      "IPSI                  74\n",
      "Contra               50 \n",
      "label             NoRisk\n",
      "Name: 1502, dtype: object\n"
     ]
    }
   ],
   "source": [
    "ListHypertension = []\n",
    "for index, row in dataset_second_cleaning.iterrows():\n",
    "    if row['Indication'] == 'A-F' and row['Diabetes'] == 'no' and row['IHD'] == 'no' and row['Arrhythmia'] == 'no' and row['History'] == 'no' and row['label'] == 'NoRisk':\n",
    "        ListHypertension.append(row['Hypertension'])\n",
    "        print(index, row)"
   ]
  },
  {
   "cell_type": "code",
   "execution_count": 110,
   "metadata": {},
   "outputs": [
    {
     "name": "stdout",
     "output_type": "stream",
     "text": [
      "51 117 0\n"
     ]
    }
   ],
   "source": [
    "counterYesHypertension = 0\n",
    "counterNoHypertension = 0\n",
    "counterNANhypertension = 0\n",
    "for item in ListHypertension:\n",
    "    if item == 'yes':\n",
    "        counterYesHypertension = counterYesHypertension + 1\n",
    "    if item == 'no':\n",
    "        counterNoHypertension = counterNoHypertension + 1\n",
    "    if item == 'nan':\n",
    "        counterNANhypertension = counterNANhypertension + 1\n",
    "print(counterYesHypertension, counterNoHypertension, counterNANhypertension)"
   ]
  },
  {
   "cell_type": "code",
   "execution_count": 111,
   "metadata": {},
   "outputs": [
    {
     "data": {
      "image/png": "[encoded data removed]",
      "text/plain": [
       "<Figure size 432x288 with 1 Axes>"
      ]
     },
     "metadata": {},
     "output_type": "display_data"
    }
   ],
   "source": [
    "labels = 'Hypertension Yes', 'Hypertension No', 'Hypertension Null' \n",
    "sizes = [counterYesHypertension, counterNoHypertension, counterNANhypertension]\n",
    "colors = ['gold', 'lightskyblue', 'green']\n",
    "explode = (0, 0, 0)\n",
    "\n",
    "\n",
    "plt.pie(sizes, explode=explode, labels=labels, colors=colors,\n",
    "autopct='%1.1f%%', shadow=False, startangle=140)\n",
    "\n",
    "plt.axis('equal')\n",
    "plt.show()"
   ]
  },
  {
   "cell_type": "code",
   "execution_count": 112,
   "metadata": {},
   "outputs": [
    {
     "name": "stderr",
     "output_type": "stream",
     "text": [
      "C:\\ProgramData\\Anaconda3\\lib\\site-packages\\ipykernel_launcher.py:6: SettingWithCopyWarning: \n",
      "A value is trying to be set on a copy of a slice from a DataFrame\n",
      "\n",
      "See the caveats in the documentation: http://pandas.pydata.org/pandas-docs/stable/user_guide/indexing.html#returning-a-view-versus-a-copy\n",
      "  \n"
     ]
    }
   ],
   "source": [
    "counter = -1\n",
    "for index, row in dataset_second_cleaning.iterrows():\n",
    "    counter = counter + 1\n",
    "    if counter == 590:\n",
    "        z = dataset_second_cleaning.loc[counter, :]\n",
    "        z['Hypertension'] = 'no'\n",
    "        dataset_second_cleaning.loc[counter, :] = z"
   ]
  },
  {
   "cell_type": "code",
   "execution_count": 113,
   "metadata": {},
   "outputs": [],
   "source": [
    "ListHypertension = []\n",
    "for index, row in dataset_second_cleaning.iterrows():\n",
    "    if row['Indication'] == 'TIA' and row['Diabetes'] == 'no' and row['IHD'] == 'no' and row['Arrhythmia'] == 'no' and row['History'] == 'no' and row['label'] == 'NoRisk':\n",
    "        ListHypertension.append(row['Hypertension'])"
   ]
  },
  {
   "cell_type": "code",
   "execution_count": 114,
   "metadata": {},
   "outputs": [
    {
     "name": "stdout",
     "output_type": "stream",
     "text": [
      "76 111 0\n"
     ]
    }
   ],
   "source": [
    "counterYesHypertension = 0\n",
    "counterNoHypertension = 0\n",
    "counterNANhypertension = 0\n",
    "for item in ListHypertension:\n",
    "    if item == 'yes':\n",
    "        counterYesHypertension = counterYesHypertension + 1\n",
    "    if item == 'no':\n",
    "        counterNoHypertension = counterNoHypertension + 1\n",
    "    if item == 'nan':\n",
    "        counterNANhypertension = counterNANhypertension + 1\n",
    "print(counterYesHypertension, counterNoHypertension, counterNANhypertension)"
   ]
  },
  {
   "cell_type": "code",
   "execution_count": 115,
   "metadata": {},
   "outputs": [
    {
     "data": {
      "image/png": "[encoded data removed]",
      "text/plain": [
       "<Figure size 432x288 with 1 Axes>"
      ]
     },
     "metadata": {},
     "output_type": "display_data"
    }
   ],
   "source": [
    "labels = 'Hypertension Yes', 'Hypertension No', 'Hypertension Null' \n",
    "sizes = [counterYesHypertension, counterNoHypertension, counterNANhypertension]\n",
    "colors = ['gold', 'lightskyblue', 'green']\n",
    "explode = (0, 0, 0)\n",
    "\n",
    "\n",
    "plt.pie(sizes, explode=explode, labels=labels, colors=colors,\n",
    "autopct='%1.1f%%', shadow=False, startangle=140)\n",
    "\n",
    "plt.axis('equal')\n",
    "plt.show()"
   ]
  },
  {
   "cell_type": "code",
   "execution_count": 116,
   "metadata": {},
   "outputs": [
    {
     "name": "stderr",
     "output_type": "stream",
     "text": [
      "C:\\ProgramData\\Anaconda3\\lib\\site-packages\\ipykernel_launcher.py:6: SettingWithCopyWarning: \n",
      "A value is trying to be set on a copy of a slice from a DataFrame\n",
      "\n",
      "See the caveats in the documentation: http://pandas.pydata.org/pandas-docs/stable/user_guide/indexing.html#returning-a-view-versus-a-copy\n",
      "  \n"
     ]
    }
   ],
   "source": [
    "counter = -1\n",
    "for index, row in dataset_second_cleaning.iterrows():\n",
    "    counter = counter + 1\n",
    "    if counter == 983:\n",
    "        z = dataset_second_cleaning.loc[counter, :]\n",
    "        z['Hypertension'] = 'no'\n",
    "        dataset_second_cleaning.loc[counter, :] = z"
   ]
  },
  {
   "cell_type": "markdown",
   "metadata": {},
   "source": [
    "In order to fix hypertension I found all the imputes and there location. Once the imputes were located I decided to find all the similiar rows to the given impute rows then use the mode to find the most common output for the hypertension value. Once the mode was found then the given impute for hypertension would be filled with the mode from all the similiar rows in the dataframe."
   ]
  },
  {
   "cell_type": "markdown",
   "metadata": {},
   "source": [
    "### Fixing Arrhythmia Cleaning 2.0"
   ]
  },
  {
   "cell_type": "code",
   "execution_count": 117,
   "metadata": {},
   "outputs": [
    {
     "data": {
      "text/plain": [
       "<seaborn.axisgrid.FacetGrid at 0x1f85ca20448>"
      ]
     },
     "execution_count": 117,
     "metadata": {},
     "output_type": "execute_result"
    },
    {
     "data": {
      "image/png": "[encoded data removed]",
      "text/plain": [
       "<Figure size 360x360 with 1 Axes>"
      ]
     },
     "metadata": {
      "needs_background": "light"
     },
     "output_type": "display_data"
    }
   ],
   "source": [
    "sns.catplot('Arrhythmia', data=dataset_second_cleaning, kind=\"count\")"
   ]
  },
  {
   "cell_type": "code",
   "execution_count": 118,
   "metadata": {},
   "outputs": [],
   "source": [
    "for index, row in dataset_second_cleaning.iterrows():\n",
    "    if (row['Arrhythmia'] != 'yes') and (row['Arrhythmia'] != 'no'):\n",
    "        print(row)"
   ]
  },
  {
   "cell_type": "markdown",
   "metadata": {},
   "source": [
    "There are no found imputes within the Arrhythmia column"
   ]
  },
  {
   "cell_type": "markdown",
   "metadata": {},
   "source": [
    "### Fixing History Cleaning 2.0"
   ]
  },
  {
   "cell_type": "code",
   "execution_count": 119,
   "metadata": {},
   "outputs": [
    {
     "name": "stdout",
     "output_type": "stream",
     "text": [
      "337 Random          0.617072\n",
      "Id                260770\n",
      "Indication           CVA\n",
      "Diabetes              no\n",
      "IHD                  yes\n",
      "Hypertension          no\n",
      "Arrhythmia            no\n",
      "History              NaN\n",
      "IPSI                  85\n",
      "Contra                50\n",
      "label             NoRisk\n",
      "Name: 337, dtype: object\n",
      "784 Random          0.243645\n",
      "Id                196483\n",
      "Indication           CVA\n",
      "Diabetes              no\n",
      "IHD                   no\n",
      "Hypertension         yes\n",
      "Arrhythmia           yes\n",
      "History              NaN\n",
      "IPSI                  95\n",
      "Contra               100\n",
      "label               Risk\n",
      "Name: 784, dtype: object\n"
     ]
    }
   ],
   "source": [
    "for index, row in dataset_second_cleaning.iterrows():\n",
    "    if (row['History'] != 'yes') and (row['History'] != 'no'):\n",
    "        print(index, row)"
   ]
  },
  {
   "cell_type": "code",
   "execution_count": 120,
   "metadata": {},
   "outputs": [],
   "source": [
    "ListHistory = []\n",
    "for index, row in dataset_second_cleaning.iterrows():\n",
    "    if row['Indication'] == 'CVA' and row['Diabetes'] == 'no' and row['IHD'] == 'yes' and row['Hypertension'] == 'no' and row['Arrhythmia'] == 'no' and row['label'] == 'NoRisk':\n",
    "        ListHistory.append(row['History'])"
   ]
  },
  {
   "cell_type": "code",
   "execution_count": 121,
   "metadata": {},
   "outputs": [
    {
     "name": "stdout",
     "output_type": "stream",
     "text": [
      "2 55 0\n"
     ]
    }
   ],
   "source": [
    "counterYesHistory = 0\n",
    "counterNoHistory = 0\n",
    "counterNANhistory = 0\n",
    "for item in ListHistory:\n",
    "    if item == 'yes':\n",
    "        counterYesHistory = counterYesHistory + 1\n",
    "    if item == 'no':\n",
    "        counterNoHistory = counterNoHistory + 1\n",
    "    if item == 'nan':\n",
    "        counterNANhistory = counterNANhistory + 1\n",
    "print(counterYesHistory, counterNoHistory, counterNANhistory)"
   ]
  },
  {
   "cell_type": "code",
   "execution_count": 122,
   "metadata": {},
   "outputs": [
    {
     "data": {
      "image/png": "[encoded data removed]",
      "text/plain": [
       "<Figure size 432x288 with 1 Axes>"
      ]
     },
     "metadata": {},
     "output_type": "display_data"
    }
   ],
   "source": [
    "labels = 'History Yes', 'History No', 'History Null' \n",
    "sizes = [counterYesHistory, counterNoHistory, counterNANhistory]\n",
    "colors = ['gold', 'lightskyblue', 'green']\n",
    "explode = (0, 0, 0)\n",
    "\n",
    "\n",
    "plt.pie(sizes, explode=explode, labels=labels, colors=colors,\n",
    "autopct='%1.1f%%', shadow=False, startangle=140)\n",
    "\n",
    "plt.axis('equal')\n",
    "plt.show()"
   ]
  },
  {
   "cell_type": "code",
   "execution_count": 123,
   "metadata": {},
   "outputs": [
    {
     "name": "stderr",
     "output_type": "stream",
     "text": [
      "C:\\ProgramData\\Anaconda3\\lib\\site-packages\\ipykernel_launcher.py:6: SettingWithCopyWarning: \n",
      "A value is trying to be set on a copy of a slice from a DataFrame\n",
      "\n",
      "See the caveats in the documentation: http://pandas.pydata.org/pandas-docs/stable/user_guide/indexing.html#returning-a-view-versus-a-copy\n",
      "  \n"
     ]
    }
   ],
   "source": [
    "counter = -1\n",
    "for index, row in dataset_second_cleaning.iterrows():\n",
    "    counter = counter + 1\n",
    "    if counter == 337:\n",
    "        z = dataset_second_cleaning.loc[counter, :]\n",
    "        z['History'] = 'no'\n",
    "        dataset_second_cleaning.loc[counter, :] = z"
   ]
  },
  {
   "cell_type": "code",
   "execution_count": 124,
   "metadata": {},
   "outputs": [
    {
     "data": {
      "text/html": [
       "<div>\n",
       "<style scoped>\n",
       "    .dataframe tbody tr th:only-of-type {\n",
       "        vertical-align: middle;\n",
       "    }\n",
       "\n",
       "    .dataframe tbody tr th {\n",
       "        vertical-align: top;\n",
       "    }\n",
       "\n",
       "    .dataframe thead th {\n",
       "        text-align: right;\n",
       "    }\n",
       "</style>\n",
       "<table border=\"1\" class=\"dataframe\">\n",
       "  <thead>\n",
       "    <tr style=\"text-align: right;\">\n",
       "      <th></th>\n",
       "      <th>Random</th>\n",
       "      <th>Id</th>\n",
       "      <th>Indication</th>\n",
       "      <th>Diabetes</th>\n",
       "      <th>IHD</th>\n",
       "      <th>Hypertension</th>\n",
       "      <th>Arrhythmia</th>\n",
       "      <th>History</th>\n",
       "      <th>IPSI</th>\n",
       "      <th>Contra</th>\n",
       "      <th>label</th>\n",
       "    </tr>\n",
       "  </thead>\n",
       "  <tbody>\n",
       "    <tr>\n",
       "      <td>337</td>\n",
       "      <td>0.617072</td>\n",
       "      <td>260770</td>\n",
       "      <td>CVA</td>\n",
       "      <td>no</td>\n",
       "      <td>yes</td>\n",
       "      <td>no</td>\n",
       "      <td>no</td>\n",
       "      <td>no</td>\n",
       "      <td>85.0</td>\n",
       "      <td>50</td>\n",
       "      <td>NoRisk</td>\n",
       "    </tr>\n",
       "  </tbody>\n",
       "</table>\n",
       "</div>"
      ],
      "text/plain": [
       "       Random      Id Indication Diabetes  IHD Hypertension Arrhythmia  \\\n",
       "337  0.617072  260770        CVA       no  yes           no         no   \n",
       "\n",
       "    History  IPSI Contra   label  \n",
       "337      no  85.0     50  NoRisk  "
      ]
     },
     "execution_count": 124,
     "metadata": {},
     "output_type": "execute_result"
    }
   ],
   "source": [
    "dataset_second_cleaning[337:338]"
   ]
  },
  {
   "cell_type": "code",
   "execution_count": 125,
   "metadata": {},
   "outputs": [],
   "source": [
    "ListHistory = []\n",
    "for index, row in dataset_second_cleaning.iterrows():\n",
    "    if row['Indication'] == 'CVA' and row['Diabetes'] == 'no' and row['IHD'] == 'no' and row['Hypertension'] == 'yes' and row['Arrhythmia'] == 'yes' and row['label'] == 'Risk':\n",
    "        ListHistory.append(row['History'])"
   ]
  },
  {
   "cell_type": "code",
   "execution_count": 126,
   "metadata": {},
   "outputs": [
    {
     "name": "stdout",
     "output_type": "stream",
     "text": [
      "0 34 0\n"
     ]
    }
   ],
   "source": [
    "counterYesHistory = 0\n",
    "counterNoHistory = 0\n",
    "counterNANhistory = 0\n",
    "for item in ListHistory:\n",
    "    if item == 'yes':\n",
    "        counterYesHistory = counterYesHistory + 1\n",
    "    if item == 'no':\n",
    "        counterNoHistory = counterNoHistory + 1\n",
    "    if item == 'nan':\n",
    "        counterNANhistory = counterNANhistory + 1\n",
    "print(counterYesHistory, counterNoHistory, counterNANhistory)"
   ]
  },
  {
   "cell_type": "code",
   "execution_count": 127,
   "metadata": {},
   "outputs": [
    {
     "data": {
      "image/png": "[encoded data removed]",
      "text/plain": [
       "<Figure size 432x288 with 1 Axes>"
      ]
     },
     "metadata": {},
     "output_type": "display_data"
    }
   ],
   "source": [
    "labels = 'History Yes', 'History No', 'History Null' \n",
    "sizes = [counterYesHistory, counterNoHistory, counterNANhistory]\n",
    "colors = ['gold', 'lightskyblue', 'green']\n",
    "explode = (0, 0, 0)\n",
    "\n",
    "\n",
    "plt.pie(sizes, explode=explode, labels=labels, colors=colors,\n",
    "autopct='%1.1f%%', shadow=False, startangle=140)\n",
    "\n",
    "plt.axis('equal')\n",
    "plt.show()"
   ]
  },
  {
   "cell_type": "code",
   "execution_count": 128,
   "metadata": {},
   "outputs": [
    {
     "name": "stderr",
     "output_type": "stream",
     "text": [
      "C:\\ProgramData\\Anaconda3\\lib\\site-packages\\ipykernel_launcher.py:6: SettingWithCopyWarning: \n",
      "A value is trying to be set on a copy of a slice from a DataFrame\n",
      "\n",
      "See the caveats in the documentation: http://pandas.pydata.org/pandas-docs/stable/user_guide/indexing.html#returning-a-view-versus-a-copy\n",
      "  \n"
     ]
    }
   ],
   "source": [
    "counter = -1\n",
    "for index, row in dataset_second_cleaning.iterrows():\n",
    "    counter = counter + 1\n",
    "    if counter == 784:\n",
    "        z = dataset_second_cleaning.loc[counter, :]\n",
    "        z['History'] = 'no'\n",
    "        dataset_second_cleaning.loc[counter, :] = z"
   ]
  },
  {
   "cell_type": "code",
   "execution_count": 129,
   "metadata": {},
   "outputs": [
    {
     "data": {
      "text/html": [
       "<div>\n",
       "<style scoped>\n",
       "    .dataframe tbody tr th:only-of-type {\n",
       "        vertical-align: middle;\n",
       "    }\n",
       "\n",
       "    .dataframe tbody tr th {\n",
       "        vertical-align: top;\n",
       "    }\n",
       "\n",
       "    .dataframe thead th {\n",
       "        text-align: right;\n",
       "    }\n",
       "</style>\n",
       "<table border=\"1\" class=\"dataframe\">\n",
       "  <thead>\n",
       "    <tr style=\"text-align: right;\">\n",
       "      <th></th>\n",
       "      <th>Random</th>\n",
       "      <th>Id</th>\n",
       "      <th>Indication</th>\n",
       "      <th>Diabetes</th>\n",
       "      <th>IHD</th>\n",
       "      <th>Hypertension</th>\n",
       "      <th>Arrhythmia</th>\n",
       "      <th>History</th>\n",
       "      <th>IPSI</th>\n",
       "      <th>Contra</th>\n",
       "      <th>label</th>\n",
       "    </tr>\n",
       "  </thead>\n",
       "  <tbody>\n",
       "    <tr>\n",
       "      <td>784</td>\n",
       "      <td>0.243645</td>\n",
       "      <td>196483</td>\n",
       "      <td>CVA</td>\n",
       "      <td>no</td>\n",
       "      <td>no</td>\n",
       "      <td>yes</td>\n",
       "      <td>yes</td>\n",
       "      <td>no</td>\n",
       "      <td>95.0</td>\n",
       "      <td>100</td>\n",
       "      <td>Risk</td>\n",
       "    </tr>\n",
       "  </tbody>\n",
       "</table>\n",
       "</div>"
      ],
      "text/plain": [
       "       Random      Id Indication Diabetes IHD Hypertension Arrhythmia History  \\\n",
       "784  0.243645  196483        CVA       no  no          yes        yes      no   \n",
       "\n",
       "     IPSI Contra label  \n",
       "784  95.0    100  Risk  "
      ]
     },
     "execution_count": 129,
     "metadata": {},
     "output_type": "execute_result"
    }
   ],
   "source": [
    "dataset_second_cleaning[784:785]"
   ]
  },
  {
   "cell_type": "markdown",
   "metadata": {},
   "source": [
    "### Fixing IPSI Cleaning 2.0"
   ]
  },
  {
   "cell_type": "code",
   "execution_count": 130,
   "metadata": {},
   "outputs": [],
   "source": [
    "IPSI_null = data['IPSI'].isnull()"
   ]
  },
  {
   "cell_type": "code",
   "execution_count": 131,
   "metadata": {},
   "outputs": [
    {
     "data": {
      "text/plain": [
       "[620, 752, 845, 916]"
      ]
     },
     "execution_count": 131,
     "metadata": {},
     "output_type": "execute_result"
    }
   ],
   "source": [
    "counter = -1\n",
    "IPSI_null_Index = []\n",
    "for item in IPSI_null:\n",
    "    counter = counter + 1\n",
    "    if item == True:\n",
    "        IPSI_null_Index.append(counter)\n",
    "IPSI_null_Index"
   ]
  },
  {
   "cell_type": "code",
   "execution_count": 132,
   "metadata": {},
   "outputs": [
    {
     "name": "stdout",
     "output_type": "stream",
     "text": [
      "620 Random          0.57274\n",
      "Id               227779\n",
      "Indication          A-F\n",
      "Diabetes             no\n",
      "IHD                  no\n",
      "Hypertension         no\n",
      "Arrhythmia           no\n",
      "History              no\n",
      "IPSI                NaN\n",
      "Contra              100\n",
      "label              Risk\n",
      "Name: 620, dtype: object\n",
      "752 Random          0.152066\n",
      "Id                146415\n",
      "Indication           CVA\n",
      "Diabetes              no\n",
      "IHD                  yes\n",
      "Hypertension         yes\n",
      "Arrhythmia           yes\n",
      "History               no\n",
      "IPSI                 NaN\n",
      "Contra               100\n",
      "label               Risk\n",
      "Name: 752, dtype: object\n",
      "845 Random          0.920096\n",
      "Id                104176\n",
      "Indication           CVA\n",
      "Diabetes              no\n",
      "IHD                   no\n",
      "Hypertension          no\n",
      "Arrhythmia            no\n",
      "History               no\n",
      "IPSI                 NaN\n",
      "Contra                20\n",
      "label             NoRisk\n",
      "Name: 845, dtype: object\n",
      "916 Random          0.272243\n",
      "Id                281679\n",
      "Indication           A-F\n",
      "Diabetes              no\n",
      "IHD                   no\n",
      "Hypertension          no\n",
      "Arrhythmia            no\n",
      "History               no\n",
      "IPSI                 NaN\n",
      "Contra                50\n",
      "label             NoRisk\n",
      "Name: 916, dtype: object\n"
     ]
    }
   ],
   "source": [
    "for index, row in dataset_second_cleaning.iterrows():\n",
    "    if index in IPSI_null_Index:\n",
    "        print(index, row)"
   ]
  },
  {
   "cell_type": "code",
   "execution_count": 133,
   "metadata": {},
   "outputs": [
    {
     "name": "stdout",
     "output_type": "stream",
     "text": [
      "18 Random          0.479682\n",
      "Id                284552\n",
      "Indication           A-F\n",
      "Diabetes              no\n",
      "IHD                   no\n",
      "Hypertension          no\n",
      "Arrhythmia            no\n",
      "History               no\n",
      "IPSI                  75\n",
      "Contra               100\n",
      "label               Risk\n",
      "Name: 18, dtype: object\n",
      "70 Random          0.691928\n",
      "Id                234034\n",
      "Indication           A-F\n",
      "Diabetes              no\n",
      "IHD                   no\n",
      "Hypertension          no\n",
      "Arrhythmia            no\n",
      "History               no\n",
      "IPSI                  85\n",
      "Contra               100\n",
      "label               Risk\n",
      "Name: 70, dtype: object\n",
      "94 Random          0.27162\n",
      "Id               139633\n",
      "Indication          A-F\n",
      "Diabetes             no\n",
      "IHD                  no\n",
      "Hypertension         no\n",
      "Arrhythmia           no\n",
      "History              no\n",
      "IPSI                 85\n",
      "Contra              100\n",
      "label              Risk\n",
      "Name: 94, dtype: object\n",
      "178 Random          0.300395\n",
      "Id                191092\n",
      "Indication           A-F\n",
      "Diabetes              no\n",
      "IHD                   no\n",
      "Hypertension          no\n",
      "Arrhythmia            no\n",
      "History               no\n",
      "IPSI                  80\n",
      "Contra               100\n",
      "label               Risk\n",
      "Name: 178, dtype: object\n",
      "483 Random          0.847533\n",
      "Id                227626\n",
      "Indication           A-F\n",
      "Diabetes              no\n",
      "IHD                   no\n",
      "Hypertension          no\n",
      "Arrhythmia            no\n",
      "History               no\n",
      "IPSI                  75\n",
      "Contra               100\n",
      "label               Risk\n",
      "Name: 483, dtype: object\n",
      "620 Random          0.57274\n",
      "Id               227779\n",
      "Indication          A-F\n",
      "Diabetes             no\n",
      "IHD                  no\n",
      "Hypertension         no\n",
      "Arrhythmia           no\n",
      "History              no\n",
      "IPSI                NaN\n",
      "Contra              100\n",
      "label              Risk\n",
      "Name: 620, dtype: object\n",
      "883 Random          0.763364\n",
      "Id                188400\n",
      "Indication           A-F\n",
      "Diabetes              no\n",
      "IHD                   no\n",
      "Hypertension          no\n",
      "Arrhythmia            no\n",
      "History               no\n",
      "IPSI                  80\n",
      "Contra               100\n",
      "label               Risk\n",
      "Name: 883, dtype: object\n",
      "1240 Random          0.880769\n",
      "Id                238474\n",
      "Indication           A-F\n",
      "Diabetes              no\n",
      "IHD                   no\n",
      "Hypertension          no\n",
      "Arrhythmia            no\n",
      "History               no\n",
      "IPSI                  80\n",
      "Contra               100\n",
      "label               Risk\n",
      "Name: 1240, dtype: object\n"
     ]
    }
   ],
   "source": [
    "for index, row in dataset_second_cleaning.iterrows():\n",
    "    if row['Indication'] == 'A-F' and row['Diabetes'] == 'no' and row['IHD'] == 'no' and row['Hypertension'] == 'no' and row['Arrhythmia'] == 'no' and row['History'] == 'no' and row['Contra'] == '100' and row['label'] == 'Risk':\n",
    "        print(index, row)"
   ]
  },
  {
   "cell_type": "code",
   "execution_count": 134,
   "metadata": {},
   "outputs": [
    {
     "name": "stdout",
     "output_type": "stream",
     "text": [
      "Random          0.57274\n",
      "Id               227779\n",
      "Indication          A-F\n",
      "Diabetes             no\n",
      "IHD                  no\n",
      "Hypertension         no\n",
      "Arrhythmia           no\n",
      "History              no\n",
      "IPSI                 80\n",
      "Contra              100\n",
      "label              Risk\n",
      "Name: 620, dtype: object\n"
     ]
    },
    {
     "name": "stderr",
     "output_type": "stream",
     "text": [
      "C:\\ProgramData\\Anaconda3\\lib\\site-packages\\ipykernel_launcher.py:6: SettingWithCopyWarning: \n",
      "A value is trying to be set on a copy of a slice from a DataFrame\n",
      "\n",
      "See the caveats in the documentation: http://pandas.pydata.org/pandas-docs/stable/user_guide/indexing.html#returning-a-view-versus-a-copy\n",
      "  \n"
     ]
    }
   ],
   "source": [
    "count = -1\n",
    "for index, row in dataset_second_cleaning.iterrows():\n",
    "    count = count + 1\n",
    "    if count == 620:\n",
    "        z = dataset_second_cleaning.loc[count, :]\n",
    "        z['IPSI'] = 80\n",
    "        print(z)\n",
    "        dataset_second_cleaning.loc[count, :] = z"
   ]
  },
  {
   "cell_type": "code",
   "execution_count": 135,
   "metadata": {},
   "outputs": [
    {
     "name": "stdout",
     "output_type": "stream",
     "text": [
      "15 90.0\n",
      "104 90.0\n",
      "161 90.0\n",
      "182 90.0\n",
      "230 90.0\n",
      "241 85.0\n",
      "257 90.0\n",
      "268 90.0\n",
      "271 90.0\n",
      "314 70.0\n",
      "447 90.0\n",
      "461 70.0\n",
      "505 90.0\n",
      "517 90.0\n",
      "547 90.0\n",
      "567 90.0\n",
      "582 70.0\n",
      "608 70.0\n",
      "731 90.0\n",
      "752 nan\n",
      "754 85.0\n",
      "773 90.0\n",
      "789 90.0\n",
      "832 90.0\n",
      "870 70.0\n",
      "892 90.0\n",
      "1072 70.0\n",
      "1089 85.0\n",
      "1149 85.0\n",
      "1158 90.0\n",
      "1227 90.0\n",
      "1309 90.0\n",
      "1484 90.0\n"
     ]
    }
   ],
   "source": [
    "for index, row in dataset_second_cleaning.iterrows():\n",
    "    if row['Indication'] == 'CVA' and row['Diabetes'] == 'no' and row['IHD'] == 'yes' and row['Hypertension'] == 'yes' and row['Arrhythmia'] == 'yes' and row['History'] == 'no' and row['Contra'] == '100' and row['label'] == 'Risk':\n",
    "        print(index, row['IPSI'])"
   ]
  },
  {
   "cell_type": "code",
   "execution_count": 136,
   "metadata": {},
   "outputs": [
    {
     "name": "stdout",
     "output_type": "stream",
     "text": [
      "Random          0.152066\n",
      "Id                146415\n",
      "Indication           CVA\n",
      "Diabetes              no\n",
      "IHD                  yes\n",
      "Hypertension         yes\n",
      "Arrhythmia           yes\n",
      "History               no\n",
      "IPSI                  85\n",
      "Contra               100\n",
      "label               Risk\n",
      "Name: 752, dtype: object\n"
     ]
    },
    {
     "name": "stderr",
     "output_type": "stream",
     "text": [
      "C:\\ProgramData\\Anaconda3\\lib\\site-packages\\ipykernel_launcher.py:6: SettingWithCopyWarning: \n",
      "A value is trying to be set on a copy of a slice from a DataFrame\n",
      "\n",
      "See the caveats in the documentation: http://pandas.pydata.org/pandas-docs/stable/user_guide/indexing.html#returning-a-view-versus-a-copy\n",
      "  \n"
     ]
    }
   ],
   "source": [
    "count = -1\n",
    "for index, row in dataset_second_cleaning.iterrows():\n",
    "    count = count + 1\n",
    "    if count == 752:\n",
    "        z = dataset_second_cleaning.loc[count, :]\n",
    "        z['IPSI'] = 85\n",
    "        print(z)\n",
    "        dataset_second_cleaning.loc[count, :] = z"
   ]
  },
  {
   "cell_type": "code",
   "execution_count": 137,
   "metadata": {},
   "outputs": [
    {
     "name": "stdout",
     "output_type": "stream",
     "text": [
      "4 70.0\n",
      "7 75.0\n",
      "23 68.0\n",
      "30 99.0\n",
      "48 75.0\n",
      "82 75.0\n",
      "83 75.0\n",
      "87 70.0\n",
      "102 80.0\n",
      "128 75.0\n",
      "143 99.0\n",
      "181 70.0\n",
      "190 80.0\n",
      "192 95.0\n",
      "212 95.0\n",
      "213 68.0\n",
      "217 75.0\n",
      "223 68.0\n",
      "226 70.0\n",
      "245 68.0\n",
      "253 95.0\n",
      "254 60.0\n",
      "263 70.0\n",
      "285 68.0\n",
      "291 95.0\n",
      "297 68.0\n",
      "309 70.0\n",
      "311 90.0\n",
      "334 75.0\n",
      "343 90.0\n",
      "351 50.0\n",
      "355 75.0\n",
      "356 75.0\n",
      "357 95.0\n",
      "389 70.0\n",
      "392 50.0\n",
      "404 70.0\n",
      "418 50.0\n",
      "427 60.0\n",
      "467 70.0\n",
      "469 75.0\n",
      "477 75.0\n",
      "492 68.0\n",
      "499 60.0\n",
      "537 68.0\n",
      "541 75.0\n",
      "543 90.0\n",
      "546 75.0\n",
      "575 75.0\n",
      "576 95.0\n",
      "606 70.0\n",
      "614 68.0\n",
      "627 73.0\n",
      "629 50.0\n",
      "641 70.0\n",
      "643 75.0\n",
      "648 70.0\n",
      "655 80.0\n",
      "659 70.0\n",
      "670 75.0\n",
      "686 68.0\n",
      "689 75.0\n",
      "703 70.0\n",
      "704 90.0\n",
      "714 75.0\n",
      "736 75.0\n",
      "738 99.0\n",
      "741 68.0\n",
      "771 75.0\n",
      "783 95.0\n",
      "816 75.0\n",
      "845 nan\n",
      "899 70.0\n",
      "903 68.0\n",
      "904 75.0\n",
      "920 75.0\n",
      "932 99.0\n",
      "935 75.0\n",
      "936 75.0\n",
      "965 70.0\n",
      "984 60.0\n",
      "991 70.0\n",
      "999 50.0\n",
      "1000 99.0\n",
      "1035 75.0\n",
      "1049 70.0\n",
      "1061 70.0\n",
      "1090 70.0\n",
      "1109 70.0\n",
      "1140 70.0\n",
      "1173 70.0\n",
      "1179 95.0\n",
      "1217 68.0\n",
      "1233 70.0\n",
      "1246 70.0\n",
      "1261 68.0\n",
      "1281 70.0\n",
      "1291 99.0\n",
      "1304 68.0\n",
      "1306 70.0\n",
      "1335 68.0\n",
      "1345 75.0\n",
      "1354 75.0\n",
      "1357 68.0\n",
      "1368 99.0\n",
      "1386 75.0\n",
      "1435 75.0\n",
      "1446 70.0\n",
      "1450 70.0\n",
      "1459 75.0\n",
      "1488 68.0\n",
      "1489 70.0\n",
      "1491 68.0\n",
      "1501 70.0\n",
      "1503 95.0\n",
      "1519 60.0\n"
     ]
    }
   ],
   "source": [
    "for index, row in dataset_second_cleaning.iterrows():\n",
    "    if row['Indication'] == 'CVA' and row['Diabetes'] == 'no' and row['IHD'] == 'no' and row['Hypertension'] == 'no' and row['Arrhythmia'] == 'no' and row['History'] == 'no' and row['label'] == 'NoRisk':\n",
    "        print(index, row['IPSI'])"
   ]
  },
  {
   "cell_type": "code",
   "execution_count": 138,
   "metadata": {},
   "outputs": [
    {
     "name": "stdout",
     "output_type": "stream",
     "text": [
      "Random          0.920096\n",
      "Id                104176\n",
      "Indication           CVA\n",
      "Diabetes              no\n",
      "IHD                   no\n",
      "Hypertension          no\n",
      "Arrhythmia            no\n",
      "History               no\n",
      "IPSI                 NaN\n",
      "Contra                20\n",
      "label             NoRisk\n",
      "Name: 845, dtype: object\n"
     ]
    },
    {
     "name": "stderr",
     "output_type": "stream",
     "text": [
      "C:\\ProgramData\\Anaconda3\\lib\\site-packages\\ipykernel_launcher.py:7: SettingWithCopyWarning: \n",
      "A value is trying to be set on a copy of a slice from a DataFrame\n",
      "\n",
      "See the caveats in the documentation: http://pandas.pydata.org/pandas-docs/stable/user_guide/indexing.html#returning-a-view-versus-a-copy\n",
      "  import sys\n"
     ]
    }
   ],
   "source": [
    "count = -1\n",
    "for index, row in dataset_second_cleaning.iterrows():\n",
    "    count = count + 1\n",
    "    if count == 845:\n",
    "        z = dataset_second_cleaning.loc[count, :]\n",
    "        print(z)\n",
    "        z['IPSI'] = 69\n",
    "        dataset_second_cleaning.loc[count, :] = z"
   ]
  },
  {
   "cell_type": "code",
   "execution_count": 139,
   "metadata": {},
   "outputs": [
    {
     "name": "stdout",
     "output_type": "stream",
     "text": [
      "29 78.0\n",
      "40 70.0\n",
      "63 75.0\n",
      "66 70.0\n",
      "77 74.0\n",
      "78 78.0\n",
      "89 95.0\n",
      "95 70.0\n",
      "115 80.0\n",
      "116 78.0\n",
      "123 75.0\n",
      "139 80.0\n",
      "148 90.0\n",
      "165 67.0\n",
      "168 70.0\n",
      "174 95.0\n",
      "183 75.0\n",
      "189 70.0\n",
      "204 75.0\n",
      "210 80.0\n",
      "248 82.0\n",
      "255 74.0\n",
      "256 70.0\n",
      "288 75.0\n",
      "290 75.0\n",
      "298 67.0\n",
      "346 70.0\n",
      "360 80.0\n",
      "380 75.0\n",
      "391 70.0\n",
      "398 70.0\n",
      "421 75.0\n",
      "437 80.0\n",
      "451 90.0\n",
      "458 95.0\n",
      "491 80.0\n",
      "496 70.0\n",
      "502 95.0\n",
      "518 80.0\n",
      "519 82.0\n",
      "522 75.0\n",
      "531 90.0\n",
      "556 75.0\n",
      "557 75.0\n",
      "583 70.0\n",
      "587 78.0\n",
      "588 95.0\n",
      "590 78.0\n",
      "622 82.0\n",
      "623 95.0\n",
      "631 90.0\n",
      "636 90.0\n",
      "691 70.0\n",
      "695 75.0\n",
      "698 80.0\n",
      "701 74.0\n",
      "719 70.0\n",
      "726 78.0\n",
      "776 90.0\n",
      "779 75.0\n",
      "798 70.0\n",
      "801 80.0\n",
      "813 90.0\n",
      "827 80.0\n",
      "838 95.0\n",
      "858 75.0\n",
      "860 80.0\n",
      "898 70.0\n",
      "914 80.0\n",
      "916 nan\n",
      "933 90.0\n",
      "939 70.0\n",
      "951 95.0\n",
      "953 85.0\n",
      "978 85.0\n",
      "998 90.0\n",
      "1015 90.0\n",
      "1022 75.0\n",
      "1026 70.0\n",
      "1030 90.0\n",
      "1033 75.0\n",
      "1038 80.0\n",
      "1042 78.0\n",
      "1095 78.0\n",
      "1142 75.0\n",
      "1144 81.0\n",
      "1147 70.0\n",
      "1164 74.0\n",
      "1169 70.0\n",
      "1171 75.0\n",
      "1186 78.0\n",
      "1187 70.0\n",
      "1192 82.0\n",
      "1210 80.0\n",
      "1237 70.0\n",
      "1238 95.0\n",
      "1242 95.0\n",
      "1253 80.0\n",
      "1260 70.0\n",
      "1273 75.0\n",
      "1302 90.0\n",
      "1313 78.0\n",
      "1319 70.0\n",
      "1324 70.0\n",
      "1325 78.0\n",
      "1327 90.0\n",
      "1361 75.0\n",
      "1374 80.0\n",
      "1381 95.0\n",
      "1384 81.0\n",
      "1392 78.0\n",
      "1411 75.0\n",
      "1440 90.0\n",
      "1449 82.0\n",
      "1461 95.0\n",
      "1483 75.0\n",
      "1486 90.0\n",
      "1502 74.0\n"
     ]
    }
   ],
   "source": [
    "for index, row in dataset_second_cleaning.iterrows():\n",
    "    if row['Indication'] == 'A-F' and row['Diabetes'] == 'no' and row['IHD'] == 'no' and row['Hypertension'] == 'no' and row['Arrhythmia'] == 'no' and row['History'] == 'no' and row['label'] == 'NoRisk':\n",
    "        print(index, row['IPSI'])"
   ]
  },
  {
   "cell_type": "code",
   "execution_count": 140,
   "metadata": {},
   "outputs": [
    {
     "name": "stderr",
     "output_type": "stream",
     "text": [
      "C:\\ProgramData\\Anaconda3\\lib\\site-packages\\ipykernel_launcher.py:6: SettingWithCopyWarning: \n",
      "A value is trying to be set on a copy of a slice from a DataFrame\n",
      "\n",
      "See the caveats in the documentation: http://pandas.pydata.org/pandas-docs/stable/user_guide/indexing.html#returning-a-view-versus-a-copy\n",
      "  \n"
     ]
    }
   ],
   "source": [
    "count = -1\n",
    "for index, row in dataset_second_cleaning.iterrows():\n",
    "    count = count + 1\n",
    "    if count == 916:\n",
    "        z = dataset_second_cleaning.loc[count, :]\n",
    "        z['IPSI'] = 79\n",
    "        dataset_second_cleaning.loc[count, :] = z"
   ]
  },
  {
   "cell_type": "markdown",
   "metadata": {},
   "source": [
    "### Fixing Contra Cleaning 2.0"
   ]
  },
  {
   "cell_type": "code",
   "execution_count": 141,
   "metadata": {},
   "outputs": [
    {
     "name": "stdout",
     "output_type": "stream",
     "text": [
      "453 Random          0.518558\n",
      "Id                254469\n",
      "Indication           ASx\n",
      "Diabetes              no\n",
      "IHD                   no\n",
      "Hypertension         yes\n",
      "Arrhythmia            no\n",
      "History               no\n",
      "IPSI                  70\n",
      "Contra                  \n",
      "label             NoRisk\n",
      "Name: 453, dtype: object\n"
     ]
    }
   ],
   "source": [
    "for index, row in dataset_second_cleaning.iterrows():\n",
    "    if row['Contra'].isspace():\n",
    "        print(index, row)"
   ]
  },
  {
   "cell_type": "code",
   "execution_count": 142,
   "metadata": {},
   "outputs": [
    {
     "name": "stdout",
     "output_type": "stream",
     "text": [
      "60 Random          0.0885892\n",
      "Id                 232028\n",
      "Indication            ASx\n",
      "Diabetes               no\n",
      "IHD                    no\n",
      "Hypertension          yes\n",
      "Arrhythmia             no\n",
      "History                no\n",
      "IPSI                   70\n",
      "Contra                60 \n",
      "label              NoRisk\n",
      "Name: 60, dtype: object\n",
      "453 Random          0.518558\n",
      "Id                254469\n",
      "Indication           ASx\n",
      "Diabetes              no\n",
      "IHD                   no\n",
      "Hypertension         yes\n",
      "Arrhythmia            no\n",
      "History               no\n",
      "IPSI                  70\n",
      "Contra                  \n",
      "label             NoRisk\n",
      "Name: 453, dtype: object\n",
      "580 Random          0.580921\n",
      "Id                294555\n",
      "Indication           ASx\n",
      "Diabetes              no\n",
      "IHD                   no\n",
      "Hypertension         yes\n",
      "Arrhythmia            no\n",
      "History               no\n",
      "IPSI                  70\n",
      "Contra               60 \n",
      "label             NoRisk\n",
      "Name: 580, dtype: object\n",
      "605 Random          0.196472\n",
      "Id                173263\n",
      "Indication           ASx\n",
      "Diabetes              no\n",
      "IHD                   no\n",
      "Hypertension         yes\n",
      "Arrhythmia            no\n",
      "History               no\n",
      "IPSI                  70\n",
      "Contra               60 \n",
      "label             NoRisk\n",
      "Name: 605, dtype: object\n",
      "1372 Random          0.906489\n",
      "Id                101064\n",
      "Indication           ASx\n",
      "Diabetes              no\n",
      "IHD                   no\n",
      "Hypertension         yes\n",
      "Arrhythmia            no\n",
      "History               no\n",
      "IPSI                  70\n",
      "Contra               60 \n",
      "label             NoRisk\n",
      "Name: 1372, dtype: object\n",
      "1423 Random          0.399894\n",
      "Id                177127\n",
      "Indication           ASx\n",
      "Diabetes              no\n",
      "IHD                   no\n",
      "Hypertension         yes\n",
      "Arrhythmia            no\n",
      "History               no\n",
      "IPSI                  70\n",
      "Contra               60 \n",
      "label             NoRisk\n",
      "Name: 1423, dtype: object\n"
     ]
    }
   ],
   "source": [
    "for index, row in dataset_second_cleaning.iterrows():\n",
    "    if row['Indication'] == 'ASx' and row['Diabetes'] == 'no' and row['IHD'] == 'no' and row['Hypertension'] =='yes' and row['Arrhythmia'] == 'no' and row['History'] == 'no' and row['IPSI'] == 70 and row['label'] == 'NoRisk':\n",
    "        print(index, row)"
   ]
  },
  {
   "cell_type": "code",
   "execution_count": 143,
   "metadata": {},
   "outputs": [
    {
     "name": "stdout",
     "output_type": "stream",
     "text": [
      "Random          0.518558\n",
      "Id                254469\n",
      "Indication           ASx\n",
      "Diabetes              no\n",
      "IHD                   no\n",
      "Hypertension         yes\n",
      "Arrhythmia            no\n",
      "History               no\n",
      "IPSI                  70\n",
      "Contra                60\n",
      "label             NoRisk\n",
      "Name: 453, dtype: object\n"
     ]
    },
    {
     "name": "stderr",
     "output_type": "stream",
     "text": [
      "C:\\ProgramData\\Anaconda3\\lib\\site-packages\\ipykernel_launcher.py:6: SettingWithCopyWarning: \n",
      "A value is trying to be set on a copy of a slice from a DataFrame\n",
      "\n",
      "See the caveats in the documentation: http://pandas.pydata.org/pandas-docs/stable/user_guide/indexing.html#returning-a-view-versus-a-copy\n",
      "  \n"
     ]
    }
   ],
   "source": [
    "counter = -1\n",
    "for index, row in dataset_second_cleaning.iterrows():\n",
    "    counter = counter + 1\n",
    "    if counter == 453:\n",
    "        z = dataset_second_cleaning.loc[counter, :]\n",
    "        z['Contra'] = '60'\n",
    "        print(z)\n",
    "        dataset_second_cleaning.loc[counter, :] = z"
   ]
  },
  {
   "cell_type": "code",
   "execution_count": 144,
   "metadata": {},
   "outputs": [],
   "source": [
    "dataset_second_cleaning['Contra'] = pd.to_numeric(dataset_second_cleaning['Contra'])"
   ]
  },
  {
   "cell_type": "markdown",
   "metadata": {},
   "source": [
    "### Fixing Label Cleaning 2.0"
   ]
  },
  {
   "cell_type": "code",
   "execution_count": 145,
   "metadata": {},
   "outputs": [
    {
     "data": {
      "text/plain": [
       "count       1517\n",
       "unique         3\n",
       "top       NoRisk\n",
       "freq        1008\n",
       "Name: label, dtype: object"
      ]
     },
     "execution_count": 145,
     "metadata": {},
     "output_type": "execute_result"
    }
   ],
   "source": [
    "dataset_second_cleaning['label'].describe()"
   ]
  },
  {
   "cell_type": "code",
   "execution_count": 146,
   "metadata": {},
   "outputs": [
    {
     "name": "stdout",
     "output_type": "stream",
     "text": [
      "475 Random          0.374065\n",
      "Id                173791\n",
      "Indication           ASx\n",
      "Diabetes              no\n",
      "IHD                  yes\n",
      "Hypertension         yes\n",
      "Arrhythmia            no\n",
      "History               no\n",
      "IPSI                  70\n",
      "Contra                55\n",
      "label            Unknown\n",
      "Name: 475, dtype: object\n",
      "523 Random          0.666029\n",
      "Id                283846\n",
      "Indication           CVA\n",
      "Diabetes              no\n",
      "IHD                   no\n",
      "Hypertension         yes\n",
      "Arrhythmia           yes\n",
      "History               no\n",
      "IPSI                  95\n",
      "Contra               100\n",
      "label            Unknown\n",
      "Name: 523, dtype: object\n",
      "812 Random          0.844584\n",
      "Id                190671\n",
      "Indication           CVA\n",
      "Diabetes              no\n",
      "IHD                  yes\n",
      "Hypertension         yes\n",
      "Arrhythmia            no\n",
      "History               no\n",
      "IPSI                  76\n",
      "Contra                50\n",
      "label                NaN\n",
      "Name: 812, dtype: object\n",
      "974 Random          0.923418\n",
      "Id                165432\n",
      "Indication           CVA\n",
      "Diabetes              no\n",
      "IHD                  yes\n",
      "Hypertension         yes\n",
      "Arrhythmia           yes\n",
      "History               no\n",
      "IPSI                  80\n",
      "Contra                70\n",
      "label                NaN\n",
      "Name: 974, dtype: object\n",
      "1418 Random          0.358275\n",
      "Id                169726\n",
      "Indication           TIA\n",
      "Diabetes             yes\n",
      "IHD                   no\n",
      "Hypertension          no\n",
      "Arrhythmia            no\n",
      "History              yes\n",
      "IPSI                  90\n",
      "Contra                50\n",
      "label                NaN\n",
      "Name: 1418, dtype: object\n"
     ]
    }
   ],
   "source": [
    "for index, row in dataset_second_cleaning.iterrows():\n",
    "    if (row['label'] != 'Risk') and (row['label'] != 'NoRisk'):\n",
    "        print(index, row)"
   ]
  },
  {
   "cell_type": "code",
   "execution_count": 147,
   "metadata": {},
   "outputs": [
    {
     "data": {
      "text/plain": [
       "['Risk',\n",
       " 'Risk',\n",
       " 'Risk',\n",
       " 'Risk',\n",
       " 'NoRisk',\n",
       " 'Risk',\n",
       " 'Risk',\n",
       " 'Risk',\n",
       " 'Risk',\n",
       " 'NoRisk',\n",
       " 'Risk',\n",
       " 'Risk',\n",
       " 'Risk',\n",
       " 'Risk',\n",
       " 'Risk',\n",
       " 'Risk',\n",
       " 'Risk',\n",
       " 'Risk',\n",
       " 'Risk',\n",
       " 'Risk',\n",
       " 'Risk',\n",
       " 'Risk',\n",
       " 'Risk',\n",
       " 'Risk',\n",
       " 'Risk',\n",
       " 'Risk',\n",
       " 'Risk',\n",
       " 'Risk',\n",
       " 'Risk',\n",
       " 'Risk',\n",
       " 'Risk',\n",
       " 'Risk',\n",
       " 'Risk',\n",
       " 'Risk',\n",
       " 'Risk',\n",
       " 'Risk',\n",
       " 'Risk']"
      ]
     },
     "execution_count": 147,
     "metadata": {},
     "output_type": "execute_result"
    }
   ],
   "source": [
    "label_List = []\n",
    "for index, row in dataset_second_cleaning.iterrows():\n",
    "    if row['Indication'] == 'CVA' and row['Diabetes'] == 'no' and row['IHD'] == 'no' and row['Hypertension'] == 'yes' and row['Arrhythmia'] == 'yes' and row['History'] == 'no':\n",
    "        if row['label'] == 'Risk' or row['label'] == 'NoRisk':\n",
    "            label_List.append(row['label'])\n",
    "label_List"
   ]
  },
  {
   "cell_type": "code",
   "execution_count": 148,
   "metadata": {},
   "outputs": [
    {
     "name": "stdout",
     "output_type": "stream",
     "text": [
      "35 2\n"
     ]
    }
   ],
   "source": [
    "countRisk = 0\n",
    "countNoRisk = 0\n",
    "for item in label_List:\n",
    "    if item == 'Risk':\n",
    "        countRisk = countRisk + 1\n",
    "    if item == 'NoRisk':\n",
    "        countNoRisk = countNoRisk + 1\n",
    "print(countRisk, countNoRisk)"
   ]
  },
  {
   "cell_type": "code",
   "execution_count": 149,
   "metadata": {},
   "outputs": [
    {
     "data": {
      "image/png": "[encoded data removed]",
      "text/plain": [
       "<Figure size 432x288 with 1 Axes>"
      ]
     },
     "metadata": {},
     "output_type": "display_data"
    }
   ],
   "source": [
    "labels = 'Label Risk', 'Label NoRisk' \n",
    "sizes = [countRisk, countNoRisk]\n",
    "colors = ['gold', 'lightskyblue']\n",
    "explode = (0, 0)\n",
    "\n",
    "\n",
    "plt.pie(sizes, explode=explode, labels=labels, colors=colors,\n",
    "autopct='%1.1f%%', shadow=False, startangle=140)\n",
    "\n",
    "plt.axis('equal')\n",
    "plt.show()"
   ]
  },
  {
   "cell_type": "code",
   "execution_count": 150,
   "metadata": {},
   "outputs": [
    {
     "name": "stderr",
     "output_type": "stream",
     "text": [
      "C:\\ProgramData\\Anaconda3\\lib\\site-packages\\ipykernel_launcher.py:6: SettingWithCopyWarning: \n",
      "A value is trying to be set on a copy of a slice from a DataFrame\n",
      "\n",
      "See the caveats in the documentation: http://pandas.pydata.org/pandas-docs/stable/user_guide/indexing.html#returning-a-view-versus-a-copy\n",
      "  \n"
     ]
    }
   ],
   "source": [
    "counter = -1\n",
    "for index, row in dataset_second_cleaning.iterrows():\n",
    "    counter = counter + 1\n",
    "    if counter == 523:\n",
    "        z = dataset_second_cleaning.loc[counter, :]\n",
    "        z['label'] = 'Risk'\n",
    "        dataset_second_cleaning.loc[counter, :] = z"
   ]
  },
  {
   "cell_type": "code",
   "execution_count": 151,
   "metadata": {},
   "outputs": [
    {
     "data": {
      "text/plain": [
       "['NoRisk',\n",
       " 'Risk',\n",
       " 'NoRisk',\n",
       " 'Risk',\n",
       " 'NoRisk',\n",
       " 'NoRisk',\n",
       " 'NoRisk',\n",
       " 'NoRisk',\n",
       " 'NoRisk',\n",
       " 'Risk',\n",
       " 'NoRisk',\n",
       " 'NoRisk',\n",
       " 'Risk',\n",
       " 'Risk',\n",
       " 'NoRisk',\n",
       " 'NoRisk',\n",
       " 'NoRisk',\n",
       " 'NoRisk',\n",
       " 'NoRisk',\n",
       " 'NoRisk',\n",
       " 'NoRisk',\n",
       " 'Risk',\n",
       " 'NoRisk',\n",
       " 'Risk',\n",
       " 'Risk',\n",
       " 'NoRisk',\n",
       " 'Risk',\n",
       " 'NoRisk',\n",
       " 'NoRisk',\n",
       " 'NoRisk',\n",
       " 'NoRisk',\n",
       " 'NoRisk',\n",
       " 'NoRisk',\n",
       " 'NoRisk',\n",
       " 'NoRisk',\n",
       " 'NoRisk',\n",
       " 'NoRisk',\n",
       " 'NoRisk',\n",
       " 'Risk',\n",
       " 'NoRisk',\n",
       " 'NoRisk',\n",
       " 'NoRisk',\n",
       " 'Risk',\n",
       " 'Risk',\n",
       " 'NoRisk',\n",
       " 'NoRisk',\n",
       " 'NoRisk',\n",
       " 'Risk',\n",
       " 'NoRisk',\n",
       " 'NoRisk',\n",
       " 'NoRisk']"
      ]
     },
     "execution_count": 151,
     "metadata": {},
     "output_type": "execute_result"
    }
   ],
   "source": [
    "label_List = []\n",
    "for index, row in dataset_second_cleaning.iterrows():\n",
    "    if row['Indication'] == 'CVA' and row['Diabetes'] == 'no' and row['IHD'] == 'yes' and row['Hypertension'] == 'yes' and row['Arrhythmia'] == 'no' and row['History'] == 'no':\n",
    "        if row['label'] == 'Risk' or row['label'] == 'NoRisk':\n",
    "            label_List.append(row['label'])\n",
    "label_List"
   ]
  },
  {
   "cell_type": "code",
   "execution_count": 152,
   "metadata": {},
   "outputs": [
    {
     "name": "stdout",
     "output_type": "stream",
     "text": [
      "13 38\n"
     ]
    }
   ],
   "source": [
    "countRisk = 0\n",
    "countNoRisk = 0\n",
    "for item in label_List:\n",
    "    if item == 'Risk':\n",
    "        countRisk = countRisk + 1\n",
    "    if item == 'NoRisk':\n",
    "        countNoRisk = countNoRisk + 1\n",
    "print(countRisk, countNoRisk)"
   ]
  },
  {
   "cell_type": "code",
   "execution_count": 153,
   "metadata": {},
   "outputs": [
    {
     "data": {
      "image/png": "[encoded data removed]",
      "text/plain": [
       "<Figure size 432x288 with 1 Axes>"
      ]
     },
     "metadata": {},
     "output_type": "display_data"
    }
   ],
   "source": [
    "labels = 'Label Risk', 'Label NoRisk' \n",
    "sizes = [countRisk, countNoRisk]\n",
    "colors = ['gold', 'lightskyblue']\n",
    "explode = (0, 0)\n",
    "\n",
    "\n",
    "plt.pie(sizes, explode=explode, labels=labels, colors=colors,\n",
    "autopct='%1.1f%%', shadow=False, startangle=140)\n",
    "\n",
    "plt.axis('equal')\n",
    "plt.show()"
   ]
  },
  {
   "cell_type": "code",
   "execution_count": 154,
   "metadata": {},
   "outputs": [
    {
     "name": "stderr",
     "output_type": "stream",
     "text": [
      "C:\\ProgramData\\Anaconda3\\lib\\site-packages\\ipykernel_launcher.py:6: SettingWithCopyWarning: \n",
      "A value is trying to be set on a copy of a slice from a DataFrame\n",
      "\n",
      "See the caveats in the documentation: http://pandas.pydata.org/pandas-docs/stable/user_guide/indexing.html#returning-a-view-versus-a-copy\n",
      "  \n"
     ]
    }
   ],
   "source": [
    "counter = -1\n",
    "for index, row in dataset_second_cleaning.iterrows():\n",
    "    counter = counter + 1\n",
    "    if counter == 812:\n",
    "        z = dataset_second_cleaning.loc[counter, :]\n",
    "        z['label'] = 'NoRisk'\n",
    "        dataset_second_cleaning.loc[counter, :] = z"
   ]
  },
  {
   "cell_type": "code",
   "execution_count": 155,
   "metadata": {},
   "outputs": [
    {
     "data": {
      "text/plain": [
       "['Risk',\n",
       " 'Risk',\n",
       " 'Risk',\n",
       " 'Risk',\n",
       " 'Risk',\n",
       " 'Risk',\n",
       " 'Risk',\n",
       " 'Risk',\n",
       " 'Risk',\n",
       " 'Risk',\n",
       " 'Risk',\n",
       " 'Risk',\n",
       " 'Risk',\n",
       " 'Risk',\n",
       " 'Risk',\n",
       " 'Risk',\n",
       " 'Risk',\n",
       " 'Risk',\n",
       " 'Risk',\n",
       " 'Risk',\n",
       " 'Risk',\n",
       " 'Risk',\n",
       " 'Risk',\n",
       " 'Risk',\n",
       " 'Risk',\n",
       " 'Risk',\n",
       " 'Risk',\n",
       " 'Risk',\n",
       " 'Risk',\n",
       " 'Risk',\n",
       " 'Risk',\n",
       " 'Risk',\n",
       " 'Risk',\n",
       " 'Risk',\n",
       " 'Risk',\n",
       " 'Risk',\n",
       " 'Risk',\n",
       " 'Risk',\n",
       " 'Risk',\n",
       " 'Risk',\n",
       " 'Risk',\n",
       " 'Risk',\n",
       " 'Risk',\n",
       " 'Risk',\n",
       " 'Risk',\n",
       " 'Risk',\n",
       " 'Risk',\n",
       " 'Risk',\n",
       " 'Risk',\n",
       " 'Risk',\n",
       " 'NoRisk',\n",
       " 'Risk',\n",
       " 'Risk',\n",
       " 'Risk',\n",
       " 'Risk',\n",
       " 'Risk',\n",
       " 'Risk',\n",
       " 'NoRisk',\n",
       " 'Risk',\n",
       " 'Risk',\n",
       " 'Risk',\n",
       " 'Risk',\n",
       " 'Risk',\n",
       " 'Risk',\n",
       " 'Risk',\n",
       " 'Risk',\n",
       " 'Risk',\n",
       " 'NoRisk',\n",
       " 'Risk',\n",
       " 'Risk',\n",
       " 'Risk']"
      ]
     },
     "execution_count": 155,
     "metadata": {},
     "output_type": "execute_result"
    }
   ],
   "source": [
    "label_List = []\n",
    "for index, row in dataset_second_cleaning.iterrows():\n",
    "    if row['Indication'] == 'CVA' and row['Diabetes'] == 'no' and row['IHD'] == 'yes' and row['Hypertension'] == 'yes' and row['Arrhythmia'] == 'yes' and row['History'] == 'no':\n",
    "        if row['label'] == 'Risk' or row['label'] == 'NoRisk':\n",
    "            label_List.append(row['label'])\n",
    "label_List"
   ]
  },
  {
   "cell_type": "code",
   "execution_count": 156,
   "metadata": {},
   "outputs": [
    {
     "name": "stdout",
     "output_type": "stream",
     "text": [
      "68 3\n"
     ]
    }
   ],
   "source": [
    "countRisk = 0\n",
    "countNoRisk = 0\n",
    "for item in label_List:\n",
    "    if item == 'Risk':\n",
    "        countRisk = countRisk + 1\n",
    "    if item == 'NoRisk':\n",
    "        countNoRisk = countNoRisk + 1\n",
    "print(countRisk, countNoRisk)"
   ]
  },
  {
   "cell_type": "code",
   "execution_count": 157,
   "metadata": {},
   "outputs": [
    {
     "data": {
      "image/png": "[encoded data removed]",
      "text/plain": [
       "<Figure size 432x288 with 1 Axes>"
      ]
     },
     "metadata": {},
     "output_type": "display_data"
    }
   ],
   "source": [
    "labels = 'Label Risk', 'Label NoRisk' \n",
    "sizes = [countRisk, countNoRisk]\n",
    "colors = ['gold', 'lightskyblue']\n",
    "explode = (0, 0)\n",
    "\n",
    "\n",
    "plt.pie(sizes, explode=explode, labels=labels, colors=colors,\n",
    "autopct='%1.1f%%', shadow=False, startangle=140)\n",
    "\n",
    "plt.axis('equal')\n",
    "plt.show()"
   ]
  },
  {
   "cell_type": "code",
   "execution_count": 158,
   "metadata": {},
   "outputs": [
    {
     "name": "stderr",
     "output_type": "stream",
     "text": [
      "C:\\ProgramData\\Anaconda3\\lib\\site-packages\\ipykernel_launcher.py:6: SettingWithCopyWarning: \n",
      "A value is trying to be set on a copy of a slice from a DataFrame\n",
      "\n",
      "See the caveats in the documentation: http://pandas.pydata.org/pandas-docs/stable/user_guide/indexing.html#returning-a-view-versus-a-copy\n",
      "  \n"
     ]
    }
   ],
   "source": [
    "counter = -1\n",
    "for index, row in dataset_second_cleaning.iterrows():\n",
    "    counter = counter + 1\n",
    "    if counter == 974:\n",
    "        z = dataset_second_cleaning.loc[counter, :]\n",
    "        z['label'] = 'Risk'\n",
    "        dataset_second_cleaning.loc[counter, :] = z"
   ]
  },
  {
   "cell_type": "code",
   "execution_count": 159,
   "metadata": {},
   "outputs": [
    {
     "data": {
      "text/plain": [
       "['Risk']"
      ]
     },
     "execution_count": 159,
     "metadata": {},
     "output_type": "execute_result"
    }
   ],
   "source": [
    "label_List = []\n",
    "for index, row in dataset_second_cleaning.iterrows():\n",
    "    if row['Indication'] == 'TIA' and row['Diabetes'] == 'yes' and row['IHD'] == 'no' and row['Hypertension'] == 'no' and row['Arrhythmia'] == 'no' and row['History'] == 'yes':\n",
    "        if row['label'] == 'Risk' or row['label'] == 'NoRisk':\n",
    "            label_List.append(row['label'])\n",
    "label_List"
   ]
  },
  {
   "cell_type": "code",
   "execution_count": 160,
   "metadata": {},
   "outputs": [
    {
     "name": "stdout",
     "output_type": "stream",
     "text": [
      "1 0\n"
     ]
    }
   ],
   "source": [
    "countRisk = 0\n",
    "countNoRisk = 0\n",
    "for item in label_List:\n",
    "    if item == 'Risk':\n",
    "        countRisk = countRisk + 1\n",
    "    if item == 'NoRisk':\n",
    "        countNoRisk = countNoRisk + 1\n",
    "print(countRisk, countNoRisk)"
   ]
  },
  {
   "cell_type": "code",
   "execution_count": 161,
   "metadata": {},
   "outputs": [
    {
     "data": {
      "image/png": "[encoded data removed]",
      "text/plain": [
       "<Figure size 432x288 with 1 Axes>"
      ]
     },
     "metadata": {},
     "output_type": "display_data"
    }
   ],
   "source": [
    "labels = 'Label Risk', 'Label NoRisk' \n",
    "sizes = [countRisk, countNoRisk]\n",
    "colors = ['gold', 'lightskyblue']\n",
    "explode = (0, 0)\n",
    "\n",
    "\n",
    "plt.pie(sizes, explode=explode, labels=labels, colors=colors,\n",
    "autopct='%1.1f%%', shadow=False, startangle=140)\n",
    "\n",
    "plt.axis('equal')\n",
    "plt.show()"
   ]
  },
  {
   "cell_type": "code",
   "execution_count": 162,
   "metadata": {},
   "outputs": [
    {
     "name": "stderr",
     "output_type": "stream",
     "text": [
      "C:\\ProgramData\\Anaconda3\\lib\\site-packages\\ipykernel_launcher.py:6: SettingWithCopyWarning: \n",
      "A value is trying to be set on a copy of a slice from a DataFrame\n",
      "\n",
      "See the caveats in the documentation: http://pandas.pydata.org/pandas-docs/stable/user_guide/indexing.html#returning-a-view-versus-a-copy\n",
      "  \n"
     ]
    }
   ],
   "source": [
    "counter = -1\n",
    "for index, row in dataset_second_cleaning.iterrows():\n",
    "    counter = counter + 1\n",
    "    if counter == 1418:\n",
    "        z = dataset_second_cleaning.loc[counter, :]\n",
    "        z['label'] = 'Risk'\n",
    "        dataset_second_cleaning.loc[counter, :] = z"
   ]
  },
  {
   "cell_type": "code",
   "execution_count": 163,
   "metadata": {},
   "outputs": [
    {
     "data": {
      "text/plain": [
       "['NoRisk',\n",
       " 'Risk',\n",
       " 'NoRisk',\n",
       " 'Risk',\n",
       " 'Risk',\n",
       " 'NoRisk',\n",
       " 'NoRisk',\n",
       " 'Risk',\n",
       " 'Risk',\n",
       " 'NoRisk',\n",
       " 'Risk',\n",
       " 'NoRisk',\n",
       " 'NoRisk',\n",
       " 'NoRisk',\n",
       " 'Risk',\n",
       " 'Risk']"
      ]
     },
     "execution_count": 163,
     "metadata": {},
     "output_type": "execute_result"
    }
   ],
   "source": [
    "label_List = []\n",
    "for index, row in dataset_second_cleaning.iterrows():\n",
    "    if row['Indication'] == 'ASx' and row['Diabetes'] == 'no' and row['IHD'] == 'yes' and row['Hypertension'] == 'yes' and row['Arrhythmia'] == 'no' and row['History'] == 'no':\n",
    "        if row['label'] == 'Risk' or row['label'] == 'NoRisk':\n",
    "            label_List.append(row['label'])\n",
    "label_List"
   ]
  },
  {
   "cell_type": "code",
   "execution_count": 164,
   "metadata": {},
   "outputs": [
    {
     "name": "stdout",
     "output_type": "stream",
     "text": [
      "8 8\n"
     ]
    }
   ],
   "source": [
    "countRisk = 0\n",
    "countNoRisk = 0\n",
    "for item in label_List:\n",
    "    if item == 'Risk':\n",
    "        countRisk = countRisk + 1\n",
    "    if item == 'NoRisk':\n",
    "        countNoRisk = countNoRisk + 1\n",
    "print(countRisk, countNoRisk)"
   ]
  },
  {
   "cell_type": "code",
   "execution_count": 165,
   "metadata": {},
   "outputs": [
    {
     "data": {
      "image/png": "[encoded data removed]",
      "text/plain": [
       "<Figure size 432x288 with 1 Axes>"
      ]
     },
     "metadata": {},
     "output_type": "display_data"
    }
   ],
   "source": [
    "labels = 'Label Risk', 'Label NoRisk' \n",
    "sizes = [countRisk, countNoRisk]\n",
    "colors = ['gold', 'lightskyblue']\n",
    "explode = (0, 0)\n",
    "\n",
    "\n",
    "plt.pie(sizes, explode=explode, labels=labels, colors=colors,\n",
    "autopct='%1.1f%%', shadow=False, startangle=140)\n",
    "\n",
    "plt.axis('equal')\n",
    "plt.show()"
   ]
  },
  {
   "cell_type": "code",
   "execution_count": 166,
   "metadata": {},
   "outputs": [
    {
     "name": "stdout",
     "output_type": "stream",
     "text": [
      "510 1009\n"
     ]
    }
   ],
   "source": [
    "counterRiskLabel = 0\n",
    "counterNoRiskLabel = 0\n",
    "\n",
    "for index, row in dataset_second_cleaning.iterrows():\n",
    "    if row['label'] == 'Risk':\n",
    "        counterRiskLabel = counterRiskLabel + 1\n",
    "    if row['label'] == 'NoRisk':\n",
    "        counterNoRiskLabel = counterNoRiskLabel + 1\n",
    "print(counterRiskLabel, counterNoRiskLabel)"
   ]
  },
  {
   "cell_type": "code",
   "execution_count": 167,
   "metadata": {},
   "outputs": [
    {
     "data": {
      "image/png": "[encoded data removed]",
      "text/plain": [
       "<Figure size 432x288 with 1 Axes>"
      ]
     },
     "metadata": {},
     "output_type": "display_data"
    }
   ],
   "source": [
    "labels = 'Label Risk', 'Label NoRisk' \n",
    "sizes = [counterRiskLabel, counterNoRiskLabel]\n",
    "colors = ['gold', 'lightskyblue']\n",
    "explode = (0, 0)\n",
    "\n",
    "\n",
    "plt.pie(sizes, explode=explode, labels=labels, colors=colors,\n",
    "autopct='%1.1f%%', shadow=False, startangle=140)\n",
    "\n",
    "plt.axis('equal')\n",
    "plt.show()"
   ]
  },
  {
   "cell_type": "code",
   "execution_count": 168,
   "metadata": {},
   "outputs": [
    {
     "name": "stderr",
     "output_type": "stream",
     "text": [
      "C:\\ProgramData\\Anaconda3\\lib\\site-packages\\ipykernel_launcher.py:6: SettingWithCopyWarning: \n",
      "A value is trying to be set on a copy of a slice from a DataFrame\n",
      "\n",
      "See the caveats in the documentation: http://pandas.pydata.org/pandas-docs/stable/user_guide/indexing.html#returning-a-view-versus-a-copy\n",
      "  \n"
     ]
    }
   ],
   "source": [
    "counter = -1\n",
    "for index, row in dataset_second_cleaning.iterrows():\n",
    "    counter = counter + 1\n",
    "    if counter == 475:\n",
    "        z = dataset_second_cleaning.loc[counter, :]\n",
    "        z['label'] = 'NoRisk'\n",
    "        dataset_second_cleaning.loc[counter, :] = z"
   ]
  },
  {
   "cell_type": "code",
   "execution_count": 169,
   "metadata": {},
   "outputs": [
    {
     "data": {
      "text/html": [
       "<div>\n",
       "<style scoped>\n",
       "    .dataframe tbody tr th:only-of-type {\n",
       "        vertical-align: middle;\n",
       "    }\n",
       "\n",
       "    .dataframe tbody tr th {\n",
       "        vertical-align: top;\n",
       "    }\n",
       "\n",
       "    .dataframe thead th {\n",
       "        text-align: right;\n",
       "    }\n",
       "</style>\n",
       "<table border=\"1\" class=\"dataframe\">\n",
       "  <thead>\n",
       "    <tr style=\"text-align: right;\">\n",
       "      <th></th>\n",
       "      <th>Random</th>\n",
       "      <th>Id</th>\n",
       "      <th>Indication</th>\n",
       "      <th>Diabetes</th>\n",
       "      <th>IHD</th>\n",
       "      <th>Hypertension</th>\n",
       "      <th>Arrhythmia</th>\n",
       "      <th>History</th>\n",
       "      <th>IPSI</th>\n",
       "      <th>Contra</th>\n",
       "      <th>label</th>\n",
       "    </tr>\n",
       "  </thead>\n",
       "  <tbody>\n",
       "    <tr>\n",
       "      <td>0</td>\n",
       "      <td>0.262646</td>\n",
       "      <td>218242</td>\n",
       "      <td>A-F</td>\n",
       "      <td>no</td>\n",
       "      <td>no</td>\n",
       "      <td>yes</td>\n",
       "      <td>no</td>\n",
       "      <td>no</td>\n",
       "      <td>78.0</td>\n",
       "      <td>20</td>\n",
       "      <td>NoRisk</td>\n",
       "    </tr>\n",
       "    <tr>\n",
       "      <td>1</td>\n",
       "      <td>0.084541</td>\n",
       "      <td>159284</td>\n",
       "      <td>TIA</td>\n",
       "      <td>no</td>\n",
       "      <td>no</td>\n",
       "      <td>no</td>\n",
       "      <td>no</td>\n",
       "      <td>no</td>\n",
       "      <td>70.0</td>\n",
       "      <td>60</td>\n",
       "      <td>NoRisk</td>\n",
       "    </tr>\n",
       "    <tr>\n",
       "      <td>2</td>\n",
       "      <td>0.233586</td>\n",
       "      <td>106066</td>\n",
       "      <td>A-F</td>\n",
       "      <td>no</td>\n",
       "      <td>yes</td>\n",
       "      <td>yes</td>\n",
       "      <td>no</td>\n",
       "      <td>no</td>\n",
       "      <td>95.0</td>\n",
       "      <td>40</td>\n",
       "      <td>Risk</td>\n",
       "    </tr>\n",
       "    <tr>\n",
       "      <td>3</td>\n",
       "      <td>0.128157</td>\n",
       "      <td>229592</td>\n",
       "      <td>TIA</td>\n",
       "      <td>no</td>\n",
       "      <td>no</td>\n",
       "      <td>yes</td>\n",
       "      <td>no</td>\n",
       "      <td>no</td>\n",
       "      <td>90.0</td>\n",
       "      <td>85</td>\n",
       "      <td>Risk</td>\n",
       "    </tr>\n",
       "    <tr>\n",
       "      <td>4</td>\n",
       "      <td>0.676862</td>\n",
       "      <td>245829</td>\n",
       "      <td>CVA</td>\n",
       "      <td>no</td>\n",
       "      <td>no</td>\n",
       "      <td>no</td>\n",
       "      <td>no</td>\n",
       "      <td>no</td>\n",
       "      <td>70.0</td>\n",
       "      <td>20</td>\n",
       "      <td>NoRisk</td>\n",
       "    </tr>\n",
       "    <tr>\n",
       "      <td>...</td>\n",
       "      <td>...</td>\n",
       "      <td>...</td>\n",
       "      <td>...</td>\n",
       "      <td>...</td>\n",
       "      <td>...</td>\n",
       "      <td>...</td>\n",
       "      <td>...</td>\n",
       "      <td>...</td>\n",
       "      <td>...</td>\n",
       "      <td>...</td>\n",
       "      <td>...</td>\n",
       "    </tr>\n",
       "    <tr>\n",
       "      <td>1515</td>\n",
       "      <td>0.419652</td>\n",
       "      <td>93406</td>\n",
       "      <td>A-F</td>\n",
       "      <td>no</td>\n",
       "      <td>yes</td>\n",
       "      <td>no</td>\n",
       "      <td>no</td>\n",
       "      <td>no</td>\n",
       "      <td>76.0</td>\n",
       "      <td>60</td>\n",
       "      <td>NoRisk</td>\n",
       "    </tr>\n",
       "    <tr>\n",
       "      <td>1516</td>\n",
       "      <td>0.253504</td>\n",
       "      <td>121814</td>\n",
       "      <td>A-F</td>\n",
       "      <td>no</td>\n",
       "      <td>no</td>\n",
       "      <td>yes</td>\n",
       "      <td>yes</td>\n",
       "      <td>no</td>\n",
       "      <td>90.0</td>\n",
       "      <td>75</td>\n",
       "      <td>Risk</td>\n",
       "    </tr>\n",
       "    <tr>\n",
       "      <td>1517</td>\n",
       "      <td>0.620373</td>\n",
       "      <td>101754</td>\n",
       "      <td>TIA</td>\n",
       "      <td>no</td>\n",
       "      <td>no</td>\n",
       "      <td>yes</td>\n",
       "      <td>no</td>\n",
       "      <td>no</td>\n",
       "      <td>75.0</td>\n",
       "      <td>20</td>\n",
       "      <td>NoRisk</td>\n",
       "    </tr>\n",
       "    <tr>\n",
       "      <td>1518</td>\n",
       "      <td>0.639342</td>\n",
       "      <td>263836</td>\n",
       "      <td>A-F</td>\n",
       "      <td>no</td>\n",
       "      <td>yes</td>\n",
       "      <td>no</td>\n",
       "      <td>no</td>\n",
       "      <td>no</td>\n",
       "      <td>70.0</td>\n",
       "      <td>45</td>\n",
       "      <td>NoRisk</td>\n",
       "    </tr>\n",
       "    <tr>\n",
       "      <td>1519</td>\n",
       "      <td>0.634922</td>\n",
       "      <td>254941</td>\n",
       "      <td>CVA</td>\n",
       "      <td>no</td>\n",
       "      <td>no</td>\n",
       "      <td>no</td>\n",
       "      <td>no</td>\n",
       "      <td>no</td>\n",
       "      <td>60.0</td>\n",
       "      <td>20</td>\n",
       "      <td>NoRisk</td>\n",
       "    </tr>\n",
       "  </tbody>\n",
       "</table>\n",
       "<p>1520 rows × 11 columns</p>\n",
       "</div>"
      ],
      "text/plain": [
       "        Random      Id Indication Diabetes  IHD Hypertension Arrhythmia  \\\n",
       "0     0.262646  218242        A-F       no   no          yes         no   \n",
       "1     0.084541  159284        TIA       no   no           no         no   \n",
       "2     0.233586  106066        A-F       no  yes          yes         no   \n",
       "3     0.128157  229592        TIA       no   no          yes         no   \n",
       "4     0.676862  245829        CVA       no   no           no         no   \n",
       "...        ...     ...        ...      ...  ...          ...        ...   \n",
       "1515  0.419652   93406        A-F       no  yes           no         no   \n",
       "1516  0.253504  121814        A-F       no   no          yes        yes   \n",
       "1517  0.620373  101754        TIA       no   no          yes         no   \n",
       "1518  0.639342  263836        A-F       no  yes           no         no   \n",
       "1519  0.634922  254941        CVA       no   no           no         no   \n",
       "\n",
       "     History  IPSI  Contra   label  \n",
       "0         no  78.0      20  NoRisk  \n",
       "1         no  70.0      60  NoRisk  \n",
       "2         no  95.0      40    Risk  \n",
       "3         no  90.0      85    Risk  \n",
       "4         no  70.0      20  NoRisk  \n",
       "...      ...   ...     ...     ...  \n",
       "1515      no  76.0      60  NoRisk  \n",
       "1516      no  90.0      75    Risk  \n",
       "1517      no  75.0      20  NoRisk  \n",
       "1518      no  70.0      45  NoRisk  \n",
       "1519      no  60.0      20  NoRisk  \n",
       "\n",
       "[1520 rows x 11 columns]"
      ]
     },
     "execution_count": 169,
     "metadata": {},
     "output_type": "execute_result"
    }
   ],
   "source": [
    "dataset_second_cleaning"
   ]
  },
  {
   "cell_type": "markdown",
   "metadata": {},
   "source": [
    "### Preparing dataset_second_cleaning For Modelling"
   ]
  },
  {
   "cell_type": "code",
   "execution_count": 170,
   "metadata": {},
   "outputs": [
    {
     "name": "stderr",
     "output_type": "stream",
     "text": [
      "C:\\ProgramData\\Anaconda3\\lib\\site-packages\\ipykernel_launcher.py:4: SettingWithCopyWarning: \n",
      "A value is trying to be set on a copy of a slice from a DataFrame\n",
      "\n",
      "See the caveats in the documentation: http://pandas.pydata.org/pandas-docs/stable/user_guide/indexing.html#returning-a-view-versus-a-copy\n",
      "  after removing the cwd from sys.path.\n",
      "C:\\ProgramData\\Anaconda3\\lib\\site-packages\\ipykernel_launcher.py:8: SettingWithCopyWarning: \n",
      "A value is trying to be set on a copy of a slice from a DataFrame\n",
      "\n",
      "See the caveats in the documentation: http://pandas.pydata.org/pandas-docs/stable/user_guide/indexing.html#returning-a-view-versus-a-copy\n",
      "  \n",
      "C:\\ProgramData\\Anaconda3\\lib\\site-packages\\ipykernel_launcher.py:16: SettingWithCopyWarning: \n",
      "A value is trying to be set on a copy of a slice from a DataFrame\n",
      "\n",
      "See the caveats in the documentation: http://pandas.pydata.org/pandas-docs/stable/user_guide/indexing.html#returning-a-view-versus-a-copy\n",
      "  app.launch_new_instance()\n",
      "C:\\ProgramData\\Anaconda3\\lib\\site-packages\\ipykernel_launcher.py:12: SettingWithCopyWarning: \n",
      "A value is trying to be set on a copy of a slice from a DataFrame\n",
      "\n",
      "See the caveats in the documentation: http://pandas.pydata.org/pandas-docs/stable/user_guide/indexing.html#returning-a-view-versus-a-copy\n",
      "  if sys.path[0] == '':\n"
     ]
    }
   ],
   "source": [
    "for index, row in dataset_second_cleaning.iterrows():\n",
    "    if row['Indication'] == 'A-F':\n",
    "        z = dataset_second_cleaning.loc[index, :]\n",
    "        z['Indication'] = 1\n",
    "        dataset_second_cleaning.loc[index, :] = z\n",
    "    elif row['Indication'] == 'TIA':\n",
    "        z = dataset_second_cleaning.loc[index, :]\n",
    "        z['Indication'] = 2\n",
    "        dataset_second_cleaning.loc[index, :] = z\n",
    "    elif row['Indication'] == 'ASx':\n",
    "        z = dataset_second_cleaning.loc[index, :]\n",
    "        z['Indication'] = 3\n",
    "        dataset_second_cleaning.loc[index, :] = z\n",
    "    elif row['Indication'] == 'CVA':\n",
    "        z = dataset_second_cleaning.loc[index, :]\n",
    "        z['Indication'] = 4\n",
    "        dataset_second_cleaning.loc[index, :] = z"
   ]
  },
  {
   "cell_type": "code",
   "execution_count": 171,
   "metadata": {},
   "outputs": [
    {
     "name": "stderr",
     "output_type": "stream",
     "text": [
      "C:\\ProgramData\\Anaconda3\\lib\\site-packages\\ipykernel_launcher.py:8: SettingWithCopyWarning: \n",
      "A value is trying to be set on a copy of a slice from a DataFrame\n",
      "\n",
      "See the caveats in the documentation: http://pandas.pydata.org/pandas-docs/stable/user_guide/indexing.html#returning-a-view-versus-a-copy\n",
      "  \n",
      "C:\\ProgramData\\Anaconda3\\lib\\site-packages\\ipykernel_launcher.py:4: SettingWithCopyWarning: \n",
      "A value is trying to be set on a copy of a slice from a DataFrame\n",
      "\n",
      "See the caveats in the documentation: http://pandas.pydata.org/pandas-docs/stable/user_guide/indexing.html#returning-a-view-versus-a-copy\n",
      "  after removing the cwd from sys.path.\n"
     ]
    }
   ],
   "source": [
    "for index, row in dataset_second_cleaning.iterrows():\n",
    "    if row['Diabetes'] == 'yes':\n",
    "        z = dataset_second_cleaning.loc[index, :]\n",
    "        z['Diabetes'] = 1\n",
    "        dataset_second_cleaning.loc[index, :] = z\n",
    "    elif row['Diabetes'] == 'no':\n",
    "        z = dataset_second_cleaning.loc[index, :]\n",
    "        z['Diabetes'] = 0\n",
    "        dataset_second_cleaning.loc[index, :] = z"
   ]
  },
  {
   "cell_type": "code",
   "execution_count": 172,
   "metadata": {},
   "outputs": [
    {
     "name": "stderr",
     "output_type": "stream",
     "text": [
      "C:\\ProgramData\\Anaconda3\\lib\\site-packages\\ipykernel_launcher.py:8: SettingWithCopyWarning: \n",
      "A value is trying to be set on a copy of a slice from a DataFrame\n",
      "\n",
      "See the caveats in the documentation: http://pandas.pydata.org/pandas-docs/stable/user_guide/indexing.html#returning-a-view-versus-a-copy\n",
      "  \n",
      "C:\\ProgramData\\Anaconda3\\lib\\site-packages\\ipykernel_launcher.py:4: SettingWithCopyWarning: \n",
      "A value is trying to be set on a copy of a slice from a DataFrame\n",
      "\n",
      "See the caveats in the documentation: http://pandas.pydata.org/pandas-docs/stable/user_guide/indexing.html#returning-a-view-versus-a-copy\n",
      "  after removing the cwd from sys.path.\n"
     ]
    }
   ],
   "source": [
    "for index, row in dataset_second_cleaning.iterrows():\n",
    "    if row['IHD'] == 'yes':\n",
    "        z = dataset_second_cleaning.loc[index, :]\n",
    "        z['IHD'] = 1\n",
    "        dataset_second_cleaning.loc[index, :] = z\n",
    "    elif row['IHD'] == 'no':\n",
    "        z = dataset_second_cleaning.loc[index, :]\n",
    "        z['IHD'] = 0\n",
    "        dataset_second_cleaning.loc[index, :] = z"
   ]
  },
  {
   "cell_type": "code",
   "execution_count": 173,
   "metadata": {},
   "outputs": [
    {
     "name": "stderr",
     "output_type": "stream",
     "text": [
      "C:\\ProgramData\\Anaconda3\\lib\\site-packages\\ipykernel_launcher.py:4: SettingWithCopyWarning: \n",
      "A value is trying to be set on a copy of a slice from a DataFrame\n",
      "\n",
      "See the caveats in the documentation: http://pandas.pydata.org/pandas-docs/stable/user_guide/indexing.html#returning-a-view-versus-a-copy\n",
      "  after removing the cwd from sys.path.\n",
      "C:\\ProgramData\\Anaconda3\\lib\\site-packages\\ipykernel_launcher.py:8: SettingWithCopyWarning: \n",
      "A value is trying to be set on a copy of a slice from a DataFrame\n",
      "\n",
      "See the caveats in the documentation: http://pandas.pydata.org/pandas-docs/stable/user_guide/indexing.html#returning-a-view-versus-a-copy\n",
      "  \n"
     ]
    }
   ],
   "source": [
    "for index, row in dataset_second_cleaning.iterrows():\n",
    "    if row['Hypertension'] == 'yes':\n",
    "        z = dataset_second_cleaning.loc[index, :]\n",
    "        z['Hypertension'] = 1\n",
    "        dataset_second_cleaning.loc[index, :] = z\n",
    "    elif row['Hypertension'] == 'no':\n",
    "        z = dataset_second_cleaning.loc[index, :]\n",
    "        z['Hypertension'] = 0\n",
    "        dataset_second_cleaning.loc[index, :] = z"
   ]
  },
  {
   "cell_type": "code",
   "execution_count": 174,
   "metadata": {},
   "outputs": [
    {
     "name": "stderr",
     "output_type": "stream",
     "text": [
      "C:\\ProgramData\\Anaconda3\\lib\\site-packages\\ipykernel_launcher.py:8: SettingWithCopyWarning: \n",
      "A value is trying to be set on a copy of a slice from a DataFrame\n",
      "\n",
      "See the caveats in the documentation: http://pandas.pydata.org/pandas-docs/stable/user_guide/indexing.html#returning-a-view-versus-a-copy\n",
      "  \n",
      "C:\\ProgramData\\Anaconda3\\lib\\site-packages\\ipykernel_launcher.py:4: SettingWithCopyWarning: \n",
      "A value is trying to be set on a copy of a slice from a DataFrame\n",
      "\n",
      "See the caveats in the documentation: http://pandas.pydata.org/pandas-docs/stable/user_guide/indexing.html#returning-a-view-versus-a-copy\n",
      "  after removing the cwd from sys.path.\n"
     ]
    }
   ],
   "source": [
    "for index, row in dataset_second_cleaning.iterrows():\n",
    "    if row['Arrhythmia'] == 'yes':\n",
    "        z = dataset_second_cleaning.loc[index, :]\n",
    "        z['Arrhythmia'] = 1\n",
    "        dataset_second_cleaning.loc[index, :] = z\n",
    "    elif row['Arrhythmia'] == 'no':\n",
    "        z = dataset_second_cleaning.loc[index, :]\n",
    "        z['Arrhythmia'] = 0\n",
    "        dataset_second_cleaning.loc[index, :] = z"
   ]
  },
  {
   "cell_type": "code",
   "execution_count": 175,
   "metadata": {},
   "outputs": [
    {
     "name": "stderr",
     "output_type": "stream",
     "text": [
      "C:\\ProgramData\\Anaconda3\\lib\\site-packages\\ipykernel_launcher.py:8: SettingWithCopyWarning: \n",
      "A value is trying to be set on a copy of a slice from a DataFrame\n",
      "\n",
      "See the caveats in the documentation: http://pandas.pydata.org/pandas-docs/stable/user_guide/indexing.html#returning-a-view-versus-a-copy\n",
      "  \n",
      "C:\\ProgramData\\Anaconda3\\lib\\site-packages\\ipykernel_launcher.py:4: SettingWithCopyWarning: \n",
      "A value is trying to be set on a copy of a slice from a DataFrame\n",
      "\n",
      "See the caveats in the documentation: http://pandas.pydata.org/pandas-docs/stable/user_guide/indexing.html#returning-a-view-versus-a-copy\n",
      "  after removing the cwd from sys.path.\n"
     ]
    }
   ],
   "source": [
    "for index, row in dataset_second_cleaning.iterrows():\n",
    "    if row['History'] == 'yes':\n",
    "        z = dataset_second_cleaning.loc[index, :]\n",
    "        z['History'] = 1\n",
    "        dataset_second_cleaning.loc[index, :] = z\n",
    "    elif row['History'] == 'no':\n",
    "        z = dataset_second_cleaning.loc[index, :]\n",
    "        z['History'] = 0\n",
    "        dataset_second_cleaning.loc[index, :] = z"
   ]
  },
  {
   "cell_type": "code",
   "execution_count": 176,
   "metadata": {},
   "outputs": [
    {
     "name": "stderr",
     "output_type": "stream",
     "text": [
      "C:\\ProgramData\\Anaconda3\\lib\\site-packages\\ipykernel_launcher.py:8: SettingWithCopyWarning: \n",
      "A value is trying to be set on a copy of a slice from a DataFrame\n",
      "\n",
      "See the caveats in the documentation: http://pandas.pydata.org/pandas-docs/stable/user_guide/indexing.html#returning-a-view-versus-a-copy\n",
      "  \n",
      "C:\\ProgramData\\Anaconda3\\lib\\site-packages\\ipykernel_launcher.py:4: SettingWithCopyWarning: \n",
      "A value is trying to be set on a copy of a slice from a DataFrame\n",
      "\n",
      "See the caveats in the documentation: http://pandas.pydata.org/pandas-docs/stable/user_guide/indexing.html#returning-a-view-versus-a-copy\n",
      "  after removing the cwd from sys.path.\n"
     ]
    }
   ],
   "source": [
    "for index, row in dataset_second_cleaning.iterrows():\n",
    "    if row['label'] == 'Risk':\n",
    "        z = dataset_second_cleaning.loc[index, :]\n",
    "        z['label'] = 1\n",
    "        dataset_second_cleaning.loc[index, :] = z\n",
    "    elif row['label'] == 'NoRisk':\n",
    "        z = dataset_second_cleaning.loc[index, :]\n",
    "        z['label'] = 0\n",
    "        dataset_second_cleaning.loc[index, :] = z"
   ]
  },
  {
   "cell_type": "code",
   "execution_count": 177,
   "metadata": {},
   "outputs": [],
   "source": [
    "dataset_second_cleaning = dataset_second_cleaning.drop(['Random'], axis=1)\n",
    "dataset_second_cleaning = dataset_second_cleaning.drop(['Id'], axis=1)"
   ]
  },
  {
   "cell_type": "markdown",
   "metadata": {},
   "source": [
    "# Cleaning 3.0 Using Decision Trees"
   ]
  },
  {
   "cell_type": "code",
   "execution_count": 178,
   "metadata": {},
   "outputs": [
    {
     "data": {
      "text/html": [
       "<div>\n",
       "<style scoped>\n",
       "    .dataframe tbody tr th:only-of-type {\n",
       "        vertical-align: middle;\n",
       "    }\n",
       "\n",
       "    .dataframe tbody tr th {\n",
       "        vertical-align: top;\n",
       "    }\n",
       "\n",
       "    .dataframe thead th {\n",
       "        text-align: right;\n",
       "    }\n",
       "</style>\n",
       "<table border=\"1\" class=\"dataframe\">\n",
       "  <thead>\n",
       "    <tr style=\"text-align: right;\">\n",
       "      <th></th>\n",
       "      <th>Indication</th>\n",
       "      <th>Diabetes</th>\n",
       "      <th>IHD</th>\n",
       "      <th>Hypertension</th>\n",
       "      <th>Arrhythmia</th>\n",
       "      <th>History</th>\n",
       "      <th>IPSI</th>\n",
       "      <th>Contra</th>\n",
       "      <th>label</th>\n",
       "    </tr>\n",
       "  </thead>\n",
       "  <tbody>\n",
       "    <tr>\n",
       "      <td>0</td>\n",
       "      <td>A-F</td>\n",
       "      <td>no</td>\n",
       "      <td>no</td>\n",
       "      <td>yes</td>\n",
       "      <td>no</td>\n",
       "      <td>no</td>\n",
       "      <td>78.0</td>\n",
       "      <td>20</td>\n",
       "      <td>NoRisk</td>\n",
       "    </tr>\n",
       "    <tr>\n",
       "      <td>1</td>\n",
       "      <td>TIA</td>\n",
       "      <td>no</td>\n",
       "      <td>no</td>\n",
       "      <td>no</td>\n",
       "      <td>no</td>\n",
       "      <td>no</td>\n",
       "      <td>70.0</td>\n",
       "      <td>60</td>\n",
       "      <td>NoRisk</td>\n",
       "    </tr>\n",
       "    <tr>\n",
       "      <td>2</td>\n",
       "      <td>A-F</td>\n",
       "      <td>no</td>\n",
       "      <td>yes</td>\n",
       "      <td>yes</td>\n",
       "      <td>no</td>\n",
       "      <td>no</td>\n",
       "      <td>95.0</td>\n",
       "      <td>40</td>\n",
       "      <td>Risk</td>\n",
       "    </tr>\n",
       "    <tr>\n",
       "      <td>3</td>\n",
       "      <td>TIA</td>\n",
       "      <td>no</td>\n",
       "      <td>no</td>\n",
       "      <td>yes</td>\n",
       "      <td>no</td>\n",
       "      <td>no</td>\n",
       "      <td>90.0</td>\n",
       "      <td>85</td>\n",
       "      <td>Risk</td>\n",
       "    </tr>\n",
       "    <tr>\n",
       "      <td>4</td>\n",
       "      <td>CVA</td>\n",
       "      <td>no</td>\n",
       "      <td>no</td>\n",
       "      <td>no</td>\n",
       "      <td>no</td>\n",
       "      <td>no</td>\n",
       "      <td>70.0</td>\n",
       "      <td>20</td>\n",
       "      <td>NoRisk</td>\n",
       "    </tr>\n",
       "    <tr>\n",
       "      <td>...</td>\n",
       "      <td>...</td>\n",
       "      <td>...</td>\n",
       "      <td>...</td>\n",
       "      <td>...</td>\n",
       "      <td>...</td>\n",
       "      <td>...</td>\n",
       "      <td>...</td>\n",
       "      <td>...</td>\n",
       "      <td>...</td>\n",
       "    </tr>\n",
       "    <tr>\n",
       "      <td>1466</td>\n",
       "      <td>A-F</td>\n",
       "      <td>no</td>\n",
       "      <td>yes</td>\n",
       "      <td>no</td>\n",
       "      <td>no</td>\n",
       "      <td>no</td>\n",
       "      <td>76.0</td>\n",
       "      <td>60</td>\n",
       "      <td>NoRisk</td>\n",
       "    </tr>\n",
       "    <tr>\n",
       "      <td>1467</td>\n",
       "      <td>A-F</td>\n",
       "      <td>no</td>\n",
       "      <td>no</td>\n",
       "      <td>yes</td>\n",
       "      <td>yes</td>\n",
       "      <td>no</td>\n",
       "      <td>90.0</td>\n",
       "      <td>75</td>\n",
       "      <td>Risk</td>\n",
       "    </tr>\n",
       "    <tr>\n",
       "      <td>1468</td>\n",
       "      <td>TIA</td>\n",
       "      <td>no</td>\n",
       "      <td>no</td>\n",
       "      <td>yes</td>\n",
       "      <td>no</td>\n",
       "      <td>no</td>\n",
       "      <td>75.0</td>\n",
       "      <td>20</td>\n",
       "      <td>NoRisk</td>\n",
       "    </tr>\n",
       "    <tr>\n",
       "      <td>1469</td>\n",
       "      <td>A-F</td>\n",
       "      <td>no</td>\n",
       "      <td>yes</td>\n",
       "      <td>no</td>\n",
       "      <td>no</td>\n",
       "      <td>no</td>\n",
       "      <td>70.0</td>\n",
       "      <td>45</td>\n",
       "      <td>NoRisk</td>\n",
       "    </tr>\n",
       "    <tr>\n",
       "      <td>1470</td>\n",
       "      <td>CVA</td>\n",
       "      <td>no</td>\n",
       "      <td>no</td>\n",
       "      <td>no</td>\n",
       "      <td>no</td>\n",
       "      <td>no</td>\n",
       "      <td>60.0</td>\n",
       "      <td>20</td>\n",
       "      <td>NoRisk</td>\n",
       "    </tr>\n",
       "  </tbody>\n",
       "</table>\n",
       "<p>1468 rows × 9 columns</p>\n",
       "</div>"
      ],
      "text/plain": [
       "     Indication Diabetes  IHD Hypertension Arrhythmia History  IPSI  Contra  \\\n",
       "0           A-F       no   no          yes         no      no  78.0      20   \n",
       "1           TIA       no   no           no         no      no  70.0      60   \n",
       "2           A-F       no  yes          yes         no      no  95.0      40   \n",
       "3           TIA       no   no          yes         no      no  90.0      85   \n",
       "4           CVA       no   no           no         no      no  70.0      20   \n",
       "...         ...      ...  ...          ...        ...     ...   ...     ...   \n",
       "1466        A-F       no  yes           no         no      no  76.0      60   \n",
       "1467        A-F       no   no          yes        yes      no  90.0      75   \n",
       "1468        TIA       no   no          yes         no      no  75.0      20   \n",
       "1469        A-F       no  yes           no         no      no  70.0      45   \n",
       "1470        CVA       no   no           no         no      no  60.0      20   \n",
       "\n",
       "       label  \n",
       "0     NoRisk  \n",
       "1     NoRisk  \n",
       "2       Risk  \n",
       "3       Risk  \n",
       "4     NoRisk  \n",
       "...      ...  \n",
       "1466  NoRisk  \n",
       "1467    Risk  \n",
       "1468  NoRisk  \n",
       "1469  NoRisk  \n",
       "1470  NoRisk  \n",
       "\n",
       "[1468 rows x 9 columns]"
      ]
     },
     "execution_count": 178,
     "metadata": {},
     "output_type": "execute_result"
    }
   ],
   "source": [
    "DecisionTree_one = Simple_Cleaning_df.copy()\n",
    "DecisionTree_one = DecisionTree_one.dropna()\n",
    "DecisionTree_one"
   ]
  },
  {
   "cell_type": "markdown",
   "metadata": {},
   "source": [
    "In order to properly prepare the 3rd dataframe correctly for creating a decision tree model you first have to remove an imputes from the dataframe which is why the 3rd dataframe is a copy of the first dataframe as all the imputes have been dropped from the dataframe meaning it doesn't contain any unknown/null values in the dataframe which could reduce significantly the accuracy of the dataframe."
   ]
  },
  {
   "cell_type": "markdown",
   "metadata": {},
   "source": [
    "### Converting Indication into Binary"
   ]
  },
  {
   "cell_type": "code",
   "execution_count": 179,
   "metadata": {},
   "outputs": [
    {
     "name": "stderr",
     "output_type": "stream",
     "text": [
      "C:\\ProgramData\\Anaconda3\\lib\\site-packages\\ipykernel_launcher.py:4: SettingWithCopyWarning: \n",
      "A value is trying to be set on a copy of a slice from a DataFrame\n",
      "\n",
      "See the caveats in the documentation: http://pandas.pydata.org/pandas-docs/stable/user_guide/indexing.html#returning-a-view-versus-a-copy\n",
      "  after removing the cwd from sys.path.\n",
      "C:\\ProgramData\\Anaconda3\\lib\\site-packages\\ipykernel_launcher.py:8: SettingWithCopyWarning: \n",
      "A value is trying to be set on a copy of a slice from a DataFrame\n",
      "\n",
      "See the caveats in the documentation: http://pandas.pydata.org/pandas-docs/stable/user_guide/indexing.html#returning-a-view-versus-a-copy\n",
      "  \n",
      "C:\\ProgramData\\Anaconda3\\lib\\site-packages\\ipykernel_launcher.py:16: SettingWithCopyWarning: \n",
      "A value is trying to be set on a copy of a slice from a DataFrame\n",
      "\n",
      "See the caveats in the documentation: http://pandas.pydata.org/pandas-docs/stable/user_guide/indexing.html#returning-a-view-versus-a-copy\n",
      "  app.launch_new_instance()\n",
      "C:\\ProgramData\\Anaconda3\\lib\\site-packages\\ipykernel_launcher.py:12: SettingWithCopyWarning: \n",
      "A value is trying to be set on a copy of a slice from a DataFrame\n",
      "\n",
      "See the caveats in the documentation: http://pandas.pydata.org/pandas-docs/stable/user_guide/indexing.html#returning-a-view-versus-a-copy\n",
      "  if sys.path[0] == '':\n"
     ]
    }
   ],
   "source": [
    "for index, row in DecisionTree_one.iterrows():\n",
    "    if row['Indication'] == 'A-F':\n",
    "        z = DecisionTree_one.loc[index, :]\n",
    "        z['Indication'] = 1\n",
    "        DecisionTree_one.loc[index, :] = z\n",
    "    elif row['Indication'] == 'TIA':\n",
    "        z = DecisionTree_one.loc[index, :]\n",
    "        z['Indication'] = 2\n",
    "        DecisionTree_one.loc[index, :] = z\n",
    "    elif row['Indication'] == 'ASx':\n",
    "        z = DecisionTree_one.loc[index, :]\n",
    "        z['Indication'] = 3\n",
    "        DecisionTree_one.loc[index, :] = z\n",
    "    elif row['Indication'] == 'CVA':\n",
    "        z = DecisionTree_one.loc[index, :]\n",
    "        z['Indication'] = 4\n",
    "        DecisionTree_one.loc[index, :] = z"
   ]
  },
  {
   "cell_type": "markdown",
   "metadata": {},
   "source": [
    "### Converting Diabetes into Binary "
   ]
  },
  {
   "cell_type": "code",
   "execution_count": 180,
   "metadata": {},
   "outputs": [
    {
     "name": "stderr",
     "output_type": "stream",
     "text": [
      "C:\\ProgramData\\Anaconda3\\lib\\site-packages\\ipykernel_launcher.py:8: SettingWithCopyWarning: \n",
      "A value is trying to be set on a copy of a slice from a DataFrame\n",
      "\n",
      "See the caveats in the documentation: http://pandas.pydata.org/pandas-docs/stable/user_guide/indexing.html#returning-a-view-versus-a-copy\n",
      "  \n",
      "C:\\ProgramData\\Anaconda3\\lib\\site-packages\\ipykernel_launcher.py:4: SettingWithCopyWarning: \n",
      "A value is trying to be set on a copy of a slice from a DataFrame\n",
      "\n",
      "See the caveats in the documentation: http://pandas.pydata.org/pandas-docs/stable/user_guide/indexing.html#returning-a-view-versus-a-copy\n",
      "  after removing the cwd from sys.path.\n"
     ]
    }
   ],
   "source": [
    "for index, row in DecisionTree_one.iterrows():\n",
    "    if row['Diabetes'] == 'yes':\n",
    "        z = DecisionTree_one.loc[index, :]\n",
    "        z['Diabetes'] = 1\n",
    "        DecisionTree_one.loc[index, :] = z\n",
    "    elif row['Diabetes'] == 'no':\n",
    "        z = DecisionTree_one.loc[index, :]\n",
    "        z['Diabetes'] = 0\n",
    "        DecisionTree_one.loc[index, :] = z"
   ]
  },
  {
   "cell_type": "markdown",
   "metadata": {},
   "source": [
    "### Converting IHD into Binary"
   ]
  },
  {
   "cell_type": "code",
   "execution_count": 181,
   "metadata": {},
   "outputs": [
    {
     "name": "stderr",
     "output_type": "stream",
     "text": [
      "C:\\ProgramData\\Anaconda3\\lib\\site-packages\\ipykernel_launcher.py:8: SettingWithCopyWarning: \n",
      "A value is trying to be set on a copy of a slice from a DataFrame\n",
      "\n",
      "See the caveats in the documentation: http://pandas.pydata.org/pandas-docs/stable/user_guide/indexing.html#returning-a-view-versus-a-copy\n",
      "  \n",
      "C:\\ProgramData\\Anaconda3\\lib\\site-packages\\ipykernel_launcher.py:4: SettingWithCopyWarning: \n",
      "A value is trying to be set on a copy of a slice from a DataFrame\n",
      "\n",
      "See the caveats in the documentation: http://pandas.pydata.org/pandas-docs/stable/user_guide/indexing.html#returning-a-view-versus-a-copy\n",
      "  after removing the cwd from sys.path.\n"
     ]
    }
   ],
   "source": [
    "for index, row in DecisionTree_one.iterrows():\n",
    "    if row['IHD'] == 'yes':\n",
    "        z = DecisionTree_one.loc[index, :]\n",
    "        z['IHD'] = 1\n",
    "        DecisionTree_one.loc[index, :] = z\n",
    "    elif row['IHD'] == 'no':\n",
    "        z = DecisionTree_one.loc[index, :]\n",
    "        z['IHD'] = 0\n",
    "        DecisionTree_one.loc[index, :] = z"
   ]
  },
  {
   "cell_type": "markdown",
   "metadata": {},
   "source": [
    "### Converting Hypertension into Binary "
   ]
  },
  {
   "cell_type": "code",
   "execution_count": 182,
   "metadata": {},
   "outputs": [
    {
     "name": "stderr",
     "output_type": "stream",
     "text": [
      "C:\\ProgramData\\Anaconda3\\lib\\site-packages\\ipykernel_launcher.py:4: SettingWithCopyWarning: \n",
      "A value is trying to be set on a copy of a slice from a DataFrame\n",
      "\n",
      "See the caveats in the documentation: http://pandas.pydata.org/pandas-docs/stable/user_guide/indexing.html#returning-a-view-versus-a-copy\n",
      "  after removing the cwd from sys.path.\n",
      "C:\\ProgramData\\Anaconda3\\lib\\site-packages\\ipykernel_launcher.py:8: SettingWithCopyWarning: \n",
      "A value is trying to be set on a copy of a slice from a DataFrame\n",
      "\n",
      "See the caveats in the documentation: http://pandas.pydata.org/pandas-docs/stable/user_guide/indexing.html#returning-a-view-versus-a-copy\n",
      "  \n"
     ]
    }
   ],
   "source": [
    "for index, row in DecisionTree_one.iterrows():\n",
    "    if row['Hypertension'] == 'yes':\n",
    "        z = DecisionTree_one.loc[index, :]\n",
    "        z['Hypertension'] = 1\n",
    "        DecisionTree_one.loc[index, :] = z\n",
    "    elif row['Hypertension'] == 'no':\n",
    "        z = DecisionTree_one.loc[index, :]\n",
    "        z['Hypertension'] = 0\n",
    "        DecisionTree_one.loc[index, :] = z"
   ]
  },
  {
   "cell_type": "markdown",
   "metadata": {},
   "source": [
    "### Converting Arrhythmia into Binary "
   ]
  },
  {
   "cell_type": "code",
   "execution_count": 183,
   "metadata": {},
   "outputs": [
    {
     "name": "stderr",
     "output_type": "stream",
     "text": [
      "C:\\ProgramData\\Anaconda3\\lib\\site-packages\\ipykernel_launcher.py:8: SettingWithCopyWarning: \n",
      "A value is trying to be set on a copy of a slice from a DataFrame\n",
      "\n",
      "See the caveats in the documentation: http://pandas.pydata.org/pandas-docs/stable/user_guide/indexing.html#returning-a-view-versus-a-copy\n",
      "  \n",
      "C:\\ProgramData\\Anaconda3\\lib\\site-packages\\ipykernel_launcher.py:4: SettingWithCopyWarning: \n",
      "A value is trying to be set on a copy of a slice from a DataFrame\n",
      "\n",
      "See the caveats in the documentation: http://pandas.pydata.org/pandas-docs/stable/user_guide/indexing.html#returning-a-view-versus-a-copy\n",
      "  after removing the cwd from sys.path.\n"
     ]
    }
   ],
   "source": [
    "for index, row in DecisionTree_one.iterrows():\n",
    "    if row['Arrhythmia'] == 'yes':\n",
    "        z = DecisionTree_one.loc[index, :]\n",
    "        z['Arrhythmia'] = 1\n",
    "        DecisionTree_one.loc[index, :] = z\n",
    "    elif row['Arrhythmia'] == 'no':\n",
    "        z = DecisionTree_one.loc[index, :]\n",
    "        z['Arrhythmia'] = 0\n",
    "        DecisionTree_one.loc[index, :] = z"
   ]
  },
  {
   "cell_type": "markdown",
   "metadata": {},
   "source": [
    "### Converting History into Binary"
   ]
  },
  {
   "cell_type": "code",
   "execution_count": 184,
   "metadata": {},
   "outputs": [
    {
     "name": "stderr",
     "output_type": "stream",
     "text": [
      "C:\\ProgramData\\Anaconda3\\lib\\site-packages\\ipykernel_launcher.py:8: SettingWithCopyWarning: \n",
      "A value is trying to be set on a copy of a slice from a DataFrame\n",
      "\n",
      "See the caveats in the documentation: http://pandas.pydata.org/pandas-docs/stable/user_guide/indexing.html#returning-a-view-versus-a-copy\n",
      "  \n",
      "C:\\ProgramData\\Anaconda3\\lib\\site-packages\\ipykernel_launcher.py:4: SettingWithCopyWarning: \n",
      "A value is trying to be set on a copy of a slice from a DataFrame\n",
      "\n",
      "See the caveats in the documentation: http://pandas.pydata.org/pandas-docs/stable/user_guide/indexing.html#returning-a-view-versus-a-copy\n",
      "  after removing the cwd from sys.path.\n"
     ]
    }
   ],
   "source": [
    "for index, row in DecisionTree_one.iterrows():\n",
    "    if row['History'] == 'yes':\n",
    "        z = DecisionTree_one.loc[index, :]\n",
    "        z['History'] = 1\n",
    "        DecisionTree_one.loc[index, :] = z\n",
    "    elif row['History'] == 'no':\n",
    "        z = DecisionTree_one.loc[index, :]\n",
    "        z['History'] = 0\n",
    "        DecisionTree_one.loc[index, :] = z"
   ]
  },
  {
   "cell_type": "markdown",
   "metadata": {},
   "source": [
    "### Converting Label into Binary"
   ]
  },
  {
   "cell_type": "code",
   "execution_count": 185,
   "metadata": {},
   "outputs": [
    {
     "name": "stderr",
     "output_type": "stream",
     "text": [
      "C:\\ProgramData\\Anaconda3\\lib\\site-packages\\ipykernel_launcher.py:8: SettingWithCopyWarning: \n",
      "A value is trying to be set on a copy of a slice from a DataFrame\n",
      "\n",
      "See the caveats in the documentation: http://pandas.pydata.org/pandas-docs/stable/user_guide/indexing.html#returning-a-view-versus-a-copy\n",
      "  \n",
      "C:\\ProgramData\\Anaconda3\\lib\\site-packages\\ipykernel_launcher.py:4: SettingWithCopyWarning: \n",
      "A value is trying to be set on a copy of a slice from a DataFrame\n",
      "\n",
      "See the caveats in the documentation: http://pandas.pydata.org/pandas-docs/stable/user_guide/indexing.html#returning-a-view-versus-a-copy\n",
      "  after removing the cwd from sys.path.\n"
     ]
    }
   ],
   "source": [
    "for index, row in DecisionTree_one.iterrows():\n",
    "    if row['label'] == 'Risk':\n",
    "        z = DecisionTree_one.loc[index, :]\n",
    "        z['label'] = 1\n",
    "        DecisionTree_one.loc[index, :] = z\n",
    "    elif row['label'] == 'NoRisk':\n",
    "        z = DecisionTree_one.loc[index, :]\n",
    "        z['label'] = 0\n",
    "        DecisionTree_one.loc[index, :] = z"
   ]
  },
  {
   "cell_type": "code",
   "execution_count": 186,
   "metadata": {},
   "outputs": [],
   "source": [
    "Simple_Cleaning_df = DecisionTree_one.copy()"
   ]
  },
  {
   "cell_type": "markdown",
   "metadata": {},
   "source": [
    "### Creating The Decision Tree"
   ]
  },
  {
   "cell_type": "code",
   "execution_count": 187,
   "metadata": {},
   "outputs": [],
   "source": [
    "import pandas as pd\n",
    "from sklearn.tree import DecisionTreeClassifier # Import Decision Tree Classifier\n",
    "from sklearn.model_selection import train_test_split # Import train_test_split function\n",
    "from sklearn import metrics #Import scikit-learn metrics module for accuracy calculation\n",
    "import sklearn"
   ]
  },
  {
   "cell_type": "code",
   "execution_count": 188,
   "metadata": {},
   "outputs": [],
   "source": [
    "DecisionTree_one = sklearn.utils.shuffle(DecisionTree_one) # always shuffle your data to avoid any biases \n",
    "X = DecisionTree_one.drop('label', axis=1).values # Features\n",
    "y = DecisionTree_one['label'].values"
   ]
  },
  {
   "cell_type": "code",
   "execution_count": 189,
   "metadata": {},
   "outputs": [],
   "source": [
    "X_train, X_test, y_train, y_test = train_test_split(X, y, test_size=0.3, random_state=1) # 70% training and 30% test"
   ]
  },
  {
   "cell_type": "code",
   "execution_count": 190,
   "metadata": {},
   "outputs": [],
   "source": [
    "# Create Decision Tree classifer object\n",
    "clf = DecisionTreeClassifier(criterion = 'gini', random_state = 100)\n",
    "\n",
    "# Train Decision Tree Classifer\n",
    "clf = clf.fit(X_train,y_train)\n",
    "\n",
    "#Predict the response for test dataset\n",
    "y_pred = clf.predict(X_test)"
   ]
  },
  {
   "cell_type": "code",
   "execution_count": 191,
   "metadata": {},
   "outputs": [
    {
     "name": "stdout",
     "output_type": "stream",
     "text": [
      "Accuracy: 0.9909297052154195\n"
     ]
    }
   ],
   "source": [
    "print(\"Accuracy:\",metrics.accuracy_score(y_test, y_pred))"
   ]
  },
  {
   "cell_type": "code",
   "execution_count": 192,
   "metadata": {},
   "outputs": [
    {
     "name": "stdout",
     "output_type": "stream",
     "text": [
      "Model: 1, Actual: 1\n",
      "Model: 0, Actual: 0\n",
      "Model: 0, Actual: 0\n",
      "Model: 1, Actual: 1\n",
      "Model: 0, Actual: 0\n",
      "Model: 0, Actual: 0\n",
      "Model: 0, Actual: 0\n",
      "Model: 0, Actual: 0\n",
      "Model: 0, Actual: 0\n",
      "Model: 0, Actual: 0\n",
      "Model: 0, Actual: 0\n",
      "Model: 0, Actual: 0\n",
      "Model: 1, Actual: 1\n",
      "Model: 0, Actual: 0\n",
      "Model: 0, Actual: 0\n",
      "Model: 0, Actual: 0\n",
      "Model: 0, Actual: 0\n",
      "Model: 1, Actual: 1\n",
      "Model: 0, Actual: 0\n",
      "Model: 0, Actual: 0\n",
      "Model: 0, Actual: 0\n",
      "Model: 0, Actual: 0\n",
      "Model: 1, Actual: 1\n",
      "Model: 0, Actual: 0\n",
      "Model: 0, Actual: 0\n",
      "Model: 0, Actual: 0\n",
      "Model: 0, Actual: 0\n",
      "Model: 0, Actual: 0\n",
      "Model: 0, Actual: 0\n",
      "Model: 1, Actual: 1\n",
      "Model: 1, Actual: 1\n",
      "Model: 1, Actual: 1\n",
      "Model: 1, Actual: 1\n",
      "Model: 0, Actual: 0\n",
      "Model: 1, Actual: 1\n",
      "Model: 1, Actual: 1\n",
      "Model: 0, Actual: 0\n",
      "Model: 0, Actual: 0\n",
      "Model: 0, Actual: 0\n",
      "Model: 0, Actual: 0\n",
      "Model: 0, Actual: 0\n",
      "Model: 0, Actual: 0\n",
      "Model: 1, Actual: 1\n",
      "Model: 0, Actual: 0\n",
      "Model: 0, Actual: 0\n",
      "Model: 1, Actual: 1\n",
      "Model: 1, Actual: 1\n",
      "Model: 0, Actual: 0\n",
      "Model: 1, Actual: 1\n",
      "Model: 0, Actual: 0\n",
      "Model: 1, Actual: 1\n",
      "Model: 1, Actual: 1\n",
      "Model: 0, Actual: 0\n",
      "Model: 0, Actual: 0\n",
      "Model: 1, Actual: 1\n",
      "Model: 0, Actual: 0\n",
      "Model: 1, Actual: 1\n",
      "Model: 0, Actual: 0\n",
      "Model: 0, Actual: 0\n",
      "Model: 0, Actual: 0\n",
      "Model: 0, Actual: 0\n",
      "Model: 1, Actual: 1\n",
      "Model: 0, Actual: 0\n",
      "Model: 1, Actual: 1\n",
      "Model: 0, Actual: 0\n",
      "Model: 0, Actual: 0\n",
      "Model: 1, Actual: 1\n",
      "Model: 1, Actual: 1\n",
      "Model: 0, Actual: 0\n",
      "Model: 1, Actual: 1\n",
      "Model: 0, Actual: 0\n",
      "Model: 0, Actual: 0\n",
      "Model: 0, Actual: 0\n",
      "Model: 1, Actual: 1\n",
      "Model: 1, Actual: 1\n",
      "Model: 1, Actual: 1\n",
      "Model: 0, Actual: 0\n",
      "Model: 1, Actual: 1\n",
      "Model: 0, Actual: 0\n",
      "Model: 1, Actual: 1\n",
      "Model: 0, Actual: 0\n",
      "Model: 0, Actual: 0\n",
      "Model: 0, Actual: 0\n",
      "Model: 0, Actual: 0\n",
      "Model: 0, Actual: 0\n",
      "Model: 0, Actual: 0\n",
      "Model: 0, Actual: 0\n",
      "Model: 0, Actual: 0\n",
      "Model: 1, Actual: 1\n",
      "Model: 0, Actual: 0\n",
      "Model: 1, Actual: 1\n",
      "Model: 0, Actual: 0\n",
      "Model: 0, Actual: 0\n",
      "Model: 0, Actual: 0\n",
      "Model: 1, Actual: 1\n",
      "Model: 1, Actual: 1\n",
      "Model: 0, Actual: 0\n",
      "Model: 0, Actual: 0\n",
      "Model: 1, Actual: 1\n",
      "Model: 1, Actual: 1\n",
      "Model: 1, Actual: 1\n",
      "Model: 0, Actual: 0\n",
      "Model: 0, Actual: 0\n",
      "Model: 1, Actual: 1\n",
      "Model: 0, Actual: 0\n",
      "Model: 1, Actual: 1\n",
      "Model: 0, Actual: 0\n",
      "Model: 0, Actual: 0\n",
      "Model: 0, Actual: 0\n",
      "Model: 0, Actual: 0\n",
      "Model: 0, Actual: 0\n",
      "Model: 0, Actual: 0\n",
      "Model: 0, Actual: 0\n",
      "Model: 0, Actual: 0\n",
      "Model: 0, Actual: 0\n",
      "Model: 1, Actual: 1\n",
      "Model: 0, Actual: 0\n",
      "Model: 1, Actual: 1\n",
      "Model: 1, Actual: 1\n",
      "Model: 1, Actual: 1\n",
      "Model: 1, Actual: 1\n",
      "Model: 1, Actual: 1\n",
      "Model: 1, Actual: 0\n",
      "Model: 1, Actual: 1\n",
      "Model: 0, Actual: 0\n",
      "Model: 1, Actual: 1\n",
      "Model: 0, Actual: 0\n",
      "Model: 0, Actual: 0\n",
      "Model: 0, Actual: 0\n",
      "Model: 0, Actual: 0\n",
      "Model: 0, Actual: 0\n",
      "Model: 0, Actual: 0\n",
      "Model: 0, Actual: 0\n",
      "Model: 0, Actual: 0\n",
      "Model: 1, Actual: 1\n",
      "Model: 0, Actual: 0\n",
      "Model: 0, Actual: 0\n",
      "Model: 0, Actual: 0\n",
      "Model: 1, Actual: 1\n",
      "Model: 0, Actual: 0\n",
      "Model: 0, Actual: 0\n",
      "Model: 0, Actual: 0\n",
      "Model: 0, Actual: 0\n",
      "Model: 0, Actual: 0\n",
      "Model: 0, Actual: 0\n",
      "Model: 0, Actual: 0\n",
      "Model: 0, Actual: 0\n",
      "Model: 0, Actual: 0\n",
      "Model: 0, Actual: 0\n",
      "Model: 1, Actual: 1\n",
      "Model: 0, Actual: 0\n",
      "Model: 0, Actual: 0\n",
      "Model: 0, Actual: 0\n",
      "Model: 1, Actual: 1\n",
      "Model: 0, Actual: 0\n",
      "Model: 1, Actual: 1\n",
      "Model: 0, Actual: 0\n",
      "Model: 0, Actual: 0\n",
      "Model: 1, Actual: 1\n",
      "Model: 0, Actual: 0\n",
      "Model: 1, Actual: 1\n",
      "Model: 0, Actual: 0\n",
      "Model: 0, Actual: 0\n",
      "Model: 0, Actual: 0\n",
      "Model: 0, Actual: 0\n",
      "Model: 0, Actual: 0\n",
      "Model: 0, Actual: 0\n",
      "Model: 0, Actual: 0\n",
      "Model: 0, Actual: 0\n",
      "Model: 1, Actual: 1\n",
      "Model: 0, Actual: 0\n",
      "Model: 1, Actual: 1\n",
      "Model: 0, Actual: 0\n",
      "Model: 0, Actual: 0\n",
      "Model: 1, Actual: 1\n",
      "Model: 0, Actual: 0\n",
      "Model: 0, Actual: 0\n",
      "Model: 0, Actual: 0\n",
      "Model: 0, Actual: 0\n",
      "Model: 1, Actual: 1\n",
      "Model: 0, Actual: 0\n",
      "Model: 1, Actual: 1\n",
      "Model: 0, Actual: 0\n",
      "Model: 0, Actual: 0\n",
      "Model: 0, Actual: 0\n",
      "Model: 0, Actual: 0\n",
      "Model: 0, Actual: 0\n",
      "Model: 1, Actual: 1\n",
      "Model: 0, Actual: 0\n",
      "Model: 0, Actual: 0\n",
      "Model: 0, Actual: 0\n",
      "Model: 1, Actual: 1\n",
      "Model: 0, Actual: 0\n",
      "Model: 0, Actual: 0\n",
      "Model: 0, Actual: 0\n",
      "Model: 0, Actual: 0\n",
      "Model: 0, Actual: 0\n",
      "Model: 0, Actual: 0\n",
      "Model: 0, Actual: 0\n",
      "Model: 0, Actual: 0\n",
      "Model: 0, Actual: 0\n",
      "Model: 0, Actual: 0\n",
      "Model: 0, Actual: 0\n",
      "Model: 1, Actual: 1\n",
      "Model: 1, Actual: 1\n",
      "Model: 0, Actual: 0\n",
      "Model: 1, Actual: 1\n",
      "Model: 0, Actual: 0\n",
      "Model: 1, Actual: 1\n",
      "Model: 0, Actual: 0\n",
      "Model: 1, Actual: 1\n",
      "Model: 1, Actual: 1\n",
      "Model: 1, Actual: 1\n",
      "Model: 1, Actual: 1\n",
      "Model: 1, Actual: 1\n",
      "Model: 0, Actual: 0\n",
      "Model: 0, Actual: 0\n",
      "Model: 0, Actual: 0\n",
      "Model: 1, Actual: 1\n",
      "Model: 1, Actual: 1\n",
      "Model: 0, Actual: 0\n",
      "Model: 0, Actual: 0\n",
      "Model: 1, Actual: 1\n",
      "Model: 1, Actual: 1\n",
      "Model: 0, Actual: 0\n",
      "Model: 0, Actual: 0\n",
      "Model: 0, Actual: 0\n",
      "Model: 0, Actual: 0\n",
      "Model: 0, Actual: 0\n",
      "Model: 0, Actual: 0\n",
      "Model: 0, Actual: 0\n",
      "Model: 0, Actual: 0\n",
      "Model: 0, Actual: 0\n",
      "Model: 1, Actual: 1\n",
      "Model: 0, Actual: 0\n",
      "Model: 1, Actual: 1\n",
      "Model: 0, Actual: 0\n",
      "Model: 0, Actual: 0\n",
      "Model: 1, Actual: 1\n",
      "Model: 0, Actual: 0\n",
      "Model: 1, Actual: 1\n",
      "Model: 1, Actual: 1\n",
      "Model: 1, Actual: 1\n",
      "Model: 0, Actual: 0\n",
      "Model: 1, Actual: 1\n",
      "Model: 0, Actual: 0\n",
      "Model: 0, Actual: 0\n",
      "Model: 0, Actual: 0\n",
      "Model: 0, Actual: 0\n",
      "Model: 0, Actual: 0\n",
      "Model: 0, Actual: 0\n",
      "Model: 0, Actual: 0\n",
      "Model: 0, Actual: 1\n",
      "Model: 1, Actual: 1\n",
      "Model: 0, Actual: 0\n",
      "Model: 1, Actual: 1\n",
      "Model: 0, Actual: 0\n",
      "Model: 1, Actual: 1\n",
      "Model: 0, Actual: 0\n",
      "Model: 0, Actual: 0\n",
      "Model: 0, Actual: 0\n",
      "Model: 1, Actual: 1\n",
      "Model: 1, Actual: 1\n",
      "Model: 0, Actual: 0\n",
      "Model: 0, Actual: 0\n",
      "Model: 0, Actual: 0\n",
      "Model: 0, Actual: 0\n",
      "Model: 1, Actual: 1\n",
      "Model: 0, Actual: 0\n",
      "Model: 0, Actual: 0\n",
      "Model: 1, Actual: 1\n",
      "Model: 0, Actual: 0\n",
      "Model: 0, Actual: 0\n",
      "Model: 0, Actual: 0\n",
      "Model: 1, Actual: 1\n",
      "Model: 1, Actual: 1\n",
      "Model: 1, Actual: 1\n",
      "Model: 0, Actual: 0\n",
      "Model: 0, Actual: 0\n",
      "Model: 1, Actual: 1\n",
      "Model: 0, Actual: 0\n",
      "Model: 1, Actual: 1\n",
      "Model: 0, Actual: 0\n",
      "Model: 0, Actual: 0\n",
      "Model: 1, Actual: 1\n",
      "Model: 0, Actual: 0\n",
      "Model: 1, Actual: 1\n",
      "Model: 0, Actual: 0\n",
      "Model: 0, Actual: 0\n",
      "Model: 1, Actual: 1\n",
      "Model: 0, Actual: 0\n",
      "Model: 0, Actual: 0\n",
      "Model: 1, Actual: 1\n",
      "Model: 0, Actual: 0\n",
      "Model: 0, Actual: 0\n",
      "Model: 0, Actual: 0\n",
      "Model: 0, Actual: 0\n",
      "Model: 1, Actual: 1\n",
      "Model: 0, Actual: 0\n",
      "Model: 0, Actual: 0\n",
      "Model: 0, Actual: 0\n",
      "Model: 1, Actual: 1\n",
      "Model: 1, Actual: 1\n",
      "Model: 0, Actual: 0\n",
      "Model: 0, Actual: 0\n",
      "Model: 1, Actual: 1\n",
      "Model: 0, Actual: 0\n",
      "Model: 0, Actual: 0\n",
      "Model: 0, Actual: 1\n",
      "Model: 1, Actual: 1\n",
      "Model: 0, Actual: 0\n",
      "Model: 1, Actual: 1\n",
      "Model: 0, Actual: 0\n",
      "Model: 1, Actual: 1\n",
      "Model: 0, Actual: 0\n",
      "Model: 0, Actual: 0\n",
      "Model: 0, Actual: 0\n",
      "Model: 1, Actual: 1\n",
      "Model: 0, Actual: 0\n",
      "Model: 0, Actual: 0\n",
      "Model: 0, Actual: 0\n",
      "Model: 0, Actual: 0\n",
      "Model: 0, Actual: 0\n",
      "Model: 0, Actual: 0\n",
      "Model: 0, Actual: 0\n",
      "Model: 1, Actual: 1\n",
      "Model: 0, Actual: 0\n",
      "Model: 0, Actual: 0\n",
      "Model: 0, Actual: 0\n",
      "Model: 1, Actual: 1\n",
      "Model: 1, Actual: 1\n",
      "Model: 1, Actual: 1\n",
      "Model: 1, Actual: 1\n",
      "Model: 1, Actual: 1\n",
      "Model: 1, Actual: 1\n",
      "Model: 0, Actual: 0\n",
      "Model: 0, Actual: 0\n",
      "Model: 0, Actual: 0\n",
      "Model: 0, Actual: 0\n",
      "Model: 0, Actual: 0\n",
      "Model: 0, Actual: 0\n",
      "Model: 1, Actual: 1\n",
      "Model: 0, Actual: 0\n",
      "Model: 1, Actual: 1\n",
      "Model: 0, Actual: 0\n",
      "Model: 0, Actual: 0\n",
      "Model: 1, Actual: 1\n",
      "Model: 0, Actual: 0\n",
      "Model: 1, Actual: 1\n",
      "Model: 0, Actual: 0\n",
      "Model: 1, Actual: 1\n",
      "Model: 0, Actual: 0\n",
      "Model: 0, Actual: 0\n",
      "Model: 0, Actual: 0\n",
      "Model: 0, Actual: 0\n",
      "Model: 1, Actual: 1\n",
      "Model: 0, Actual: 0\n",
      "Model: 0, Actual: 0\n",
      "Model: 0, Actual: 0\n",
      "Model: 0, Actual: 0\n",
      "Model: 1, Actual: 1\n",
      "Model: 1, Actual: 1\n",
      "Model: 0, Actual: 0\n",
      "Model: 0, Actual: 0\n",
      "Model: 0, Actual: 0\n",
      "Model: 1, Actual: 1\n",
      "Model: 1, Actual: 1\n",
      "Model: 1, Actual: 1\n",
      "Model: 0, Actual: 1\n",
      "Model: 0, Actual: 0\n",
      "Model: 1, Actual: 1\n",
      "Model: 1, Actual: 1\n",
      "Model: 1, Actual: 1\n",
      "Model: 0, Actual: 0\n",
      "Model: 1, Actual: 1\n",
      "Model: 0, Actual: 0\n",
      "Model: 0, Actual: 0\n",
      "Model: 0, Actual: 0\n",
      "Model: 1, Actual: 1\n",
      "Model: 1, Actual: 1\n",
      "Model: 0, Actual: 0\n",
      "Model: 1, Actual: 1\n",
      "Model: 0, Actual: 0\n",
      "Model: 0, Actual: 0\n",
      "Model: 1, Actual: 1\n",
      "Model: 0, Actual: 0\n",
      "Model: 0, Actual: 0\n",
      "Model: 0, Actual: 0\n",
      "Model: 0, Actual: 0\n",
      "Model: 0, Actual: 0\n",
      "Model: 1, Actual: 1\n",
      "Model: 0, Actual: 0\n",
      "Model: 0, Actual: 0\n",
      "Model: 0, Actual: 0\n",
      "Model: 0, Actual: 0\n",
      "Model: 0, Actual: 0\n",
      "Model: 0, Actual: 0\n",
      "Model: 0, Actual: 0\n",
      "Model: 0, Actual: 0\n",
      "Model: 0, Actual: 0\n",
      "Model: 1, Actual: 1\n",
      "Model: 0, Actual: 0\n",
      "Model: 0, Actual: 0\n",
      "Model: 1, Actual: 1\n",
      "Model: 0, Actual: 0\n",
      "Model: 1, Actual: 1\n",
      "Model: 0, Actual: 0\n",
      "Model: 0, Actual: 0\n",
      "Model: 0, Actual: 0\n",
      "Model: 0, Actual: 0\n",
      "Model: 0, Actual: 0\n",
      "Model: 0, Actual: 0\n",
      "Model: 0, Actual: 0\n",
      "Model: 1, Actual: 1\n",
      "Model: 1, Actual: 1\n",
      "Model: 0, Actual: 0\n",
      "Model: 0, Actual: 0\n",
      "Model: 0, Actual: 0\n",
      "Model: 0, Actual: 0\n",
      "Model: 0, Actual: 0\n",
      "Model: 0, Actual: 0\n",
      "Model: 0, Actual: 0\n",
      "Model: 0, Actual: 0\n",
      "Model: 0, Actual: 0\n",
      "Model: 1, Actual: 1\n",
      "Model: 0, Actual: 0\n",
      "Model: 0, Actual: 0\n",
      "Model: 0, Actual: 0\n",
      "Model: 0, Actual: 0\n",
      "Model: 1, Actual: 1\n",
      "Model: 1, Actual: 1\n",
      "Model: 0, Actual: 0\n",
      "Model: 0, Actual: 0\n",
      "Model: 0, Actual: 0\n",
      "Model: 0, Actual: 0\n",
      "Model: 0, Actual: 0\n",
      "Model: 0, Actual: 0\n",
      "Model: 0, Actual: 0\n",
      "Model: 0, Actual: 0\n",
      "Model: 1, Actual: 1\n",
      "Model: 1, Actual: 1\n"
     ]
    }
   ],
   "source": [
    "model_predictions  = []\n",
    "actual_predictions = []\n",
    "for P, j in zip(X_test, y_test):\n",
    "    print(f\"Model: {clf.predict([P])[0]}, Actual: {j}\")\n",
    "    model_predictions.append(clf.predict([P])[0])\n",
    "    actual_predictions.append(y_pred)"
   ]
  },
  {
   "cell_type": "code",
   "execution_count": 193,
   "metadata": {},
   "outputs": [
    {
     "data": {
      "text/plain": [
       "array([0], dtype=int64)"
      ]
     },
     "execution_count": 193,
     "metadata": {},
     "output_type": "execute_result"
    }
   ],
   "source": [
    "X = [[2, 1, 0, 0, 0, 1, 90, 50]]\n",
    "clf.predict(X)"
   ]
  },
  {
   "cell_type": "markdown",
   "metadata": {},
   "source": [
    "### Fixing Indication Using Decision Trees"
   ]
  },
  {
   "cell_type": "code",
   "execution_count": 194,
   "metadata": {},
   "outputs": [],
   "source": [
    "DecisionTree_two = data.copy()"
   ]
  },
  {
   "cell_type": "code",
   "execution_count": 195,
   "metadata": {},
   "outputs": [],
   "source": [
    "DecisionTree_two = DecisionTree_two.replace(to_replace = 'Asx', value = \"ASx\")"
   ]
  },
  {
   "cell_type": "code",
   "execution_count": 196,
   "metadata": {},
   "outputs": [],
   "source": [
    "dataDecisionIndication = DecisionTree_two['Indication'].isnull()"
   ]
  },
  {
   "cell_type": "code",
   "execution_count": 197,
   "metadata": {},
   "outputs": [
    {
     "name": "stdout",
     "output_type": "stream",
     "text": [
      "442\n",
      "822\n",
      "1007\n"
     ]
    }
   ],
   "source": [
    "counter = -1\n",
    "for item in dataDecisionIndication:\n",
    "    counter = counter + 1\n",
    "    if item == True:\n",
    "        print(counter)"
   ]
  },
  {
   "cell_type": "code",
   "execution_count": 198,
   "metadata": {},
   "outputs": [
    {
     "name": "stdout",
     "output_type": "stream",
     "text": [
      "442 Random          0.648122\n",
      "Id                261060\n",
      "Indication           NaN\n",
      "Diabetes              no\n",
      "IHD                  yes\n",
      "Hypertension         yes\n",
      "Arrhythmia            no\n",
      "History               no\n",
      "IPSI                  70\n",
      "Contra                40\n",
      "label             NoRisk\n",
      "Name: 442, dtype: object\n",
      "822 Random          0.21176\n",
      "Id               205845\n",
      "Indication          NaN\n",
      "Diabetes             no\n",
      "IHD                 yes\n",
      "Hypertension         no\n",
      "Arrhythmia           no\n",
      "History              no\n",
      "IPSI                 80\n",
      "Contra              100\n",
      "label              Risk\n",
      "Name: 822, dtype: object\n",
      "1007 Random          0.761219\n",
      "Id                256076\n",
      "Indication           NaN\n",
      "Diabetes              no\n",
      "IHD                   no\n",
      "Hypertension          no\n",
      "Arrhythmia           yes\n",
      "History              yes\n",
      "IPSI                  99\n",
      "Contra               100\n",
      "label               Risk\n",
      "Name: 1007, dtype: object\n"
     ]
    }
   ],
   "source": [
    " for index, row in DecisionTree_two.iterrows():\n",
    "    if (index == 442) or (index == 822) or (index == 1007):\n",
    "        print(index, row)"
   ]
  },
  {
   "cell_type": "code",
   "execution_count": 199,
   "metadata": {},
   "outputs": [
    {
     "name": "stderr",
     "output_type": "stream",
     "text": [
      "C:\\ProgramData\\Anaconda3\\lib\\site-packages\\ipykernel_launcher.py:4: SettingWithCopyWarning: \n",
      "A value is trying to be set on a copy of a slice from a DataFrame\n",
      "\n",
      "See the caveats in the documentation: http://pandas.pydata.org/pandas-docs/stable/user_guide/indexing.html#returning-a-view-versus-a-copy\n",
      "  after removing the cwd from sys.path.\n",
      "C:\\ProgramData\\Anaconda3\\lib\\site-packages\\ipykernel_launcher.py:8: SettingWithCopyWarning: \n",
      "A value is trying to be set on a copy of a slice from a DataFrame\n",
      "\n",
      "See the caveats in the documentation: http://pandas.pydata.org/pandas-docs/stable/user_guide/indexing.html#returning-a-view-versus-a-copy\n",
      "  \n",
      "C:\\ProgramData\\Anaconda3\\lib\\site-packages\\ipykernel_launcher.py:12: SettingWithCopyWarning: \n",
      "A value is trying to be set on a copy of a slice from a DataFrame\n",
      "\n",
      "See the caveats in the documentation: http://pandas.pydata.org/pandas-docs/stable/user_guide/indexing.html#returning-a-view-versus-a-copy\n",
      "  if sys.path[0] == '':\n"
     ]
    }
   ],
   "source": [
    "for index, row in DecisionTree_two.iterrows():\n",
    "    if index == 442:\n",
    "        z = DecisionTree_two.loc[index, :]\n",
    "        z['Indication'] = 'A-F'\n",
    "        DecisionTree_two.loc[index, :] = z\n",
    "    if index == 822:\n",
    "        z = DecisionTree_two.loc[index, :]\n",
    "        z['Indication'] = 'A-F'\n",
    "        DecisionTree_two.loc[index, :] = z\n",
    "    if index == 1007:\n",
    "        z = DecisionTree_two.loc[index, :]\n",
    "        z['Indication'] = 'CVA'\n",
    "        DecisionTree_two.loc[index, :] = z"
   ]
  },
  {
   "cell_type": "markdown",
   "metadata": {},
   "source": [
    "### Fixing Diabetes Using Decision Trees"
   ]
  },
  {
   "cell_type": "code",
   "execution_count": 200,
   "metadata": {},
   "outputs": [],
   "source": [
    "DiabetesNull = DecisionTree_two['Diabetes'].isnull()"
   ]
  },
  {
   "cell_type": "code",
   "execution_count": 201,
   "metadata": {},
   "outputs": [
    {
     "name": "stdout",
     "output_type": "stream",
     "text": [
      "447\n",
      "514\n"
     ]
    }
   ],
   "source": [
    "counter = -1\n",
    "for item in DiabetesNull:\n",
    "    counter = counter + 1\n",
    "    if item == True:\n",
    "        print(counter)"
   ]
  },
  {
   "cell_type": "code",
   "execution_count": 202,
   "metadata": {},
   "outputs": [
    {
     "name": "stdout",
     "output_type": "stream",
     "text": [
      "447 Random          0.681744\n",
      "Id                224257\n",
      "Indication           CVA\n",
      "Diabetes             NaN\n",
      "IHD                  yes\n",
      "Hypertension         yes\n",
      "Arrhythmia           yes\n",
      "History               no\n",
      "IPSI                  90\n",
      "Contra               100\n",
      "label               Risk\n",
      "Name: 447, dtype: object\n",
      "514 Random          0.39213\n",
      "Id               210861\n",
      "Indication          A-F\n",
      "Diabetes            NaN\n",
      "IHD                  no\n",
      "Hypertension        yes\n",
      "Arrhythmia           no\n",
      "History              no\n",
      "IPSI                 80\n",
      "Contra               40\n",
      "label            NoRisk\n",
      "Name: 514, dtype: object\n"
     ]
    }
   ],
   "source": [
    "for index, row in DecisionTree_two.iterrows():\n",
    "    if (index == 447) or (index == 514):\n",
    "        print(index, row)"
   ]
  },
  {
   "cell_type": "code",
   "execution_count": 203,
   "metadata": {},
   "outputs": [
    {
     "name": "stderr",
     "output_type": "stream",
     "text": [
      "C:\\ProgramData\\Anaconda3\\lib\\site-packages\\ipykernel_launcher.py:4: SettingWithCopyWarning: \n",
      "A value is trying to be set on a copy of a slice from a DataFrame\n",
      "\n",
      "See the caveats in the documentation: http://pandas.pydata.org/pandas-docs/stable/user_guide/indexing.html#returning-a-view-versus-a-copy\n",
      "  after removing the cwd from sys.path.\n",
      "C:\\ProgramData\\Anaconda3\\lib\\site-packages\\ipykernel_launcher.py:8: SettingWithCopyWarning: \n",
      "A value is trying to be set on a copy of a slice from a DataFrame\n",
      "\n",
      "See the caveats in the documentation: http://pandas.pydata.org/pandas-docs/stable/user_guide/indexing.html#returning-a-view-versus-a-copy\n",
      "  \n"
     ]
    }
   ],
   "source": [
    "for index, row in DecisionTree_two.iterrows():\n",
    "    if index == 447:\n",
    "        z = DecisionTree_two.loc[index, :]\n",
    "        z['Diabetes'] = 'no'\n",
    "        DecisionTree_two.loc[index, :] = z\n",
    "    if index == 514:\n",
    "        z = DecisionTree_two.loc[index, :]\n",
    "        z['Diabetes'] = 'no'\n",
    "        DecisionTree_two.loc[index, :] = z"
   ]
  },
  {
   "cell_type": "markdown",
   "metadata": {},
   "source": [
    "### Fixing Hypertension Using Decision Trees"
   ]
  },
  {
   "cell_type": "code",
   "execution_count": 204,
   "metadata": {},
   "outputs": [],
   "source": [
    "dataDecisionHYP = DecisionTree_two['Hypertension'].isnull()"
   ]
  },
  {
   "cell_type": "code",
   "execution_count": 205,
   "metadata": {},
   "outputs": [
    {
     "name": "stdout",
     "output_type": "stream",
     "text": [
      "201\n",
      "590\n",
      "983\n"
     ]
    }
   ],
   "source": [
    "counter = -1\n",
    "for item in dataDecisionHYP:\n",
    "    counter = counter + 1\n",
    "    if item == True:\n",
    "        print(counter)"
   ]
  },
  {
   "cell_type": "code",
   "execution_count": 206,
   "metadata": {},
   "outputs": [
    {
     "name": "stdout",
     "output_type": "stream",
     "text": [
      "201 Random          0.38879\n",
      "Id               240232\n",
      "Indication          CVA\n",
      "Diabetes            yes\n",
      "IHD                  no\n",
      "Hypertension        NaN\n",
      "Arrhythmia          yes\n",
      "History              no\n",
      "IPSI                 95\n",
      "Contra               90\n",
      "label              Risk\n",
      "Name: 201, dtype: object\n",
      "590 Random          0.70795\n",
      "Id               289096\n",
      "Indication          A-F\n",
      "Diabetes             no\n",
      "IHD                  no\n",
      "Hypertension        NaN\n",
      "Arrhythmia           no\n",
      "History              no\n",
      "IPSI                 78\n",
      "Contra               30\n",
      "label            NoRisk\n",
      "Name: 590, dtype: object\n",
      "983 Random          0.319215\n",
      "Id                158024\n",
      "Indication           TIA\n",
      "Diabetes              no\n",
      "IHD                   no\n",
      "Hypertension         NaN\n",
      "Arrhythmia            no\n",
      "History               no\n",
      "IPSI                  75\n",
      "Contra                75\n",
      "label             NoRisk\n",
      "Name: 983, dtype: object\n"
     ]
    }
   ],
   "source": [
    "for index, row in DecisionTree_two.iterrows():\n",
    "    if (index == 201) or (index == 590) or (index == 983):\n",
    "        print(index, row)"
   ]
  },
  {
   "cell_type": "code",
   "execution_count": 207,
   "metadata": {},
   "outputs": [
    {
     "name": "stderr",
     "output_type": "stream",
     "text": [
      "C:\\ProgramData\\Anaconda3\\lib\\site-packages\\ipykernel_launcher.py:4: SettingWithCopyWarning: \n",
      "A value is trying to be set on a copy of a slice from a DataFrame\n",
      "\n",
      "See the caveats in the documentation: http://pandas.pydata.org/pandas-docs/stable/user_guide/indexing.html#returning-a-view-versus-a-copy\n",
      "  after removing the cwd from sys.path.\n",
      "C:\\ProgramData\\Anaconda3\\lib\\site-packages\\ipykernel_launcher.py:8: SettingWithCopyWarning: \n",
      "A value is trying to be set on a copy of a slice from a DataFrame\n",
      "\n",
      "See the caveats in the documentation: http://pandas.pydata.org/pandas-docs/stable/user_guide/indexing.html#returning-a-view-versus-a-copy\n",
      "  \n",
      "C:\\ProgramData\\Anaconda3\\lib\\site-packages\\ipykernel_launcher.py:12: SettingWithCopyWarning: \n",
      "A value is trying to be set on a copy of a slice from a DataFrame\n",
      "\n",
      "See the caveats in the documentation: http://pandas.pydata.org/pandas-docs/stable/user_guide/indexing.html#returning-a-view-versus-a-copy\n",
      "  if sys.path[0] == '':\n"
     ]
    }
   ],
   "source": [
    "for index, row in DecisionTree_two.iterrows():\n",
    "    if index == 201:\n",
    "        z = DecisionTree_two.loc[index, :]\n",
    "        z['Hypertension'] = 'yes'\n",
    "        DecisionTree_two.loc[index, :] = z\n",
    "    if index == 590:\n",
    "        z = DecisionTree_two.loc[index, :]\n",
    "        z['Hypertension'] = 'no'\n",
    "        DecisionTree_two.loc[index, :] = z\n",
    "    if index == 983:\n",
    "        z = DecisionTree_two.loc[index, :]\n",
    "        z['Hypertension'] = 'no'\n",
    "        DecisionTree_two.loc[index, :] = z"
   ]
  },
  {
   "cell_type": "markdown",
   "metadata": {},
   "source": [
    "### Fixing History Using Decision Trees"
   ]
  },
  {
   "cell_type": "code",
   "execution_count": 208,
   "metadata": {},
   "outputs": [],
   "source": [
    "dataDecisionHis = DecisionTree_two['History'].isnull()"
   ]
  },
  {
   "cell_type": "code",
   "execution_count": 209,
   "metadata": {},
   "outputs": [
    {
     "name": "stdout",
     "output_type": "stream",
     "text": [
      "337\n",
      "784\n"
     ]
    }
   ],
   "source": [
    "counter = -1\n",
    "for item in dataDecisionHis:\n",
    "    counter = counter + 1\n",
    "    if item == True:\n",
    "        print(counter)"
   ]
  },
  {
   "cell_type": "code",
   "execution_count": 210,
   "metadata": {},
   "outputs": [
    {
     "name": "stdout",
     "output_type": "stream",
     "text": [
      "337 Random          0.617072\n",
      "Id                260770\n",
      "Indication           CVA\n",
      "Diabetes              no\n",
      "IHD                  yes\n",
      "Hypertension          no\n",
      "Arrhythmia            no\n",
      "History              NaN\n",
      "IPSI                  85\n",
      "Contra                50\n",
      "label             NoRisk\n",
      "Name: 337, dtype: object\n",
      "784 Random          0.243645\n",
      "Id                196483\n",
      "Indication           CVA\n",
      "Diabetes              no\n",
      "IHD                   no\n",
      "Hypertension         yes\n",
      "Arrhythmia           yes\n",
      "History              NaN\n",
      "IPSI                  95\n",
      "Contra               100\n",
      "label               Risk\n",
      "Name: 784, dtype: object\n"
     ]
    }
   ],
   "source": [
    "for index, row in DecisionTree_two.iterrows():\n",
    "    if (index == 337) or (index == 784):\n",
    "        print(index, row)"
   ]
  },
  {
   "cell_type": "code",
   "execution_count": 211,
   "metadata": {},
   "outputs": [
    {
     "name": "stderr",
     "output_type": "stream",
     "text": [
      "C:\\ProgramData\\Anaconda3\\lib\\site-packages\\ipykernel_launcher.py:4: SettingWithCopyWarning: \n",
      "A value is trying to be set on a copy of a slice from a DataFrame\n",
      "\n",
      "See the caveats in the documentation: http://pandas.pydata.org/pandas-docs/stable/user_guide/indexing.html#returning-a-view-versus-a-copy\n",
      "  after removing the cwd from sys.path.\n",
      "C:\\ProgramData\\Anaconda3\\lib\\site-packages\\ipykernel_launcher.py:8: SettingWithCopyWarning: \n",
      "A value is trying to be set on a copy of a slice from a DataFrame\n",
      "\n",
      "See the caveats in the documentation: http://pandas.pydata.org/pandas-docs/stable/user_guide/indexing.html#returning-a-view-versus-a-copy\n",
      "  \n"
     ]
    }
   ],
   "source": [
    "for index, row in DecisionTree_two.iterrows():\n",
    "    if index == 337:\n",
    "        z = DecisionTree_two.loc[index, :]\n",
    "        z['History'] = 'no'\n",
    "        DecisionTree_two.loc[index, :] = z\n",
    "    if index == 784:\n",
    "        z = DecisionTree_two.loc[index, :]\n",
    "        z['History'] = 'no'\n",
    "        DecisionTree_two.loc[index, :] = z"
   ]
  },
  {
   "cell_type": "markdown",
   "metadata": {},
   "source": [
    "### Fixing IPSI Using Decision Trees"
   ]
  },
  {
   "cell_type": "code",
   "execution_count": 212,
   "metadata": {},
   "outputs": [],
   "source": [
    "dataDecisionIPSI = DecisionTree_two['IPSI'].isnull()"
   ]
  },
  {
   "cell_type": "code",
   "execution_count": 213,
   "metadata": {},
   "outputs": [
    {
     "name": "stdout",
     "output_type": "stream",
     "text": [
      "620\n",
      "752\n",
      "845\n",
      "916\n"
     ]
    }
   ],
   "source": [
    "counter = -1\n",
    "for item in dataDecisionIPSI:\n",
    "    counter = counter + 1\n",
    "    if item == True:\n",
    "        print(counter)"
   ]
  },
  {
   "cell_type": "code",
   "execution_count": 214,
   "metadata": {},
   "outputs": [
    {
     "name": "stdout",
     "output_type": "stream",
     "text": [
      "620 Random          0.283872\n",
      "Id                227779\n",
      "Indication           A-F\n",
      "Diabetes              no\n",
      "IHD                   no\n",
      "Hypertension          no\n",
      "Arrhythmia            no\n",
      "History               no\n",
      "IPSI                 NaN\n",
      "Contra               100\n",
      "label               Risk\n",
      "Name: 620, dtype: object\n",
      "752 Random          0.243518\n",
      "Id                146415\n",
      "Indication           CVA\n",
      "Diabetes              no\n",
      "IHD                  yes\n",
      "Hypertension         yes\n",
      "Arrhythmia           yes\n",
      "History               no\n",
      "IPSI                 NaN\n",
      "Contra               100\n",
      "label               Risk\n",
      "Name: 752, dtype: object\n",
      "845 Random          0.920096\n",
      "Id                104176\n",
      "Indication           CVA\n",
      "Diabetes              no\n",
      "IHD                   no\n",
      "Hypertension          no\n",
      "Arrhythmia            no\n",
      "History               no\n",
      "IPSI                 NaN\n",
      "Contra                20\n",
      "label             NoRisk\n",
      "Name: 845, dtype: object\n",
      "916 Random          0.00450114\n",
      "Id                  281679\n",
      "Indication             A-F\n",
      "Diabetes                no\n",
      "IHD                     no\n",
      "Hypertension            no\n",
      "Arrhythmia              no\n",
      "History                 no\n",
      "IPSI                   NaN\n",
      "Contra                  50\n",
      "label               NoRisk\n",
      "Name: 916, dtype: object\n"
     ]
    }
   ],
   "source": [
    "for index, row in DecisionTree_two.iterrows():\n",
    "    if (index == 620) or (index == 752) or (index == 845) or (index == 916):\n",
    "        print(index, row)"
   ]
  },
  {
   "cell_type": "code",
   "execution_count": 215,
   "metadata": {},
   "outputs": [
    {
     "name": "stderr",
     "output_type": "stream",
     "text": [
      "C:\\ProgramData\\Anaconda3\\lib\\site-packages\\ipykernel_launcher.py:4: SettingWithCopyWarning: \n",
      "A value is trying to be set on a copy of a slice from a DataFrame\n",
      "\n",
      "See the caveats in the documentation: http://pandas.pydata.org/pandas-docs/stable/user_guide/indexing.html#returning-a-view-versus-a-copy\n",
      "  after removing the cwd from sys.path.\n",
      "C:\\ProgramData\\Anaconda3\\lib\\site-packages\\ipykernel_launcher.py:8: SettingWithCopyWarning: \n",
      "A value is trying to be set on a copy of a slice from a DataFrame\n",
      "\n",
      "See the caveats in the documentation: http://pandas.pydata.org/pandas-docs/stable/user_guide/indexing.html#returning-a-view-versus-a-copy\n",
      "  \n",
      "C:\\ProgramData\\Anaconda3\\lib\\site-packages\\ipykernel_launcher.py:12: SettingWithCopyWarning: \n",
      "A value is trying to be set on a copy of a slice from a DataFrame\n",
      "\n",
      "See the caveats in the documentation: http://pandas.pydata.org/pandas-docs/stable/user_guide/indexing.html#returning-a-view-versus-a-copy\n",
      "  if sys.path[0] == '':\n",
      "C:\\ProgramData\\Anaconda3\\lib\\site-packages\\ipykernel_launcher.py:16: SettingWithCopyWarning: \n",
      "A value is trying to be set on a copy of a slice from a DataFrame\n",
      "\n",
      "See the caveats in the documentation: http://pandas.pydata.org/pandas-docs/stable/user_guide/indexing.html#returning-a-view-versus-a-copy\n",
      "  app.launch_new_instance()\n"
     ]
    }
   ],
   "source": [
    "for index, row in DecisionTree_two.iterrows():\n",
    "    if index == 620:\n",
    "        z = DecisionTree_two.loc[index, :]\n",
    "        z['IPSI'] = 80\n",
    "        DecisionTree_two.loc[index, :] = z\n",
    "    if index == 752:\n",
    "        z = DecisionTree_two.loc[index, :]\n",
    "        z['IPSI'] = 90\n",
    "        DecisionTree_two.loc[index, :] = z\n",
    "    if index == 845:\n",
    "        z = DecisionTree_two.loc[index, :]\n",
    "        z['IPSI'] = 60\n",
    "        DecisionTree_two.loc[index, :] = z\n",
    "    if index == 916:\n",
    "        z = DecisionTree_two.loc[index, :]\n",
    "        z['IPSI'] = 90\n",
    "        DecisionTree_two.loc[index, :] = z"
   ]
  },
  {
   "cell_type": "markdown",
   "metadata": {},
   "source": [
    "### Fixing Contra Using Decision Trees"
   ]
  },
  {
   "cell_type": "code",
   "execution_count": 216,
   "metadata": {},
   "outputs": [
    {
     "name": "stdout",
     "output_type": "stream",
     "text": [
      "453 Random          0.518558\n",
      "Id                254469\n",
      "Indication           ASx\n",
      "Diabetes              no\n",
      "IHD                   no\n",
      "Hypertension         yes\n",
      "Arrhythmia            no\n",
      "History               no\n",
      "IPSI                  70\n",
      "Contra                  \n",
      "label             NoRisk\n",
      "Name: 453, dtype: object\n"
     ]
    }
   ],
   "source": [
    "for index, row in DecisionTree_two.iterrows():\n",
    "    if row['Contra'].isspace() == True:\n",
    "        print(index, row)"
   ]
  },
  {
   "cell_type": "code",
   "execution_count": 217,
   "metadata": {},
   "outputs": [
    {
     "name": "stderr",
     "output_type": "stream",
     "text": [
      "C:\\ProgramData\\Anaconda3\\lib\\site-packages\\ipykernel_launcher.py:4: SettingWithCopyWarning: \n",
      "A value is trying to be set on a copy of a slice from a DataFrame\n",
      "\n",
      "See the caveats in the documentation: http://pandas.pydata.org/pandas-docs/stable/user_guide/indexing.html#returning-a-view-versus-a-copy\n",
      "  after removing the cwd from sys.path.\n"
     ]
    }
   ],
   "source": [
    "for index, row in DecisionTree_two.iterrows():\n",
    "    if index == 453:\n",
    "        z = DecisionTree_two.loc[index, :]\n",
    "        z['Contra'] = 60\n",
    "        DecisionTree_two.loc[index, :] = z"
   ]
  },
  {
   "cell_type": "code",
   "execution_count": 218,
   "metadata": {},
   "outputs": [],
   "source": [
    "DecisionTree_two['Contra'] = pd.to_numeric(DecisionTree_two['Contra'])"
   ]
  },
  {
   "cell_type": "markdown",
   "metadata": {},
   "source": [
    "### Fixing Label Using Decision Trees"
   ]
  },
  {
   "cell_type": "code",
   "execution_count": 219,
   "metadata": {},
   "outputs": [
    {
     "name": "stdout",
     "output_type": "stream",
     "text": [
      "475 Random          0.298074\n",
      "Id                173791\n",
      "Indication           ASx\n",
      "Diabetes              no\n",
      "IHD                  yes\n",
      "Hypertension         yes\n",
      "Arrhythmia            no\n",
      "History               no\n",
      "IPSI                  70\n",
      "Contra                55\n",
      "label            Unknown\n",
      "Name: 475, dtype: object\n",
      "523 Random          0.46017\n",
      "Id               283846\n",
      "Indication          CVA\n",
      "Diabetes             no\n",
      "IHD                  no\n",
      "Hypertension        yes\n",
      "Arrhythmia          yes\n",
      "History              no\n",
      "IPSI                 95\n",
      "Contra              100\n",
      "label           Unknown\n",
      "Name: 523, dtype: object\n",
      "812 Random          0.756938\n",
      "Id                190671\n",
      "Indication           CVA\n",
      "Diabetes              no\n",
      "IHD                  yes\n",
      "Hypertension         yes\n",
      "Arrhythmia            no\n",
      "History               no\n",
      "IPSI                  76\n",
      "Contra                50\n",
      "label                NaN\n",
      "Name: 812, dtype: object\n",
      "974 Random          0.923418\n",
      "Id                165432\n",
      "Indication           CVA\n",
      "Diabetes              no\n",
      "IHD                  yes\n",
      "Hypertension         yes\n",
      "Arrhythmia           yes\n",
      "History               no\n",
      "IPSI                  80\n",
      "Contra                70\n",
      "label                NaN\n",
      "Name: 974, dtype: object\n",
      "1418 Random          0.813102\n",
      "Id                169726\n",
      "Indication           TIA\n",
      "Diabetes             yes\n",
      "IHD                   no\n",
      "Hypertension          no\n",
      "Arrhythmia            no\n",
      "History              yes\n",
      "IPSI                  90\n",
      "Contra                50\n",
      "label                NaN\n",
      "Name: 1418, dtype: object\n"
     ]
    }
   ],
   "source": [
    "for index, row in DecisionTree_two.iterrows():\n",
    "    if (row['label'] != 'Risk') and (row['label'] != 'NoRisk'):\n",
    "        print(index, row)"
   ]
  },
  {
   "cell_type": "code",
   "execution_count": 220,
   "metadata": {},
   "outputs": [
    {
     "name": "stderr",
     "output_type": "stream",
     "text": [
      "C:\\ProgramData\\Anaconda3\\lib\\site-packages\\ipykernel_launcher.py:4: SettingWithCopyWarning: \n",
      "A value is trying to be set on a copy of a slice from a DataFrame\n",
      "\n",
      "See the caveats in the documentation: http://pandas.pydata.org/pandas-docs/stable/user_guide/indexing.html#returning-a-view-versus-a-copy\n",
      "  after removing the cwd from sys.path.\n",
      "C:\\ProgramData\\Anaconda3\\lib\\site-packages\\ipykernel_launcher.py:8: SettingWithCopyWarning: \n",
      "A value is trying to be set on a copy of a slice from a DataFrame\n",
      "\n",
      "See the caveats in the documentation: http://pandas.pydata.org/pandas-docs/stable/user_guide/indexing.html#returning-a-view-versus-a-copy\n",
      "  \n",
      "C:\\ProgramData\\Anaconda3\\lib\\site-packages\\ipykernel_launcher.py:12: SettingWithCopyWarning: \n",
      "A value is trying to be set on a copy of a slice from a DataFrame\n",
      "\n",
      "See the caveats in the documentation: http://pandas.pydata.org/pandas-docs/stable/user_guide/indexing.html#returning-a-view-versus-a-copy\n",
      "  if sys.path[0] == '':\n",
      "C:\\ProgramData\\Anaconda3\\lib\\site-packages\\ipykernel_launcher.py:16: SettingWithCopyWarning: \n",
      "A value is trying to be set on a copy of a slice from a DataFrame\n",
      "\n",
      "See the caveats in the documentation: http://pandas.pydata.org/pandas-docs/stable/user_guide/indexing.html#returning-a-view-versus-a-copy\n",
      "  app.launch_new_instance()\n",
      "C:\\ProgramData\\Anaconda3\\lib\\site-packages\\ipykernel_launcher.py:20: SettingWithCopyWarning: \n",
      "A value is trying to be set on a copy of a slice from a DataFrame\n",
      "\n",
      "See the caveats in the documentation: http://pandas.pydata.org/pandas-docs/stable/user_guide/indexing.html#returning-a-view-versus-a-copy\n"
     ]
    }
   ],
   "source": [
    "for index, row in DecisionTree_two.iterrows():\n",
    "    if index == 475:\n",
    "        z = DecisionTree_two.loc[index, :]\n",
    "        z['label'] = 'Risk'\n",
    "        DecisionTree_two.loc[index, :] = z\n",
    "    if index == 523:\n",
    "        z = DecisionTree_two.loc[index, :]\n",
    "        z['label'] = 'NoRisk'\n",
    "        DecisionTree_two.loc[index, :] = z\n",
    "    if index == 812:\n",
    "        z = DecisionTree_two.loc[index, :]\n",
    "        z['label'] = 'NoRisk'\n",
    "        DecisionTree_two.loc[index, :] = z\n",
    "    if index == 974:\n",
    "        z = DecisionTree_two.loc[index, :]\n",
    "        z['label'] = 'Risk'\n",
    "        DecisionTree_two.loc[index, :] = z\n",
    "    if index == 1418:\n",
    "        z = DecisionTree_two.loc[index, :]\n",
    "        z['label'] = 'Risk'\n",
    "        DecisionTree_two.loc[index, :] = z"
   ]
  },
  {
   "cell_type": "markdown",
   "metadata": {},
   "source": [
    "### Preparing DecisionTree_two For Modelling"
   ]
  },
  {
   "cell_type": "code",
   "execution_count": 221,
   "metadata": {},
   "outputs": [
    {
     "name": "stderr",
     "output_type": "stream",
     "text": [
      "C:\\ProgramData\\Anaconda3\\lib\\site-packages\\ipykernel_launcher.py:4: SettingWithCopyWarning: \n",
      "A value is trying to be set on a copy of a slice from a DataFrame\n",
      "\n",
      "See the caveats in the documentation: http://pandas.pydata.org/pandas-docs/stable/user_guide/indexing.html#returning-a-view-versus-a-copy\n",
      "  after removing the cwd from sys.path.\n",
      "C:\\ProgramData\\Anaconda3\\lib\\site-packages\\ipykernel_launcher.py:8: SettingWithCopyWarning: \n",
      "A value is trying to be set on a copy of a slice from a DataFrame\n",
      "\n",
      "See the caveats in the documentation: http://pandas.pydata.org/pandas-docs/stable/user_guide/indexing.html#returning-a-view-versus-a-copy\n",
      "  \n",
      "C:\\ProgramData\\Anaconda3\\lib\\site-packages\\ipykernel_launcher.py:16: SettingWithCopyWarning: \n",
      "A value is trying to be set on a copy of a slice from a DataFrame\n",
      "\n",
      "See the caveats in the documentation: http://pandas.pydata.org/pandas-docs/stable/user_guide/indexing.html#returning-a-view-versus-a-copy\n",
      "  app.launch_new_instance()\n",
      "C:\\ProgramData\\Anaconda3\\lib\\site-packages\\ipykernel_launcher.py:12: SettingWithCopyWarning: \n",
      "A value is trying to be set on a copy of a slice from a DataFrame\n",
      "\n",
      "See the caveats in the documentation: http://pandas.pydata.org/pandas-docs/stable/user_guide/indexing.html#returning-a-view-versus-a-copy\n",
      "  if sys.path[0] == '':\n"
     ]
    }
   ],
   "source": [
    "for index, row in DecisionTree_two.iterrows():\n",
    "    if row['Indication'] == 'A-F':\n",
    "        z = DecisionTree_two.loc[index, :]\n",
    "        z['Indication'] = 1\n",
    "        DecisionTree_two.loc[index, :] = z\n",
    "    elif row['Indication'] == 'TIA':\n",
    "        z = DecisionTree_two.loc[index, :]\n",
    "        z['Indication'] = 2\n",
    "        DecisionTree_two.loc[index, :] = z\n",
    "    elif row['Indication'] == 'ASx':\n",
    "        z = DecisionTree_two.loc[index, :]\n",
    "        z['Indication'] = 3\n",
    "        DecisionTree_two.loc[index, :] = z\n",
    "    elif row['Indication'] == 'CVA':\n",
    "        z = DecisionTree_two.loc[index, :]\n",
    "        z['Indication'] = 4\n",
    "        DecisionTree_two.loc[index, :] = z"
   ]
  },
  {
   "cell_type": "code",
   "execution_count": 222,
   "metadata": {},
   "outputs": [
    {
     "name": "stderr",
     "output_type": "stream",
     "text": [
      "C:\\ProgramData\\Anaconda3\\lib\\site-packages\\ipykernel_launcher.py:8: SettingWithCopyWarning: \n",
      "A value is trying to be set on a copy of a slice from a DataFrame\n",
      "\n",
      "See the caveats in the documentation: http://pandas.pydata.org/pandas-docs/stable/user_guide/indexing.html#returning-a-view-versus-a-copy\n",
      "  \n",
      "C:\\ProgramData\\Anaconda3\\lib\\site-packages\\ipykernel_launcher.py:4: SettingWithCopyWarning: \n",
      "A value is trying to be set on a copy of a slice from a DataFrame\n",
      "\n",
      "See the caveats in the documentation: http://pandas.pydata.org/pandas-docs/stable/user_guide/indexing.html#returning-a-view-versus-a-copy\n",
      "  after removing the cwd from sys.path.\n"
     ]
    }
   ],
   "source": [
    "for index, row in DecisionTree_two.iterrows():\n",
    "    if row['Diabetes'] == 'yes':\n",
    "        z = DecisionTree_two.loc[index, :]\n",
    "        z['Diabetes'] = 1\n",
    "        DecisionTree_two.loc[index, :] = z\n",
    "    elif row['Diabetes'] == 'no':\n",
    "        z = DecisionTree_two.loc[index, :]\n",
    "        z['Diabetes'] = 0\n",
    "        DecisionTree_two.loc[index, :] = z"
   ]
  },
  {
   "cell_type": "code",
   "execution_count": 223,
   "metadata": {},
   "outputs": [
    {
     "name": "stderr",
     "output_type": "stream",
     "text": [
      "C:\\ProgramData\\Anaconda3\\lib\\site-packages\\ipykernel_launcher.py:8: SettingWithCopyWarning: \n",
      "A value is trying to be set on a copy of a slice from a DataFrame\n",
      "\n",
      "See the caveats in the documentation: http://pandas.pydata.org/pandas-docs/stable/user_guide/indexing.html#returning-a-view-versus-a-copy\n",
      "  \n",
      "C:\\ProgramData\\Anaconda3\\lib\\site-packages\\ipykernel_launcher.py:4: SettingWithCopyWarning: \n",
      "A value is trying to be set on a copy of a slice from a DataFrame\n",
      "\n",
      "See the caveats in the documentation: http://pandas.pydata.org/pandas-docs/stable/user_guide/indexing.html#returning-a-view-versus-a-copy\n",
      "  after removing the cwd from sys.path.\n"
     ]
    }
   ],
   "source": [
    "for index, row in DecisionTree_two.iterrows():\n",
    "    if row['IHD'] == 'yes':\n",
    "        z = DecisionTree_two.loc[index, :]\n",
    "        z['IHD'] = 1\n",
    "        DecisionTree_two.loc[index, :] = z\n",
    "    elif row['IHD'] == 'no':\n",
    "        z = DecisionTree_two.loc[index, :]\n",
    "        z['IHD'] = 0\n",
    "        DecisionTree_two.loc[index, :] = z"
   ]
  },
  {
   "cell_type": "code",
   "execution_count": 224,
   "metadata": {},
   "outputs": [
    {
     "name": "stderr",
     "output_type": "stream",
     "text": [
      "C:\\ProgramData\\Anaconda3\\lib\\site-packages\\ipykernel_launcher.py:4: SettingWithCopyWarning: \n",
      "A value is trying to be set on a copy of a slice from a DataFrame\n",
      "\n",
      "See the caveats in the documentation: http://pandas.pydata.org/pandas-docs/stable/user_guide/indexing.html#returning-a-view-versus-a-copy\n",
      "  after removing the cwd from sys.path.\n",
      "C:\\ProgramData\\Anaconda3\\lib\\site-packages\\ipykernel_launcher.py:8: SettingWithCopyWarning: \n",
      "A value is trying to be set on a copy of a slice from a DataFrame\n",
      "\n",
      "See the caveats in the documentation: http://pandas.pydata.org/pandas-docs/stable/user_guide/indexing.html#returning-a-view-versus-a-copy\n",
      "  \n"
     ]
    }
   ],
   "source": [
    "for index, row in DecisionTree_two.iterrows():\n",
    "    if row['Hypertension'] == 'yes':\n",
    "        z = DecisionTree_two.loc[index, :]\n",
    "        z['Hypertension'] = 1\n",
    "        DecisionTree_two.loc[index, :] = z\n",
    "    elif row['Hypertension'] == 'no':\n",
    "        z = DecisionTree_two.loc[index, :]\n",
    "        z['Hypertension'] = 0\n",
    "        DecisionTree_two.loc[index, :] = z"
   ]
  },
  {
   "cell_type": "code",
   "execution_count": 225,
   "metadata": {},
   "outputs": [
    {
     "name": "stderr",
     "output_type": "stream",
     "text": [
      "C:\\ProgramData\\Anaconda3\\lib\\site-packages\\ipykernel_launcher.py:8: SettingWithCopyWarning: \n",
      "A value is trying to be set on a copy of a slice from a DataFrame\n",
      "\n",
      "See the caveats in the documentation: http://pandas.pydata.org/pandas-docs/stable/user_guide/indexing.html#returning-a-view-versus-a-copy\n",
      "  \n",
      "C:\\ProgramData\\Anaconda3\\lib\\site-packages\\ipykernel_launcher.py:4: SettingWithCopyWarning: \n",
      "A value is trying to be set on a copy of a slice from a DataFrame\n",
      "\n",
      "See the caveats in the documentation: http://pandas.pydata.org/pandas-docs/stable/user_guide/indexing.html#returning-a-view-versus-a-copy\n",
      "  after removing the cwd from sys.path.\n"
     ]
    }
   ],
   "source": [
    "for index, row in DecisionTree_two.iterrows():\n",
    "    if row['Arrhythmia'] == 'yes':\n",
    "        z = DecisionTree_two.loc[index, :]\n",
    "        z['Arrhythmia'] = 1\n",
    "        DecisionTree_two.loc[index, :] = z\n",
    "    elif row['Arrhythmia'] == 'no':\n",
    "        z = DecisionTree_two.loc[index, :]\n",
    "        z['Arrhythmia'] = 0\n",
    "        DecisionTree_two.loc[index, :] = z"
   ]
  },
  {
   "cell_type": "code",
   "execution_count": 226,
   "metadata": {},
   "outputs": [
    {
     "name": "stderr",
     "output_type": "stream",
     "text": [
      "C:\\ProgramData\\Anaconda3\\lib\\site-packages\\ipykernel_launcher.py:8: SettingWithCopyWarning: \n",
      "A value is trying to be set on a copy of a slice from a DataFrame\n",
      "\n",
      "See the caveats in the documentation: http://pandas.pydata.org/pandas-docs/stable/user_guide/indexing.html#returning-a-view-versus-a-copy\n",
      "  \n",
      "C:\\ProgramData\\Anaconda3\\lib\\site-packages\\ipykernel_launcher.py:4: SettingWithCopyWarning: \n",
      "A value is trying to be set on a copy of a slice from a DataFrame\n",
      "\n",
      "See the caveats in the documentation: http://pandas.pydata.org/pandas-docs/stable/user_guide/indexing.html#returning-a-view-versus-a-copy\n",
      "  after removing the cwd from sys.path.\n"
     ]
    }
   ],
   "source": [
    "for index, row in DecisionTree_two.iterrows():\n",
    "    if row['History'] == 'yes':\n",
    "        z = DecisionTree_two.loc[index, :]\n",
    "        z['History'] = 1\n",
    "        DecisionTree_two.loc[index, :] = z\n",
    "    elif row['History'] == 'no':\n",
    "        z = DecisionTree_two.loc[index, :]\n",
    "        z['History'] = 0\n",
    "        DecisionTree_two.loc[index, :] = z"
   ]
  },
  {
   "cell_type": "code",
   "execution_count": 227,
   "metadata": {},
   "outputs": [
    {
     "name": "stderr",
     "output_type": "stream",
     "text": [
      "C:\\ProgramData\\Anaconda3\\lib\\site-packages\\ipykernel_launcher.py:8: SettingWithCopyWarning: \n",
      "A value is trying to be set on a copy of a slice from a DataFrame\n",
      "\n",
      "See the caveats in the documentation: http://pandas.pydata.org/pandas-docs/stable/user_guide/indexing.html#returning-a-view-versus-a-copy\n",
      "  \n",
      "C:\\ProgramData\\Anaconda3\\lib\\site-packages\\ipykernel_launcher.py:4: SettingWithCopyWarning: \n",
      "A value is trying to be set on a copy of a slice from a DataFrame\n",
      "\n",
      "See the caveats in the documentation: http://pandas.pydata.org/pandas-docs/stable/user_guide/indexing.html#returning-a-view-versus-a-copy\n",
      "  after removing the cwd from sys.path.\n"
     ]
    }
   ],
   "source": [
    "for index, row in DecisionTree_two.iterrows():\n",
    "    if row['label'] == 'Risk':\n",
    "        z = DecisionTree_two.loc[index, :]\n",
    "        z['label'] = 1\n",
    "        DecisionTree_two.loc[index, :] = z\n",
    "    elif row['label'] == 'NoRisk':\n",
    "        z = DecisionTree_two.loc[index, :]\n",
    "        z['label'] = 0\n",
    "        DecisionTree_two.loc[index, :] = z"
   ]
  },
  {
   "cell_type": "code",
   "execution_count": 228,
   "metadata": {},
   "outputs": [],
   "source": [
    "DecisionTree_two = DecisionTree_two.drop(['Random'], axis=1)\n",
    "DecisionTree_two = DecisionTree_two.drop(['Id'], axis=1)"
   ]
  },
  {
   "cell_type": "markdown",
   "metadata": {},
   "source": [
    "# Modelling 1.0"
   ]
  },
  {
   "cell_type": "markdown",
   "metadata": {},
   "source": [
    "### Test Split Modelling"
   ]
  },
  {
   "cell_type": "code",
   "execution_count": 229,
   "metadata": {},
   "outputs": [],
   "source": [
    "Simple_Cleaning_df = sklearn.utils.shuffle(Simple_Cleaning_df)\n",
    "X = Simple_Cleaning_df.drop(\"label\", axis=1).values\n",
    "y = Simple_Cleaning_df[\"label\"].values"
   ]
  },
  {
   "cell_type": "code",
   "execution_count": 230,
   "metadata": {},
   "outputs": [],
   "source": [
    "X_train, X_test, y_train, y_test = train_test_split(X, y, test_size=0.3, random_state=1) # 70% training and 30% test"
   ]
  },
  {
   "cell_type": "markdown",
   "metadata": {},
   "source": [
    "### Multilayered Perceptrons "
   ]
  },
  {
   "cell_type": "code",
   "execution_count": 231,
   "metadata": {},
   "outputs": [
    {
     "name": "stdout",
     "output_type": "stream",
     "text": [
      "0.9138321995464853\n"
     ]
    }
   ],
   "source": [
    "from sklearn.neural_network import MLPClassifier\n",
    "model1 = MLPClassifier(solver='adam', max_iter=50000, hidden_layer_sizes=(10,20,30,40,50,60,70,80,90,100), random_state=1)\n",
    "model1 = model1.fit(X_train, y_train)\n",
    "model1score = model1.score(X_test, y_test)\n",
    "print(model1.score(X_test, y_test))"
   ]
  },
  {
   "cell_type": "code",
   "execution_count": 232,
   "metadata": {},
   "outputs": [
    {
     "name": "stdout",
     "output_type": "stream",
     "text": [
      "              precision    recall  f1-score   support\n",
      "\n",
      "           0       1.00      0.87      0.93       296\n",
      "           1       0.79      1.00      0.88       145\n",
      "\n",
      "    accuracy                           0.91       441\n",
      "   macro avg       0.90      0.94      0.91       441\n",
      "weighted avg       0.93      0.91      0.92       441\n",
      "\n"
     ]
    }
   ],
   "source": [
    "y_pred = model1.predict(X_test)\n",
    "model1_metrics = metrics.classification_report(y_test,y_pred)\n",
    "print(metrics.classification_report(y_test,y_pred))"
   ]
  },
  {
   "cell_type": "markdown",
   "metadata": {},
   "source": [
    "### Creating Confusion Matrix and Sensitivity"
   ]
  },
  {
   "cell_type": "code",
   "execution_count": 233,
   "metadata": {},
   "outputs": [
    {
     "name": "stdout",
     "output_type": "stream",
     "text": [
      "58.50340136054422 8.616780045351474 0.0 32.87981859410431\n"
     ]
    }
   ],
   "source": [
    "from sklearn.metrics import confusion_matrix\n",
    "conusionNum = confusion_matrix(y_test, y_pred)\n",
    "\n",
    "tp = 0\n",
    "tn = 0\n",
    "fp = 0\n",
    "fn = 0\n",
    "for item in conusionNum:\n",
    "    tp = conusionNum[0, 0]\n",
    "    fp = conusionNum[0, 1]\n",
    "    fn = conusionNum[1, 0]\n",
    "    tn = conusionNum[1, 1]\n",
    "total = tp + fp + fn + tn\n",
    "print(((tp/total)*100),((fp/total)*100),((fn/total)*100),((tn/total)*100))\n",
    "tp = tp/total*100\n",
    "fp = fp/total*100\n",
    "fn = fn/total*100\n",
    "tn = tn/total*100"
   ]
  },
  {
   "cell_type": "code",
   "execution_count": 234,
   "metadata": {},
   "outputs": [
    {
     "name": "stdout",
     "output_type": "stream",
     "text": [
      "100.0 79.23497267759562 20.76502732240437 0.0\n"
     ]
    }
   ],
   "source": [
    "tp_sensitivity = (tp/(tp+fn)) * 100\n",
    "tn_sensitivity = (tn/(tn+fp)) * 100\n",
    "fp_sensitivity = (fp/(fp+tn)) * 100\n",
    "fn_sensitivity = (fn/(fn+tp)) * 100\n",
    "print(tp_sensitivity, tn_sensitivity, fp_sensitivity, fn_sensitivity)"
   ]
  },
  {
   "cell_type": "markdown",
   "metadata": {},
   "source": [
    "### Logistic Regression"
   ]
  },
  {
   "cell_type": "code",
   "execution_count": 235,
   "metadata": {},
   "outputs": [
    {
     "name": "stdout",
     "output_type": "stream",
     "text": [
      "0.9478458049886621\n"
     ]
    },
    {
     "name": "stderr",
     "output_type": "stream",
     "text": [
      "C:\\ProgramData\\Anaconda3\\lib\\site-packages\\sklearn\\linear_model\\logistic.py:432: FutureWarning: Default solver will be changed to 'lbfgs' in 0.22. Specify a solver to silence this warning.\n",
      "  FutureWarning)\n"
     ]
    }
   ],
   "source": [
    "from sklearn.linear_model import LogisticRegression\n",
    "model2 = LogisticRegression(max_iter=10000)\n",
    "model2.fit(X_train, y_train)\n",
    "model2score = model2.score(X_test, y_test)\n",
    "print(model2.score(X_test, y_test))"
   ]
  },
  {
   "cell_type": "code",
   "execution_count": 236,
   "metadata": {},
   "outputs": [
    {
     "name": "stdout",
     "output_type": "stream",
     "text": [
      "              precision    recall  f1-score   support\n",
      "\n",
      "           0       0.94      0.98      0.96       296\n",
      "           1       0.96      0.88      0.92       145\n",
      "\n",
      "    accuracy                           0.95       441\n",
      "   macro avg       0.95      0.93      0.94       441\n",
      "weighted avg       0.95      0.95      0.95       441\n",
      "\n"
     ]
    }
   ],
   "source": [
    "y_pred = model2.predict(X_test)\n",
    "model2_metrics = metrics.classification_report(y_test,y_pred)\n",
    "print(metrics.classification_report(y_test,y_pred))"
   ]
  },
  {
   "cell_type": "markdown",
   "metadata": {},
   "source": [
    "### Creating a Confusion Matrix and Sensitivity"
   ]
  },
  {
   "cell_type": "code",
   "execution_count": 237,
   "metadata": {},
   "outputs": [
    {
     "name": "stdout",
     "output_type": "stream",
     "text": [
      "65.75963718820861 1.3605442176870748 3.8548752834467117 29.024943310657598\n"
     ]
    }
   ],
   "source": [
    "from sklearn.metrics import confusion_matrix\n",
    "conusionNum = confusion_matrix(y_test, y_pred)\n",
    "\n",
    "tp1 = 0\n",
    "tn1 = 0\n",
    "fp1 = 0\n",
    "fn1 = 0\n",
    "for item in conusionNum:\n",
    "    tp1 = conusionNum[0, 0]\n",
    "    fp1 = conusionNum[0, 1]\n",
    "    fn1 = conusionNum[1, 0]\n",
    "    tn1 = conusionNum[1, 1]\n",
    "total1 = tp1 + fp1 + fn1 + tn1\n",
    "print(((tp1/total1)*100),((fp1/total1)*100),((fn1/total1)*100),((tn1/total1)*100))\n",
    "tp1 = tp1/total1*100\n",
    "fp1 = fp1/total1*100\n",
    "fn1 = fn1/total1*100\n",
    "tn1 = tn1/total1*100"
   ]
  },
  {
   "cell_type": "code",
   "execution_count": 238,
   "metadata": {},
   "outputs": [
    {
     "name": "stdout",
     "output_type": "stream",
     "text": [
      "94.46254071661238 95.52238805970148 4.477611940298507 5.537459283387622\n"
     ]
    }
   ],
   "source": [
    "tp_sensitivity1 = (tp1/(tp1+fn1)) * 100\n",
    "tn_sensitivity1 = (tn1/(tn1+fp1)) * 100\n",
    "fp_sensitivity1 = (fp1/(fp1+tn1)) * 100\n",
    "fn_sensitivity1 = (fn1/(fn1+tp1)) * 100\n",
    "print(tp_sensitivity1, tn_sensitivity1, fp_sensitivity1, fn_sensitivity1)"
   ]
  },
  {
   "cell_type": "markdown",
   "metadata": {},
   "source": [
    "### KNN"
   ]
  },
  {
   "cell_type": "code",
   "execution_count": 239,
   "metadata": {},
   "outputs": [
    {
     "name": "stdout",
     "output_type": "stream",
     "text": [
      "0.9297052154195011\n"
     ]
    }
   ],
   "source": [
    "from sklearn.neighbors import KNeighborsClassifier\n",
    "model3 = KNeighborsClassifier(n_neighbors=5)\n",
    "model3.fit(X_train, y_train)\n",
    "model3score = model3.score(X_test, y_test)\n",
    "print(model3.score(X_test, y_test))"
   ]
  },
  {
   "cell_type": "code",
   "execution_count": 240,
   "metadata": {},
   "outputs": [
    {
     "name": "stdout",
     "output_type": "stream",
     "text": [
      "              precision    recall  f1-score   support\n",
      "\n",
      "           0       0.94      0.96      0.95       296\n",
      "           1       0.91      0.88      0.89       145\n",
      "\n",
      "    accuracy                           0.93       441\n",
      "   macro avg       0.92      0.92      0.92       441\n",
      "weighted avg       0.93      0.93      0.93       441\n",
      "\n"
     ]
    }
   ],
   "source": [
    "y_pred = model3.predict(X_test)\n",
    "model3_metrics = metrics.classification_report(y_test,y_pred)\n",
    "print(metrics.classification_report(y_test,y_pred))"
   ]
  },
  {
   "cell_type": "markdown",
   "metadata": {},
   "source": [
    "### Creating Confusion Matrix and Sensitivity"
   ]
  },
  {
   "cell_type": "code",
   "execution_count": 241,
   "metadata": {},
   "outputs": [
    {
     "name": "stdout",
     "output_type": "stream",
     "text": [
      "64.17233560090703 2.947845804988662 4.081632653061225 28.798185941043087\n"
     ]
    }
   ],
   "source": [
    "from sklearn.metrics import confusion_matrix\n",
    "conusionNum = confusion_matrix(y_test, y_pred)\n",
    "\n",
    "tp2 = 0\n",
    "tn2 = 0\n",
    "fp2 = 0\n",
    "fn2 = 0\n",
    "for item in conusionNum:\n",
    "    tp2 = conusionNum[0, 0]\n",
    "    fp2 = conusionNum[0, 1]\n",
    "    fn2 = conusionNum[1, 0]\n",
    "    tn2 = conusionNum[1, 1]\n",
    "total2 = tp2 + fp2 + fn2 + tn2\n",
    "print(((tp2/total2)*100),((fp2/total2)*100),((fn2/total2)*100),((tn2/total2)*100))\n",
    "tp2 = tp2/total2*100\n",
    "fp2 = fp2/total2*100\n",
    "fn2 = fn2/total2*100\n",
    "tn2 = tn2/total2*100"
   ]
  },
  {
   "cell_type": "code",
   "execution_count": 242,
   "metadata": {},
   "outputs": [
    {
     "name": "stdout",
     "output_type": "stream",
     "text": [
      "94.01993355481729 90.71428571428571 9.285714285714285 5.980066445182724\n"
     ]
    }
   ],
   "source": [
    "tp_sensitivity2 = (tp2/(tp2+fn2)) * 100\n",
    "tn_sensitivity2 = (tn2/(tn2+fp2)) * 100\n",
    "fp_sensitivity2 = (fp2/(fp2+tn2)) * 100\n",
    "fn_sensitivity2 = (fn2/(fn2+tp2)) * 100\n",
    "print(tp_sensitivity2, tn_sensitivity2, fp_sensitivity2, fn_sensitivity2)"
   ]
  },
  {
   "cell_type": "markdown",
   "metadata": {},
   "source": [
    "# Modelling 2.0"
   ]
  },
  {
   "cell_type": "markdown",
   "metadata": {},
   "source": [
    "### Test Split Modelling"
   ]
  },
  {
   "cell_type": "code",
   "execution_count": 243,
   "metadata": {},
   "outputs": [],
   "source": [
    "dataset_second_cleaning = sklearn.utils.shuffle(dataset_second_cleaning)\n",
    "X = dataset_second_cleaning.drop(\"label\", axis=1).values\n",
    "y = dataset_second_cleaning[\"label\"].values"
   ]
  },
  {
   "cell_type": "code",
   "execution_count": 244,
   "metadata": {},
   "outputs": [],
   "source": [
    "X_train, X_test, y_train, y_test = train_test_split(X, y, test_size=0.3, random_state=1) # 70% training and 30% test"
   ]
  },
  {
   "cell_type": "markdown",
   "metadata": {},
   "source": [
    "### MLP"
   ]
  },
  {
   "cell_type": "code",
   "execution_count": 245,
   "metadata": {},
   "outputs": [
    {
     "name": "stdout",
     "output_type": "stream",
     "text": [
      "0.9649122807017544\n"
     ]
    }
   ],
   "source": [
    "from sklearn.neural_network import MLPClassifier\n",
    "model4 = MLPClassifier(solver='adam', max_iter=50000, hidden_layer_sizes=(10,20,30,40,50,60,70,80,90,100), random_state=1)\n",
    "trained_model4 = model4.fit(X_train, y_train)\n",
    "model4score = model4.score(X_test, y_test)\n",
    "print(trained_model4.score(X_test, y_test))"
   ]
  },
  {
   "cell_type": "code",
   "execution_count": 246,
   "metadata": {},
   "outputs": [
    {
     "name": "stdout",
     "output_type": "stream",
     "text": [
      "              precision    recall  f1-score   support\n",
      "\n",
      "           0       0.97      0.98      0.97       300\n",
      "           1       0.96      0.94      0.95       156\n",
      "\n",
      "    accuracy                           0.96       456\n",
      "   macro avg       0.96      0.96      0.96       456\n",
      "weighted avg       0.96      0.96      0.96       456\n",
      "\n"
     ]
    }
   ],
   "source": [
    "y_pred = model4.predict(X_test)\n",
    "model4_metrics = metrics.classification_report(y_test,y_pred)\n",
    "print(metrics.classification_report(y_test,y_pred))"
   ]
  },
  {
   "cell_type": "markdown",
   "metadata": {},
   "source": [
    "### Creating a Confusion Matrix and Sensitivity"
   ]
  },
  {
   "cell_type": "code",
   "execution_count": 247,
   "metadata": {},
   "outputs": [
    {
     "name": "stdout",
     "output_type": "stream",
     "text": [
      "64.47368421052632 1.3157894736842104 2.1929824561403506 32.01754385964912\n"
     ]
    }
   ],
   "source": [
    "from sklearn.metrics import confusion_matrix\n",
    "conusionNum = confusion_matrix(y_test, y_pred)\n",
    "\n",
    "tp3 = 0\n",
    "tn3 = 0\n",
    "fp3 = 0\n",
    "fn3 = 0\n",
    "for item in conusionNum:\n",
    "    tp3 = conusionNum[0, 0]\n",
    "    fp3 = conusionNum[0, 1]\n",
    "    fn3 = conusionNum[1, 0]\n",
    "    tn3 = conusionNum[1, 1]\n",
    "total3 = tp3 + fp3 + fn3 + tn3\n",
    "print(((tp3/total3)*100),((fp3/total3)*100),((fn3/total3)*100),((tn3/total3)*100))\n",
    "tp3 = tp3/total3*100\n",
    "fp3 = fp3/total3*100\n",
    "fn3 = fn3/total3*100\n",
    "tn3 = tn3/total3*100"
   ]
  },
  {
   "cell_type": "code",
   "execution_count": 248,
   "metadata": {},
   "outputs": [
    {
     "name": "stdout",
     "output_type": "stream",
     "text": [
      "96.71052631578947 96.05263157894737 3.9473684210526305 3.2894736842105257\n"
     ]
    }
   ],
   "source": [
    "tp_sensitivity3 = (tp3/(tp3+fn3)) * 100\n",
    "tn_sensitivity3 = (tn3/(tn3+fp3)) * 100\n",
    "fp_sensitivity3 = (fp3/(fp3+tn3)) * 100\n",
    "fn_sensitivity3 = (fn3/(fn3+tp3)) * 100\n",
    "print(tp_sensitivity3, tn_sensitivity3, fp_sensitivity3, fn_sensitivity3)"
   ]
  },
  {
   "cell_type": "markdown",
   "metadata": {},
   "source": [
    "### Logistic Regression"
   ]
  },
  {
   "cell_type": "code",
   "execution_count": 249,
   "metadata": {},
   "outputs": [
    {
     "name": "stdout",
     "output_type": "stream",
     "text": [
      "0.9539473684210527\n"
     ]
    },
    {
     "name": "stderr",
     "output_type": "stream",
     "text": [
      "C:\\ProgramData\\Anaconda3\\lib\\site-packages\\sklearn\\linear_model\\logistic.py:432: FutureWarning: Default solver will be changed to 'lbfgs' in 0.22. Specify a solver to silence this warning.\n",
      "  FutureWarning)\n"
     ]
    }
   ],
   "source": [
    "from sklearn.linear_model import LogisticRegression\n",
    "model5 = LogisticRegression(max_iter=10000)\n",
    "model5.fit(X_train, y_train)\n",
    "model5score = model5.score(X_test, y_test)\n",
    "print(model5.score(X_test, y_test))"
   ]
  },
  {
   "cell_type": "code",
   "execution_count": 250,
   "metadata": {},
   "outputs": [
    {
     "name": "stdout",
     "output_type": "stream",
     "text": [
      "              precision    recall  f1-score   support\n",
      "\n",
      "           0       0.95      0.98      0.97       300\n",
      "           1       0.95      0.91      0.93       156\n",
      "\n",
      "    accuracy                           0.95       456\n",
      "   macro avg       0.95      0.94      0.95       456\n",
      "weighted avg       0.95      0.95      0.95       456\n",
      "\n"
     ]
    }
   ],
   "source": [
    "y_pred = model5.predict(X_test)\n",
    "model5_metrics = metrics.classification_report(y_test,y_pred)\n",
    "print(metrics.classification_report(y_test,y_pred))"
   ]
  },
  {
   "cell_type": "markdown",
   "metadata": {},
   "source": [
    "### Creating a Confusion Matrix and Sensitivity"
   ]
  },
  {
   "cell_type": "code",
   "execution_count": 251,
   "metadata": {},
   "outputs": [
    {
     "name": "stdout",
     "output_type": "stream",
     "text": [
      "64.25438596491229 1.5350877192982455 3.070175438596491 31.140350877192986\n"
     ]
    }
   ],
   "source": [
    "from sklearn.metrics import confusion_matrix\n",
    "conusionNum = confusion_matrix(y_test, y_pred)\n",
    "\n",
    "tp4 = 0\n",
    "tn4 = 0\n",
    "fp4 = 0\n",
    "fn4 = 0\n",
    "for item in conusionNum:\n",
    "    tp4 = conusionNum[0, 0]\n",
    "    fp4 = conusionNum[0, 1]\n",
    "    fn4 = conusionNum[1, 0]\n",
    "    tn4 = conusionNum[1, 1]\n",
    "total4 = tp4 + fp4 + fn4 + tn4\n",
    "print(((tp4/total4)*100),((fp4/total4)*100),((fn4/total4)*100),((tn4/total4)*100))\n",
    "tp4 = tp4/total4*100\n",
    "fp4 = fp4/total4*100\n",
    "fn4 = fn4/total4*100\n",
    "tn4 = tn4/total4*100"
   ]
  },
  {
   "cell_type": "code",
   "execution_count": 252,
   "metadata": {},
   "outputs": [
    {
     "name": "stdout",
     "output_type": "stream",
     "text": [
      "95.43973941368078 95.30201342281879 4.697986577181207 4.560260586319218\n"
     ]
    }
   ],
   "source": [
    "tp_sensitivity4 = (tp4/(tp4+fn4)) * 100\n",
    "tn_sensitivity4 = (tn4/(tn4+fp4)) * 100\n",
    "fp_sensitivity4 = (fp4/(fp4+tn4)) * 100\n",
    "fn_sensitivity4 = (fn4/(fn4+tp4)) * 100\n",
    "print(tp_sensitivity4, tn_sensitivity4, fp_sensitivity4, fn_sensitivity4)"
   ]
  },
  {
   "cell_type": "markdown",
   "metadata": {},
   "source": [
    "### KNN"
   ]
  },
  {
   "cell_type": "code",
   "execution_count": 253,
   "metadata": {},
   "outputs": [
    {
     "name": "stdout",
     "output_type": "stream",
     "text": [
      "0.9539473684210527\n"
     ]
    }
   ],
   "source": [
    "from sklearn.neighbors import KNeighborsClassifier\n",
    "model6 = KNeighborsClassifier(n_neighbors=5)\n",
    "model6.fit(X_train, y_train)\n",
    "model6score = model6.score(X_test, y_test)\n",
    "print(model6.score(X_test, y_test))"
   ]
  },
  {
   "cell_type": "code",
   "execution_count": 254,
   "metadata": {},
   "outputs": [
    {
     "name": "stdout",
     "output_type": "stream",
     "text": [
      "              precision    recall  f1-score   support\n",
      "\n",
      "           0       0.95      0.98      0.97       300\n",
      "           1       0.96      0.90      0.93       156\n",
      "\n",
      "    accuracy                           0.95       456\n",
      "   macro avg       0.96      0.94      0.95       456\n",
      "weighted avg       0.95      0.95      0.95       456\n",
      "\n"
     ]
    }
   ],
   "source": [
    "y_pred = model6.predict(X_test)\n",
    "model6_metrics = metrics.classification_report(y_test,y_pred)\n",
    "print(metrics.classification_report(y_test,y_pred))"
   ]
  },
  {
   "cell_type": "markdown",
   "metadata": {},
   "source": [
    "### Creating a Confusion Matix and Sensitivity"
   ]
  },
  {
   "cell_type": "code",
   "execution_count": 255,
   "metadata": {},
   "outputs": [
    {
     "name": "stdout",
     "output_type": "stream",
     "text": [
      "64.47368421052632 1.3157894736842104 3.289473684210526 30.92105263157895\n"
     ]
    }
   ],
   "source": [
    "from sklearn.metrics import confusion_matrix\n",
    "conusionNum = confusion_matrix(y_test, y_pred)\n",
    "\n",
    "tp5 = 0\n",
    "tn5 = 0\n",
    "fp5 = 0\n",
    "fn5 = 0\n",
    "for item in conusionNum:\n",
    "    tp5 = conusionNum[0, 0]\n",
    "    fp5 = conusionNum[0, 1]\n",
    "    fn5 = conusionNum[1, 0]\n",
    "    tn5 = conusionNum[1, 1]\n",
    "total5 = tp5 + fp5 + fn5 + tn5\n",
    "print(((tp5/total5)*100),((fp5/total5)*100),((fn5/total5)*100),((tn5/total5)*100))\n",
    "tp5 = tp5/total5*100\n",
    "fp5 = fp5/total5*100\n",
    "fn5 = fn5/total5*100\n",
    "tn5 = tn5/total5*100"
   ]
  },
  {
   "cell_type": "code",
   "execution_count": 256,
   "metadata": {},
   "outputs": [
    {
     "name": "stdout",
     "output_type": "stream",
     "text": [
      "95.14563106796118 95.91836734693878 4.081632653061225 4.854368932038835\n"
     ]
    }
   ],
   "source": [
    "tp_sensitivity5 = (tp5/(tp5+fn5)) * 100\n",
    "tn_sensitivity5 = (tn5/(tn5+fp5)) * 100\n",
    "fp_sensitivity5 = (fp5/(fp5+tn5)) * 100\n",
    "fn_sensitivity5 = (fn5/(fn5+tp5)) * 100\n",
    "print(tp_sensitivity5, tn_sensitivity5, fp_sensitivity5, fn_sensitivity5)"
   ]
  },
  {
   "cell_type": "markdown",
   "metadata": {},
   "source": [
    "# Modelling 3.0"
   ]
  },
  {
   "cell_type": "markdown",
   "metadata": {},
   "source": [
    "### Test Split Modelling "
   ]
  },
  {
   "cell_type": "code",
   "execution_count": 257,
   "metadata": {},
   "outputs": [],
   "source": [
    "DecisionTree_two = sklearn.utils.shuffle(DecisionTree_two)\n",
    "X = DecisionTree_two.drop(\"label\", axis=1).values\n",
    "y = DecisionTree_two[\"label\"].values"
   ]
  },
  {
   "cell_type": "code",
   "execution_count": 258,
   "metadata": {},
   "outputs": [],
   "source": [
    "X_train, X_test, y_train, y_test = train_test_split(X, y, test_size=0.3, random_state=1) # 70% training and 30% test"
   ]
  },
  {
   "cell_type": "markdown",
   "metadata": {},
   "source": [
    "### MLP"
   ]
  },
  {
   "cell_type": "code",
   "execution_count": 259,
   "metadata": {},
   "outputs": [
    {
     "name": "stdout",
     "output_type": "stream",
     "text": [
      "0.9671052631578947\n"
     ]
    }
   ],
   "source": [
    "from sklearn.neural_network import MLPClassifier\n",
    "model7 = MLPClassifier(solver='adam', max_iter=50000, hidden_layer_sizes=(10,20,30,40,50,60,70,80,90,100), random_state=1)\n",
    "trained_model7 = model7.fit(X_train, y_train)\n",
    "model7score = model7.score(X_test, y_test)\n",
    "print(trained_model4.score(X_test, y_test))"
   ]
  },
  {
   "cell_type": "code",
   "execution_count": 260,
   "metadata": {},
   "outputs": [
    {
     "name": "stdout",
     "output_type": "stream",
     "text": [
      "              precision    recall  f1-score   support\n",
      "\n",
      "           0       0.99      0.90      0.94       309\n",
      "           1       0.82      0.98      0.89       147\n",
      "\n",
      "    accuracy                           0.92       456\n",
      "   macro avg       0.90      0.94      0.92       456\n",
      "weighted avg       0.93      0.92      0.92       456\n",
      "\n"
     ]
    }
   ],
   "source": [
    "y_pred = model7.predict(X_test)\n",
    "model7_metrics = metrics.classification_report(y_test,y_pred)\n",
    "print(metrics.classification_report(y_test,y_pred))"
   ]
  },
  {
   "cell_type": "markdown",
   "metadata": {},
   "source": [
    "### Creating a Confusion Matrix and Sensitivity"
   ]
  },
  {
   "cell_type": "code",
   "execution_count": 261,
   "metadata": {},
   "outputs": [
    {
     "name": "stdout",
     "output_type": "stream",
     "text": [
      "60.74561403508771 7.017543859649122 0.6578947368421052 31.57894736842105\n"
     ]
    }
   ],
   "source": [
    "from sklearn.metrics import confusion_matrix\n",
    "conusionNum = confusion_matrix(y_test, y_pred)\n",
    "\n",
    "tp6 = 0\n",
    "tn6 = 0\n",
    "fp6 = 0\n",
    "fn6 = 0\n",
    "for item in conusionNum:\n",
    "    tp6 = conusionNum[0, 0]\n",
    "    fp6 = conusionNum[0, 1]\n",
    "    fn6 = conusionNum[1, 0]\n",
    "    tn6 = conusionNum[1, 1]\n",
    "total6 = tp6 + fp6 + fn6 + tn6\n",
    "print(((tp6/total6)*100),((fp6/total6)*100),((fn6/total6)*100),((tn6/total6)*100))\n",
    "tp6 = tp6/total6*100\n",
    "fp6 = fp6/total6*100\n",
    "fn6 = fn6/total6*100\n",
    "tn6 = tn6/total6*100"
   ]
  },
  {
   "cell_type": "code",
   "execution_count": 262,
   "metadata": {},
   "outputs": [
    {
     "name": "stdout",
     "output_type": "stream",
     "text": [
      "98.92857142857143 81.81818181818183 18.181818181818183 1.0714285714285714\n"
     ]
    }
   ],
   "source": [
    "tp_sensitivity6 = (tp6/(tp6+fn6)) * 100\n",
    "tn_sensitivity6 = (tn6/(tn6+fp6)) * 100\n",
    "fp_sensitivity6 = (fp6/(fp6+tn6)) * 100\n",
    "fn_sensitivity6 = (fn6/(fn6+tp6)) * 100\n",
    "print(tp_sensitivity6, tn_sensitivity6, fp_sensitivity6, fn_sensitivity6)"
   ]
  },
  {
   "cell_type": "markdown",
   "metadata": {},
   "source": [
    "### Logistic Regression"
   ]
  },
  {
   "cell_type": "code",
   "execution_count": 263,
   "metadata": {},
   "outputs": [
    {
     "name": "stdout",
     "output_type": "stream",
     "text": [
      "0.9495614035087719\n"
     ]
    },
    {
     "name": "stderr",
     "output_type": "stream",
     "text": [
      "C:\\ProgramData\\Anaconda3\\lib\\site-packages\\sklearn\\linear_model\\logistic.py:432: FutureWarning: Default solver will be changed to 'lbfgs' in 0.22. Specify a solver to silence this warning.\n",
      "  FutureWarning)\n"
     ]
    }
   ],
   "source": [
    "from sklearn.linear_model import LogisticRegression\n",
    "model8 = LogisticRegression(max_iter=10000)\n",
    "model8.fit(X_train, y_train)\n",
    "model8score = model8.score(X_test, y_test)\n",
    "print(model8.score(X_test, y_test))"
   ]
  },
  {
   "cell_type": "code",
   "execution_count": 264,
   "metadata": {},
   "outputs": [
    {
     "name": "stdout",
     "output_type": "stream",
     "text": [
      "              precision    recall  f1-score   support\n",
      "\n",
      "           0       0.96      0.97      0.96       309\n",
      "           1       0.94      0.90      0.92       147\n",
      "\n",
      "    accuracy                           0.95       456\n",
      "   macro avg       0.95      0.94      0.94       456\n",
      "weighted avg       0.95      0.95      0.95       456\n",
      "\n"
     ]
    }
   ],
   "source": [
    "y_pred = model8.predict(X_test)\n",
    "model8_metrics = metrics.classification_report(y_test,y_pred)\n",
    "print(metrics.classification_report(y_test,y_pred))"
   ]
  },
  {
   "cell_type": "markdown",
   "metadata": {},
   "source": [
    "### Creating a Confusion Matrix and Sensitivity"
   ]
  },
  {
   "cell_type": "code",
   "execution_count": 265,
   "metadata": {},
   "outputs": [
    {
     "name": "stdout",
     "output_type": "stream",
     "text": [
      "65.78947368421053 1.9736842105263157 3.070175438596491 29.166666666666668\n"
     ]
    }
   ],
   "source": [
    "from sklearn.metrics import confusion_matrix\n",
    "conusionNum = confusion_matrix(y_test, y_pred)\n",
    "\n",
    "tp7 = 0\n",
    "tn7 = 0\n",
    "fp7 = 0\n",
    "fn7 = 0\n",
    "for item in conusionNum:\n",
    "    tp7 = conusionNum[0, 0]\n",
    "    fp7 = conusionNum[0, 1]\n",
    "    fn7 = conusionNum[1, 0]\n",
    "    tn7 = conusionNum[1, 1]\n",
    "total7 = tp7 + fp7 + fn7 + tn7\n",
    "print(((tp7/total7)*100),((fp7/total7)*100),((fn7/total7)*100),((tn7/total7)*100))\n",
    "tp7 = tp7/total7*100\n",
    "fp7 = fp7/total7*100\n",
    "fn7 = fn7/total7*100\n",
    "tn7 = tn7/total7*100"
   ]
  },
  {
   "cell_type": "code",
   "execution_count": 266,
   "metadata": {},
   "outputs": [
    {
     "name": "stdout",
     "output_type": "stream",
     "text": [
      "95.54140127388536 93.66197183098592 6.338028169014084 4.458598726114649\n"
     ]
    }
   ],
   "source": [
    "tp_sensitivity7 = (tp7/(tp7+fn7)) * 100\n",
    "tn_sensitivity7 = (tn7/(tn7+fp7)) * 100\n",
    "fp_sensitivity7 = (fp7/(fp7+tn7)) * 100\n",
    "fn_sensitivity7 = (fn7/(fn7+tp7)) * 100\n",
    "print(tp_sensitivity7, tn_sensitivity7, fp_sensitivity7, fn_sensitivity7)"
   ]
  },
  {
   "cell_type": "markdown",
   "metadata": {},
   "source": [
    "### KNN"
   ]
  },
  {
   "cell_type": "code",
   "execution_count": 267,
   "metadata": {},
   "outputs": [
    {
     "name": "stdout",
     "output_type": "stream",
     "text": [
      "0.9429824561403509\n"
     ]
    }
   ],
   "source": [
    "from sklearn.neighbors import KNeighborsClassifier\n",
    "model9 = KNeighborsClassifier(n_neighbors=5)\n",
    "model9.fit(X_train, y_train)\n",
    "model9score = model9.score(X_test, y_test) \n",
    "print(model9.score(X_test, y_test))"
   ]
  },
  {
   "cell_type": "code",
   "execution_count": 268,
   "metadata": {},
   "outputs": [
    {
     "name": "stdout",
     "output_type": "stream",
     "text": [
      "              precision    recall  f1-score   support\n",
      "\n",
      "           0       0.97      0.98      0.97       309\n",
      "           1       0.96      0.93      0.94       147\n",
      "\n",
      "    accuracy                           0.96       456\n",
      "   macro avg       0.96      0.95      0.96       456\n",
      "weighted avg       0.96      0.96      0.96       456\n",
      "\n"
     ]
    }
   ],
   "source": [
    "y_pred = model6.predict(X_test)\n",
    "model9_metrics = metrics.classification_report(y_test,y_pred)\n",
    "print(metrics.classification_report(y_test,y_pred))"
   ]
  },
  {
   "cell_type": "markdown",
   "metadata": {},
   "source": [
    "### Creating a Confusion Matrix and Sensitivity"
   ]
  },
  {
   "cell_type": "code",
   "execution_count": 269,
   "metadata": {},
   "outputs": [
    {
     "name": "stdout",
     "output_type": "stream",
     "text": [
      "66.66666666666666 1.0964912280701753 2.4122807017543857 29.82456140350877\n"
     ]
    }
   ],
   "source": [
    "from sklearn.metrics import confusion_matrix\n",
    "conusionNum = confusion_matrix(y_test, y_pred)\n",
    "\n",
    "tp8 = 0\n",
    "tn8 = 0\n",
    "fp8 = 0\n",
    "fn8 = 0\n",
    "for item in conusionNum:\n",
    "    tp8 = conusionNum[0, 0]\n",
    "    fp8 = conusionNum[0, 1]\n",
    "    fn8 = conusionNum[1, 0]\n",
    "    tn8 = conusionNum[1, 1]\n",
    "total8 = tp8 + fp8 + fn8 + tn8\n",
    "print(((tp8/total8)*100),((fp8/total8)*100),((fn8/total8)*100),((tn8/total8)*100))\n",
    "tp8 = tp8/total8*100\n",
    "fp8 = fp8/total8*100\n",
    "fn8 = fn8/total8*100\n",
    "tn8 = tn8/total8*100"
   ]
  },
  {
   "cell_type": "code",
   "execution_count": 270,
   "metadata": {},
   "outputs": [
    {
     "name": "stdout",
     "output_type": "stream",
     "text": [
      "96.5079365079365 96.45390070921987 3.546099290780141 3.492063492063492\n"
     ]
    }
   ],
   "source": [
    "tp_sensitivity8 = (tp8/(tp8+fn8)) * 100\n",
    "tn_sensitivity8 = (tn8/(tn8+fp8)) * 100\n",
    "fp_sensitivity8 = (fp8/(fp8+tn8)) * 100\n",
    "fn_sensitivity8 = (fn8/(fn8+tp8)) * 100\n",
    "print(tp_sensitivity8, tn_sensitivity8, fp_sensitivity8, fn_sensitivity8)"
   ]
  },
  {
   "cell_type": "markdown",
   "metadata": {},
   "source": [
    "# Overall Results from All Models"
   ]
  },
  {
   "cell_type": "code",
   "execution_count": 271,
   "metadata": {},
   "outputs": [],
   "source": [
    "data = [['MLP 1.0', tp_sensitivity, tn_sensitivity, fp_sensitivity, fn_sensitivity, model1score],\n",
    "        ['Logistic Regression 1.0', tp_sensitivity1, tn_sensitivity1, fp_sensitivity1, fn_sensitivity1, model2score],\n",
    "       ['KNN 1.0', tp_sensitivity2, tn_sensitivity2, fp_sensitivity2, fn_sensitivity2, model3score],\n",
    "       ['MLP 2.0', tp_sensitivity3, tn_sensitivity3, fp_sensitivity3, fn_sensitivity3, model4score],\n",
    "       ['Logistic Regression 2.0', tp_sensitivity4, tn_sensitivity4, fp_sensitivity4, fn_sensitivity4, model5score],\n",
    "       ['KNN 2.0', tp_sensitivity5, tn_sensitivity5, fp_sensitivity5, fn_sensitivity5, model6score],\n",
    "       ['MLP 3.0', tp_sensitivity6, tn_sensitivity6, fp_sensitivity6, fn_sensitivity6, model7score],\n",
    "       ['Logistic Regression 3.0', tp_sensitivity7, tn_sensitivity7, fp_sensitivity7, fn_sensitivity7, model8score],\n",
    "       ['KNN 3.0', tp_sensitivity8, tn_sensitivity8, fp_sensitivity8, fn_sensitivity8, model9score],]\n",
    "\n",
    "overalldf = pd.DataFrame(data, columns = ['Model name', 'TP ','TN ','FP ','FN ', 'Accuracy'])"
   ]
  },
  {
   "cell_type": "code",
   "execution_count": 272,
   "metadata": {},
   "outputs": [
    {
     "data": {
      "text/html": [
       "<div>\n",
       "<style scoped>\n",
       "    .dataframe tbody tr th:only-of-type {\n",
       "        vertical-align: middle;\n",
       "    }\n",
       "\n",
       "    .dataframe tbody tr th {\n",
       "        vertical-align: top;\n",
       "    }\n",
       "\n",
       "    .dataframe thead th {\n",
       "        text-align: right;\n",
       "    }\n",
       "</style>\n",
       "<table border=\"1\" class=\"dataframe\">\n",
       "  <thead>\n",
       "    <tr style=\"text-align: right;\">\n",
       "      <th></th>\n",
       "      <th>Model name</th>\n",
       "      <th>TP</th>\n",
       "      <th>TN</th>\n",
       "      <th>FP</th>\n",
       "      <th>FN</th>\n",
       "      <th>Accuracy</th>\n",
       "    </tr>\n",
       "  </thead>\n",
       "  <tbody>\n",
       "    <tr>\n",
       "      <td>0</td>\n",
       "      <td>MLP 1.0</td>\n",
       "      <td>100.000000</td>\n",
       "      <td>79.234973</td>\n",
       "      <td>20.765027</td>\n",
       "      <td>0.000000</td>\n",
       "      <td>0.913832</td>\n",
       "    </tr>\n",
       "    <tr>\n",
       "      <td>1</td>\n",
       "      <td>Logistic Regression 1.0</td>\n",
       "      <td>94.462541</td>\n",
       "      <td>95.522388</td>\n",
       "      <td>4.477612</td>\n",
       "      <td>5.537459</td>\n",
       "      <td>0.947846</td>\n",
       "    </tr>\n",
       "    <tr>\n",
       "      <td>2</td>\n",
       "      <td>KNN 1.0</td>\n",
       "      <td>94.019934</td>\n",
       "      <td>90.714286</td>\n",
       "      <td>9.285714</td>\n",
       "      <td>5.980066</td>\n",
       "      <td>0.929705</td>\n",
       "    </tr>\n",
       "    <tr>\n",
       "      <td>3</td>\n",
       "      <td>MLP 2.0</td>\n",
       "      <td>96.710526</td>\n",
       "      <td>96.052632</td>\n",
       "      <td>3.947368</td>\n",
       "      <td>3.289474</td>\n",
       "      <td>0.964912</td>\n",
       "    </tr>\n",
       "    <tr>\n",
       "      <td>4</td>\n",
       "      <td>Logistic Regression 2.0</td>\n",
       "      <td>95.439739</td>\n",
       "      <td>95.302013</td>\n",
       "      <td>4.697987</td>\n",
       "      <td>4.560261</td>\n",
       "      <td>0.953947</td>\n",
       "    </tr>\n",
       "    <tr>\n",
       "      <td>5</td>\n",
       "      <td>KNN 2.0</td>\n",
       "      <td>95.145631</td>\n",
       "      <td>95.918367</td>\n",
       "      <td>4.081633</td>\n",
       "      <td>4.854369</td>\n",
       "      <td>0.953947</td>\n",
       "    </tr>\n",
       "    <tr>\n",
       "      <td>6</td>\n",
       "      <td>MLP 3.0</td>\n",
       "      <td>98.928571</td>\n",
       "      <td>81.818182</td>\n",
       "      <td>18.181818</td>\n",
       "      <td>1.071429</td>\n",
       "      <td>0.923246</td>\n",
       "    </tr>\n",
       "    <tr>\n",
       "      <td>7</td>\n",
       "      <td>Logistic Regression 3.0</td>\n",
       "      <td>95.541401</td>\n",
       "      <td>93.661972</td>\n",
       "      <td>6.338028</td>\n",
       "      <td>4.458599</td>\n",
       "      <td>0.949561</td>\n",
       "    </tr>\n",
       "    <tr>\n",
       "      <td>8</td>\n",
       "      <td>KNN 3.0</td>\n",
       "      <td>96.507937</td>\n",
       "      <td>96.453901</td>\n",
       "      <td>3.546099</td>\n",
       "      <td>3.492063</td>\n",
       "      <td>0.942982</td>\n",
       "    </tr>\n",
       "  </tbody>\n",
       "</table>\n",
       "</div>"
      ],
      "text/plain": [
       "                Model name         TP         TN         FP        FN   \\\n",
       "0                  MLP 1.0  100.000000  79.234973  20.765027  0.000000   \n",
       "1  Logistic Regression 1.0   94.462541  95.522388   4.477612  5.537459   \n",
       "2                  KNN 1.0   94.019934  90.714286   9.285714  5.980066   \n",
       "3                  MLP 2.0   96.710526  96.052632   3.947368  3.289474   \n",
       "4  Logistic Regression 2.0   95.439739  95.302013   4.697987  4.560261   \n",
       "5                  KNN 2.0   95.145631  95.918367   4.081633  4.854369   \n",
       "6                  MLP 3.0   98.928571  81.818182  18.181818  1.071429   \n",
       "7  Logistic Regression 3.0   95.541401  93.661972   6.338028  4.458599   \n",
       "8                  KNN 3.0   96.507937  96.453901   3.546099  3.492063   \n",
       "\n",
       "   Accuracy  \n",
       "0  0.913832  \n",
       "1  0.947846  \n",
       "2  0.929705  \n",
       "3  0.964912  \n",
       "4  0.953947  \n",
       "5  0.953947  \n",
       "6  0.923246  \n",
       "7  0.949561  \n",
       "8  0.942982  "
      ]
     },
     "execution_count": 272,
     "metadata": {},
     "output_type": "execute_result"
    }
   ],
   "source": [
    "overalldf"
   ]
  }
 ],
 "metadata": {
  "kernelspec": {
   "display_name": "Python 3",
   "language": "python",
   "name": "python3"
  },
  "language_info": {
   "codemirror_mode": {
    "name": "ipython",
    "version": 3
   },
   "file_extension": ".py",
   "mimetype": "text/x-python",
   "name": "python",
   "nbconvert_exporter": "python",
   "pygments_lexer": "ipython3",
   "version": "3.7.4"
  }
 },
 "nbformat": 4,
 "nbformat_minor": 2
}
